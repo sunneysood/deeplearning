{
  "nbformat": 4,
  "nbformat_minor": 0,
  "metadata": {
    "colab": {
      "name": "Copy of Course 1 - Part 4 - Lesson 2 - Notebook.ipynb",
      "provenance": [],
      "collapsed_sections": [],
      "include_colab_link": true
    },
    "kernelspec": {
      "name": "python3",
      "display_name": "Python 3"
    }
  },
  "cells": [
    {
      "cell_type": "markdown",
      "metadata": {
        "id": "view-in-github",
        "colab_type": "text"
      },
      "source": [
        "<a href=\"https://colab.research.google.com/github/sunneysood/deeplearning/blob/master/NN%20with%20Tensorflow%20.ipynb\" target=\"_parent\"><img src=\"https://colab.research.google.com/assets/colab-badge.svg\" alt=\"Open In Colab\"/></a>"
      ]
    },
    {
      "cell_type": "markdown",
      "metadata": {
        "id": "qnyTxjK_GbOD",
        "colab_type": "text"
      },
      "source": [
        "# Beyond Hello World, A Computer Vision Example\n",
        "In the previous exercise you saw how to create a neural network that figured out the problem you were trying to solve. This gave an explicit example of learned behavior. Of course, in that instance, it was a bit of overkill because it would have been easier to write the function Y=2x-1 directly, instead of bothering with using Machine Learning to learn the relationship between X and Y for a fixed set of values, and extending that for all values.\n",
        "\n",
        "But what about a scenario where writing rules like that is much more difficult -- for example a computer vision problem? Let's take a look at a scenario where we can recognize different items of clothing, trained from a dataset containing 10 different types."
      ]
    },
    {
      "cell_type": "markdown",
      "metadata": {
        "id": "H41FYgtlHPjW",
        "colab_type": "text"
      },
      "source": [
        "## Start Coding\n",
        "\n",
        "Let's start with our import of TensorFlow"
      ]
    },
    {
      "cell_type": "code",
      "metadata": {
        "id": "q3KzJyjv3rnA",
        "colab_type": "code",
        "outputId": "047fdd88-9103-4e3e-8d8d-9554d9650e4e",
        "colab": {
          "base_uri": "https://localhost:8080/",
          "height": 79
        }
      },
      "source": [
        "import tensorflow as tf\n",
        "print(tf.__version__)"
      ],
      "execution_count": 0,
      "outputs": [
        {
          "output_type": "display_data",
          "data": {
            "text/html": [
              "<p style=\"color: red;\">\n",
              "The default version of TensorFlow in Colab will soon switch to TensorFlow 2.x.<br>\n",
              "We recommend you <a href=\"https://www.tensorflow.org/guide/migrate\" target=\"_blank\">upgrade</a> now \n",
              "or ensure your notebook will continue to use TensorFlow 1.x via the <code>%tensorflow_version 1.x</code> magic:\n",
              "<a href=\"https://colab.research.google.com/notebooks/tensorflow_version.ipynb\" target=\"_blank\">more info</a>.</p>\n"
            ],
            "text/plain": [
              "<IPython.core.display.HTML object>"
            ]
          },
          "metadata": {
            "tags": []
          }
        },
        {
          "output_type": "stream",
          "text": [
            "1.15.0\n"
          ],
          "name": "stdout"
        }
      ]
    },
    {
      "cell_type": "markdown",
      "metadata": {
        "id": "n_n1U5do3u_F",
        "colab_type": "text"
      },
      "source": [
        "The Fashion MNIST data is available directly in the tf.keras datasets API. You load it like this:"
      ]
    },
    {
      "cell_type": "code",
      "metadata": {
        "id": "PmxkHFpt31bM",
        "colab_type": "code",
        "colab": {}
      },
      "source": [
        "mnist = tf.keras.datasets.fashion_mnist"
      ],
      "execution_count": 0,
      "outputs": []
    },
    {
      "cell_type": "markdown",
      "metadata": {
        "id": "GuoLQQBT4E-_",
        "colab_type": "text"
      },
      "source": [
        "Calling load_data on this object will give you two sets of two lists, these will be the training and testing values for the graphics that contain the clothing items and their labels.\n"
      ]
    },
    {
      "cell_type": "code",
      "metadata": {
        "id": "BTdRgExe4TRB",
        "colab_type": "code",
        "outputId": "01e267ef-7b50-40d6-c647-1e8308d82d35",
        "colab": {
          "base_uri": "https://localhost:8080/",
          "height": 151
        }
      },
      "source": [
        "(training_images, training_labels), (test_images, test_labels) = mnist.load_data()"
      ],
      "execution_count": 0,
      "outputs": [
        {
          "output_type": "stream",
          "text": [
            "Downloading data from https://storage.googleapis.com/tensorflow/tf-keras-datasets/train-labels-idx1-ubyte.gz\n",
            "32768/29515 [=================================] - 0s 0us/step\n",
            "Downloading data from https://storage.googleapis.com/tensorflow/tf-keras-datasets/train-images-idx3-ubyte.gz\n",
            "26427392/26421880 [==============================] - 0s 0us/step\n",
            "Downloading data from https://storage.googleapis.com/tensorflow/tf-keras-datasets/t10k-labels-idx1-ubyte.gz\n",
            "8192/5148 [===============================================] - 0s 0us/step\n",
            "Downloading data from https://storage.googleapis.com/tensorflow/tf-keras-datasets/t10k-images-idx3-ubyte.gz\n",
            "4423680/4422102 [==============================] - 0s 0us/step\n"
          ],
          "name": "stdout"
        }
      ]
    },
    {
      "cell_type": "markdown",
      "metadata": {
        "id": "rw395ROx4f5Q",
        "colab_type": "text"
      },
      "source": [
        "What does these values look like? Let's print a training image, and a training label to see...Experiment with different indices in the array. For example, also take a look at index 42...that's a a different boot than the one at index 0\n"
      ]
    },
    {
      "cell_type": "code",
      "metadata": {
        "id": "FPc9d3gJ3jWF",
        "colab_type": "code",
        "outputId": "2b05740a-a589-44d9-a0af-9dd25ec7a805",
        "colab": {
          "base_uri": "https://localhost:8080/",
          "height": 1000
        }
      },
      "source": [
        "import matplotlib.pyplot as plt\n",
        "plt.imshow(training_images[0])\n",
        "print(training_labels[0])\n",
        "print(training_images[0])"
      ],
      "execution_count": 0,
      "outputs": [
        {
          "output_type": "stream",
          "text": [
            "9\n",
            "[[  0   0   0   0   0   0   0   0   0   0   0   0   0   0   0   0   0   0\n",
            "    0   0   0   0   0   0   0   0   0   0]\n",
            " [  0   0   0   0   0   0   0   0   0   0   0   0   0   0   0   0   0   0\n",
            "    0   0   0   0   0   0   0   0   0   0]\n",
            " [  0   0   0   0   0   0   0   0   0   0   0   0   0   0   0   0   0   0\n",
            "    0   0   0   0   0   0   0   0   0   0]\n",
            " [  0   0   0   0   0   0   0   0   0   0   0   0   1   0   0  13  73   0\n",
            "    0   1   4   0   0   0   0   1   1   0]\n",
            " [  0   0   0   0   0   0   0   0   0   0   0   0   3   0  36 136 127  62\n",
            "   54   0   0   0   1   3   4   0   0   3]\n",
            " [  0   0   0   0   0   0   0   0   0   0   0   0   6   0 102 204 176 134\n",
            "  144 123  23   0   0   0   0  12  10   0]\n",
            " [  0   0   0   0   0   0   0   0   0   0   0   0   0   0 155 236 207 178\n",
            "  107 156 161 109  64  23  77 130  72  15]\n",
            " [  0   0   0   0   0   0   0   0   0   0   0   1   0  69 207 223 218 216\n",
            "  216 163 127 121 122 146 141  88 172  66]\n",
            " [  0   0   0   0   0   0   0   0   0   1   1   1   0 200 232 232 233 229\n",
            "  223 223 215 213 164 127 123 196 229   0]\n",
            " [  0   0   0   0   0   0   0   0   0   0   0   0   0 183 225 216 223 228\n",
            "  235 227 224 222 224 221 223 245 173   0]\n",
            " [  0   0   0   0   0   0   0   0   0   0   0   0   0 193 228 218 213 198\n",
            "  180 212 210 211 213 223 220 243 202   0]\n",
            " [  0   0   0   0   0   0   0   0   0   1   3   0  12 219 220 212 218 192\n",
            "  169 227 208 218 224 212 226 197 209  52]\n",
            " [  0   0   0   0   0   0   0   0   0   0   6   0  99 244 222 220 218 203\n",
            "  198 221 215 213 222 220 245 119 167  56]\n",
            " [  0   0   0   0   0   0   0   0   0   4   0   0  55 236 228 230 228 240\n",
            "  232 213 218 223 234 217 217 209  92   0]\n",
            " [  0   0   1   4   6   7   2   0   0   0   0   0 237 226 217 223 222 219\n",
            "  222 221 216 223 229 215 218 255  77   0]\n",
            " [  0   3   0   0   0   0   0   0   0  62 145 204 228 207 213 221 218 208\n",
            "  211 218 224 223 219 215 224 244 159   0]\n",
            " [  0   0   0   0  18  44  82 107 189 228 220 222 217 226 200 205 211 230\n",
            "  224 234 176 188 250 248 233 238 215   0]\n",
            " [  0  57 187 208 224 221 224 208 204 214 208 209 200 159 245 193 206 223\n",
            "  255 255 221 234 221 211 220 232 246   0]\n",
            " [  3 202 228 224 221 211 211 214 205 205 205 220 240  80 150 255 229 221\n",
            "  188 154 191 210 204 209 222 228 225   0]\n",
            " [ 98 233 198 210 222 229 229 234 249 220 194 215 217 241  65  73 106 117\n",
            "  168 219 221 215 217 223 223 224 229  29]\n",
            " [ 75 204 212 204 193 205 211 225 216 185 197 206 198 213 240 195 227 245\n",
            "  239 223 218 212 209 222 220 221 230  67]\n",
            " [ 48 203 183 194 213 197 185 190 194 192 202 214 219 221 220 236 225 216\n",
            "  199 206 186 181 177 172 181 205 206 115]\n",
            " [  0 122 219 193 179 171 183 196 204 210 213 207 211 210 200 196 194 191\n",
            "  195 191 198 192 176 156 167 177 210  92]\n",
            " [  0   0  74 189 212 191 175 172 175 181 185 188 189 188 193 198 204 209\n",
            "  210 210 211 188 188 194 192 216 170   0]\n",
            " [  2   0   0   0  66 200 222 237 239 242 246 243 244 221 220 193 191 179\n",
            "  182 182 181 176 166 168  99  58   0   0]\n",
            " [  0   0   0   0   0   0   0  40  61  44  72  41  35   0   0   0   0   0\n",
            "    0   0   0   0   0   0   0   0   0   0]\n",
            " [  0   0   0   0   0   0   0   0   0   0   0   0   0   0   0   0   0   0\n",
            "    0   0   0   0   0   0   0   0   0   0]\n",
            " [  0   0   0   0   0   0   0   0   0   0   0   0   0   0   0   0   0   0\n",
            "    0   0   0   0   0   0   0   0   0   0]]\n"
          ],
          "name": "stdout"
        },
        {
          "output_type": "display_data",
          "data": {
            "image/png": "[encoded data removed]",
            "text/plain": [
              "<Figure size 432x288 with 1 Axes>"
            ]
          },
          "metadata": {
            "tags": []
          }
        }
      ]
    },
    {
      "cell_type": "markdown",
      "metadata": {
        "id": "3cbrdH225_nH",
        "colab_type": "text"
      },
      "source": [
        "You'll notice that all of the values in the number are between 0 and 255. If we are training a neural network, for various reasons it's easier if we treat all values as between 0 and 1, a process called '**normalizing**'...and fortunately in Python it's easy to normalize a list like this without looping. You do it like this:"
      ]
    },
    {
      "cell_type": "code",
      "metadata": {
        "id": "kRH19pWs6ZDn",
        "colab_type": "code",
        "colab": {}
      },
      "source": [
        "training_images  = training_images / 255.0\n",
        "test_images = test_images / 255.0"
      ],
      "execution_count": 0,
      "outputs": []
    },
    {
      "cell_type": "markdown",
      "metadata": {
        "id": "3DkO0As46lRn",
        "colab_type": "text"
      },
      "source": [
        "Now you might be wondering why there are 2 sets...training and testing -- remember we spoke about this in the intro? The idea is to have 1 set of data for training, and then another set of data...that the model hasn't yet seen...to see how good it would be at classifying values. After all, when you're done, you're going to want to try it out with data that it hadn't previously seen!"
      ]
    },
    {
      "cell_type": "markdown",
      "metadata": {
        "id": "dIn7S9gf62ie",
        "colab_type": "text"
      },
      "source": [
        "Let's now design the model. There's quite a few new concepts here, but don't worry, you'll get the hang of them. "
      ]
    },
    {
      "cell_type": "code",
      "metadata": {
        "id": "7mAyndG3kVlK",
        "colab_type": "code",
        "colab": {}
      },
      "source": [
        "model = tf.keras.models.Sequential([tf.keras.layers.Flatten(), \n",
        "                                    tf.keras.layers.Dense(128, activation=tf.nn.relu), \n",
        "                                    tf.keras.layers.Dense(10, activation=tf.nn.softmax)])"
      ],
      "execution_count": 0,
      "outputs": []
    },
    {
      "cell_type": "markdown",
      "metadata": {
        "id": "-lUcWaiX7MFj",
        "colab_type": "text"
      },
      "source": [
        "**Sequential**: That defines a SEQUENCE of layers in the neural network\n",
        "\n",
        "**Flatten**: Remember earlier where our images were a square, when you printed them out? Flatten just takes that square and turns it into a 1 dimensional set.\n",
        "\n",
        "**Dense**: Adds a layer of neurons\n",
        "\n",
        "Each layer of neurons need an **activation function** to tell them what to do. There's lots of options, but just use these for now. \n",
        "\n",
        "**Relu** effectively means \"If X>0 return X, else return 0\" -- so what it does it it only passes values 0 or greater to the next layer in the network.\n",
        "\n",
        "**Softmax** takes a set of values, and effectively picks the biggest one, so, for example, if the output of the last layer looks like [0.1, 0.1, 0.05, 0.1, 9.5, 0.1, 0.05, 0.05, 0.05], it saves you from fishing through it looking for the biggest value, and turns it into [0,0,0,0,1,0,0,0,0] -- The goal is to save a lot of coding!\n"
      ]
    },
    {
      "cell_type": "markdown",
      "metadata": {
        "id": "c8vbMCqb9Mh6",
        "colab_type": "text"
      },
      "source": [
        "The next thing to do, now the model is defined, is to actually build it. You do this by compiling it with an optimizer and loss function as before -- and then you train it by calling **model.fit ** asking it to fit your training data to your training labels -- i.e. have it figure out the relationship between the training data and its actual labels, so in future if you have data that looks like the training data, then it can make a prediction for what that data would look like. "
      ]
    },
    {
      "cell_type": "code",
      "metadata": {
        "id": "BLMdl9aP8nQ0",
        "colab_type": "code",
        "outputId": "542d20ac-3899-46f9-d35f-42a288b78774",
        "colab": {
          "base_uri": "https://localhost:8080/",
          "height": 1000
        }
      },
      "source": [
        "model.compile(optimizer = tf.train.AdamOptimizer(),\n",
        "              loss = 'sparse_categorical_crossentropy',\n",
        "              metrics=['accuracy'])\n",
        "\n",
        "model.fit(training_images, training_labels, epochs=500)"
      ],
      "execution_count": 0,
      "outputs": [
        {
          "output_type": "stream",
          "text": [
            "WARNING:tensorflow:From /usr/local/lib/python3.6/dist-packages/tensorflow_core/python/ops/resource_variable_ops.py:1630: calling BaseResourceVariable.__init__ (from tensorflow.python.ops.resource_variable_ops) with constraint is deprecated and will be removed in a future version.\n",
            "Instructions for updating:\n",
            "If using Keras pass *_constraint arguments to layers.\n",
            "Train on 60000 samples\n",
            "Epoch 1/500\n",
            "60000/60000 [==============================] - 5s 85us/sample - loss: 0.4981 - acc: 0.8247\n",
            "Epoch 2/500\n",
            "60000/60000 [==============================] - 4s 71us/sample - loss: 0.3721 - acc: 0.8655\n",
            "Epoch 3/500\n",
            "60000/60000 [==============================] - 5s 75us/sample - loss: 0.3350 - acc: 0.8766\n",
            "Epoch 4/500\n",
            "60000/60000 [==============================] - 4s 73us/sample - loss: 0.3108 - acc: 0.8860\n",
            "Epoch 5/500\n",
            "60000/60000 [==============================] - 4s 72us/sample - loss: 0.2921 - acc: 0.8914\n",
            "Epoch 6/500\n",
            "60000/60000 [==============================] - 4s 73us/sample - loss: 0.2779 - acc: 0.8965\n",
            "Epoch 7/500\n",
            "60000/60000 [==============================] - 5s 77us/sample - loss: 0.2660 - acc: 0.9012\n",
            "Epoch 8/500\n",
            "60000/60000 [==============================] - 5s 76us/sample - loss: 0.2536 - acc: 0.9049\n",
            "Epoch 9/500\n",
            "60000/60000 [==============================] - 4s 73us/sample - loss: 0.2462 - acc: 0.9082\n",
            "Epoch 10/500\n",
            "60000/60000 [==============================] - 5s 76us/sample - loss: 0.2369 - acc: 0.9111\n",
            "Epoch 11/500\n",
            "60000/60000 [==============================] - 4s 70us/sample - loss: 0.2304 - acc: 0.9137\n",
            "Epoch 12/500\n",
            "60000/60000 [==============================] - 4s 74us/sample - loss: 0.2207 - acc: 0.9163\n",
            "Epoch 13/500\n",
            "60000/60000 [==============================] - 4s 75us/sample - loss: 0.2136 - acc: 0.9200\n",
            "Epoch 14/500\n",
            "60000/60000 [==============================] - 4s 73us/sample - loss: 0.2096 - acc: 0.9208\n",
            "Epoch 15/500\n",
            "60000/60000 [==============================] - 4s 75us/sample - loss: 0.2026 - acc: 0.9239\n",
            "Epoch 16/500\n",
            "60000/60000 [==============================] - 4s 74us/sample - loss: 0.1962 - acc: 0.9257\n",
            "Epoch 17/500\n",
            "60000/60000 [==============================] - 4s 74us/sample - loss: 0.1925 - acc: 0.9279\n",
            "Epoch 18/500\n",
            "60000/60000 [==============================] - 4s 73us/sample - loss: 0.1850 - acc: 0.9300\n",
            "Epoch 19/500\n",
            "60000/60000 [==============================] - 4s 71us/sample - loss: 0.1814 - acc: 0.9313\n",
            "Epoch 20/500\n",
            "60000/60000 [==============================] - 4s 69us/sample - loss: 0.1762 - acc: 0.9329\n",
            "Epoch 21/500\n",
            "60000/60000 [==============================] - 5s 76us/sample - loss: 0.1732 - acc: 0.9342\n",
            "Epoch 22/500\n",
            "60000/60000 [==============================] - 4s 70us/sample - loss: 0.1685 - acc: 0.9358\n",
            "Epoch 23/500\n",
            "60000/60000 [==============================] - 4s 71us/sample - loss: 0.1654 - acc: 0.9378\n",
            "Epoch 24/500\n",
            "60000/60000 [==============================] - 4s 68us/sample - loss: 0.1602 - acc: 0.9398\n",
            "Epoch 25/500\n",
            "60000/60000 [==============================] - 5s 76us/sample - loss: 0.1567 - acc: 0.9412\n",
            "Epoch 26/500\n",
            "60000/60000 [==============================] - 4s 68us/sample - loss: 0.1522 - acc: 0.9426\n",
            "Epoch 27/500\n",
            "60000/60000 [==============================] - 4s 69us/sample - loss: 0.1492 - acc: 0.9437\n",
            "Epoch 28/500\n",
            "60000/60000 [==============================] - 5s 80us/sample - loss: 0.1466 - acc: 0.9454\n",
            "Epoch 29/500\n",
            "60000/60000 [==============================] - 4s 73us/sample - loss: 0.1439 - acc: 0.9451\n",
            "Epoch 30/500\n",
            "60000/60000 [==============================] - 5s 76us/sample - loss: 0.1398 - acc: 0.9468\n",
            "Epoch 31/500\n",
            "60000/60000 [==============================] - 4s 68us/sample - loss: 0.1372 - acc: 0.9483\n",
            "Epoch 32/500\n",
            "60000/60000 [==============================] - 5s 76us/sample - loss: 0.1359 - acc: 0.9484\n",
            "Epoch 33/500\n",
            "60000/60000 [==============================] - 4s 67us/sample - loss: 0.1316 - acc: 0.9500\n",
            "Epoch 34/500\n",
            "60000/60000 [==============================] - 5s 76us/sample - loss: 0.1263 - acc: 0.9524\n",
            "Epoch 35/500\n",
            "60000/60000 [==============================] - 4s 71us/sample - loss: 0.1257 - acc: 0.9526\n",
            "Epoch 36/500\n",
            "60000/60000 [==============================] - 5s 77us/sample - loss: 0.1223 - acc: 0.9539\n",
            "Epoch 37/500\n",
            "60000/60000 [==============================] - 5s 76us/sample - loss: 0.1215 - acc: 0.9542\n",
            "Epoch 38/500\n",
            "60000/60000 [==============================] - 5s 78us/sample - loss: 0.1176 - acc: 0.9553\n",
            "Epoch 39/500\n",
            "60000/60000 [==============================] - 4s 68us/sample - loss: 0.1181 - acc: 0.9551\n",
            "Epoch 40/500\n",
            "60000/60000 [==============================] - 5s 78us/sample - loss: 0.1152 - acc: 0.9571\n",
            "Epoch 41/500\n",
            "60000/60000 [==============================] - 4s 74us/sample - loss: 0.1131 - acc: 0.9568\n",
            "Epoch 42/500\n",
            "60000/60000 [==============================] - 5s 82us/sample - loss: 0.1100 - acc: 0.9579\n",
            "Epoch 43/500\n",
            "60000/60000 [==============================] - 4s 71us/sample - loss: 0.1084 - acc: 0.9588\n",
            "Epoch 44/500\n",
            "60000/60000 [==============================] - 5s 82us/sample - loss: 0.1062 - acc: 0.9599\n",
            "Epoch 45/500\n",
            "60000/60000 [==============================] - 4s 69us/sample - loss: 0.1038 - acc: 0.9608\n",
            "Epoch 46/500\n",
            "60000/60000 [==============================] - 4s 71us/sample - loss: 0.1017 - acc: 0.9622\n",
            "Epoch 47/500\n",
            "60000/60000 [==============================] - 5s 81us/sample - loss: 0.1022 - acc: 0.9611\n",
            "Epoch 48/500\n",
            "60000/60000 [==============================] - 5s 77us/sample - loss: 0.0976 - acc: 0.9626\n",
            "Epoch 49/500\n",
            "60000/60000 [==============================] - 4s 69us/sample - loss: 0.0982 - acc: 0.9626\n",
            "Epoch 50/500\n",
            "60000/60000 [==============================] - 5s 78us/sample - loss: 0.0947 - acc: 0.9640\n",
            "Epoch 51/500\n",
            "60000/60000 [==============================] - 4s 71us/sample - loss: 0.0980 - acc: 0.9631\n",
            "Epoch 52/500\n",
            "60000/60000 [==============================] - 5s 76us/sample - loss: 0.0902 - acc: 0.9654\n",
            "Epoch 53/500\n",
            "60000/60000 [==============================] - 4s 69us/sample - loss: 0.0936 - acc: 0.9645\n",
            "Epoch 54/500\n",
            "60000/60000 [==============================] - 5s 75us/sample - loss: 0.0896 - acc: 0.9662\n",
            "Epoch 55/500\n",
            "60000/60000 [==============================] - 4s 69us/sample - loss: 0.0893 - acc: 0.9661\n",
            "Epoch 56/500\n",
            "60000/60000 [==============================] - 5s 78us/sample - loss: 0.0879 - acc: 0.9674\n",
            "Epoch 57/500\n",
            "60000/60000 [==============================] - 5s 83us/sample - loss: 0.0859 - acc: 0.9679\n",
            "Epoch 58/500\n",
            "60000/60000 [==============================] - 5s 85us/sample - loss: 0.0843 - acc: 0.9683\n",
            "Epoch 59/500\n",
            "60000/60000 [==============================] - 4s 71us/sample - loss: 0.0828 - acc: 0.9687\n",
            "Epoch 60/500\n",
            "60000/60000 [==============================] - 5s 76us/sample - loss: 0.0858 - acc: 0.9680\n",
            "Epoch 61/500\n",
            "60000/60000 [==============================] - 4s 72us/sample - loss: 0.0807 - acc: 0.9693\n",
            "Epoch 62/500\n",
            "60000/60000 [==============================] - 5s 79us/sample - loss: 0.0781 - acc: 0.9709\n",
            "Epoch 63/500\n",
            "60000/60000 [==============================] - 5s 76us/sample - loss: 0.0805 - acc: 0.9706\n",
            "Epoch 64/500\n",
            "60000/60000 [==============================] - 5s 86us/sample - loss: 0.0777 - acc: 0.9712\n",
            "Epoch 65/500\n",
            "60000/60000 [==============================] - 4s 69us/sample - loss: 0.0780 - acc: 0.9714\n",
            "Epoch 66/500\n",
            "60000/60000 [==============================] - 5s 77us/sample - loss: 0.0761 - acc: 0.9716\n",
            "Epoch 67/500\n",
            "60000/60000 [==============================] - 4s 72us/sample - loss: 0.0735 - acc: 0.9723\n",
            "Epoch 68/500\n",
            "60000/60000 [==============================] - 4s 73us/sample - loss: 0.0765 - acc: 0.9714\n",
            "Epoch 69/500\n",
            "60000/60000 [==============================] - 4s 75us/sample - loss: 0.0713 - acc: 0.9732\n",
            "Epoch 70/500\n",
            "60000/60000 [==============================] - 4s 73us/sample - loss: 0.0725 - acc: 0.9724\n",
            "Epoch 71/500\n",
            "60000/60000 [==============================] - 4s 73us/sample - loss: 0.0700 - acc: 0.9737\n",
            "Epoch 72/500\n",
            "60000/60000 [==============================] - 4s 73us/sample - loss: 0.0712 - acc: 0.9738\n",
            "Epoch 73/500\n",
            "60000/60000 [==============================] - 5s 76us/sample - loss: 0.0673 - acc: 0.9744\n",
            "Epoch 74/500\n",
            "60000/60000 [==============================] - 4s 75us/sample - loss: 0.0668 - acc: 0.9742\n",
            "Epoch 75/500\n",
            "60000/60000 [==============================] - 5s 79us/sample - loss: 0.0676 - acc: 0.9750\n",
            "Epoch 76/500\n",
            "60000/60000 [==============================] - 4s 70us/sample - loss: 0.0683 - acc: 0.9747\n",
            "Epoch 77/500\n",
            "60000/60000 [==============================] - 5s 77us/sample - loss: 0.0635 - acc: 0.9760\n",
            "Epoch 78/500\n",
            "60000/60000 [==============================] - 4s 71us/sample - loss: 0.0640 - acc: 0.9759\n",
            "Epoch 79/500\n",
            "60000/60000 [==============================] - 4s 73us/sample - loss: 0.0650 - acc: 0.9757\n",
            "Epoch 80/500\n",
            "60000/60000 [==============================] - 4s 68us/sample - loss: 0.0617 - acc: 0.9770\n",
            "Epoch 81/500\n",
            "60000/60000 [==============================] - 5s 78us/sample - loss: 0.0616 - acc: 0.9763\n",
            "Epoch 82/500\n",
            "60000/60000 [==============================] - 4s 73us/sample - loss: 0.0643 - acc: 0.9758\n",
            "Epoch 83/500\n",
            "60000/60000 [==============================] - 4s 71us/sample - loss: 0.0613 - acc: 0.9766\n",
            "Epoch 84/500\n",
            "60000/60000 [==============================] - 5s 76us/sample - loss: 0.0575 - acc: 0.9787\n",
            "Epoch 85/500\n",
            "60000/60000 [==============================] - 4s 74us/sample - loss: 0.0609 - acc: 0.9777\n",
            "Epoch 86/500\n",
            "60000/60000 [==============================] - 5s 76us/sample - loss: 0.0583 - acc: 0.9783\n",
            "Epoch 87/500\n",
            "60000/60000 [==============================] - 4s 69us/sample - loss: 0.0567 - acc: 0.9786\n",
            "Epoch 88/500\n",
            "60000/60000 [==============================] - 5s 79us/sample - loss: 0.0591 - acc: 0.9781\n",
            "Epoch 89/500\n",
            "60000/60000 [==============================] - 4s 71us/sample - loss: 0.0571 - acc: 0.9788\n",
            "Epoch 90/500\n",
            "60000/60000 [==============================] - 5s 85us/sample - loss: 0.0550 - acc: 0.9794\n",
            "Epoch 91/500\n",
            "60000/60000 [==============================] - 5s 77us/sample - loss: 0.0559 - acc: 0.9790\n",
            "Epoch 92/500\n",
            "60000/60000 [==============================] - 5s 81us/sample - loss: 0.0555 - acc: 0.9791\n",
            "Epoch 93/500\n",
            "60000/60000 [==============================] - 4s 73us/sample - loss: 0.0544 - acc: 0.9791\n",
            "Epoch 94/500\n",
            "60000/60000 [==============================] - 5s 84us/sample - loss: 0.0539 - acc: 0.9798\n",
            "Epoch 95/500\n",
            "60000/60000 [==============================] - 5s 78us/sample - loss: 0.0526 - acc: 0.9799\n",
            "Epoch 96/500\n",
            "60000/60000 [==============================] - 5s 82us/sample - loss: 0.0533 - acc: 0.9804\n",
            "Epoch 97/500\n",
            "60000/60000 [==============================] - 4s 75us/sample - loss: 0.0513 - acc: 0.9810\n",
            "Epoch 98/500\n",
            "60000/60000 [==============================] - 5s 79us/sample - loss: 0.0528 - acc: 0.9796\n",
            "Epoch 99/500\n",
            "60000/60000 [==============================] - 4s 71us/sample - loss: 0.0530 - acc: 0.9803\n",
            "Epoch 100/500\n",
            "60000/60000 [==============================] - 5s 79us/sample - loss: 0.0491 - acc: 0.9819\n",
            "Epoch 101/500\n",
            "60000/60000 [==============================] - 4s 72us/sample - loss: 0.0501 - acc: 0.9815\n",
            "Epoch 102/500\n",
            "60000/60000 [==============================] - 5s 80us/sample - loss: 0.0499 - acc: 0.9815\n",
            "Epoch 103/500\n",
            "60000/60000 [==============================] - 5s 75us/sample - loss: 0.0491 - acc: 0.9818\n",
            "Epoch 104/500\n",
            "60000/60000 [==============================] - 5s 85us/sample - loss: 0.0497 - acc: 0.9812\n",
            "Epoch 105/500\n",
            "60000/60000 [==============================] - 4s 73us/sample - loss: 0.0481 - acc: 0.9822\n",
            "Epoch 106/500\n",
            "60000/60000 [==============================] - 5s 75us/sample - loss: 0.0496 - acc: 0.9811\n",
            "Epoch 107/500\n",
            "60000/60000 [==============================] - 4s 73us/sample - loss: 0.0478 - acc: 0.9820\n",
            "Epoch 108/500\n",
            "60000/60000 [==============================] - 4s 68us/sample - loss: 0.0474 - acc: 0.9828\n",
            "Epoch 109/500\n",
            "60000/60000 [==============================] - 4s 74us/sample - loss: 0.0446 - acc: 0.9833\n",
            "Epoch 110/500\n",
            "60000/60000 [==============================] - 4s 73us/sample - loss: 0.0459 - acc: 0.9829\n",
            "Epoch 111/500\n",
            "60000/60000 [==============================] - 5s 79us/sample - loss: 0.0490 - acc: 0.9817\n",
            "Epoch 112/500\n",
            "60000/60000 [==============================] - 4s 69us/sample - loss: 0.0462 - acc: 0.9830\n",
            "Epoch 113/500\n",
            "60000/60000 [==============================] - 4s 69us/sample - loss: 0.0435 - acc: 0.9840\n",
            "Epoch 114/500\n",
            "60000/60000 [==============================] - 5s 79us/sample - loss: 0.0474 - acc: 0.9826\n",
            "Epoch 115/500\n",
            "60000/60000 [==============================] - 4s 71us/sample - loss: 0.0436 - acc: 0.9833\n",
            "Epoch 116/500\n",
            "60000/60000 [==============================] - 4s 72us/sample - loss: 0.0444 - acc: 0.9839\n",
            "Epoch 117/500\n",
            "60000/60000 [==============================] - 5s 82us/sample - loss: 0.0425 - acc: 0.9841\n",
            "Epoch 118/500\n",
            "60000/60000 [==============================] - 4s 75us/sample - loss: 0.0426 - acc: 0.9844\n",
            "Epoch 119/500\n",
            "60000/60000 [==============================] - 4s 72us/sample - loss: 0.0424 - acc: 0.9841\n",
            "Epoch 120/500\n",
            "60000/60000 [==============================] - 4s 73us/sample - loss: 0.0410 - acc: 0.9847\n",
            "Epoch 121/500\n",
            "60000/60000 [==============================] - 4s 73us/sample - loss: 0.0412 - acc: 0.9850\n",
            "Epoch 122/500\n",
            "60000/60000 [==============================] - 4s 69us/sample - loss: 0.0426 - acc: 0.9840\n",
            "Epoch 123/500\n",
            "60000/60000 [==============================] - 5s 77us/sample - loss: 0.0425 - acc: 0.9849\n",
            "Epoch 124/500\n",
            "60000/60000 [==============================] - 4s 70us/sample - loss: 0.0418 - acc: 0.9846\n",
            "Epoch 125/500\n",
            "60000/60000 [==============================] - 4s 68us/sample - loss: 0.0399 - acc: 0.9848\n",
            "Epoch 126/500\n",
            "60000/60000 [==============================] - 5s 84us/sample - loss: 0.0383 - acc: 0.9862\n",
            "Epoch 127/500\n",
            "60000/60000 [==============================] - 5s 77us/sample - loss: 0.0381 - acc: 0.9859\n",
            "Epoch 128/500\n",
            "60000/60000 [==============================] - 5s 80us/sample - loss: 0.0395 - acc: 0.9854\n",
            "Epoch 129/500\n",
            "60000/60000 [==============================] - 4s 72us/sample - loss: 0.0422 - acc: 0.9840\n",
            "Epoch 130/500\n",
            "60000/60000 [==============================] - 4s 71us/sample - loss: 0.0380 - acc: 0.9860\n",
            "Epoch 131/500\n",
            "60000/60000 [==============================] - 4s 74us/sample - loss: 0.0387 - acc: 0.9858\n",
            "Epoch 132/500\n",
            "60000/60000 [==============================] - 4s 68us/sample - loss: 0.0387 - acc: 0.9861\n",
            "Epoch 133/500\n",
            "60000/60000 [==============================] - 5s 76us/sample - loss: 0.0411 - acc: 0.9847\n",
            "Epoch 134/500\n",
            "60000/60000 [==============================] - 4s 69us/sample - loss: 0.0377 - acc: 0.9866\n",
            "Epoch 135/500\n",
            "60000/60000 [==============================] - 4s 73us/sample - loss: 0.0365 - acc: 0.9864\n",
            "Epoch 136/500\n",
            "60000/60000 [==============================] - 4s 68us/sample - loss: 0.0346 - acc: 0.9870\n",
            "Epoch 137/500\n",
            "60000/60000 [==============================] - 4s 68us/sample - loss: 0.0383 - acc: 0.9857\n",
            "Epoch 138/500\n",
            "60000/60000 [==============================] - 5s 78us/sample - loss: 0.0372 - acc: 0.9865\n",
            "Epoch 139/500\n",
            "60000/60000 [==============================] - 4s 73us/sample - loss: 0.0356 - acc: 0.9867\n",
            "Epoch 140/500\n",
            "60000/60000 [==============================] - 5s 77us/sample - loss: 0.0368 - acc: 0.9867\n",
            "Epoch 141/500\n",
            "60000/60000 [==============================] - 4s 70us/sample - loss: 0.0369 - acc: 0.9864\n",
            "Epoch 142/500\n",
            "60000/60000 [==============================] - 4s 69us/sample - loss: 0.0355 - acc: 0.9870\n",
            "Epoch 143/500\n",
            "60000/60000 [==============================] - 4s 71us/sample - loss: 0.0359 - acc: 0.9876\n",
            "Epoch 144/500\n",
            "60000/60000 [==============================] - 4s 72us/sample - loss: 0.0353 - acc: 0.9870\n",
            "Epoch 145/500\n",
            "60000/60000 [==============================] - 5s 80us/sample - loss: 0.0377 - acc: 0.9870\n",
            "Epoch 146/500\n",
            "60000/60000 [==============================] - 4s 69us/sample - loss: 0.0335 - acc: 0.9874\n",
            "Epoch 147/500\n",
            "60000/60000 [==============================] - 4s 68us/sample - loss: 0.0341 - acc: 0.9875\n",
            "Epoch 148/500\n",
            "60000/60000 [==============================] - 5s 76us/sample - loss: 0.0343 - acc: 0.9874\n",
            "Epoch 149/500\n",
            "60000/60000 [==============================] - 4s 73us/sample - loss: 0.0341 - acc: 0.9874\n",
            "Epoch 150/500\n",
            "60000/60000 [==============================] - 4s 72us/sample - loss: 0.0362 - acc: 0.9872\n",
            "Epoch 151/500\n",
            "60000/60000 [==============================] - 5s 78us/sample - loss: 0.0329 - acc: 0.9884\n",
            "Epoch 152/500\n",
            "60000/60000 [==============================] - 4s 71us/sample - loss: 0.0337 - acc: 0.9881\n",
            "Epoch 153/500\n",
            "60000/60000 [==============================] - 5s 82us/sample - loss: 0.0315 - acc: 0.9893\n",
            "Epoch 154/500\n",
            "60000/60000 [==============================] - 5s 77us/sample - loss: 0.0352 - acc: 0.9870\n",
            "Epoch 155/500\n",
            "60000/60000 [==============================] - 4s 73us/sample - loss: 0.0331 - acc: 0.9878\n",
            "Epoch 156/500\n",
            "60000/60000 [==============================] - 5s 79us/sample - loss: 0.0312 - acc: 0.9885\n",
            "Epoch 157/500\n",
            "60000/60000 [==============================] - 4s 75us/sample - loss: 0.0314 - acc: 0.9883\n",
            "Epoch 158/500\n",
            "60000/60000 [==============================] - 5s 91us/sample - loss: 0.0345 - acc: 0.9873\n",
            "Epoch 159/500\n",
            "60000/60000 [==============================] - 4s 75us/sample - loss: 0.0316 - acc: 0.9889\n",
            "Epoch 160/500\n",
            "60000/60000 [==============================] - 5s 78us/sample - loss: 0.0318 - acc: 0.9886\n",
            "Epoch 161/500\n",
            "60000/60000 [==============================] - 5s 77us/sample - loss: 0.0296 - acc: 0.9895\n",
            "Epoch 162/500\n",
            "60000/60000 [==============================] - 5s 79us/sample - loss: 0.0315 - acc: 0.9881\n",
            "Epoch 163/500\n",
            "60000/60000 [==============================] - 4s 69us/sample - loss: 0.0310 - acc: 0.9887\n",
            "Epoch 164/500\n",
            "60000/60000 [==============================] - 4s 68us/sample - loss: 0.0290 - acc: 0.9897\n",
            "Epoch 165/500\n",
            "60000/60000 [==============================] - 4s 73us/sample - loss: 0.0319 - acc: 0.9884\n",
            "Epoch 166/500\n",
            "60000/60000 [==============================] - 4s 70us/sample - loss: 0.0294 - acc: 0.9894\n",
            "Epoch 167/500\n",
            "60000/60000 [==============================] - 4s 73us/sample - loss: 0.0308 - acc: 0.9887\n",
            "Epoch 168/500\n",
            "60000/60000 [==============================] - 4s 72us/sample - loss: 0.0304 - acc: 0.9893\n",
            "Epoch 169/500\n",
            "60000/60000 [==============================] - 4s 71us/sample - loss: 0.0318 - acc: 0.9887\n",
            "Epoch 170/500\n",
            "60000/60000 [==============================] - 4s 73us/sample - loss: 0.0296 - acc: 0.9896\n",
            "Epoch 171/500\n",
            "60000/60000 [==============================] - 4s 70us/sample - loss: 0.0258 - acc: 0.9905\n",
            "Epoch 172/500\n",
            "60000/60000 [==============================] - 4s 75us/sample - loss: 0.0297 - acc: 0.9891\n",
            "Epoch 173/500\n",
            "60000/60000 [==============================] - 4s 69us/sample - loss: 0.0308 - acc: 0.9891\n",
            "Epoch 174/500\n",
            "60000/60000 [==============================] - 4s 73us/sample - loss: 0.0317 - acc: 0.9887\n",
            "Epoch 175/500\n",
            "60000/60000 [==============================] - 4s 71us/sample - loss: 0.0263 - acc: 0.9904\n",
            "Epoch 176/500\n",
            "60000/60000 [==============================] - 5s 77us/sample - loss: 0.0305 - acc: 0.9891\n",
            "Epoch 177/500\n",
            "60000/60000 [==============================] - 4s 68us/sample - loss: 0.0284 - acc: 0.9900\n",
            "Epoch 178/500\n",
            "60000/60000 [==============================] - 4s 74us/sample - loss: 0.0317 - acc: 0.9885\n",
            "Epoch 179/500\n",
            "60000/60000 [==============================] - 4s 68us/sample - loss: 0.0270 - acc: 0.9905\n",
            "Epoch 180/500\n",
            "60000/60000 [==============================] - 4s 74us/sample - loss: 0.0275 - acc: 0.9902\n",
            "Epoch 181/500\n",
            "60000/60000 [==============================] - 4s 67us/sample - loss: 0.0295 - acc: 0.9893\n",
            "Epoch 182/500\n",
            "60000/60000 [==============================] - 5s 77us/sample - loss: 0.0264 - acc: 0.9908\n",
            "Epoch 183/500\n",
            "60000/60000 [==============================] - 4s 72us/sample - loss: 0.0248 - acc: 0.9912\n",
            "Epoch 184/500\n",
            "60000/60000 [==============================] - 5s 75us/sample - loss: 0.0300 - acc: 0.9892\n",
            "Epoch 185/500\n",
            "60000/60000 [==============================] - 4s 75us/sample - loss: 0.0239 - acc: 0.9915\n",
            "Epoch 186/500\n",
            "60000/60000 [==============================] - 4s 75us/sample - loss: 0.0296 - acc: 0.9899\n",
            "Epoch 187/500\n",
            "60000/60000 [==============================] - 4s 74us/sample - loss: 0.0297 - acc: 0.9892\n",
            "Epoch 188/500\n",
            "60000/60000 [==============================] - 5s 80us/sample - loss: 0.0263 - acc: 0.9902\n",
            "Epoch 189/500\n",
            "60000/60000 [==============================] - 5s 75us/sample - loss: 0.0238 - acc: 0.9920\n",
            "Epoch 190/500\n",
            "60000/60000 [==============================] - 5s 76us/sample - loss: 0.0282 - acc: 0.9901\n",
            "Epoch 191/500\n",
            "60000/60000 [==============================] - 4s 70us/sample - loss: 0.0262 - acc: 0.9905\n",
            "Epoch 192/500\n",
            "60000/60000 [==============================] - 5s 78us/sample - loss: 0.0265 - acc: 0.9901\n",
            "Epoch 193/500\n",
            "60000/60000 [==============================] - 4s 69us/sample - loss: 0.0268 - acc: 0.9900\n",
            "Epoch 194/500\n",
            "60000/60000 [==============================] - 5s 79us/sample - loss: 0.0255 - acc: 0.9912\n",
            "Epoch 195/500\n",
            "60000/60000 [==============================] - 4s 70us/sample - loss: 0.0289 - acc: 0.9900\n",
            "Epoch 196/500\n",
            "60000/60000 [==============================] - 5s 87us/sample - loss: 0.0255 - acc: 0.9906\n",
            "Epoch 197/500\n",
            "60000/60000 [==============================] - 5s 80us/sample - loss: 0.0285 - acc: 0.9899\n",
            "Epoch 198/500\n",
            "60000/60000 [==============================] - 5s 90us/sample - loss: 0.0255 - acc: 0.9907\n",
            "Epoch 199/500\n",
            "60000/60000 [==============================] - 4s 70us/sample - loss: 0.0270 - acc: 0.9906\n",
            "Epoch 200/500\n",
            "60000/60000 [==============================] - 5s 75us/sample - loss: 0.0243 - acc: 0.9913\n",
            "Epoch 201/500\n",
            "60000/60000 [==============================] - 4s 68us/sample - loss: 0.0258 - acc: 0.9909\n",
            "Epoch 202/500\n",
            "60000/60000 [==============================] - 4s 73us/sample - loss: 0.0242 - acc: 0.9920\n",
            "Epoch 203/500\n",
            "60000/60000 [==============================] - 4s 70us/sample - loss: 0.0259 - acc: 0.9908\n",
            "Epoch 204/500\n",
            "60000/60000 [==============================] - 4s 75us/sample - loss: 0.0258 - acc: 0.9909\n",
            "Epoch 205/500\n",
            "60000/60000 [==============================] - 4s 72us/sample - loss: 0.0231 - acc: 0.9922\n",
            "Epoch 206/500\n",
            "60000/60000 [==============================] - 5s 77us/sample - loss: 0.0262 - acc: 0.9912\n",
            "Epoch 207/500\n",
            "60000/60000 [==============================] - 4s 68us/sample - loss: 0.0252 - acc: 0.9912\n",
            "Epoch 208/500\n",
            "60000/60000 [==============================] - 5s 78us/sample - loss: 0.0247 - acc: 0.9913\n",
            "Epoch 209/500\n",
            "60000/60000 [==============================] - 5s 79us/sample - loss: 0.0251 - acc: 0.9913\n",
            "Epoch 210/500\n",
            "60000/60000 [==============================] - 5s 78us/sample - loss: 0.0253 - acc: 0.9916\n",
            "Epoch 211/500\n",
            "60000/60000 [==============================] - 4s 73us/sample - loss: 0.0225 - acc: 0.9918\n",
            "Epoch 212/500\n",
            "60000/60000 [==============================] - 5s 83us/sample - loss: 0.0248 - acc: 0.9912\n",
            "Epoch 213/500\n",
            "60000/60000 [==============================] - 4s 70us/sample - loss: 0.0236 - acc: 0.9920\n",
            "Epoch 214/500\n",
            "60000/60000 [==============================] - 5s 75us/sample - loss: 0.0237 - acc: 0.9921\n",
            "Epoch 215/500\n",
            "60000/60000 [==============================] - 4s 73us/sample - loss: 0.0264 - acc: 0.9909\n",
            "Epoch 216/500\n",
            "60000/60000 [==============================] - 5s 80us/sample - loss: 0.0238 - acc: 0.9916\n",
            "Epoch 217/500\n",
            "60000/60000 [==============================] - 4s 74us/sample - loss: 0.0212 - acc: 0.9929\n",
            "Epoch 218/500\n",
            "60000/60000 [==============================] - 5s 79us/sample - loss: 0.0225 - acc: 0.9918\n",
            "Epoch 219/500\n",
            "60000/60000 [==============================] - 4s 70us/sample - loss: 0.0271 - acc: 0.9908\n",
            "Epoch 220/500\n",
            "60000/60000 [==============================] - 5s 78us/sample - loss: 0.0216 - acc: 0.9929\n",
            "Epoch 221/500\n",
            "60000/60000 [==============================] - 4s 71us/sample - loss: 0.0251 - acc: 0.9911\n",
            "Epoch 222/500\n",
            "60000/60000 [==============================] - 5s 81us/sample - loss: 0.0221 - acc: 0.9927\n",
            "Epoch 223/500\n",
            "60000/60000 [==============================] - 5s 80us/sample - loss: 0.0230 - acc: 0.9919\n",
            "Epoch 224/500\n",
            "60000/60000 [==============================] - 5s 76us/sample - loss: 0.0250 - acc: 0.9915\n",
            "Epoch 225/500\n",
            "60000/60000 [==============================] - 5s 80us/sample - loss: 0.0234 - acc: 0.9921\n",
            "Epoch 226/500\n",
            "60000/60000 [==============================] - 4s 74us/sample - loss: 0.0214 - acc: 0.9930\n",
            "Epoch 227/500\n",
            "60000/60000 [==============================] - 5s 90us/sample - loss: 0.0232 - acc: 0.9915\n",
            "Epoch 228/500\n",
            "60000/60000 [==============================] - 4s 72us/sample - loss: 0.0247 - acc: 0.9915\n",
            "Epoch 229/500\n",
            "60000/60000 [==============================] - 5s 76us/sample - loss: 0.0223 - acc: 0.9925\n",
            "Epoch 230/500\n",
            "60000/60000 [==============================] - 4s 73us/sample - loss: 0.0222 - acc: 0.9922\n",
            "Epoch 231/500\n",
            "60000/60000 [==============================] - 5s 79us/sample - loss: 0.0245 - acc: 0.9914\n",
            "Epoch 232/500\n",
            "60000/60000 [==============================] - 4s 68us/sample - loss: 0.0206 - acc: 0.9931\n",
            "Epoch 233/500\n",
            "60000/60000 [==============================] - 4s 73us/sample - loss: 0.0204 - acc: 0.9929\n",
            "Epoch 234/500\n",
            "60000/60000 [==============================] - 4s 70us/sample - loss: 0.0248 - acc: 0.9914\n",
            "Epoch 235/500\n",
            "60000/60000 [==============================] - 5s 79us/sample - loss: 0.0240 - acc: 0.9920\n",
            "Epoch 236/500\n",
            "60000/60000 [==============================] - 4s 72us/sample - loss: 0.0215 - acc: 0.9923\n",
            "Epoch 237/500\n",
            "60000/60000 [==============================] - 5s 80us/sample - loss: 0.0209 - acc: 0.9928\n",
            "Epoch 238/500\n",
            "60000/60000 [==============================] - 5s 76us/sample - loss: 0.0215 - acc: 0.9924\n",
            "Epoch 239/500\n",
            "60000/60000 [==============================] - 5s 75us/sample - loss: 0.0201 - acc: 0.9930\n",
            "Epoch 240/500\n",
            "60000/60000 [==============================] - 4s 73us/sample - loss: 0.0191 - acc: 0.9930\n",
            "Epoch 241/500\n",
            "60000/60000 [==============================] - 4s 75us/sample - loss: 0.0245 - acc: 0.9920\n",
            "Epoch 242/500\n",
            "60000/60000 [==============================] - 5s 88us/sample - loss: 0.0235 - acc: 0.9918\n",
            "Epoch 243/500\n",
            "60000/60000 [==============================] - 4s 72us/sample - loss: 0.0220 - acc: 0.9922\n",
            "Epoch 244/500\n",
            "60000/60000 [==============================] - 5s 79us/sample - loss: 0.0241 - acc: 0.9921\n",
            "Epoch 245/500\n",
            "60000/60000 [==============================] - 4s 71us/sample - loss: 0.0177 - acc: 0.9938\n",
            "Epoch 246/500\n",
            "60000/60000 [==============================] - 4s 74us/sample - loss: 0.0222 - acc: 0.9926\n",
            "Epoch 247/500\n",
            "60000/60000 [==============================] - 4s 70us/sample - loss: 0.0190 - acc: 0.9938\n",
            "Epoch 248/500\n",
            "60000/60000 [==============================] - 4s 71us/sample - loss: 0.0212 - acc: 0.9928\n",
            "Epoch 249/500\n",
            "60000/60000 [==============================] - 5s 76us/sample - loss: 0.0169 - acc: 0.9941\n",
            "Epoch 250/500\n",
            "60000/60000 [==============================] - 4s 68us/sample - loss: 0.0231 - acc: 0.9920\n",
            "Epoch 251/500\n",
            "60000/60000 [==============================] - 5s 77us/sample - loss: 0.0210 - acc: 0.9929\n",
            "Epoch 252/500\n",
            "60000/60000 [==============================] - 5s 76us/sample - loss: 0.0215 - acc: 0.9931\n",
            "Epoch 253/500\n",
            "60000/60000 [==============================] - 5s 78us/sample - loss: 0.0206 - acc: 0.9929\n",
            "Epoch 254/500\n",
            "60000/60000 [==============================] - 4s 70us/sample - loss: 0.0209 - acc: 0.9927\n",
            "Epoch 255/500\n",
            "60000/60000 [==============================] - 4s 70us/sample - loss: 0.0214 - acc: 0.9927\n",
            "Epoch 256/500\n",
            "60000/60000 [==============================] - 5s 75us/sample - loss: 0.0201 - acc: 0.9936\n",
            "Epoch 257/500\n",
            "60000/60000 [==============================] - 4s 68us/sample - loss: 0.0170 - acc: 0.9944\n",
            "Epoch 258/500\n",
            "60000/60000 [==============================] - 4s 69us/sample - loss: 0.0216 - acc: 0.9921\n",
            "Epoch 259/500\n",
            "60000/60000 [==============================] - 5s 77us/sample - loss: 0.0214 - acc: 0.9926\n",
            "Epoch 260/500\n",
            "60000/60000 [==============================] - 4s 71us/sample - loss: 0.0201 - acc: 0.9933\n",
            "Epoch 261/500\n",
            "60000/60000 [==============================] - 5s 75us/sample - loss: 0.0162 - acc: 0.9948\n",
            "Epoch 262/500\n",
            "60000/60000 [==============================] - 4s 72us/sample - loss: 0.0211 - acc: 0.9925\n",
            "Epoch 263/500\n",
            "60000/60000 [==============================] - 4s 73us/sample - loss: 0.0208 - acc: 0.9933\n",
            "Epoch 264/500\n",
            "60000/60000 [==============================] - 4s 67us/sample - loss: 0.0216 - acc: 0.9930\n",
            "Epoch 265/500\n",
            "60000/60000 [==============================] - 5s 83us/sample - loss: 0.0176 - acc: 0.9942\n",
            "Epoch 266/500\n",
            "60000/60000 [==============================] - 5s 82us/sample - loss: 0.0238 - acc: 0.9921\n",
            "Epoch 267/500\n",
            "60000/60000 [==============================] - 5s 75us/sample - loss: 0.0190 - acc: 0.9934\n",
            "Epoch 268/500\n",
            "60000/60000 [==============================] - 5s 77us/sample - loss: 0.0188 - acc: 0.9936\n",
            "Epoch 269/500\n",
            "60000/60000 [==============================] - 4s 74us/sample - loss: 0.0199 - acc: 0.9937\n",
            "Epoch 270/500\n",
            "60000/60000 [==============================] - 4s 74us/sample - loss: 0.0217 - acc: 0.9929\n",
            "Epoch 271/500\n",
            "60000/60000 [==============================] - 4s 68us/sample - loss: 0.0170 - acc: 0.9941\n",
            "Epoch 272/500\n",
            "60000/60000 [==============================] - 4s 72us/sample - loss: 0.0245 - acc: 0.9920\n",
            "Epoch 273/500\n",
            "60000/60000 [==============================] - 4s 68us/sample - loss: 0.0146 - acc: 0.9953\n",
            "Epoch 274/500\n",
            "60000/60000 [==============================] - 4s 71us/sample - loss: 0.0210 - acc: 0.9934\n",
            "Epoch 275/500\n",
            "60000/60000 [==============================] - 4s 68us/sample - loss: 0.0179 - acc: 0.9935\n",
            "Epoch 276/500\n",
            "60000/60000 [==============================] - 4s 75us/sample - loss: 0.0197 - acc: 0.9935\n",
            "Epoch 277/500\n",
            "60000/60000 [==============================] - 4s 67us/sample - loss: 0.0179 - acc: 0.9940\n",
            "Epoch 278/500\n",
            "60000/60000 [==============================] - 4s 71us/sample - loss: 0.0162 - acc: 0.9945\n",
            "Epoch 279/500\n",
            "60000/60000 [==============================] - 4s 70us/sample - loss: 0.0209 - acc: 0.9930\n",
            "Epoch 280/500\n",
            "60000/60000 [==============================] - 4s 71us/sample - loss: 0.0209 - acc: 0.9937\n",
            "Epoch 281/500\n",
            "60000/60000 [==============================] - 4s 66us/sample - loss: 0.0161 - acc: 0.9948\n",
            "Epoch 282/500\n",
            "60000/60000 [==============================] - 4s 70us/sample - loss: 0.0200 - acc: 0.9937\n",
            "Epoch 283/500\n",
            "60000/60000 [==============================] - 4s 71us/sample - loss: 0.0203 - acc: 0.9933\n",
            "Epoch 284/500\n",
            "60000/60000 [==============================] - 4s 68us/sample - loss: 0.0185 - acc: 0.9939\n",
            "Epoch 285/500\n",
            "60000/60000 [==============================] - 4s 73us/sample - loss: 0.0174 - acc: 0.9941\n",
            "Epoch 286/500\n",
            "60000/60000 [==============================] - 4s 69us/sample - loss: 0.0209 - acc: 0.9934\n",
            "Epoch 287/500\n",
            "60000/60000 [==============================] - 4s 73us/sample - loss: 0.0214 - acc: 0.9934\n",
            "Epoch 288/500\n",
            "60000/60000 [==============================] - 4s 70us/sample - loss: 0.0145 - acc: 0.9953\n",
            "Epoch 289/500\n",
            "60000/60000 [==============================] - 4s 68us/sample - loss: 0.0190 - acc: 0.9938\n",
            "Epoch 290/500\n",
            "60000/60000 [==============================] - 4s 73us/sample - loss: 0.0178 - acc: 0.9944\n",
            "Epoch 291/500\n",
            "60000/60000 [==============================] - 4s 68us/sample - loss: 0.0151 - acc: 0.9951\n",
            "Epoch 292/500\n",
            "60000/60000 [==============================] - 5s 75us/sample - loss: 0.0230 - acc: 0.9924\n",
            "Epoch 293/500\n",
            "60000/60000 [==============================] - 4s 74us/sample - loss: 0.0187 - acc: 0.9942\n",
            "Epoch 294/500\n",
            "60000/60000 [==============================] - 4s 71us/sample - loss: 0.0168 - acc: 0.9943\n",
            "Epoch 295/500\n",
            "60000/60000 [==============================] - 5s 78us/sample - loss: 0.0160 - acc: 0.9946\n",
            "Epoch 296/500\n",
            "60000/60000 [==============================] - 5s 78us/sample - loss: 0.0205 - acc: 0.9932\n",
            "Epoch 297/500\n",
            "60000/60000 [==============================] - 5s 82us/sample - loss: 0.0167 - acc: 0.9944\n",
            "Epoch 298/500\n",
            "60000/60000 [==============================] - 5s 75us/sample - loss: 0.0195 - acc: 0.9938\n",
            "Epoch 299/500\n",
            "60000/60000 [==============================] - 5s 76us/sample - loss: 0.0177 - acc: 0.9944\n",
            "Epoch 300/500\n",
            "60000/60000 [==============================] - 4s 72us/sample - loss: 0.0196 - acc: 0.9935\n",
            "Epoch 301/500\n",
            "60000/60000 [==============================] - 5s 78us/sample - loss: 0.0160 - acc: 0.9947\n",
            "Epoch 302/500\n",
            "60000/60000 [==============================] - 4s 73us/sample - loss: 0.0220 - acc: 0.9930\n",
            "Epoch 303/500\n",
            "60000/60000 [==============================] - 5s 80us/sample - loss: 0.0131 - acc: 0.9954\n",
            "Epoch 304/500\n",
            "60000/60000 [==============================] - 4s 74us/sample - loss: 0.0210 - acc: 0.9934\n",
            "Epoch 305/500\n",
            "60000/60000 [==============================] - 5s 77us/sample - loss: 0.0137 - acc: 0.9953\n",
            "Epoch 306/500\n",
            "60000/60000 [==============================] - 4s 72us/sample - loss: 0.0193 - acc: 0.9939\n",
            "Epoch 307/500\n",
            "60000/60000 [==============================] - 4s 72us/sample - loss: 0.0161 - acc: 0.9947\n",
            "Epoch 308/500\n",
            "60000/60000 [==============================] - 4s 68us/sample - loss: 0.0214 - acc: 0.9928\n",
            "Epoch 309/500\n",
            "60000/60000 [==============================] - 4s 72us/sample - loss: 0.0194 - acc: 0.9938\n",
            "Epoch 310/500\n",
            "60000/60000 [==============================] - 4s 70us/sample - loss: 0.0157 - acc: 0.9948\n",
            "Epoch 311/500\n",
            "60000/60000 [==============================] - 4s 73us/sample - loss: 0.0170 - acc: 0.9944\n",
            "Epoch 312/500\n",
            "60000/60000 [==============================] - 4s 69us/sample - loss: 0.0190 - acc: 0.9938\n",
            "Epoch 313/500\n",
            "60000/60000 [==============================] - 5s 76us/sample - loss: 0.0193 - acc: 0.9938\n",
            "Epoch 314/500\n",
            "60000/60000 [==============================] - 4s 69us/sample - loss: 0.0145 - acc: 0.9954\n",
            "Epoch 315/500\n",
            "60000/60000 [==============================] - 4s 75us/sample - loss: 0.0201 - acc: 0.9938\n",
            "Epoch 316/500\n",
            "60000/60000 [==============================] - 4s 68us/sample - loss: 0.0144 - acc: 0.9954\n",
            "Epoch 317/500\n",
            "60000/60000 [==============================] - 4s 74us/sample - loss: 0.0208 - acc: 0.9935\n",
            "Epoch 318/500\n",
            "60000/60000 [==============================] - 4s 68us/sample - loss: 0.0171 - acc: 0.9948\n",
            "Epoch 319/500\n",
            "60000/60000 [==============================] - 4s 71us/sample - loss: 0.0155 - acc: 0.9944\n",
            "Epoch 320/500\n",
            "60000/60000 [==============================] - 4s 69us/sample - loss: 0.0227 - acc: 0.9931\n",
            "Epoch 321/500\n",
            "60000/60000 [==============================] - 4s 75us/sample - loss: 0.0147 - acc: 0.9952\n",
            "Epoch 322/500\n",
            "60000/60000 [==============================] - 4s 72us/sample - loss: 0.0165 - acc: 0.9947\n",
            "Epoch 323/500\n",
            "60000/60000 [==============================] - 5s 75us/sample - loss: 0.0185 - acc: 0.9940\n",
            "Epoch 324/500\n",
            "60000/60000 [==============================] - 4s 73us/sample - loss: 0.0140 - acc: 0.9955\n",
            "Epoch 325/500\n",
            "60000/60000 [==============================] - 5s 78us/sample - loss: 0.0182 - acc: 0.9944\n",
            "Epoch 326/500\n",
            "60000/60000 [==============================] - 4s 73us/sample - loss: 0.0156 - acc: 0.9946\n",
            "Epoch 327/500\n",
            "60000/60000 [==============================] - 5s 79us/sample - loss: 0.0174 - acc: 0.9945\n",
            "Epoch 328/500\n",
            "60000/60000 [==============================] - 4s 69us/sample - loss: 0.0147 - acc: 0.9952\n",
            "Epoch 329/500\n",
            "60000/60000 [==============================] - 4s 70us/sample - loss: 0.0152 - acc: 0.9953\n",
            "Epoch 330/500\n",
            "60000/60000 [==============================] - 4s 71us/sample - loss: 0.0178 - acc: 0.9941\n",
            "Epoch 331/500\n",
            "60000/60000 [==============================] - 4s 73us/sample - loss: 0.0175 - acc: 0.9939\n",
            "Epoch 332/500\n",
            "60000/60000 [==============================] - 4s 75us/sample - loss: 0.0132 - acc: 0.9954\n",
            "Epoch 333/500\n",
            "60000/60000 [==============================] - 4s 69us/sample - loss: 0.0199 - acc: 0.9931\n",
            "Epoch 334/500\n",
            "60000/60000 [==============================] - 4s 74us/sample - loss: 0.0164 - acc: 0.9948\n",
            "Epoch 335/500\n",
            "60000/60000 [==============================] - 4s 66us/sample - loss: 0.0180 - acc: 0.9944\n",
            "Epoch 336/500\n",
            "60000/60000 [==============================] - 4s 71us/sample - loss: 0.0131 - acc: 0.9955\n",
            "Epoch 337/500\n",
            "60000/60000 [==============================] - 4s 72us/sample - loss: 0.0169 - acc: 0.9946\n",
            "Epoch 338/500\n",
            "60000/60000 [==============================] - 5s 81us/sample - loss: 0.0188 - acc: 0.9937\n",
            "Epoch 339/500\n",
            "60000/60000 [==============================] - 4s 68us/sample - loss: 0.0159 - acc: 0.9948\n",
            "Epoch 340/500\n",
            "60000/60000 [==============================] - 4s 72us/sample - loss: 0.0144 - acc: 0.9952\n",
            "Epoch 341/500\n",
            "60000/60000 [==============================] - 4s 68us/sample - loss: 0.0149 - acc: 0.9952\n",
            "Epoch 342/500\n",
            "60000/60000 [==============================] - 4s 71us/sample - loss: 0.0172 - acc: 0.9949\n",
            "Epoch 343/500\n",
            "60000/60000 [==============================] - 4s 69us/sample - loss: 0.0155 - acc: 0.9947\n",
            "Epoch 344/500\n",
            "60000/60000 [==============================] - 4s 72us/sample - loss: 0.0178 - acc: 0.9946\n",
            "Epoch 345/500\n",
            "60000/60000 [==============================] - 4s 71us/sample - loss: 0.0149 - acc: 0.9956\n",
            "Epoch 346/500\n",
            "60000/60000 [==============================] - 4s 75us/sample - loss: 0.0213 - acc: 0.9934\n",
            "Epoch 347/500\n",
            "60000/60000 [==============================] - 4s 68us/sample - loss: 0.0150 - acc: 0.9951\n",
            "Epoch 348/500\n",
            "60000/60000 [==============================] - 4s 74us/sample - loss: 0.0142 - acc: 0.9958\n",
            "Epoch 349/500\n",
            "60000/60000 [==============================] - 4s 69us/sample - loss: 0.0176 - acc: 0.9951\n",
            "Epoch 350/500\n",
            "60000/60000 [==============================] - 4s 73us/sample - loss: 0.0150 - acc: 0.9953\n",
            "Epoch 351/500\n",
            "60000/60000 [==============================] - 4s 71us/sample - loss: 0.0166 - acc: 0.9946\n",
            "Epoch 352/500\n",
            "60000/60000 [==============================] - 5s 75us/sample - loss: 0.0174 - acc: 0.9951\n",
            "Epoch 353/500\n",
            "60000/60000 [==============================] - 4s 72us/sample - loss: 0.0124 - acc: 0.9958\n",
            "Epoch 354/500\n",
            "60000/60000 [==============================] - 4s 71us/sample - loss: 0.0175 - acc: 0.9944\n",
            "Epoch 355/500\n",
            "60000/60000 [==============================] - 5s 79us/sample - loss: 0.0115 - acc: 0.9962\n",
            "Epoch 356/500\n",
            "60000/60000 [==============================] - 4s 73us/sample - loss: 0.0172 - acc: 0.9941\n",
            "Epoch 357/500\n",
            "60000/60000 [==============================] - 4s 72us/sample - loss: 0.0173 - acc: 0.9947\n",
            "Epoch 358/500\n",
            "60000/60000 [==============================] - 5s 77us/sample - loss: 0.0152 - acc: 0.9950\n",
            "Epoch 359/500\n",
            "60000/60000 [==============================] - 4s 70us/sample - loss: 0.0163 - acc: 0.9951\n",
            "Epoch 360/500\n",
            "60000/60000 [==============================] - 4s 71us/sample - loss: 0.0122 - acc: 0.9957\n",
            "Epoch 361/500\n",
            "60000/60000 [==============================] - 4s 70us/sample - loss: 0.0132 - acc: 0.9957\n",
            "Epoch 362/500\n",
            "60000/60000 [==============================] - 4s 72us/sample - loss: 0.0163 - acc: 0.9946\n",
            "Epoch 363/500\n",
            "60000/60000 [==============================] - 4s 68us/sample - loss: 0.0146 - acc: 0.9957\n",
            "Epoch 364/500\n",
            "60000/60000 [==============================] - 4s 68us/sample - loss: 0.0182 - acc: 0.9947\n",
            "Epoch 365/500\n",
            "60000/60000 [==============================] - 4s 65us/sample - loss: 0.0103 - acc: 0.9967\n",
            "Epoch 366/500\n",
            "60000/60000 [==============================] - 4s 72us/sample - loss: 0.0194 - acc: 0.9943\n",
            "Epoch 367/500\n",
            "60000/60000 [==============================] - 4s 73us/sample - loss: 0.0194 - acc: 0.9942\n",
            "Epoch 368/500\n",
            "60000/60000 [==============================] - 5s 80us/sample - loss: 0.0138 - acc: 0.9957\n",
            "Epoch 369/500\n",
            "60000/60000 [==============================] - 4s 72us/sample - loss: 0.0182 - acc: 0.9946\n",
            "Epoch 370/500\n",
            "60000/60000 [==============================] - 4s 70us/sample - loss: 0.0141 - acc: 0.9956\n",
            "Epoch 371/500\n",
            "60000/60000 [==============================] - 4s 71us/sample - loss: 0.0181 - acc: 0.9946\n",
            "Epoch 372/500\n",
            "60000/60000 [==============================] - 4s 68us/sample - loss: 0.0168 - acc: 0.9947\n",
            "Epoch 373/500\n",
            "60000/60000 [==============================] - 5s 79us/sample - loss: 0.0130 - acc: 0.9959\n",
            "Epoch 374/500\n",
            "60000/60000 [==============================] - 4s 69us/sample - loss: 0.0204 - acc: 0.9943\n",
            "Epoch 375/500\n",
            "60000/60000 [==============================] - 5s 75us/sample - loss: 0.0092 - acc: 0.9970\n",
            "Epoch 376/500\n",
            "60000/60000 [==============================] - 4s 74us/sample - loss: 0.0168 - acc: 0.9944\n",
            "Epoch 377/500\n",
            "60000/60000 [==============================] - 5s 77us/sample - loss: 0.0157 - acc: 0.9952\n",
            "Epoch 378/500\n",
            "60000/60000 [==============================] - 4s 71us/sample - loss: 0.0096 - acc: 0.9970\n",
            "Epoch 379/500\n",
            "60000/60000 [==============================] - 4s 70us/sample - loss: 0.0158 - acc: 0.9951\n",
            "Epoch 380/500\n",
            "60000/60000 [==============================] - 5s 77us/sample - loss: 0.0181 - acc: 0.9942\n",
            "Epoch 381/500\n",
            "60000/60000 [==============================] - 4s 70us/sample - loss: 0.0150 - acc: 0.9954\n",
            "Epoch 382/500\n",
            "60000/60000 [==============================] - 5s 75us/sample - loss: 0.0143 - acc: 0.9956\n",
            "Epoch 383/500\n",
            "60000/60000 [==============================] - 4s 72us/sample - loss: 0.0181 - acc: 0.9943\n",
            "Epoch 384/500\n",
            "60000/60000 [==============================] - 5s 78us/sample - loss: 0.0124 - acc: 0.9967\n",
            "Epoch 385/500\n",
            "60000/60000 [==============================] - 4s 74us/sample - loss: 0.0175 - acc: 0.9948\n",
            "Epoch 386/500\n",
            "60000/60000 [==============================] - 4s 72us/sample - loss: 0.0127 - acc: 0.9961\n",
            "Epoch 387/500\n",
            "60000/60000 [==============================] - 4s 71us/sample - loss: 0.0157 - acc: 0.9950\n",
            "Epoch 388/500\n",
            "60000/60000 [==============================] - 4s 65us/sample - loss: 0.0117 - acc: 0.9961\n",
            "Epoch 389/500\n",
            "60000/60000 [==============================] - 6s 108us/sample - loss: 0.0163 - acc: 0.9950\n",
            "Epoch 390/500\n",
            "60000/60000 [==============================] - 6s 99us/sample - loss: 0.0159 - acc: 0.9946\n",
            "Epoch 391/500\n",
            "60000/60000 [==============================] - 4s 68us/sample - loss: 0.0137 - acc: 0.9956\n",
            "Epoch 392/500\n",
            "60000/60000 [==============================] - 4s 73us/sample - loss: 0.0129 - acc: 0.9956\n",
            "Epoch 393/500\n",
            "60000/60000 [==============================] - 4s 70us/sample - loss: 0.0176 - acc: 0.9947\n",
            "Epoch 394/500\n",
            "60000/60000 [==============================] - 4s 70us/sample - loss: 0.0148 - acc: 0.9960\n",
            "Epoch 395/500\n",
            "60000/60000 [==============================] - 4s 71us/sample - loss: 0.0144 - acc: 0.9953\n",
            "Epoch 396/500\n",
            "60000/60000 [==============================] - 4s 69us/sample - loss: 0.0160 - acc: 0.9951\n",
            "Epoch 397/500\n",
            "60000/60000 [==============================] - 4s 72us/sample - loss: 0.0130 - acc: 0.9958\n",
            "Epoch 398/500\n",
            "60000/60000 [==============================] - 4s 68us/sample - loss: 0.0144 - acc: 0.9954\n",
            "Epoch 399/500\n",
            "60000/60000 [==============================] - 4s 74us/sample - loss: 0.0163 - acc: 0.9952\n",
            "Epoch 400/500\n",
            "60000/60000 [==============================] - 4s 70us/sample - loss: 0.0158 - acc: 0.9952\n",
            "Epoch 401/500\n",
            "60000/60000 [==============================] - 4s 69us/sample - loss: 0.0138 - acc: 0.9956\n",
            "Epoch 402/500\n",
            "60000/60000 [==============================] - 4s 72us/sample - loss: 0.0140 - acc: 0.9959\n",
            "Epoch 403/500\n",
            "60000/60000 [==============================] - 4s 70us/sample - loss: 0.0177 - acc: 0.9951\n",
            "Epoch 404/500\n",
            "60000/60000 [==============================] - 4s 70us/sample - loss: 0.0145 - acc: 0.9956\n",
            "Epoch 405/500\n",
            "60000/60000 [==============================] - 4s 68us/sample - loss: 0.0132 - acc: 0.9960\n",
            "Epoch 406/500\n",
            "60000/60000 [==============================] - 4s 71us/sample - loss: 0.0131 - acc: 0.9957\n",
            "Epoch 407/500\n",
            "60000/60000 [==============================] - 4s 73us/sample - loss: 0.0167 - acc: 0.9952\n",
            "Epoch 408/500\n",
            "60000/60000 [==============================] - 5s 80us/sample - loss: 0.0144 - acc: 0.9957\n",
            "Epoch 409/500\n",
            "60000/60000 [==============================] - 5s 83us/sample - loss: 0.0153 - acc: 0.9959\n",
            "Epoch 410/500\n",
            "60000/60000 [==============================] - 5s 76us/sample - loss: 0.0173 - acc: 0.9948\n",
            "Epoch 411/500\n",
            "60000/60000 [==============================] - 4s 75us/sample - loss: 0.0161 - acc: 0.9958\n",
            "Epoch 412/500\n",
            "60000/60000 [==============================] - 4s 70us/sample - loss: 0.0139 - acc: 0.9959\n",
            "Epoch 413/500\n",
            "60000/60000 [==============================] - 4s 73us/sample - loss: 0.0083 - acc: 0.9974\n",
            "Epoch 414/500\n",
            "60000/60000 [==============================] - 4s 70us/sample - loss: 0.0193 - acc: 0.9945\n",
            "Epoch 415/500\n",
            "60000/60000 [==============================] - 4s 71us/sample - loss: 0.0168 - acc: 0.9957\n",
            "Epoch 416/500\n",
            "60000/60000 [==============================] - 4s 70us/sample - loss: 0.0095 - acc: 0.9973\n",
            "Epoch 417/500\n",
            "60000/60000 [==============================] - 4s 71us/sample - loss: 0.0162 - acc: 0.9948\n",
            "Epoch 418/500\n",
            "60000/60000 [==============================] - 4s 66us/sample - loss: 0.0151 - acc: 0.9954\n",
            "Epoch 419/500\n",
            "60000/60000 [==============================] - 4s 70us/sample - loss: 0.0138 - acc: 0.9957\n",
            "Epoch 420/500\n",
            "60000/60000 [==============================] - 4s 68us/sample - loss: 0.0129 - acc: 0.9958\n",
            "Epoch 421/500\n",
            "60000/60000 [==============================] - 4s 68us/sample - loss: 0.0156 - acc: 0.9952\n",
            "Epoch 422/500\n",
            "60000/60000 [==============================] - 4s 71us/sample - loss: 0.0146 - acc: 0.9952\n",
            "Epoch 423/500\n",
            "60000/60000 [==============================] - 4s 70us/sample - loss: 0.0149 - acc: 0.9959\n",
            "Epoch 424/500\n",
            "60000/60000 [==============================] - 4s 72us/sample - loss: 0.0129 - acc: 0.9960\n",
            "Epoch 425/500\n",
            "60000/60000 [==============================] - 4s 73us/sample - loss: 0.0153 - acc: 0.9963\n",
            "Epoch 426/500\n",
            "60000/60000 [==============================] - 4s 70us/sample - loss: 0.0124 - acc: 0.9964\n",
            "Epoch 427/500\n",
            "60000/60000 [==============================] - 4s 74us/sample - loss: 0.0158 - acc: 0.9952\n",
            "Epoch 428/500\n",
            "60000/60000 [==============================] - 4s 71us/sample - loss: 0.0136 - acc: 0.9959\n",
            "Epoch 429/500\n",
            "60000/60000 [==============================] - 4s 73us/sample - loss: 0.0147 - acc: 0.9961\n",
            "Epoch 430/500\n",
            "60000/60000 [==============================] - 4s 71us/sample - loss: 0.0139 - acc: 0.9961\n",
            "Epoch 431/500\n",
            "60000/60000 [==============================] - 4s 69us/sample - loss: 0.0094 - acc: 0.9969\n",
            "Epoch 432/500\n",
            "60000/60000 [==============================] - 4s 73us/sample - loss: 0.0182 - acc: 0.9947\n",
            "Epoch 433/500\n",
            "60000/60000 [==============================] - 4s 72us/sample - loss: 0.0068 - acc: 0.9979\n",
            "Epoch 434/500\n",
            "60000/60000 [==============================] - 5s 78us/sample - loss: 0.0156 - acc: 0.9956\n",
            "Epoch 435/500\n",
            "60000/60000 [==============================] - 4s 71us/sample - loss: 0.0136 - acc: 0.9961\n",
            "Epoch 436/500\n",
            "60000/60000 [==============================] - 5s 77us/sample - loss: 0.0157 - acc: 0.9957\n",
            "Epoch 437/500\n",
            "60000/60000 [==============================] - 5s 78us/sample - loss: 0.0172 - acc: 0.9952\n",
            "Epoch 438/500\n",
            "60000/60000 [==============================] - 5s 84us/sample - loss: 0.0142 - acc: 0.9958\n",
            "Epoch 439/500\n",
            "60000/60000 [==============================] - 4s 70us/sample - loss: 0.0100 - acc: 0.9970\n",
            "Epoch 440/500\n",
            "60000/60000 [==============================] - 4s 74us/sample - loss: 0.0134 - acc: 0.9959\n",
            "Epoch 441/500\n",
            "60000/60000 [==============================] - 4s 73us/sample - loss: 0.0139 - acc: 0.9959\n",
            "Epoch 442/500\n",
            "60000/60000 [==============================] - 4s 74us/sample - loss: 0.0127 - acc: 0.9957\n",
            "Epoch 443/500\n",
            "60000/60000 [==============================] - 4s 71us/sample - loss: 0.0142 - acc: 0.9956\n",
            "Epoch 444/500\n",
            "60000/60000 [==============================] - 4s 74us/sample - loss: 0.0109 - acc: 0.9967\n",
            "Epoch 445/500\n",
            "60000/60000 [==============================] - 4s 69us/sample - loss: 0.0106 - acc: 0.9963\n",
            "Epoch 446/500\n",
            "60000/60000 [==============================] - 4s 72us/sample - loss: 0.0196 - acc: 0.9945\n",
            "Epoch 447/500\n",
            "60000/60000 [==============================] - 4s 69us/sample - loss: 0.0119 - acc: 0.9964\n",
            "Epoch 448/500\n",
            "60000/60000 [==============================] - 4s 75us/sample - loss: 0.0158 - acc: 0.9950\n",
            "Epoch 449/500\n",
            "60000/60000 [==============================] - 4s 74us/sample - loss: 0.0166 - acc: 0.9957\n",
            "Epoch 450/500\n",
            "60000/60000 [==============================] - 4s 71us/sample - loss: 0.0111 - acc: 0.9966\n",
            "Epoch 451/500\n",
            "60000/60000 [==============================] - 5s 78us/sample - loss: 0.0132 - acc: 0.9959\n",
            "Epoch 452/500\n",
            "60000/60000 [==============================] - 4s 74us/sample - loss: 0.0129 - acc: 0.9962\n",
            "Epoch 453/500\n",
            "60000/60000 [==============================] - 4s 74us/sample - loss: 0.0126 - acc: 0.9963\n",
            "Epoch 454/500\n",
            "60000/60000 [==============================] - 4s 68us/sample - loss: 0.0147 - acc: 0.9956\n",
            "Epoch 455/500\n",
            "60000/60000 [==============================] - 4s 74us/sample - loss: 0.0128 - acc: 0.9959\n",
            "Epoch 456/500\n",
            "60000/60000 [==============================] - 4s 71us/sample - loss: 0.0120 - acc: 0.9966\n",
            "Epoch 457/500\n",
            "60000/60000 [==============================] - 5s 78us/sample - loss: 0.0125 - acc: 0.9966\n",
            "Epoch 458/500\n",
            "60000/60000 [==============================] - 4s 72us/sample - loss: 0.0121 - acc: 0.9962\n",
            "Epoch 459/500\n",
            "60000/60000 [==============================] - 5s 78us/sample - loss: 0.0102 - acc: 0.9970\n",
            "Epoch 460/500\n",
            "60000/60000 [==============================] - 4s 73us/sample - loss: 0.0160 - acc: 0.9954\n",
            "Epoch 461/500\n",
            "60000/60000 [==============================] - 5s 82us/sample - loss: 0.0127 - acc: 0.9962\n",
            "Epoch 462/500\n",
            "60000/60000 [==============================] - 5s 77us/sample - loss: 0.0054 - acc: 0.9980\n",
            "Epoch 463/500\n",
            "60000/60000 [==============================] - 5s 82us/sample - loss: 0.0179 - acc: 0.9944\n",
            "Epoch 464/500\n",
            "60000/60000 [==============================] - 4s 73us/sample - loss: 0.0106 - acc: 0.9969\n",
            "Epoch 465/500\n",
            "60000/60000 [==============================] - 5s 79us/sample - loss: 0.0121 - acc: 0.9965\n",
            "Epoch 466/500\n",
            "60000/60000 [==============================] - 5s 78us/sample - loss: 0.0139 - acc: 0.9962\n",
            "Epoch 467/500\n",
            "60000/60000 [==============================] - 5s 76us/sample - loss: 0.0144 - acc: 0.9959\n",
            "Epoch 468/500\n",
            "60000/60000 [==============================] - 5s 82us/sample - loss: 0.0134 - acc: 0.9960\n",
            "Epoch 469/500\n",
            "60000/60000 [==============================] - 4s 69us/sample - loss: 0.0155 - acc: 0.9952\n",
            "Epoch 470/500\n",
            "60000/60000 [==============================] - 5s 78us/sample - loss: 0.0139 - acc: 0.9959\n",
            "Epoch 471/500\n",
            "60000/60000 [==============================] - 4s 71us/sample - loss: 0.0143 - acc: 0.9961\n",
            "Epoch 472/500\n",
            "60000/60000 [==============================] - 4s 73us/sample - loss: 0.0164 - acc: 0.9955\n",
            "Epoch 473/500\n",
            "60000/60000 [==============================] - 4s 71us/sample - loss: 0.0104 - acc: 0.9972\n",
            "Epoch 474/500\n",
            "60000/60000 [==============================] - 4s 74us/sample - loss: 0.0124 - acc: 0.9966\n",
            "Epoch 475/500\n",
            "60000/60000 [==============================] - 4s 71us/sample - loss: 0.0131 - acc: 0.9961\n",
            "Epoch 476/500\n",
            "60000/60000 [==============================] - 4s 74us/sample - loss: 0.0123 - acc: 0.9960\n",
            "Epoch 477/500\n",
            "60000/60000 [==============================] - 4s 73us/sample - loss: 0.0144 - acc: 0.9957\n",
            "Epoch 478/500\n",
            "60000/60000 [==============================] - 5s 76us/sample - loss: 0.0123 - acc: 0.9961\n",
            "Epoch 479/500\n",
            "60000/60000 [==============================] - 5s 80us/sample - loss: 0.0122 - acc: 0.9969\n",
            "Epoch 480/500\n",
            "60000/60000 [==============================] - 5s 83us/sample - loss: 0.0109 - acc: 0.9967\n",
            "Epoch 481/500\n",
            "60000/60000 [==============================] - 4s 71us/sample - loss: 0.0187 - acc: 0.9955\n",
            "Epoch 482/500\n",
            "60000/60000 [==============================] - 5s 77us/sample - loss: 0.0120 - acc: 0.9963\n",
            "Epoch 483/500\n",
            "60000/60000 [==============================] - 4s 68us/sample - loss: 0.0123 - acc: 0.9965\n",
            "Epoch 484/500\n",
            "60000/60000 [==============================] - 4s 74us/sample - loss: 0.0113 - acc: 0.9972\n",
            "Epoch 485/500\n",
            "60000/60000 [==============================] - 4s 68us/sample - loss: 0.0126 - acc: 0.9961\n",
            "Epoch 486/500\n",
            "60000/60000 [==============================] - 4s 68us/sample - loss: 0.0153 - acc: 0.9958\n",
            "Epoch 487/500\n",
            "60000/60000 [==============================] - 4s 71us/sample - loss: 0.0090 - acc: 0.9971\n",
            "Epoch 488/500\n",
            "60000/60000 [==============================] - 4s 73us/sample - loss: 0.0175 - acc: 0.9955\n",
            "Epoch 489/500\n",
            "60000/60000 [==============================] - 5s 81us/sample - loss: 0.0091 - acc: 0.9970\n",
            "Epoch 490/500\n",
            "60000/60000 [==============================] - 5s 77us/sample - loss: 0.0146 - acc: 0.9954\n",
            "Epoch 491/500\n",
            "60000/60000 [==============================] - 5s 79us/sample - loss: 0.0125 - acc: 0.9963\n",
            "Epoch 492/500\n",
            "60000/60000 [==============================] - 4s 74us/sample - loss: 0.0116 - acc: 0.9963\n",
            "Epoch 493/500\n",
            "60000/60000 [==============================] - 5s 79us/sample - loss: 0.0143 - acc: 0.9962\n",
            "Epoch 494/500\n",
            "60000/60000 [==============================] - 4s 72us/sample - loss: 0.0139 - acc: 0.9957\n",
            "Epoch 495/500\n",
            "60000/60000 [==============================] - 5s 76us/sample - loss: 0.0089 - acc: 0.9974\n",
            "Epoch 496/500\n",
            "60000/60000 [==============================] - 4s 69us/sample - loss: 0.0130 - acc: 0.9960\n",
            "Epoch 497/500\n",
            "60000/60000 [==============================] - 5s 77us/sample - loss: 0.0141 - acc: 0.9954\n",
            "Epoch 498/500\n",
            "60000/60000 [==============================] - 4s 69us/sample - loss: 0.0105 - acc: 0.9970\n",
            "Epoch 499/500\n",
            "60000/60000 [==============================] - 4s 72us/sample - loss: 0.0132 - acc: 0.9960\n",
            "Epoch 500/500\n",
            "60000/60000 [==============================] - 4s 68us/sample - loss: 0.0056 - acc: 0.9985\n"
          ],
          "name": "stdout"
        },
        {
          "output_type": "execute_result",
          "data": {
            "text/plain": [
              "<tensorflow.python.keras.callbacks.History at 0x7f6d46236ef0>"
            ]
          },
          "metadata": {
            "tags": []
          },
          "execution_count": 10
        }
      ]
    },
    {
      "cell_type": "markdown",
      "metadata": {
        "id": "-JJMsvSB-1UY",
        "colab_type": "text"
      },
      "source": [
        "Once it's done training -- you should see an accuracy value at the end of the final epoch. It might look something like 0.9098. This tells you that your neural network is about 91% accurate in classifying the training data. I.E., it figured out a pattern match between the image and the labels that worked 91% of the time. Not great, but not bad considering it was only trained for 5 epochs and done quite quickly.\n",
        "\n",
        "But how would it work with unseen data? That's why we have the test images. We can call model.evaluate, and pass in the two sets, and it will report back the loss for each. Let's give it a try:"
      ]
    },
    {
      "cell_type": "code",
      "metadata": {
        "id": "WzlqsEzX9s5P",
        "colab_type": "code",
        "outputId": "9fb321dd-06a9-4980-c90d-00033e20548b",
        "colab": {
          "base_uri": "https://localhost:8080/",
          "height": 50
        }
      },
      "source": [
        "model.evaluate(test_images, test_labels)"
      ],
      "execution_count": 0,
      "outputs": [
        {
          "output_type": "stream",
          "text": [
            "10000/10000 [==============================] - 0s 32us/sample - loss: 2.3599 - acc: 0.8823\n"
          ],
          "name": "stdout"
        },
        {
          "output_type": "execute_result",
          "data": {
            "text/plain": [
              "[2.3599474212392924, 0.8823]"
            ]
          },
          "metadata": {
            "tags": []
          },
          "execution_count": 11
        }
      ]
    },
    {
      "cell_type": "markdown",
      "metadata": {
        "id": "6tki-Aro_Uax",
        "colab_type": "text"
      },
      "source": [
        "For me, that returned a accuracy of about .8838, which means it was about 88% accurate. As expected it probably would not do as well with *unseen* data as it did with data it was trained on!  As you go through this course, you'll look at ways to improve this. \n",
        "\n",
        "To explore further, try the below exercises:\n"
      ]
    },
    {
      "cell_type": "markdown",
      "metadata": {
        "id": "htldZNWcIPSN",
        "colab_type": "text"
      },
      "source": [
        "# Exploration Exercises"
      ]
    },
    {
      "cell_type": "markdown",
      "metadata": {
        "id": "rquQqIx4AaGR",
        "colab_type": "text"
      },
      "source": [
        "###Exercise 1:\n",
        "For this first exercise run the below code: It creates a set of classifications for each of the test images, and then prints the first entry in the classifications. The output, after you run it is a list of numbers. Why do you think this is, and what do those numbers represent? "
      ]
    },
    {
      "cell_type": "code",
      "metadata": {
        "id": "RyEIki0z_hAD",
        "colab_type": "code",
        "outputId": "f2556252-9405-4f13-f8ba-a6dab22ba75e",
        "colab": {
          "base_uri": "https://localhost:8080/",
          "height": 67
        }
      },
      "source": [
        "classifications = model.predict(test_images)\n",
        "\n",
        "print(classifications[0])"
      ],
      "execution_count": 0,
      "outputs": [
        {
          "output_type": "stream",
          "text": [
            "[0.00000000e+00 0.00000000e+00 0.00000000e+00 0.00000000e+00\n",
            " 0.00000000e+00 4.39502213e-38 0.00000000e+00 1.07218456e-23\n",
            " 0.00000000e+00 1.00000000e+00]\n"
          ],
          "name": "stdout"
        }
      ]
    },
    {
      "cell_type": "markdown",
      "metadata": {
        "id": "MdzqbQhRArzm",
        "colab_type": "text"
      },
      "source": [
        "Hint: try running print(test_labels[0]) -- and you'll get a 9. Does that help you understand why this list looks the way it does? "
      ]
    },
    {
      "cell_type": "code",
      "metadata": {
        "id": "WnBGOrMiA1n5",
        "colab_type": "code",
        "outputId": "4671810c-e87e-4064-d98f-ab200ccab782",
        "colab": {
          "base_uri": "https://localhost:8080/",
          "height": 34
        }
      },
      "source": [
        "print(test_labels[0])"
      ],
      "execution_count": 0,
      "outputs": [
        {
          "output_type": "stream",
          "text": [
            "9\n"
          ],
          "name": "stdout"
        }
      ]
    },
    {
      "cell_type": "markdown",
      "metadata": {
        "id": "uUs7eqr7uSvs",
        "colab_type": "text"
      },
      "source": [
        "### What does this list represent?\n",
        "\n",
        "\n",
        "1.   It's 10 random meaningless values\n",
        "2.   It's the first 10 classifications that the computer made\n",
        "3.   It's the probability that this item is each of the 10 classes\n",
        "\n"
      ]
    },
    {
      "cell_type": "markdown",
      "metadata": {
        "id": "wAbr92RTA67u",
        "colab_type": "text"
      },
      "source": [
        "####Answer: \n",
        "The correct answer is (3)\n",
        "\n",
        "The output of the model is a list of 10 numbers. These numbers are a probability that the value being classified is the corresponding value, i.e. the first value in the list is the probability that the handwriting is of a '0', the next is a '1' etc. Notice that they are all VERY LOW probabilities.\n",
        "\n",
        "For the 7, the probability was .999+, i.e. the neural network is telling us that it's almost certainly a 7."
      ]
    },
    {
      "cell_type": "markdown",
      "metadata": {
        "id": "CD4kC6TBu-69",
        "colab_type": "text"
      },
      "source": [
        "### How do you know that this list tells you that the item is an ankle boot?\n",
        "\n",
        "\n",
        "1.   There's not enough information to answer that question\n",
        "2.   The 10th element on the list is the biggest, and the ankle boot is labelled 9\n",
        "2.   The ankle boot is label 9, and there are 0->9 elements in the list\n",
        "\n",
        "\n"
      ]
    },
    {
      "cell_type": "markdown",
      "metadata": {
        "id": "I-haLncrva5L",
        "colab_type": "text"
      },
      "source": [
        "####Answer\n",
        "The correct answer is (2). Both the list and the labels are 0 based, so the ankle boot having label 9 means that it is the 10th of the 10 classes. The list having the 10th element being the highest value means that the Neural Network has predicted that the item it is classifying is most likely an ankle boot"
      ]
    },
    {
      "cell_type": "markdown",
      "metadata": {
        "id": "OgQSIfDSOWv6",
        "colab_type": "text"
      },
      "source": [
        "##Exercise 2: \n",
        "Let's now look at the layers in your model. Experiment with different values for the dense layer with 512 neurons. What different results do you get for loss, training time etc? Why do you think that's the case? \n",
        "\n"
      ]
    },
    {
      "cell_type": "code",
      "metadata": {
        "id": "GSZSwV5UObQP",
        "colab_type": "code",
        "outputId": "27942e8a-653e-4e0a-ede4-c93ba4be6655",
        "colab": {
          "base_uri": "https://localhost:8080/",
          "height": 286
        }
      },
      "source": [
        "import tensorflow as tf\n",
        "print(tf.__version__)\n",
        "\n",
        "mnist = tf.keras.datasets.mnist\n",
        "\n",
        "(training_images, training_labels) ,  (test_images, test_labels) = mnist.load_data()\n",
        "\n",
        "training_images = training_images/255.0\n",
        "test_images = test_images/255.0\n",
        "\n",
        "model = tf.keras.models.Sequential([tf.keras.layers.Flatten(),\n",
        "                                    tf.keras.layers.Dense(1024, activation=tf.nn.relu),\n",
        "                                    tf.keras.layers.Dense(10, activation=tf.nn.softmax)])\n",
        "\n",
        "model.compile(optimizer = 'adam',\n",
        "              loss = 'sparse_categorical_crossentropy')\n",
        "\n",
        "model.fit(training_images, training_labels, epochs=5)\n",
        "\n",
        "model.evaluate(test_images, test_labels)\n",
        "\n",
        "classifications = model.predict(test_images)\n",
        "\n",
        "print(classifications[0])\n",
        "print(test_labels[0])"
      ],
      "execution_count": 0,
      "outputs": [
        {
          "output_type": "stream",
          "text": [
            "1.15.0\n",
            "Train on 60000 samples\n",
            "Epoch 1/5\n",
            "60000/60000 [==============================] - 13s 223us/sample - loss: 0.1860\n",
            "Epoch 2/5\n",
            "60000/60000 [==============================] - 14s 230us/sample - loss: 0.0748\n",
            "Epoch 3/5\n",
            "60000/60000 [==============================] - 13s 224us/sample - loss: 0.0477\n",
            "Epoch 4/5\n",
            "60000/60000 [==============================] - 14s 228us/sample - loss: 0.0338\n",
            "Epoch 5/5\n",
            "60000/60000 [==============================] - 14s 240us/sample - loss: 0.0247\n",
            "10000/10000 [==============================] - 1s 94us/sample - loss: 0.0698\n",
            "[2.0467360e-10 1.2064629e-11 3.0576014e-10 3.9033856e-09 5.7014410e-15\n",
            " 2.8797506e-10 1.5918202e-15 1.0000000e+00 1.3881271e-11 4.1702517e-08]\n",
            "7\n"
          ],
          "name": "stdout"
        }
      ]
    },
    {
      "cell_type": "markdown",
      "metadata": {
        "id": "bOOEnHZFv5cS",
        "colab_type": "text"
      },
      "source": [
        "###Question 1. Increase to 1024 Neurons -- What's the impact?\n",
        "\n",
        "1. Training takes longer, but is more accurate\n",
        "2. Training takes longer, but no impact on accuracy\n",
        "3. Training takes the same time, but is more accurate\n"
      ]
    },
    {
      "cell_type": "markdown",
      "metadata": {
        "id": "U73MUP2lwrI2",
        "colab_type": "text"
      },
      "source": [
        "####Answer\n",
        "The correct answer is (1) by adding more Neurons we have to do more calculations, slowing down the process, but in this case they have a good impact -- we do get more accurate. That doesn't mean it's always a case of 'more is better', you can hit the law of diminishing returns very quickly!"
      ]
    },
    {
      "cell_type": "markdown",
      "metadata": {
        "id": "WtWxK16hQxLN",
        "colab_type": "text"
      },
      "source": [
        "##Exercise 3: \n",
        "\n",
        "What would happen if you remove the Flatten() layer. Why do you think that's the case? \n",
        "\n",
        "You get an error about the shape of the data. It may seem vague right now, but it reinforces the rule of thumb that the first layer in your network should be the same shape as your data. Right now our data is 28x28 images, and 28 layers of 28 neurons would be infeasible, so it makes more sense to 'flatten' that 28,28 into a 784x1. Instead of wriitng all the code to handle that ourselves, we add the Flatten() layer at the begining, and when the arrays are loaded into the model later, they'll automatically be flattened for us."
      ]
    },
    {
      "cell_type": "code",
      "metadata": {
        "id": "ExNxCwhcQ18S",
        "colab_type": "code",
        "colab": {}
      },
      "source": [
        "import tensorflow as tf\n",
        "print(tf.__version__)\n",
        "\n",
        "mnist = tf.keras.datasets.mnist\n",
        "\n",
        "(training_images, training_labels) ,  (test_images, test_labels) = mnist.load_data()\n",
        "\n",
        "training_images = training_images/255.0\n",
        "test_images = test_images/255.0\n",
        "\n",
        "model = tf.keras.models.Sequential([#tf.keras.layers.Flatten(),\n",
        "                                    tf.keras.layers.Dense(64, activation=tf.nn.relu),\n",
        "                                    tf.keras.layers.Dense(10, activation=tf.nn.softmax)])\n",
        "\n",
        "model.compile(optimizer = 'adam',\n",
        "              loss = 'sparse_categorical_crossentropy')\n",
        "\n",
        "model.fit(training_images, training_labels, epochs=5)\n",
        "\n",
        "model.evaluate(test_images, test_labels)\n",
        "\n",
        "classifications = model.predict(test_images)\n",
        "\n",
        "print(classifications[0])\n",
        "print(test_labels[0])"
      ],
      "execution_count": 0,
      "outputs": []
    },
    {
      "cell_type": "markdown",
      "metadata": {
        "id": "VqoCR-ieSGDg",
        "colab_type": "text"
      },
      "source": [
        "##Exercise 4: \n",
        "\n",
        "Consider the final (output) layers. Why are there 10 of them? What would happen if you had a different amount than 10? For example, try training the network with 5\n",
        "\n",
        "You get an error as soon as it finds an unexpected value. Another rule of thumb -- the number of neurons in the last layer should match the number of classes you are classifying for. In this case it's the digits 0-9, so there are 10 of them, hence you should have 10 neurons in your final layer."
      ]
    },
    {
      "cell_type": "code",
      "metadata": {
        "id": "MMckVntcSPvo",
        "colab_type": "code",
        "outputId": "b691550d-12cc-49d2-b00d-f5abe05bb88c",
        "colab": {
          "base_uri": "https://localhost:8080/",
          "height": 438
        }
      },
      "source": [
        "import tensorflow as tf\n",
        "print(tf.__version__)\n",
        "\n",
        "mnist = tf.keras.datasets.mnist\n",
        "\n",
        "(training_images, training_labels) ,  (test_images, test_labels) = mnist.load_data()\n",
        "\n",
        "training_images = training_images/255.0\n",
        "test_images = test_images/255.0\n",
        "\n",
        "model = tf.keras.models.Sequential([tf.keras.layers.Flatten(),\n",
        "                                    tf.keras.layers.Dense(64, activation=tf.nn.relu),\n",
        "                                    tf.keras.layers.Dense(5, activation=tf.nn.softmax)])\n",
        "\n",
        "model.compile(optimizer = 'adam',\n",
        "              loss = 'sparse_categorical_crossentropy')\n",
        "\n",
        "model.fit(training_images, training_labels, epochs=5)\n",
        "\n",
        "model.evaluate(test_images, test_labels)\n",
        "\n",
        "classifications = model.predict(test_images)\n",
        "\n",
        "print(classifications[0])\n",
        "print(test_labels[0])"
      ],
      "execution_count": 0,
      "outputs": [
        {
          "output_type": "stream",
          "text": [
            "1.15.0\n",
            "Train on 60000 samples\n",
            "Epoch 1/5\n"
          ],
          "name": "stdout"
        },
        {
          "output_type": "error",
          "ename": "InvalidArgumentError",
          "evalue": "ignored",
          "traceback": [
            "\u001b[0;31m---------------------------------------------------------------------------\u001b[0m",
            "\u001b[0;31mInvalidArgumentError\u001b[0m                      Traceback (most recent call last)",
            "\u001b[0;32m<ipython-input-16-04e5ea87fa1d>\u001b[0m in \u001b[0;36m<module>\u001b[0;34m()\u001b[0m\n\u001b[1;32m     16\u001b[0m               loss = 'sparse_categorical_crossentropy')\n\u001b[1;32m     17\u001b[0m \u001b[0;34m\u001b[0m\u001b[0m\n\u001b[0;32m---> 18\u001b[0;31m \u001b[0mmodel\u001b[0m\u001b[0;34m.\u001b[0m\u001b[0mfit\u001b[0m\u001b[0;34m(\u001b[0m\u001b[0mtraining_images\u001b[0m\u001b[0;34m,\u001b[0m \u001b[0mtraining_labels\u001b[0m\u001b[0;34m,\u001b[0m \u001b[0mepochs\u001b[0m\u001b[0;34m=\u001b[0m\u001b[0;36m5\u001b[0m\u001b[0;34m)\u001b[0m\u001b[0;34m\u001b[0m\u001b[0;34m\u001b[0m\u001b[0m\n\u001b[0m\u001b[1;32m     19\u001b[0m \u001b[0;34m\u001b[0m\u001b[0m\n\u001b[1;32m     20\u001b[0m \u001b[0mmodel\u001b[0m\u001b[0;34m.\u001b[0m\u001b[0mevaluate\u001b[0m\u001b[0;34m(\u001b[0m\u001b[0mtest_images\u001b[0m\u001b[0;34m,\u001b[0m \u001b[0mtest_labels\u001b[0m\u001b[0;34m)\u001b[0m\u001b[0;34m\u001b[0m\u001b[0;34m\u001b[0m\u001b[0m\n",
            "\u001b[0;32m/usr/local/lib/python3.6/dist-packages/tensorflow_core/python/keras/engine/training.py\u001b[0m in \u001b[0;36mfit\u001b[0;34m(self, x, y, batch_size, epochs, verbose, callbacks, validation_split, validation_data, shuffle, class_weight, sample_weight, initial_epoch, steps_per_epoch, validation_steps, validation_freq, max_queue_size, workers, use_multiprocessing, **kwargs)\u001b[0m\n\u001b[1;32m    725\u001b[0m         \u001b[0mmax_queue_size\u001b[0m\u001b[0;34m=\u001b[0m\u001b[0mmax_queue_size\u001b[0m\u001b[0;34m,\u001b[0m\u001b[0;34m\u001b[0m\u001b[0;34m\u001b[0m\u001b[0m\n\u001b[1;32m    726\u001b[0m         \u001b[0mworkers\u001b[0m\u001b[0;34m=\u001b[0m\u001b[0mworkers\u001b[0m\u001b[0;34m,\u001b[0m\u001b[0;34m\u001b[0m\u001b[0;34m\u001b[0m\u001b[0m\n\u001b[0;32m--> 727\u001b[0;31m         use_multiprocessing=use_multiprocessing)\n\u001b[0m\u001b[1;32m    728\u001b[0m \u001b[0;34m\u001b[0m\u001b[0m\n\u001b[1;32m    729\u001b[0m   def evaluate(self,\n",
            "\u001b[0;32m/usr/local/lib/python3.6/dist-packages/tensorflow_core/python/keras/engine/training_arrays.py\u001b[0m in \u001b[0;36mfit\u001b[0;34m(self, model, x, y, batch_size, epochs, verbose, callbacks, validation_split, validation_data, shuffle, class_weight, sample_weight, initial_epoch, steps_per_epoch, validation_steps, validation_freq, **kwargs)\u001b[0m\n\u001b[1;32m    673\u001b[0m         \u001b[0mvalidation_steps\u001b[0m\u001b[0;34m=\u001b[0m\u001b[0mvalidation_steps\u001b[0m\u001b[0;34m,\u001b[0m\u001b[0;34m\u001b[0m\u001b[0;34m\u001b[0m\u001b[0m\n\u001b[1;32m    674\u001b[0m         \u001b[0mvalidation_freq\u001b[0m\u001b[0;34m=\u001b[0m\u001b[0mvalidation_freq\u001b[0m\u001b[0;34m,\u001b[0m\u001b[0;34m\u001b[0m\u001b[0;34m\u001b[0m\u001b[0m\n\u001b[0;32m--> 675\u001b[0;31m         steps_name='steps_per_epoch')\n\u001b[0m\u001b[1;32m    676\u001b[0m \u001b[0;34m\u001b[0m\u001b[0m\n\u001b[1;32m    677\u001b[0m   def evaluate(self,\n",
            "\u001b[0;32m/usr/local/lib/python3.6/dist-packages/tensorflow_core/python/keras/engine/training_arrays.py\u001b[0m in \u001b[0;36mmodel_iteration\u001b[0;34m(model, inputs, targets, sample_weights, batch_size, epochs, verbose, callbacks, val_inputs, val_targets, val_sample_weights, shuffle, initial_epoch, steps_per_epoch, validation_steps, validation_freq, mode, validation_in_fit, prepared_feed_values_from_dataset, steps_name, **kwargs)\u001b[0m\n\u001b[1;32m    392\u001b[0m \u001b[0;34m\u001b[0m\u001b[0m\n\u001b[1;32m    393\u001b[0m         \u001b[0;31m# Get outputs.\u001b[0m\u001b[0;34m\u001b[0m\u001b[0;34m\u001b[0m\u001b[0;34m\u001b[0m\u001b[0m\n\u001b[0;32m--> 394\u001b[0;31m         \u001b[0mbatch_outs\u001b[0m \u001b[0;34m=\u001b[0m \u001b[0mf\u001b[0m\u001b[0;34m(\u001b[0m\u001b[0mins_batch\u001b[0m\u001b[0;34m)\u001b[0m\u001b[0;34m\u001b[0m\u001b[0;34m\u001b[0m\u001b[0m\n\u001b[0m\u001b[1;32m    395\u001b[0m         \u001b[0;32mif\u001b[0m \u001b[0;32mnot\u001b[0m \u001b[0misinstance\u001b[0m\u001b[0;34m(\u001b[0m\u001b[0mbatch_outs\u001b[0m\u001b[0;34m,\u001b[0m \u001b[0mlist\u001b[0m\u001b[0;34m)\u001b[0m\u001b[0;34m:\u001b[0m\u001b[0;34m\u001b[0m\u001b[0;34m\u001b[0m\u001b[0m\n\u001b[1;32m    396\u001b[0m           \u001b[0mbatch_outs\u001b[0m \u001b[0;34m=\u001b[0m \u001b[0;34m[\u001b[0m\u001b[0mbatch_outs\u001b[0m\u001b[0;34m]\u001b[0m\u001b[0;34m\u001b[0m\u001b[0;34m\u001b[0m\u001b[0m\n",
            "\u001b[0;32m/usr/local/lib/python3.6/dist-packages/tensorflow_core/python/keras/backend.py\u001b[0m in \u001b[0;36m__call__\u001b[0;34m(self, inputs)\u001b[0m\n\u001b[1;32m   3474\u001b[0m \u001b[0;34m\u001b[0m\u001b[0m\n\u001b[1;32m   3475\u001b[0m     fetched = self._callable_fn(*array_vals,\n\u001b[0;32m-> 3476\u001b[0;31m                                 run_metadata=self.run_metadata)\n\u001b[0m\u001b[1;32m   3477\u001b[0m     \u001b[0mself\u001b[0m\u001b[0;34m.\u001b[0m\u001b[0m_call_fetch_callbacks\u001b[0m\u001b[0;34m(\u001b[0m\u001b[0mfetched\u001b[0m\u001b[0;34m[\u001b[0m\u001b[0;34m-\u001b[0m\u001b[0mlen\u001b[0m\u001b[0;34m(\u001b[0m\u001b[0mself\u001b[0m\u001b[0;34m.\u001b[0m\u001b[0m_fetches\u001b[0m\u001b[0;34m)\u001b[0m\u001b[0;34m:\u001b[0m\u001b[0;34m]\u001b[0m\u001b[0;34m)\u001b[0m\u001b[0;34m\u001b[0m\u001b[0;34m\u001b[0m\u001b[0m\n\u001b[1;32m   3478\u001b[0m     output_structure = nest.pack_sequence_as(\n",
            "\u001b[0;32m/usr/local/lib/python3.6/dist-packages/tensorflow_core/python/client/session.py\u001b[0m in \u001b[0;36m__call__\u001b[0;34m(self, *args, **kwargs)\u001b[0m\n\u001b[1;32m   1470\u001b[0m         ret = tf_session.TF_SessionRunCallable(self._session._session,\n\u001b[1;32m   1471\u001b[0m                                                \u001b[0mself\u001b[0m\u001b[0;34m.\u001b[0m\u001b[0m_handle\u001b[0m\u001b[0;34m,\u001b[0m \u001b[0margs\u001b[0m\u001b[0;34m,\u001b[0m\u001b[0;34m\u001b[0m\u001b[0;34m\u001b[0m\u001b[0m\n\u001b[0;32m-> 1472\u001b[0;31m                                                run_metadata_ptr)\n\u001b[0m\u001b[1;32m   1473\u001b[0m         \u001b[0;32mif\u001b[0m \u001b[0mrun_metadata\u001b[0m\u001b[0;34m:\u001b[0m\u001b[0;34m\u001b[0m\u001b[0;34m\u001b[0m\u001b[0m\n\u001b[1;32m   1474\u001b[0m           \u001b[0mproto_data\u001b[0m \u001b[0;34m=\u001b[0m \u001b[0mtf_session\u001b[0m\u001b[0;34m.\u001b[0m\u001b[0mTF_GetBuffer\u001b[0m\u001b[0;34m(\u001b[0m\u001b[0mrun_metadata_ptr\u001b[0m\u001b[0;34m)\u001b[0m\u001b[0;34m\u001b[0m\u001b[0;34m\u001b[0m\u001b[0m\n",
            "\u001b[0;31mInvalidArgumentError\u001b[0m: Received a label value of 9 which is outside the valid range of [0, 5).  Label values: 3 1 5 7 3 5 6 9 0 0 8 0 1 2 2 4 5 9 1 1 5 7 2 1 8 8 0 0 7 7 1 7\n\t [[{{node loss_3/output_1_loss/SparseSoftmaxCrossEntropyWithLogits/SparseSoftmaxCrossEntropyWithLogits}}]]"
          ]
        }
      ]
    },
    {
      "cell_type": "markdown",
      "metadata": {
        "id": "-0lF5MuvSuZF",
        "colab_type": "text"
      },
      "source": [
        "##Exercise 5: \n",
        "\n",
        "Consider the effects of additional layers in the network. What will happen if you add another layer between the one with 512 and the final layer with 10. \n",
        "\n",
        "Ans: There isn't a significant impact -- because this is relatively simple data. For far more complex data (including color images to be classified as flowers that you'll see in the next lesson), extra layers are often necessary. "
      ]
    },
    {
      "cell_type": "code",
      "metadata": {
        "id": "b1YPa6UhS8Es",
        "colab_type": "code",
        "outputId": "b25a2b1e-0154-4b28-a6ec-0ef839fd6c89",
        "colab": {
          "base_uri": "https://localhost:8080/",
          "height": 286
        }
      },
      "source": [
        "import tensorflow as tf\n",
        "print(tf.__version__)\n",
        "\n",
        "mnist = tf.keras.datasets.mnist\n",
        "\n",
        "(training_images, training_labels) ,  (test_images, test_labels) = mnist.load_data()\n",
        "\n",
        "training_images = training_images/255.0\n",
        "test_images = test_images/255.0\n",
        "\n",
        "model = tf.keras.models.Sequential([tf.keras.layers.Flatten(),\n",
        "                                    tf.keras.layers.Dense(512, activation=tf.nn.relu),\n",
        "                                    tf.keras.layers.Dense(256, activation=tf.nn.relu),\n",
        "                                    tf.keras.layers.Dense(10, activation=tf.nn.softmax)])\n",
        "\n",
        "model.compile(optimizer = 'adam',\n",
        "              loss = 'sparse_categorical_crossentropy')\n",
        "\n",
        "model.fit(training_images, training_labels, epochs=5)\n",
        "\n",
        "model.evaluate(test_images, test_labels)\n",
        "\n",
        "classifications = model.predict(test_images)\n",
        "\n",
        "print(classifications[0])\n",
        "print(test_labels[0])"
      ],
      "execution_count": 0,
      "outputs": [
        {
          "output_type": "stream",
          "text": [
            "1.15.0\n",
            "Train on 60000 samples\n",
            "Epoch 1/5\n",
            "60000/60000 [==============================] - 13s 214us/sample - loss: 0.1845\n",
            "Epoch 2/5\n",
            "60000/60000 [==============================] - 12s 202us/sample - loss: 0.0791\n",
            "Epoch 3/5\n",
            "60000/60000 [==============================] - 12s 201us/sample - loss: 0.0556\n",
            "Epoch 4/5\n",
            "60000/60000 [==============================] - 12s 200us/sample - loss: 0.0402\n",
            "Epoch 5/5\n",
            "60000/60000 [==============================] - 12s 207us/sample - loss: 0.0313\n",
            "10000/10000 [==============================] - 1s 79us/sample - loss: 0.0725\n",
            "[4.0289838e-10 9.6347765e-07 3.5106755e-08 8.9255101e-09 7.6371025e-09\n",
            " 8.4732520e-11 4.7248802e-11 9.9999893e-01 3.3690739e-09 1.6395850e-07]\n",
            "7\n"
          ],
          "name": "stdout"
        }
      ]
    },
    {
      "cell_type": "code",
      "metadata": {
        "id": "sE7PDe6LWAHb",
        "colab_type": "code",
        "colab": {}
      },
      "source": [
        ""
      ],
      "execution_count": 0,
      "outputs": []
    },
    {
      "cell_type": "markdown",
      "metadata": {
        "id": "Bql9fyaNUSFy",
        "colab_type": "text"
      },
      "source": [
        "#Exercise 6: \n",
        "\n",
        "Consider the impact of training for more or less epochs. Why do you think that would be the case? \n",
        "\n",
        "Try 15 epochs -- you'll probably get a model with a much better loss than the one with 5\n",
        "Try 30 epochs -- you might see the loss value stops decreasing, and sometimes increases. This is a side effect of something called 'overfitting' which you can learn about [somewhere] and it's something you need to keep an eye out for when training neural networks. There's no point in wasting your time training if you aren't improving your loss, right! :)"
      ]
    },
    {
      "cell_type": "code",
      "metadata": {
        "id": "uE3esj9BURQe",
        "colab_type": "code",
        "colab": {}
      },
      "source": [
        "import tensorflow as tf\n",
        "print(tf.__version__)\n",
        "\n",
        "mnist = tf.keras.datasets.mnist\n",
        "\n",
        "(training_images, training_labels) ,  (test_images, test_labels) = mnist.load_data()\n",
        "\n",
        "training_images = training_images/255.0\n",
        "test_images = test_images/255.0\n",
        "\n",
        "model = tf.keras.models.Sequential([tf.keras.layers.Flatten(),\n",
        "                                    tf.keras.layers.Dense(128, activation=tf.nn.relu),\n",
        "                                    tf.keras.layers.Dense(10, activation=tf.nn.softmax)])\n",
        "\n",
        "model.compile(optimizer = 'adam',\n",
        "              loss = 'sparse_categorical_crossentropy')\n",
        "\n",
        "model.fit(training_images, training_labels, epochs=30)\n",
        "\n",
        "model.evaluate(test_images, test_labels)\n",
        "\n",
        "classifications = model.predict(test_images)\n",
        "\n",
        "print(classifications[34])\n",
        "print(test_labels[34])"
      ],
      "execution_count": 0,
      "outputs": []
    },
    {
      "cell_type": "markdown",
      "metadata": {
        "id": "HS3vVkOgCDGZ",
        "colab_type": "text"
      },
      "source": [
        "#Exercise 7: \n",
        "\n",
        "Before you trained, you normalized the data, going from values that were 0-255 to values that were 0-1. What would be the impact of removing that? Here's the complete code to give it a try. Why do you think you get different results? "
      ]
    },
    {
      "cell_type": "code",
      "metadata": {
        "id": "JDqNAqrpCNg0",
        "colab_type": "code",
        "outputId": "3e191e7b-8b58-4285-c479-1e3d201727f9",
        "colab": {
          "base_uri": "https://localhost:8080/",
          "height": 387
        }
      },
      "source": [
        "import tensorflow as tf\n",
        "print(tf.__version__)\n",
        "mnist = tf.keras.datasets.mnist\n",
        "(training_images, training_labels), (test_images, test_labels) = mnist.load_data()\n",
        "training_images=training_images\n",
        "test_images=test_images\n",
        "model = tf.keras.models.Sequential([\n",
        "  tf.keras.layers.Flatten(),\n",
        "  tf.keras.layers.Dense(512, activation=tf.nn.relu),\n",
        "  tf.keras.layers.Dense(10, activation=tf.nn.softmax)\n",
        "])\n",
        "model.compile(optimizer='adam', loss='sparse_categorical_crossentropy')\n",
        "model.fit(training_images, training_labels, epochs=5)\n",
        "model.evaluate(test_images, test_labels)\n",
        "classifications = model.predict(test_images)\n",
        "print(classifications[0])\n",
        "print(test_labels[0])"
      ],
      "execution_count": 0,
      "outputs": [
        {
          "output_type": "stream",
          "text": [
            "1.15.0\n"
          ],
          "name": "stdout"
        },
        {
          "output_type": "error",
          "ename": "TypeError",
          "evalue": "ignored",
          "traceback": [
            "\u001b[0;31m---------------------------------------------------------------------------\u001b[0m",
            "\u001b[0;31mTypeError\u001b[0m                                 Traceback (most recent call last)",
            "\u001b[0;32m<ipython-input-18-79832ad8cc4f>\u001b[0m in \u001b[0;36m<module>\u001b[0;34m()\u001b[0m\n\u001b[1;32m     11\u001b[0m ])\n\u001b[1;32m     12\u001b[0m \u001b[0mmodel\u001b[0m\u001b[0;34m.\u001b[0m\u001b[0mcompile\u001b[0m\u001b[0;34m(\u001b[0m\u001b[0moptimizer\u001b[0m\u001b[0;34m=\u001b[0m\u001b[0;34m'adam'\u001b[0m\u001b[0;34m,\u001b[0m \u001b[0mloss\u001b[0m\u001b[0;34m=\u001b[0m\u001b[0;34m'sparse_categorical_crossentropy'\u001b[0m\u001b[0;34m)\u001b[0m\u001b[0;34m\u001b[0m\u001b[0;34m\u001b[0m\u001b[0m\n\u001b[0;32m---> 13\u001b[0;31m \u001b[0mmodel\u001b[0m\u001b[0;34m.\u001b[0m\u001b[0mfit\u001b[0m\u001b[0;34m(\u001b[0m\u001b[0mtraining_images\u001b[0m\u001b[0;34m,\u001b[0m \u001b[0mtraining_labels\u001b[0m\u001b[0;34m,\u001b[0m \u001b[0mepochs\u001b[0m\u001b[0;34m=\u001b[0m\u001b[0;36m5\u001b[0m\u001b[0;34m)\u001b[0m\u001b[0;34m\u001b[0m\u001b[0;34m\u001b[0m\u001b[0m\n\u001b[0m\u001b[1;32m     14\u001b[0m \u001b[0mmodel\u001b[0m\u001b[0;34m.\u001b[0m\u001b[0mevaluate\u001b[0m\u001b[0;34m(\u001b[0m\u001b[0mtest_images\u001b[0m\u001b[0;34m,\u001b[0m \u001b[0mtest_labels\u001b[0m\u001b[0;34m)\u001b[0m\u001b[0;34m\u001b[0m\u001b[0;34m\u001b[0m\u001b[0m\n\u001b[1;32m     15\u001b[0m \u001b[0mclassifications\u001b[0m \u001b[0;34m=\u001b[0m \u001b[0mmodel\u001b[0m\u001b[0;34m.\u001b[0m\u001b[0mpredict\u001b[0m\u001b[0;34m(\u001b[0m\u001b[0mtest_images\u001b[0m\u001b[0;34m)\u001b[0m\u001b[0;34m\u001b[0m\u001b[0;34m\u001b[0m\u001b[0m\n",
            "\u001b[0;32m/usr/local/lib/python3.6/dist-packages/tensorflow_core/python/keras/engine/training.py\u001b[0m in \u001b[0;36mfit\u001b[0;34m(self, x, y, batch_size, epochs, verbose, callbacks, validation_split, validation_data, shuffle, class_weight, sample_weight, initial_epoch, steps_per_epoch, validation_steps, validation_freq, max_queue_size, workers, use_multiprocessing, **kwargs)\u001b[0m\n\u001b[1;32m    725\u001b[0m         \u001b[0mmax_queue_size\u001b[0m\u001b[0;34m=\u001b[0m\u001b[0mmax_queue_size\u001b[0m\u001b[0;34m,\u001b[0m\u001b[0;34m\u001b[0m\u001b[0;34m\u001b[0m\u001b[0m\n\u001b[1;32m    726\u001b[0m         \u001b[0mworkers\u001b[0m\u001b[0;34m=\u001b[0m\u001b[0mworkers\u001b[0m\u001b[0;34m,\u001b[0m\u001b[0;34m\u001b[0m\u001b[0;34m\u001b[0m\u001b[0m\n\u001b[0;32m--> 727\u001b[0;31m         use_multiprocessing=use_multiprocessing)\n\u001b[0m\u001b[1;32m    728\u001b[0m \u001b[0;34m\u001b[0m\u001b[0m\n\u001b[1;32m    729\u001b[0m   def evaluate(self,\n",
            "\u001b[0;32m/usr/local/lib/python3.6/dist-packages/tensorflow_core/python/keras/engine/training_arrays.py\u001b[0m in \u001b[0;36mfit\u001b[0;34m(self, model, x, y, batch_size, epochs, verbose, callbacks, validation_split, validation_data, shuffle, class_weight, sample_weight, initial_epoch, steps_per_epoch, validation_steps, validation_freq, **kwargs)\u001b[0m\n\u001b[1;32m    641\u001b[0m         \u001b[0msteps\u001b[0m\u001b[0;34m=\u001b[0m\u001b[0msteps_per_epoch\u001b[0m\u001b[0;34m,\u001b[0m\u001b[0;34m\u001b[0m\u001b[0;34m\u001b[0m\u001b[0m\n\u001b[1;32m    642\u001b[0m         \u001b[0mvalidation_split\u001b[0m\u001b[0;34m=\u001b[0m\u001b[0mvalidation_split\u001b[0m\u001b[0;34m,\u001b[0m\u001b[0;34m\u001b[0m\u001b[0;34m\u001b[0m\u001b[0m\n\u001b[0;32m--> 643\u001b[0;31m         shuffle=shuffle)\n\u001b[0m\u001b[1;32m    644\u001b[0m \u001b[0;34m\u001b[0m\u001b[0m\n\u001b[1;32m    645\u001b[0m     \u001b[0;32mif\u001b[0m \u001b[0mvalidation_data\u001b[0m\u001b[0;34m:\u001b[0m\u001b[0;34m\u001b[0m\u001b[0;34m\u001b[0m\u001b[0m\n",
            "\u001b[0;32m/usr/local/lib/python3.6/dist-packages/tensorflow_core/python/keras/engine/training.py\u001b[0m in \u001b[0;36m_standardize_user_data\u001b[0;34m(self, x, y, sample_weight, class_weight, batch_size, check_steps, steps_name, steps, validation_split, shuffle, extract_tensors_from_dataset)\u001b[0m\n\u001b[1;32m   2416\u001b[0m     \u001b[0;31m# First, we build the model on the fly if necessary.\u001b[0m\u001b[0;34m\u001b[0m\u001b[0;34m\u001b[0m\u001b[0;34m\u001b[0m\u001b[0m\n\u001b[1;32m   2417\u001b[0m     \u001b[0;32mif\u001b[0m \u001b[0;32mnot\u001b[0m \u001b[0mself\u001b[0m\u001b[0;34m.\u001b[0m\u001b[0minputs\u001b[0m\u001b[0;34m:\u001b[0m\u001b[0;34m\u001b[0m\u001b[0;34m\u001b[0m\u001b[0m\n\u001b[0;32m-> 2418\u001b[0;31m       \u001b[0mall_inputs\u001b[0m\u001b[0;34m,\u001b[0m \u001b[0my_input\u001b[0m\u001b[0;34m,\u001b[0m \u001b[0mdict_inputs\u001b[0m \u001b[0;34m=\u001b[0m \u001b[0mself\u001b[0m\u001b[0;34m.\u001b[0m\u001b[0m_build_model_with_inputs\u001b[0m\u001b[0;34m(\u001b[0m\u001b[0mx\u001b[0m\u001b[0;34m,\u001b[0m \u001b[0my\u001b[0m\u001b[0;34m)\u001b[0m\u001b[0;34m\u001b[0m\u001b[0;34m\u001b[0m\u001b[0m\n\u001b[0m\u001b[1;32m   2419\u001b[0m       \u001b[0mis_build_called\u001b[0m \u001b[0;34m=\u001b[0m \u001b[0;32mTrue\u001b[0m\u001b[0;34m\u001b[0m\u001b[0;34m\u001b[0m\u001b[0m\n\u001b[1;32m   2420\u001b[0m     \u001b[0;32melse\u001b[0m\u001b[0;34m:\u001b[0m\u001b[0;34m\u001b[0m\u001b[0;34m\u001b[0m\u001b[0m\n",
            "\u001b[0;32m/usr/local/lib/python3.6/dist-packages/tensorflow_core/python/keras/engine/training.py\u001b[0m in \u001b[0;36m_build_model_with_inputs\u001b[0;34m(self, inputs, targets)\u001b[0m\n\u001b[1;32m   2619\u001b[0m     \u001b[0;32melse\u001b[0m\u001b[0;34m:\u001b[0m\u001b[0;34m\u001b[0m\u001b[0;34m\u001b[0m\u001b[0m\n\u001b[1;32m   2620\u001b[0m       \u001b[0mcast_inputs\u001b[0m \u001b[0;34m=\u001b[0m \u001b[0minputs\u001b[0m\u001b[0;34m\u001b[0m\u001b[0;34m\u001b[0m\u001b[0m\n\u001b[0;32m-> 2621\u001b[0;31m     \u001b[0mself\u001b[0m\u001b[0;34m.\u001b[0m\u001b[0m_set_inputs\u001b[0m\u001b[0;34m(\u001b[0m\u001b[0mcast_inputs\u001b[0m\u001b[0;34m)\u001b[0m\u001b[0;34m\u001b[0m\u001b[0;34m\u001b[0m\u001b[0m\n\u001b[0m\u001b[1;32m   2622\u001b[0m     \u001b[0;32mreturn\u001b[0m \u001b[0mprocessed_inputs\u001b[0m\u001b[0;34m,\u001b[0m \u001b[0mtargets\u001b[0m\u001b[0;34m,\u001b[0m \u001b[0mis_dict_inputs\u001b[0m\u001b[0;34m\u001b[0m\u001b[0;34m\u001b[0m\u001b[0m\n\u001b[1;32m   2623\u001b[0m \u001b[0;34m\u001b[0m\u001b[0m\n",
            "\u001b[0;32m/usr/local/lib/python3.6/dist-packages/tensorflow_core/python/keras/engine/training.py\u001b[0m in \u001b[0;36m_set_inputs\u001b[0;34m(self, inputs, outputs, training)\u001b[0m\n\u001b[1;32m   2706\u001b[0m           \u001b[0mkwargs\u001b[0m\u001b[0;34m[\u001b[0m\u001b[0;34m'training'\u001b[0m\u001b[0;34m]\u001b[0m \u001b[0;34m=\u001b[0m \u001b[0mtraining\u001b[0m\u001b[0;34m\u001b[0m\u001b[0;34m\u001b[0m\u001b[0m\n\u001b[1;32m   2707\u001b[0m       \u001b[0;32mtry\u001b[0m\u001b[0;34m:\u001b[0m\u001b[0;34m\u001b[0m\u001b[0;34m\u001b[0m\u001b[0m\n\u001b[0;32m-> 2708\u001b[0;31m         \u001b[0moutputs\u001b[0m \u001b[0;34m=\u001b[0m \u001b[0mself\u001b[0m\u001b[0;34m(\u001b[0m\u001b[0minputs\u001b[0m\u001b[0;34m,\u001b[0m \u001b[0;34m**\u001b[0m\u001b[0mkwargs\u001b[0m\u001b[0;34m)\u001b[0m\u001b[0;34m\u001b[0m\u001b[0;34m\u001b[0m\u001b[0m\n\u001b[0m\u001b[1;32m   2709\u001b[0m       \u001b[0;32mexcept\u001b[0m \u001b[0mNotImplementedError\u001b[0m\u001b[0;34m:\u001b[0m\u001b[0;34m\u001b[0m\u001b[0;34m\u001b[0m\u001b[0m\n\u001b[1;32m   2710\u001b[0m         \u001b[0;31m# This Model or a submodel is dynamic and hasn't overridden\u001b[0m\u001b[0;34m\u001b[0m\u001b[0;34m\u001b[0m\u001b[0;34m\u001b[0m\u001b[0m\n",
            "\u001b[0;32m/usr/local/lib/python3.6/dist-packages/tensorflow_core/python/keras/engine/base_layer.py\u001b[0m in \u001b[0;36m__call__\u001b[0;34m(self, inputs, *args, **kwargs)\u001b[0m\n\u001b[1;32m    852\u001b[0m                     \u001b[0moutputs\u001b[0m \u001b[0;34m=\u001b[0m \u001b[0mbase_layer_utils\u001b[0m\u001b[0;34m.\u001b[0m\u001b[0mmark_as_return\u001b[0m\u001b[0;34m(\u001b[0m\u001b[0moutputs\u001b[0m\u001b[0;34m,\u001b[0m \u001b[0macd\u001b[0m\u001b[0;34m)\u001b[0m\u001b[0;34m\u001b[0m\u001b[0;34m\u001b[0m\u001b[0m\n\u001b[1;32m    853\u001b[0m                 \u001b[0;32melse\u001b[0m\u001b[0;34m:\u001b[0m\u001b[0;34m\u001b[0m\u001b[0;34m\u001b[0m\u001b[0m\n\u001b[0;32m--> 854\u001b[0;31m                   \u001b[0moutputs\u001b[0m \u001b[0;34m=\u001b[0m \u001b[0mcall_fn\u001b[0m\u001b[0;34m(\u001b[0m\u001b[0mcast_inputs\u001b[0m\u001b[0;34m,\u001b[0m \u001b[0;34m*\u001b[0m\u001b[0margs\u001b[0m\u001b[0;34m,\u001b[0m \u001b[0;34m**\u001b[0m\u001b[0mkwargs\u001b[0m\u001b[0;34m)\u001b[0m\u001b[0;34m\u001b[0m\u001b[0;34m\u001b[0m\u001b[0m\n\u001b[0m\u001b[1;32m    855\u001b[0m \u001b[0;34m\u001b[0m\u001b[0m\n\u001b[1;32m    856\u001b[0m             \u001b[0;32mexcept\u001b[0m \u001b[0merrors\u001b[0m\u001b[0;34m.\u001b[0m\u001b[0mOperatorNotAllowedInGraphError\u001b[0m \u001b[0;32mas\u001b[0m \u001b[0me\u001b[0m\u001b[0;34m:\u001b[0m\u001b[0;34m\u001b[0m\u001b[0;34m\u001b[0m\u001b[0m\n",
            "\u001b[0;32m/usr/local/lib/python3.6/dist-packages/tensorflow_core/python/keras/engine/sequential.py\u001b[0m in \u001b[0;36mcall\u001b[0;34m(self, inputs, training, mask)\u001b[0m\n\u001b[1;32m    267\u001b[0m         \u001b[0mkwargs\u001b[0m\u001b[0;34m[\u001b[0m\u001b[0;34m'training'\u001b[0m\u001b[0;34m]\u001b[0m \u001b[0;34m=\u001b[0m \u001b[0mtraining\u001b[0m\u001b[0;34m\u001b[0m\u001b[0;34m\u001b[0m\u001b[0m\n\u001b[1;32m    268\u001b[0m \u001b[0;34m\u001b[0m\u001b[0m\n\u001b[0;32m--> 269\u001b[0;31m       \u001b[0moutputs\u001b[0m \u001b[0;34m=\u001b[0m \u001b[0mlayer\u001b[0m\u001b[0;34m(\u001b[0m\u001b[0minputs\u001b[0m\u001b[0;34m,\u001b[0m \u001b[0;34m**\u001b[0m\u001b[0mkwargs\u001b[0m\u001b[0;34m)\u001b[0m\u001b[0;34m\u001b[0m\u001b[0;34m\u001b[0m\u001b[0m\n\u001b[0m\u001b[1;32m    270\u001b[0m \u001b[0;34m\u001b[0m\u001b[0m\n\u001b[1;32m    271\u001b[0m       \u001b[0;31m# `outputs` will be the inputs to the next layer.\u001b[0m\u001b[0;34m\u001b[0m\u001b[0;34m\u001b[0m\u001b[0;34m\u001b[0m\u001b[0m\n",
            "\u001b[0;32m/usr/local/lib/python3.6/dist-packages/tensorflow_core/python/keras/engine/base_layer.py\u001b[0m in \u001b[0;36m__call__\u001b[0;34m(self, inputs, *args, **kwargs)\u001b[0m\n\u001b[1;32m    822\u001b[0m           \u001b[0;31m# Build layer if applicable (if the `build` method has been\u001b[0m\u001b[0;34m\u001b[0m\u001b[0;34m\u001b[0m\u001b[0;34m\u001b[0m\u001b[0m\n\u001b[1;32m    823\u001b[0m           \u001b[0;31m# overridden).\u001b[0m\u001b[0;34m\u001b[0m\u001b[0;34m\u001b[0m\u001b[0;34m\u001b[0m\u001b[0m\n\u001b[0;32m--> 824\u001b[0;31m           \u001b[0mself\u001b[0m\u001b[0;34m.\u001b[0m\u001b[0m_maybe_build\u001b[0m\u001b[0;34m(\u001b[0m\u001b[0minputs\u001b[0m\u001b[0;34m)\u001b[0m\u001b[0;34m\u001b[0m\u001b[0;34m\u001b[0m\u001b[0m\n\u001b[0m\u001b[1;32m    825\u001b[0m           \u001b[0mcast_inputs\u001b[0m \u001b[0;34m=\u001b[0m \u001b[0mself\u001b[0m\u001b[0;34m.\u001b[0m\u001b[0m_maybe_cast_inputs\u001b[0m\u001b[0;34m(\u001b[0m\u001b[0minputs\u001b[0m\u001b[0;34m)\u001b[0m\u001b[0;34m\u001b[0m\u001b[0;34m\u001b[0m\u001b[0m\n\u001b[1;32m    826\u001b[0m \u001b[0;34m\u001b[0m\u001b[0m\n",
            "\u001b[0;32m/usr/local/lib/python3.6/dist-packages/tensorflow_core/python/keras/engine/base_layer.py\u001b[0m in \u001b[0;36m_maybe_build\u001b[0;34m(self, inputs)\u001b[0m\n\u001b[1;32m   2144\u001b[0m         \u001b[0;31m# operations.\u001b[0m\u001b[0;34m\u001b[0m\u001b[0;34m\u001b[0m\u001b[0;34m\u001b[0m\u001b[0m\n\u001b[1;32m   2145\u001b[0m         \u001b[0;32mwith\u001b[0m \u001b[0mtf_utils\u001b[0m\u001b[0;34m.\u001b[0m\u001b[0mmaybe_init_scope\u001b[0m\u001b[0;34m(\u001b[0m\u001b[0mself\u001b[0m\u001b[0;34m)\u001b[0m\u001b[0;34m:\u001b[0m\u001b[0;34m\u001b[0m\u001b[0;34m\u001b[0m\u001b[0m\n\u001b[0;32m-> 2146\u001b[0;31m           \u001b[0mself\u001b[0m\u001b[0;34m.\u001b[0m\u001b[0mbuild\u001b[0m\u001b[0;34m(\u001b[0m\u001b[0minput_shapes\u001b[0m\u001b[0;34m)\u001b[0m\u001b[0;34m\u001b[0m\u001b[0;34m\u001b[0m\u001b[0m\n\u001b[0m\u001b[1;32m   2147\u001b[0m       \u001b[0;31m# We must set self.built since user defined build functions are not\u001b[0m\u001b[0;34m\u001b[0m\u001b[0;34m\u001b[0m\u001b[0;34m\u001b[0m\u001b[0m\n\u001b[1;32m   2148\u001b[0m       \u001b[0;31m# constrained to set self.built.\u001b[0m\u001b[0;34m\u001b[0m\u001b[0;34m\u001b[0m\u001b[0;34m\u001b[0m\u001b[0m\n",
            "\u001b[0;32m/usr/local/lib/python3.6/dist-packages/tensorflow_core/python/keras/layers/core.py\u001b[0m in \u001b[0;36mbuild\u001b[0;34m(self, input_shape)\u001b[0m\n\u001b[1;32m   1004\u001b[0m     \u001b[0;32mif\u001b[0m \u001b[0;32mnot\u001b[0m \u001b[0;34m(\u001b[0m\u001b[0mdtype\u001b[0m\u001b[0;34m.\u001b[0m\u001b[0mis_floating\u001b[0m \u001b[0;32mor\u001b[0m \u001b[0mdtype\u001b[0m\u001b[0;34m.\u001b[0m\u001b[0mis_complex\u001b[0m\u001b[0;34m)\u001b[0m\u001b[0;34m:\u001b[0m\u001b[0;34m\u001b[0m\u001b[0;34m\u001b[0m\u001b[0m\n\u001b[1;32m   1005\u001b[0m       raise TypeError('Unable to build `Dense` layer with non-floating point '\n\u001b[0;32m-> 1006\u001b[0;31m                       'dtype %s' % (dtype,))\n\u001b[0m\u001b[1;32m   1007\u001b[0m     \u001b[0minput_shape\u001b[0m \u001b[0;34m=\u001b[0m \u001b[0mtensor_shape\u001b[0m\u001b[0;34m.\u001b[0m\u001b[0mTensorShape\u001b[0m\u001b[0;34m(\u001b[0m\u001b[0minput_shape\u001b[0m\u001b[0;34m)\u001b[0m\u001b[0;34m\u001b[0m\u001b[0;34m\u001b[0m\u001b[0m\n\u001b[1;32m   1008\u001b[0m     \u001b[0;32mif\u001b[0m \u001b[0mtensor_shape\u001b[0m\u001b[0;34m.\u001b[0m\u001b[0mdimension_value\u001b[0m\u001b[0;34m(\u001b[0m\u001b[0minput_shape\u001b[0m\u001b[0;34m[\u001b[0m\u001b[0;34m-\u001b[0m\u001b[0;36m1\u001b[0m\u001b[0;34m]\u001b[0m\u001b[0;34m)\u001b[0m \u001b[0;32mis\u001b[0m \u001b[0;32mNone\u001b[0m\u001b[0;34m:\u001b[0m\u001b[0;34m\u001b[0m\u001b[0;34m\u001b[0m\u001b[0m\n",
            "\u001b[0;31mTypeError\u001b[0m: Unable to build `Dense` layer with non-floating point dtype <dtype: 'uint8'>"
          ]
        }
      ]
    },
    {
      "cell_type": "markdown",
      "metadata": {
        "id": "E7W2PT66ZBHQ",
        "colab_type": "text"
      },
      "source": [
        "#Exercise 8: \n",
        "\n",
        "Earlier when you trained for extra epochs you had an issue where your loss might change. It might have taken a bit of time for you to wait for the training to do that, and you might have thought 'wouldn't it be nice if I could stop the training when I reach a desired value?' -- i.e. 95% accuracy might be enough for you, and if you reach that after 3 epochs, why sit around waiting for it to finish a lot more epochs....So how would you fix that? Like any other program...you have callbacks! Let's see them in action..."
      ]
    },
    {
      "cell_type": "code",
      "metadata": {
        "id": "pkaEHHgqZbYv",
        "colab_type": "code",
        "outputId": "feb499d4-b958-41dd-c618-8d70d295800e",
        "colab": {
          "base_uri": "https://localhost:8080/",
          "height": 168
        }
      },
      "source": [
        "import tensorflow as tf\n",
        "print(tf.__version__)\n",
        "\n",
        "class myCallback(tf.keras.callbacks.Callback):\n",
        "  def on_epoch_end(self, epoch, logs={}):\n",
        "    if(logs.get('loss')<0.4):\n",
        "      print(\"\\nReached 60% accuracy so cancelling training!\")\n",
        "      self.model.stop_training = True\n",
        "\n",
        "callbacks = myCallback()\n",
        "mnist = tf.keras.datasets.fashion_mnist\n",
        "(training_images, training_labels), (test_images, test_labels) = mnist.load_data()\n",
        "training_images=training_images/255.0\n",
        "test_images=test_images/255.0\n",
        "model = tf.keras.models.Sequential([\n",
        "  tf.keras.layers.Flatten(),\n",
        "  tf.keras.layers.Dense(512, activation=tf.nn.relu),\n",
        "  tf.keras.layers.Dense(10, activation=tf.nn.softmax)\n",
        "])\n",
        "model.compile(optimizer='adam', loss='sparse_categorical_crossentropy')\n",
        "model.fit(training_images, training_labels, epochs=5, callbacks=[callbacks])\n",
        "\n",
        "\n"
      ],
      "execution_count": 0,
      "outputs": [
        {
          "output_type": "stream",
          "text": [
            "1.15.0\n",
            "Train on 60000 samples\n",
            "Epoch 1/5\n",
            "60000/60000 [==============================] - 8s 133us/sample - loss: 0.4754\n",
            "Epoch 2/5\n",
            "59712/60000 [============================>.] - ETA: 0s - loss: 0.3603\n",
            "Reached 60% accuracy so cancelling training!\n",
            "60000/60000 [==============================] - 8s 138us/sample - loss: 0.3600\n"
          ],
          "name": "stdout"
        },
        {
          "output_type": "execute_result",
          "data": {
            "text/plain": [
              "<tensorflow.python.keras.callbacks.History at 0x7f6d31966fd0>"
            ]
          },
          "metadata": {
            "tags": []
          },
          "execution_count": 19
        }
      ]
    }
  ]
}