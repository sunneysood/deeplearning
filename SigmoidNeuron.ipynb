{
  "nbformat": 4,
  "nbformat_minor": 0,
  "metadata": {
    "colab": {
      "name": "SigmoidNeuron.ipynb",
      "version": "0.3.2",
      "provenance": [],
      "collapsed_sections": [
        "ubdnE1ky-GMf"
      ],
      "include_colab_link": true
    },
    "kernelspec": {
      "name": "python3",
      "display_name": "Python 3"
    }
  },
  "cells": [
    {
      "cell_type": "markdown",
      "metadata": {
        "id": "view-in-github",
        "colab_type": "text"
      },
      "source": [
        "<a href=\"https://colab.research.google.com/github/sunneysood/deeplearning/blob/master/SigmoidNeuron.ipynb\" target=\"_parent\"><img src=\"https://colab.research.google.com/assets/colab-badge.svg\" alt=\"Open In Colab\"/></a>"
      ]
    },
    {
      "cell_type": "markdown",
      "metadata": {
        "id": "HrHt8NMTmVw1",
        "colab_type": "text"
      },
      "source": [
        "# Plotting Sigmoid Function"
      ]
    },
    {
      "cell_type": "code",
      "metadata": {
        "id": "AFCKwjQsmDW6",
        "colab_type": "code",
        "colab": {}
      },
      "source": [
        "import numpy as np\n",
        "from sklearn.metrics import mean_squared_error\n",
        "import matplotlib.pyplot as plt"
      ],
      "execution_count": 0,
      "outputs": []
    },
    {
      "cell_type": "code",
      "metadata": {
        "id": "nnVFJlxzmi0b",
        "colab_type": "code",
        "colab": {}
      },
      "source": [
        "def sigmoid(x,w,b):\n",
        "  return (1/(1+np.exp(-(w*x+b))))"
      ],
      "execution_count": 0,
      "outputs": []
    },
    {
      "cell_type": "code",
      "metadata": {
        "id": "O70NRCvYnakT",
        "colab_type": "code",
        "outputId": "df5907d8-3576-489e-f6b9-77f58c289633",
        "colab": {
          "base_uri": "https://localhost:8080/",
          "height": 35
        }
      },
      "source": [
        "sigmoid(1,0,0.5)"
      ],
      "execution_count": 3,
      "outputs": [
        {
          "output_type": "execute_result",
          "data": {
            "text/plain": [
              "0.6224593312018546"
            ]
          },
          "metadata": {
            "tags": []
          },
          "execution_count": 3
        }
      ]
    },
    {
      "cell_type": "code",
      "metadata": {
        "id": "t8VXmrYwoxDC",
        "colab_type": "code",
        "outputId": "0d8dd330-c792-4f54-c3bf-e073f99521ed",
        "colab": {
          "base_uri": "https://localhost:8080/",
          "height": 166
        }
      },
      "source": [
        "type(Y)"
      ],
      "execution_count": 4,
      "outputs": [
        {
          "output_type": "error",
          "ename": "NameError",
          "evalue": "ignored",
          "traceback": [
            "\u001b[0;31m---------------------------------------------------------------------------\u001b[0m",
            "\u001b[0;31mNameError\u001b[0m                                 Traceback (most recent call last)",
            "\u001b[0;32m<ipython-input-4-e06c7addf946>\u001b[0m in \u001b[0;36m<module>\u001b[0;34m()\u001b[0m\n\u001b[0;32m----> 1\u001b[0;31m \u001b[0mtype\u001b[0m\u001b[0;34m(\u001b[0m\u001b[0mY\u001b[0m\u001b[0;34m)\u001b[0m\u001b[0;34m\u001b[0m\u001b[0;34m\u001b[0m\u001b[0m\n\u001b[0m",
            "\u001b[0;31mNameError\u001b[0m: name 'Y' is not defined"
          ]
        }
      ]
    },
    {
      "cell_type": "code",
      "metadata": {
        "id": "Y8HDcIL6nqb0",
        "colab_type": "code",
        "colab": {}
      },
      "source": [
        "w=0.4 #@param {type: \"slider\", min: -0.2, max: 2, step:0.1}\n",
        "b=-0.1\n",
        "X=np.linspace(-10,10,100)\n",
        "Y=sigmoid(X,w,b)"
      ],
      "execution_count": 0,
      "outputs": []
    },
    {
      "cell_type": "code",
      "metadata": {
        "id": "qrHJW7Cpn_OB",
        "colab_type": "code",
        "colab": {}
      },
      "source": [
        "plt.plot(X,Y)\n",
        "plt.show()"
      ],
      "execution_count": 0,
      "outputs": []
    },
    {
      "cell_type": "code",
      "metadata": {
        "id": "Kq9En5LpovVW",
        "colab_type": "code",
        "colab": {}
      },
      "source": [
        "def sigmoid_2d(x1,x2,w1,w2,b):\n",
        "  return 1/(1+np.exp(-(w1*x1+w2*x2+b)))"
      ],
      "execution_count": 0,
      "outputs": []
    },
    {
      "cell_type": "code",
      "metadata": {
        "id": "hwdVNfQ1rm5P",
        "colab_type": "code",
        "colab": {}
      },
      "source": [
        "from mpl_toolkits import mplot3d\n"
      ],
      "execution_count": 0,
      "outputs": []
    },
    {
      "cell_type": "code",
      "metadata": {
        "id": "tLEsqH4_r0he",
        "colab_type": "code",
        "colab": {}
      },
      "source": [
        "X1=np.linspace(-10,10,100)\n",
        "X2=np.linspace(-10,10,100)"
      ],
      "execution_count": 0,
      "outputs": []
    },
    {
      "cell_type": "code",
      "metadata": {
        "id": "rHErypGCsFGt",
        "colab_type": "code",
        "colab": {}
      },
      "source": [
        "XX1,XX2= np.meshgrid(X1,X2)\n"
      ],
      "execution_count": 0,
      "outputs": []
    },
    {
      "cell_type": "code",
      "metadata": {
        "id": "K-IGbJdssSg7",
        "colab_type": "code",
        "colab": {}
      },
      "source": [
        "print(X1.shape,X2.shape,XX1.shape,XX2.shape)"
      ],
      "execution_count": 0,
      "outputs": []
    },
    {
      "cell_type": "code",
      "metadata": {
        "id": "0-RKnlBmsZiQ",
        "colab_type": "code",
        "colab": {}
      },
      "source": [
        "w1=0.5\n",
        "w2=0.5\n",
        "b=3\n",
        "Y=sigmoid_2d(XX1,XX2,w1,w2,b)\n"
      ],
      "execution_count": 0,
      "outputs": []
    },
    {
      "cell_type": "code",
      "metadata": {
        "id": "s2yncK7A3PbZ",
        "colab_type": "code",
        "colab": {}
      },
      "source": [
        "plt.contourf(XX1,XX2,Y,alpha=0.6)\n",
        "plt.show()"
      ],
      "execution_count": 0,
      "outputs": []
    },
    {
      "cell_type": "code",
      "metadata": {
        "id": "4JVkPrdRszeu",
        "colab_type": "code",
        "colab": {}
      },
      "source": [
        "#https://jakevdp.github.io/PythonDataScienceHandbook/04.12-three-dimensional-plotting.html\n",
        "fig = plt.figure()\n",
        "ax = plt.axes(projection='3d')\n",
        "ax.plot_surface(XX1, XX2, Y, cmap='viridis')\n",
        "ax.set_xlabel('x1')\n",
        "ax.set_ylabel('x2')\n",
        "ax.set_zlabel('y');\n"
      ],
      "execution_count": 0,
      "outputs": []
    },
    {
      "cell_type": "markdown",
      "metadata": {
        "id": "4Rcp1A3Mx4ie",
        "colab_type": "text"
      },
      "source": [
        "# Loss for Given DataSet"
      ]
    },
    {
      "cell_type": "code",
      "metadata": {
        "id": "OoQigpSQs-8i",
        "colab_type": "code",
        "colab": {}
      },
      "source": [
        "w_u=0.5\n",
        "b=0.5\n",
        "\n",
        "X=np.random.random(25)*20-10\n",
        "Y=sigmoid(X,w,b)"
      ],
      "execution_count": 0,
      "outputs": []
    },
    {
      "cell_type": "code",
      "metadata": {
        "id": "x3s4txH6yL-w",
        "colab_type": "code",
        "colab": {}
      },
      "source": [
        "plt.plot(X,Y,'*')\n",
        "plt.show()"
      ],
      "execution_count": 0,
      "outputs": []
    },
    {
      "cell_type": "code",
      "metadata": {
        "id": "WZHV6jMKyze-",
        "colab_type": "code",
        "colab": {}
      },
      "source": [
        "def calc_loss(X,Y,w_est,b_est):\n",
        "  loss=0\n",
        "  for x,y in zip(X,Y):\n",
        "    loss += (y-sigmoid(x,w_est,b_est))**2\n",
        "    \n",
        "  return loss"
      ],
      "execution_count": 0,
      "outputs": []
    },
    {
      "cell_type": "code",
      "metadata": {
        "id": "tMC6X84lyaB4",
        "colab_type": "code",
        "colab": {}
      },
      "source": [
        "W=np.linspace(-1,1,100)\n",
        "B=np.linspace(-1,1,100)\n",
        "\n",
        "WW,BB=np.meshgrid(W,B)\n",
        "\n",
        "Loss= np.zeros(WW.shape)"
      ],
      "execution_count": 0,
      "outputs": []
    },
    {
      "cell_type": "code",
      "metadata": {
        "id": "3RJqxhL3zjQN",
        "colab_type": "code",
        "colab": {}
      },
      "source": [
        "for i in range(WW.shape[0]):\n",
        "  for j in range(WW.shape[1]):\n",
        "    Loss[i,j]=calc_loss(X,Y,WW[i,j],BB[i,j])"
      ],
      "execution_count": 0,
      "outputs": []
    },
    {
      "cell_type": "code",
      "metadata": {
        "id": "c4RqwNRc0RtA",
        "colab_type": "code",
        "colab": {}
      },
      "source": [
        "#https://jakevdp.github.io/PythonDataScienceHandbook/04.12-three-dimensional-plotting.html\n",
        "fig = plt.figure()\n",
        "ax = plt.axes(projection='3d')\n",
        "ax.plot_surface(WW, BB,Loss, cmap='viridis')\n",
        "ax.set_xlabel('W')\n",
        "ax.set_ylabel('B')\n",
        "ax.set_zlabel('Loss');"
      ],
      "execution_count": 0,
      "outputs": []
    },
    {
      "cell_type": "code",
      "metadata": {
        "id": "pyJyHMtT0k8K",
        "colab_type": "code",
        "colab": {}
      },
      "source": [
        "W=np.linspace(0,2,100)\n",
        "B=np.linspace(-1,1,100)\n",
        "\n",
        "WW,BB=np.meshgrid(W,B)\n",
        "\n",
        "Loss= np.zeros(WW.shape)\n",
        "\n",
        "for i in range(WW.shape[0]):\n",
        "  for j in range(WW.shape[1]):\n",
        "    Loss[i,j]=calc_loss(X,Y,WW[i,j],BB[i,j])\n",
        "    \n",
        "#https://jakevdp.github.io/PythonDataScienceHandbook/04.12-three-dimensional-plotting.html\n",
        "fig = plt.figure()\n",
        "ax = plt.axes(projection='3d')\n",
        "ax.plot_surface(WW, BB,Loss, cmap='viridis')\n",
        "ax.set_xlabel('WW')\n",
        "ax.set_ylabel('BB')\n",
        "ax.set_zlabel('Loss');"
      ],
      "execution_count": 0,
      "outputs": []
    },
    {
      "cell_type": "code",
      "metadata": {
        "id": "eMt9tVtO1MlA",
        "colab_type": "code",
        "colab": {}
      },
      "source": [
        "ij=np.argmin(Loss)\n",
        "i= int(np.floor(ij/Loss.shape[1]))\n",
        "j= int(ij - i * Loss.shape[1])"
      ],
      "execution_count": 0,
      "outputs": []
    },
    {
      "cell_type": "code",
      "metadata": {
        "id": "2OCHc9Hb1so6",
        "colab_type": "code",
        "colab": {}
      },
      "source": [
        "print(i,j)\n",
        "print(WW[i,j],BB[i,j])"
      ],
      "execution_count": 0,
      "outputs": []
    },
    {
      "cell_type": "markdown",
      "metadata": {
        "id": "5VIDhcdH5UGh",
        "colab_type": "text"
      },
      "source": [
        "# Class for SigmoidNeuron"
      ]
    },
    {
      "cell_type": "code",
      "metadata": {
        "id": "TpeAKs7D2ijU",
        "colab_type": "code",
        "colab": {}
      },
      "source": [
        "class SigmoidNeuron:\n",
        "  def __init__(self):\n",
        "    self.w=None\n",
        "    self.b=None    \n",
        "    \n",
        "  def perceptron(self,x):\n",
        "    return np.dot(x,self.w.T) + self.b\n",
        "  \n",
        "  def sigmoid(self,x):\n",
        "    return 1.0/(1 + np.exp(-x))\n",
        "  \n",
        "  def grad_w(self,x,y):\n",
        "    y_pred=self.sigmoid(self.perceptron(x))\n",
        "    return (y_pred - y)* y_pred * (1 - y_pred) * x\n",
        "    \n",
        "  def grad_b(self,x,y):\n",
        "    y_pred=self.sigmoid(self.perceptron(x))\n",
        "    return (y_pred-y)* y_pred*(1 - y_pred)\n",
        "  \n",
        "  def fit(self,x,y,epochs=2,learning_rate=1,initialize=True,display=False):\n",
        "    \n",
        "    # initialize w & b\n",
        "    if initialize: \n",
        "      self.w=np.random.randn(1,x.shape[1])\n",
        "      self.b=0\n",
        "      \n",
        "    if display:\n",
        "      loss={}\n",
        "    \n",
        "    for i in range(epochs):\n",
        "      dw=0\n",
        "      db=0\n",
        "      for p,q in zip(x,y):\n",
        "        dw += self.grad_w(p,q)\n",
        "        db += self.grad_b(p,q)\n",
        "        \n",
        "      self.w -= learning_rate * dw\n",
        "      self.b -= learning_rate * db\n",
        "      \n",
        "      if display:\n",
        "        y_pred=self.sigmoid(self.perceptron(p))\n",
        "        loss[i]=mean_squared_error(y_pred,q)\n",
        "        \n",
        "    if display:\n",
        "      plt.plot(loss.values())\n",
        "      plt.xlabel(\"Epochs\")\n",
        "      plt.ylabel('Mean Squared Error')\n",
        "      plt.show()\n",
        "      \n",
        "    def predict(self,X):\n",
        "      Y_pred=[]\n",
        "      for x in X:\n",
        "        Y_pred.append(self.sigmoid(self.perceptron(x)))\n",
        "      return np.array(Y_pred)\n",
        "      "
      ],
      "execution_count": 0,
      "outputs": []
    },
    {
      "cell_type": "markdown",
      "metadata": {
        "id": "ubdnE1ky-GMf",
        "colab_type": "text"
      },
      "source": [
        "# Fit for Toy Data"
      ]
    },
    {
      "cell_type": "code",
      "metadata": {
        "id": "kSZQufvG6TsL",
        "colab_type": "code",
        "colab": {}
      },
      "source": [
        "X = np.asarray([[2.5,2.5],[4,-1],[-1,4],[-3,1.25],[-2,-4],[1,5]])\n",
        "Y=[1,1,1,0,0,0]"
      ],
      "execution_count": 0,
      "outputs": []
    },
    {
      "cell_type": "code",
      "metadata": {
        "id": "BeC7mcDb_CcU",
        "colab_type": "code",
        "colab": {}
      },
      "source": [
        "sn=SigmoidNeuron()\n",
        "sn.fit(X,Y,1,0.25,True)"
      ],
      "execution_count": 0,
      "outputs": []
    },
    {
      "cell_type": "code",
      "metadata": {
        "id": "0nqsdYg1Hnbw",
        "colab_type": "code",
        "colab": {}
      },
      "source": [
        "def plot_sn(X,Y,sn,ax):\n",
        "  X1 = np.linspace(-10,10,100)\n",
        "  X2 = np.linspace(-10,10,100)\n",
        "  \n",
        "  XX1,XX2 = np.meshgrid(X1,X2)\n",
        "  \n",
        "  YY=np.zeros(XX1.shape)\n",
        "  \n",
        "  for i in range(X2.size):\n",
        "    for j in range(X1.size):\n",
        "      val= np.asarray([X1[j],X2[i]])\n",
        "      YY[i,j] = sn.sigmoid(sn.perceptron(val))\n",
        "      \n",
        "  ax.contourf(XX1,XX2,YY)\n",
        "  ax.scatter(X[:,0],X[:,1],c=Y)\n",
        "  plt.show()"
      ],
      "execution_count": 0,
      "outputs": []
    },
    {
      "cell_type": "code",
      "metadata": {
        "id": "0n6fOsDMAeWs",
        "colab_type": "code",
        "colab": {}
      },
      "source": [
        "print(sn.w,sn.b)"
      ],
      "execution_count": 0,
      "outputs": []
    },
    {
      "cell_type": "code",
      "metadata": {
        "id": "QTEYVo08HGqF",
        "colab_type": "code",
        "colab": {}
      },
      "source": [
        "\n",
        "sn.fit(X,Y,1,0.25,True)\n",
        "N=20\n",
        "\n",
        "#plt.figure(figsize=(10,N*5))\n",
        "for i in range(N):\n",
        "  plt.figure(figsize=(10,N*5))\n",
        "  ax=plt.subplot(N,1,i+1)\n",
        "  plot_sn(X,Y,sn,ax)\n",
        "  sn.fit(X,Y,1,0.25,True)"
      ],
      "execution_count": 0,
      "outputs": []
    },
    {
      "cell_type": "markdown",
      "metadata": {
        "id": "cVSAIFDK6qYE",
        "colab_type": "text"
      },
      "source": [
        "# Load Data"
      ]
    },
    {
      "cell_type": "code",
      "metadata": {
        "id": "MdpHa2-AKCOK",
        "colab_type": "code",
        "colab": {
          "base_uri": "https://localhost:8080/",
          "height": 384
        },
        "outputId": "0568a553-e353-402b-92b8-7d6e41bd19d6"
      },
      "source": [
        "!wget https://www.dropbox.com/s/2uqr4er3o7n9ypa/mobile_cleaned.csv"
      ],
      "execution_count": 6,
      "outputs": [
        {
          "output_type": "stream",
          "text": [
            "--2019-09-08 17:33:33--  https://www.dropbox.com/s/2uqr4er3o7n9ypa/mobile_cleaned.csv\n",
            "Resolving www.dropbox.com (www.dropbox.com)... 162.125.1.1, 2620:100:601b:1::a27d:801\n",
            "Connecting to www.dropbox.com (www.dropbox.com)|162.125.1.1|:443... connected.\n",
            "HTTP request sent, awaiting response... 301 Moved Permanently\n",
            "Location: /s/raw/2uqr4er3o7n9ypa/mobile_cleaned.csv [following]\n",
            "--2019-09-08 17:33:33--  https://www.dropbox.com/s/raw/2uqr4er3o7n9ypa/mobile_cleaned.csv\n",
            "Reusing existing connection to www.dropbox.com:443.\n",
            "HTTP request sent, awaiting response... 302 Found\n",
            "Location: https://uce5adc38c3af7d65c0fc3fa79c7.dl.dropboxusercontent.com/cd/0/inline/AoJgKgxYxeuY-7pWmTpeMSFMRzg0frL2U6dmQrsm_koDIfIVMY8ktzj35KSg3PwcPdTEonidLxnAzrj5jNtx7U8jdJMWR8D0r1PH5_mqFaoOn83duGj2bw4rxgsStrk0EDU/file# [following]\n",
            "--2019-09-08 17:33:33--  https://uce5adc38c3af7d65c0fc3fa79c7.dl.dropboxusercontent.com/cd/0/inline/AoJgKgxYxeuY-7pWmTpeMSFMRzg0frL2U6dmQrsm_koDIfIVMY8ktzj35KSg3PwcPdTEonidLxnAzrj5jNtx7U8jdJMWR8D0r1PH5_mqFaoOn83duGj2bw4rxgsStrk0EDU/file\n",
            "Resolving uce5adc38c3af7d65c0fc3fa79c7.dl.dropboxusercontent.com (uce5adc38c3af7d65c0fc3fa79c7.dl.dropboxusercontent.com)... 162.125.1.6, 2620:100:6016:6::a27d:106\n",
            "Connecting to uce5adc38c3af7d65c0fc3fa79c7.dl.dropboxusercontent.com (uce5adc38c3af7d65c0fc3fa79c7.dl.dropboxusercontent.com)|162.125.1.6|:443... connected.\n",
            "HTTP request sent, awaiting response... 200 OK\n",
            "Length: 14044 (14K) [text/plain]\n",
            "Saving to: ‘mobile_cleaned.csv’\n",
            "\n",
            "\rmobile_cleaned.csv    0%[                    ]       0  --.-KB/s               \rmobile_cleaned.csv  100%[===================>]  13.71K  --.-KB/s    in 0s      \n",
            "\n",
            "2019-09-08 17:33:34 (449 MB/s) - ‘mobile_cleaned.csv’ saved [14044/14044]\n",
            "\n"
          ],
          "name": "stdout"
        }
      ]
    },
    {
      "cell_type": "code",
      "metadata": {
        "id": "1OEXCMyP7IQT",
        "colab_type": "code",
        "colab": {
          "base_uri": "https://localhost:8080/",
          "height": 35
        },
        "outputId": "45e599cf-1f4a-4029-f51f-ef33be6297a4"
      },
      "source": [
        "!ls"
      ],
      "execution_count": 7,
      "outputs": [
        {
          "output_type": "stream",
          "text": [
            "mobile_cleaned.csv  sample_data\n"
          ],
          "name": "stdout"
        }
      ]
    },
    {
      "cell_type": "code",
      "metadata": {
        "id": "jubjus_K8a4k",
        "colab_type": "code",
        "colab": {}
      },
      "source": [
        "import pandas as pd\n",
        "\n",
        "data=pd.read_csv('mobile_cleaned.csv')"
      ],
      "execution_count": 0,
      "outputs": []
    },
    {
      "cell_type": "code",
      "metadata": {
        "id": "fVMjfnyl8jXZ",
        "colab_type": "code",
        "colab": {
          "base_uri": "https://localhost:8080/",
          "height": 35
        },
        "outputId": "9ca4409f-769b-419b-ba34-625f7a4b8396"
      },
      "source": [
        "data.shape"
      ],
      "execution_count": 10,
      "outputs": [
        {
          "output_type": "execute_result",
          "data": {
            "text/plain": [
              "(109, 40)"
            ]
          },
          "metadata": {
            "tags": []
          },
          "execution_count": 10
        }
      ]
    },
    {
      "cell_type": "code",
      "metadata": {
        "id": "bQKbcBDR8n6A",
        "colab_type": "code",
        "colab": {
          "base_uri": "https://localhost:8080/",
          "height": 1000
        },
        "outputId": "7a7f0738-015c-4dc5-fda4-158d26c1aacc"
      },
      "source": [
        "data.describe"
      ],
      "execution_count": 11,
      "outputs": [
        {
          "output_type": "execute_result",
          "data": {
            "text/plain": [
              "<bound method NDFrame.describe of      sim_type  aperture  gpu_rank  ...  battery_capacity  processor_rank  is_liked\n",
              "0           0        12        55  ...              2000             125         1\n",
              "1           0         1        55  ...              2000             165         1\n",
              "2           0         9        55  ...              2500             164         0\n",
              "3           0         8        55  ...              3000             165         1\n",
              "4           1         1        55  ...              3000             165         0\n",
              "5           0        14        55  ...              2900             165         0\n",
              "6           1         1        56  ...              1700             163         1\n",
              "7           0         8        41  ...              2000              92         1\n",
              "8           1         8        41  ...              2000              92         1\n",
              "9           0         1        55  ...              3000             125         1\n",
              "10          0         1        55  ...              4000             126         1\n",
              "11          0        10        55  ...              2600             166         0\n",
              "12          0         1        50  ...              2500              79         1\n",
              "13          0        11        43  ...              2200              94         1\n",
              "14          0         8        41  ...              2500              92         1\n",
              "15          1        10        41  ...              2500              92         1\n",
              "16          1        10        47  ...              2200             132         1\n",
              "17          0        10        43  ...              2300              94         1\n",
              "18          0        10        41  ...              2000             100         1\n",
              "19          0        10        43  ...              2230              94         1\n",
              "20          0         1        55  ...              4000              94         1\n",
              "21          0        10        34  ...              2900              16         1\n",
              "22          2         1        38  ...              2400              19         0\n",
              "23          3         1        43  ...              2000              94         1\n",
              "24          0        10        29  ...              2750              21         1\n",
              "25          0         8        43  ...              5000              94         1\n",
              "26          0         8        43  ...              3000              94         1\n",
              "27          0         8        38  ...              3000              19         1\n",
              "28          0         1        44  ...              2100              79         1\n",
              "29          0        10        43  ...              3100              94         1\n",
              "..        ...       ...       ...  ...               ...             ...       ...\n",
              "79          3         7        41  ...              2900              72         1\n",
              "80          1         8         3  ...              3000               2         0\n",
              "81          4         8        14  ...              3000               3         1\n",
              "82          3         8         9  ...              2930               5         1\n",
              "83          1        10        28  ...              2600              14         0\n",
              "84          0        10        25  ...              2850              90         1\n",
              "85          3        10        11  ...              3220               9         1\n",
              "86          0        10        21  ...              3200              52         1\n",
              "87          4         6        14  ...              3000               8         1\n",
              "88          3         8         9  ...              3450               5         1\n",
              "89          3         7         8  ...              2550               4         1\n",
              "90          3         8         9  ...              3760               5         0\n",
              "91          3        10         6  ...              1624               1         0\n",
              "92          4         8        14  ...              2700               8         1\n",
              "93          3        10        12  ...              1810               7         1\n",
              "94          3        10        12  ...              1810               7         1\n",
              "95          3        10        28  ...              2840              56         0\n",
              "96          3        12        16  ...              3000              15         1\n",
              "97          0         8         9  ...              2900               5         1\n",
              "98          3         2         8  ...              2600               4         1\n",
              "99          3        10        12  ...              1810               7         1\n",
              "100         0         5         3  ...              3000             101         1\n",
              "101         3        10         6  ...              1715               1         1\n",
              "102         0         7        43  ...              3450               4         1\n",
              "103         3         8         9  ...              3430               5         1\n",
              "104         3        10        14  ...              3410               8         1\n",
              "105         0         5         3  ...              3600             101         1\n",
              "106         3        10         6  ...              2750               1         1\n",
              "107         3        10        12  ...              1810               7         1\n",
              "108         2         8         3  ...              3000               2         0\n",
              "\n",
              "[109 rows x 40 columns]>"
            ]
          },
          "metadata": {
            "tags": []
          },
          "execution_count": 11
        }
      ]
    },
    {
      "cell_type": "code",
      "metadata": {
        "id": "eRVAnZyU8paf",
        "colab_type": "code",
        "colab": {
          "base_uri": "https://localhost:8080/",
          "height": 222
        },
        "outputId": "7aa4d83a-ed9a-4cd1-964f-d05c70e601d6"
      },
      "source": [
        "data.head()"
      ],
      "execution_count": 12,
      "outputs": [
        {
          "output_type": "execute_result",
          "data": {
            "text/html": [
              "<div>\n",
              "<style scoped>\n",
              "    .dataframe tbody tr th:only-of-type {\n",
              "        vertical-align: middle;\n",
              "    }\n",
              "\n",
              "    .dataframe tbody tr th {\n",
              "        vertical-align: top;\n",
              "    }\n",
              "\n",
              "    .dataframe thead th {\n",
              "        text-align: right;\n",
              "    }\n",
              "</style>\n",
              "<table border=\"1\" class=\"dataframe\">\n",
              "  <thead>\n",
              "    <tr style=\"text-align: right;\">\n",
              "      <th></th>\n",
              "      <th>sim_type</th>\n",
              "      <th>aperture</th>\n",
              "      <th>gpu_rank</th>\n",
              "      <th>weight</th>\n",
              "      <th>stand_by_time</th>\n",
              "      <th>processor_frequency</th>\n",
              "      <th>thickness</th>\n",
              "      <th>flash_type</th>\n",
              "      <th>front_camera_resolution</th>\n",
              "      <th>auto_focus</th>\n",
              "      <th>screen_size</th>\n",
              "      <th>frames_per_second</th>\n",
              "      <th>FM</th>\n",
              "      <th>no_of_reviews_in_gsmarena_in_week</th>\n",
              "      <th>os</th>\n",
              "      <th>phone_height</th>\n",
              "      <th>screen_protection</th>\n",
              "      <th>sim_size</th>\n",
              "      <th>price</th>\n",
              "      <th>talk_time</th>\n",
              "      <th>video_resolution</th>\n",
              "      <th>display_resolution</th>\n",
              "      <th>removable_battery</th>\n",
              "      <th>display_type</th>\n",
              "      <th>primary_camera_resolution</th>\n",
              "      <th>battery_type</th>\n",
              "      <th>ram_memory</th>\n",
              "      <th>internal_memory</th>\n",
              "      <th>brand_rank</th>\n",
              "      <th>no_of_cores</th>\n",
              "      <th>micro_sd_slot</th>\n",
              "      <th>screen_pixel_density</th>\n",
              "      <th>water_proof_rate</th>\n",
              "      <th>phone_width</th>\n",
              "      <th>expandable_memory</th>\n",
              "      <th>version</th>\n",
              "      <th>usb_type</th>\n",
              "      <th>battery_capacity</th>\n",
              "      <th>processor_rank</th>\n",
              "      <th>is_liked</th>\n",
              "    </tr>\n",
              "  </thead>\n",
              "  <tbody>\n",
              "    <tr>\n",
              "      <th>0</th>\n",
              "      <td>0</td>\n",
              "      <td>12</td>\n",
              "      <td>55</td>\n",
              "      <td>155.0</td>\n",
              "      <td>250</td>\n",
              "      <td>1.3</td>\n",
              "      <td>10.5</td>\n",
              "      <td>5</td>\n",
              "      <td>2.00</td>\n",
              "      <td>0</td>\n",
              "      <td>4.5</td>\n",
              "      <td>15</td>\n",
              "      <td>3</td>\n",
              "      <td>0</td>\n",
              "      <td>0</td>\n",
              "      <td>132.9</td>\n",
              "      <td>26</td>\n",
              "      <td>3</td>\n",
              "      <td>3870</td>\n",
              "      <td>9</td>\n",
              "      <td>480</td>\n",
              "      <td>12</td>\n",
              "      <td>3</td>\n",
              "      <td>11</td>\n",
              "      <td>5.00</td>\n",
              "      <td>1</td>\n",
              "      <td>1</td>\n",
              "      <td>7</td>\n",
              "      <td>29</td>\n",
              "      <td>6</td>\n",
              "      <td>4</td>\n",
              "      <td>2</td>\n",
              "      <td>3</td>\n",
              "      <td>67.8</td>\n",
              "      <td>64.0</td>\n",
              "      <td>5</td>\n",
              "      <td>3</td>\n",
              "      <td>2000</td>\n",
              "      <td>125</td>\n",
              "      <td>1</td>\n",
              "    </tr>\n",
              "    <tr>\n",
              "      <th>1</th>\n",
              "      <td>0</td>\n",
              "      <td>1</td>\n",
              "      <td>55</td>\n",
              "      <td>132.0</td>\n",
              "      <td>300</td>\n",
              "      <td>1.3</td>\n",
              "      <td>10.6</td>\n",
              "      <td>5</td>\n",
              "      <td>0.30</td>\n",
              "      <td>1</td>\n",
              "      <td>4.0</td>\n",
              "      <td>30</td>\n",
              "      <td>2</td>\n",
              "      <td>6</td>\n",
              "      <td>0</td>\n",
              "      <td>124.5</td>\n",
              "      <td>26</td>\n",
              "      <td>5</td>\n",
              "      <td>4059</td>\n",
              "      <td>9</td>\n",
              "      <td>720</td>\n",
              "      <td>15</td>\n",
              "      <td>3</td>\n",
              "      <td>11</td>\n",
              "      <td>5.00</td>\n",
              "      <td>1</td>\n",
              "      <td>1</td>\n",
              "      <td>7</td>\n",
              "      <td>11</td>\n",
              "      <td>6</td>\n",
              "      <td>4</td>\n",
              "      <td>4</td>\n",
              "      <td>6</td>\n",
              "      <td>64.0</td>\n",
              "      <td>32.0</td>\n",
              "      <td>5</td>\n",
              "      <td>3</td>\n",
              "      <td>2000</td>\n",
              "      <td>165</td>\n",
              "      <td>1</td>\n",
              "    </tr>\n",
              "    <tr>\n",
              "      <th>2</th>\n",
              "      <td>0</td>\n",
              "      <td>9</td>\n",
              "      <td>55</td>\n",
              "      <td>142.0</td>\n",
              "      <td>329</td>\n",
              "      <td>1.5</td>\n",
              "      <td>8.5</td>\n",
              "      <td>5</td>\n",
              "      <td>2.00</td>\n",
              "      <td>3</td>\n",
              "      <td>5.0</td>\n",
              "      <td>30</td>\n",
              "      <td>2</td>\n",
              "      <td>20</td>\n",
              "      <td>0</td>\n",
              "      <td>145.5</td>\n",
              "      <td>4</td>\n",
              "      <td>3</td>\n",
              "      <td>4777</td>\n",
              "      <td>10</td>\n",
              "      <td>1080</td>\n",
              "      <td>4</td>\n",
              "      <td>3</td>\n",
              "      <td>1</td>\n",
              "      <td>5.04</td>\n",
              "      <td>2</td>\n",
              "      <td>1</td>\n",
              "      <td>7</td>\n",
              "      <td>27</td>\n",
              "      <td>6</td>\n",
              "      <td>4</td>\n",
              "      <td>9</td>\n",
              "      <td>6</td>\n",
              "      <td>72.0</td>\n",
              "      <td>32.0</td>\n",
              "      <td>6</td>\n",
              "      <td>3</td>\n",
              "      <td>2500</td>\n",
              "      <td>164</td>\n",
              "      <td>0</td>\n",
              "    </tr>\n",
              "    <tr>\n",
              "      <th>3</th>\n",
              "      <td>0</td>\n",
              "      <td>8</td>\n",
              "      <td>55</td>\n",
              "      <td>152.0</td>\n",
              "      <td>385</td>\n",
              "      <td>1.3</td>\n",
              "      <td>8.0</td>\n",
              "      <td>5</td>\n",
              "      <td>2.00</td>\n",
              "      <td>3</td>\n",
              "      <td>5.0</td>\n",
              "      <td>15</td>\n",
              "      <td>3</td>\n",
              "      <td>0</td>\n",
              "      <td>0</td>\n",
              "      <td>147.5</td>\n",
              "      <td>26</td>\n",
              "      <td>3</td>\n",
              "      <td>5799</td>\n",
              "      <td>19</td>\n",
              "      <td>720</td>\n",
              "      <td>17</td>\n",
              "      <td>3</td>\n",
              "      <td>2</td>\n",
              "      <td>5.00</td>\n",
              "      <td>1</td>\n",
              "      <td>1</td>\n",
              "      <td>7</td>\n",
              "      <td>4</td>\n",
              "      <td>6</td>\n",
              "      <td>4</td>\n",
              "      <td>1</td>\n",
              "      <td>3</td>\n",
              "      <td>75.1</td>\n",
              "      <td>32.0</td>\n",
              "      <td>6</td>\n",
              "      <td>3</td>\n",
              "      <td>3000</td>\n",
              "      <td>165</td>\n",
              "      <td>1</td>\n",
              "    </tr>\n",
              "    <tr>\n",
              "      <th>4</th>\n",
              "      <td>1</td>\n",
              "      <td>1</td>\n",
              "      <td>55</td>\n",
              "      <td>234.0</td>\n",
              "      <td>385</td>\n",
              "      <td>1.3</td>\n",
              "      <td>7.9</td>\n",
              "      <td>5</td>\n",
              "      <td>1.92</td>\n",
              "      <td>3</td>\n",
              "      <td>5.0</td>\n",
              "      <td>15</td>\n",
              "      <td>3</td>\n",
              "      <td>0</td>\n",
              "      <td>0</td>\n",
              "      <td>179.0</td>\n",
              "      <td>18</td>\n",
              "      <td>3</td>\n",
              "      <td>5990</td>\n",
              "      <td>11</td>\n",
              "      <td>720</td>\n",
              "      <td>17</td>\n",
              "      <td>3</td>\n",
              "      <td>1</td>\n",
              "      <td>5.00</td>\n",
              "      <td>1</td>\n",
              "      <td>1</td>\n",
              "      <td>7</td>\n",
              "      <td>4</td>\n",
              "      <td>6</td>\n",
              "      <td>4</td>\n",
              "      <td>1</td>\n",
              "      <td>6</td>\n",
              "      <td>91.0</td>\n",
              "      <td>32.0</td>\n",
              "      <td>6</td>\n",
              "      <td>3</td>\n",
              "      <td>3000</td>\n",
              "      <td>165</td>\n",
              "      <td>0</td>\n",
              "    </tr>\n",
              "  </tbody>\n",
              "</table>\n",
              "</div>"
            ],
            "text/plain": [
              "   sim_type  aperture  gpu_rank  ...  battery_capacity  processor_rank  is_liked\n",
              "0         0        12        55  ...              2000             125         1\n",
              "1         0         1        55  ...              2000             165         1\n",
              "2         0         9        55  ...              2500             164         0\n",
              "3         0         8        55  ...              3000             165         1\n",
              "4         1         1        55  ...              3000             165         0\n",
              "\n",
              "[5 rows x 40 columns]"
            ]
          },
          "metadata": {
            "tags": []
          },
          "execution_count": 12
        }
      ]
    },
    {
      "cell_type": "code",
      "metadata": {
        "id": "h-AAWRnt8rVK",
        "colab_type": "code",
        "colab": {}
      },
      "source": [
        "X=data.drop('is_liked',axis=1)\n",
        "Y=data['is_liked']"
      ],
      "execution_count": 0,
      "outputs": []
    },
    {
      "cell_type": "markdown",
      "metadata": {
        "id": "FZlf-lAC-XJp",
        "colab_type": "text"
      },
      "source": [
        "## Standardization"
      ]
    },
    {
      "cell_type": "code",
      "metadata": {
        "id": "gsDwW0vN9Dq-",
        "colab_type": "code",
        "colab": {}
      },
      "source": [
        "from sklearn.preprocessing import StandardScaler"
      ],
      "execution_count": 0,
      "outputs": []
    },
    {
      "cell_type": "code",
      "metadata": {
        "id": "Zb0vgPF4-1Gv",
        "colab_type": "code",
        "colab": {}
      },
      "source": [
        "scaler=StandardScaler()"
      ],
      "execution_count": 0,
      "outputs": []
    },
    {
      "cell_type": "code",
      "metadata": {
        "id": "A8D7xgPoBlZk",
        "colab_type": "code",
        "colab": {}
      },
      "source": [
        ""
      ],
      "execution_count": 0,
      "outputs": []
    }
  ]
}