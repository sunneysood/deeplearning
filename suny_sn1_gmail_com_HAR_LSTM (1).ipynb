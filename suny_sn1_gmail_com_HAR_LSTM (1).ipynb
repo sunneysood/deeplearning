{
  "nbformat": 4,
  "nbformat_minor": 0,
  "metadata": {
    "kernelspec": {
      "name": "python3",
      "display_name": "Python 3"
    },
    "language_info": {
      "codemirror_mode": {
        "name": "ipython",
        "version": 3
      },
      "file_extension": ".py",
      "mimetype": "text/x-python",
      "name": "python",
      "nbconvert_exporter": "python",
      "pygments_lexer": "ipython3",
      "version": "3.6.1"
    },
    "colab": {
      "name": "suny.sn1@gmail.com HAR_LSTM.ipynb",
      "provenance": [],
      "collapsed_sections": [
        "efBvnzn988fz"
      ]
    },
    "accelerator": "GPU"
  },
  "cells": [
    {
      "cell_type": "code",
      "metadata": {
        "id": "eduy5AIiupDN",
        "colab_type": "code",
        "colab": {}
      },
      "source": [
        "# Importing Libraries"
      ],
      "execution_count": 0,
      "outputs": []
    },
    {
      "cell_type": "code",
      "metadata": {
        "id": "CjLFfAFFUnNK",
        "colab_type": "code",
        "colab": {
          "base_uri": "https://localhost:8080/",
          "height": 121
        },
        "outputId": "7443b7ef-c2ae-46b0-ef28-e59bb681db67"
      },
      "source": [
        "from google.colab import drive\n",
        "drive.mount('/content/drive')"
      ],
      "execution_count": 3,
      "outputs": [
        {
          "output_type": "stream",
          "text": [
            "Go to this URL in a browser: https://accounts.google.com/o/oauth2/auth?client_id=947318989803-6bn6qk8qdgf4n4g3pfee6491hc0brc4i.apps.googleusercontent.com&redirect_uri=urn%3aietf%3awg%3aoauth%3a2.0%3aoob&response_type=code&scope=email%20https%3a%2f%2fwww.googleapis.com%2fauth%2fdocs.test%20https%3a%2f%2fwww.googleapis.com%2fauth%2fdrive%20https%3a%2f%2fwww.googleapis.com%2fauth%2fdrive.photos.readonly%20https%3a%2f%2fwww.googleapis.com%2fauth%2fpeopleapi.readonly\n",
            "\n",
            "Enter your authorization code:\n",
            "··········\n",
            "Mounted at /content/drive\n"
          ],
          "name": "stdout"
        }
      ]
    },
    {
      "cell_type": "code",
      "metadata": {
        "id": "UAysDxUTupDS",
        "colab_type": "code",
        "colab": {}
      },
      "source": [
        "import pandas as pd\n",
        "import numpy as np"
      ],
      "execution_count": 0,
      "outputs": []
    },
    {
      "cell_type": "code",
      "metadata": {
        "id": "Yjg1AjIqupDV",
        "colab_type": "code",
        "colab": {}
      },
      "source": [
        "# Activities are the class labels\n",
        "# It is a 6 class classification\n",
        "ACTIVITIES = {\n",
        "    0: 'WALKING',\n",
        "    1: 'WALKING_UPSTAIRS',\n",
        "    2: 'WALKING_DOWNSTAIRS',\n",
        "    3: 'SITTING',\n",
        "    4: 'STANDING',\n",
        "    5: 'LAYING',\n",
        "}\n",
        "\n",
        "# Utility function to print the confusion matrix\n",
        "def confusion_matrix(Y_true, Y_pred):\n",
        "    Y_true = pd.Series([ACTIVITIES[y] for y in np.argmax(Y_true, axis=1)])\n",
        "    Y_pred = pd.Series([ACTIVITIES[y] for y in np.argmax(Y_pred, axis=1)])\n",
        "\n",
        "    return pd.crosstab(Y_true, Y_pred, rownames=['True'], colnames=['Pred'])"
      ],
      "execution_count": 0,
      "outputs": []
    },
    {
      "cell_type": "markdown",
      "metadata": {
        "id": "cmcYL-FCupDX",
        "colab_type": "text"
      },
      "source": [
        "### Data"
      ]
    },
    {
      "cell_type": "code",
      "metadata": {
        "id": "i7C8N8uOupDX",
        "colab_type": "code",
        "colab": {}
      },
      "source": [
        "# Data directory\n",
        "DATADIR = '/content/drive/My Drive/HumanActivityRecognition/HAR/UCI_HAR_Dataset'"
      ],
      "execution_count": 0,
      "outputs": []
    },
    {
      "cell_type": "code",
      "metadata": {
        "id": "BAcsWAZvupDZ",
        "colab_type": "code",
        "colab": {}
      },
      "source": [
        "# Raw data signals\n",
        "# Signals are from Accelerometer and Gyroscope\n",
        "# The signals are in x,y,z directions\n",
        "# Sensor signals are filtered to have only body acceleration\n",
        "# excluding the acceleration due to gravity\n",
        "# Triaxial acceleration from the accelerometer is total acceleration\n",
        "SIGNALS = [\n",
        "    \"body_acc_x\",\n",
        "    \"body_acc_y\",\n",
        "    \"body_acc_z\",\n",
        "    \"body_gyro_x\",\n",
        "    \"body_gyro_y\",\n",
        "    \"body_gyro_z\",\n",
        "    \"total_acc_x\",\n",
        "    \"total_acc_y\",\n",
        "    \"total_acc_z\"\n",
        "]"
      ],
      "execution_count": 0,
      "outputs": []
    },
    {
      "cell_type": "code",
      "metadata": {
        "id": "QPwBxAiKupDd",
        "colab_type": "code",
        "colab": {}
      },
      "source": [
        "# Utility function to read the data from csv file\n",
        "def _read_csv(filename):\n",
        "    return pd.read_csv(filename, delim_whitespace=True, header=None)\n",
        "\n",
        "# Utility function to load the load\n",
        "def load_signals(subset):\n",
        "    signals_data = []\n",
        "\n",
        "    for signal in SIGNALS:\n",
        "        filename = f'/content/drive/My Drive/HumanActivityRecognition/HAR/UCI_HAR_Dataset/{subset}/Inertial Signals/{signal}_{subset}.txt'\n",
        "        signals_data.append(\n",
        "            _read_csv(filename).as_matrix()\n",
        "        ) \n",
        "\n",
        "    # Transpose is used to change the dimensionality of the output,\n",
        "    # aggregating the signals by combination of sample/timestep.\n",
        "    # Resultant shape is (7352 train/2947 test samples, 128 timesteps, 9 signals)\n",
        "    return np.transpose(signals_data, (1, 2, 0))"
      ],
      "execution_count": 0,
      "outputs": []
    },
    {
      "cell_type": "code",
      "metadata": {
        "id": "4mD9NyARupDf",
        "colab_type": "code",
        "colab": {}
      },
      "source": [
        "\n",
        "def load_y(subset):\n",
        "    \"\"\"\n",
        "    The objective that we are trying to predict is a integer, from 1 to 6,\n",
        "    that represents a human activity. We return a binary representation of \n",
        "    every sample objective as a 6 bits vector using One Hot Encoding\n",
        "    (https://pandas.pydata.org/pandas-docs/stable/generated/pandas.get_dummies.html)\n",
        "    \"\"\"\n",
        "    filename = f'/content/drive/My Drive/HumanActivityRecognition/HAR/UCI_HAR_Dataset/{subset}/y_{subset}.txt'\n",
        "    y = _read_csv(filename)[0]\n",
        "\n",
        "    return pd.get_dummies(y).as_matrix()"
      ],
      "execution_count": 0,
      "outputs": []
    },
    {
      "cell_type": "code",
      "metadata": {
        "id": "Z3vSqP5MupDg",
        "colab_type": "code",
        "colab": {}
      },
      "source": [
        "def load_data():\n",
        "    \"\"\"\n",
        "    Obtain the dataset from multiple files.\n",
        "    Returns: X_train, X_test, y_train, y_test\n",
        "    \"\"\"\n",
        "    X_train, X_test = load_signals('train'), load_signals('test')\n",
        "    y_train, y_test = load_y('train'), load_y('test')\n",
        "\n",
        "    return X_train, X_test, y_train, y_test"
      ],
      "execution_count": 0,
      "outputs": []
    },
    {
      "cell_type": "code",
      "metadata": {
        "id": "KWh1QPorupDi",
        "colab_type": "code",
        "colab": {
          "base_uri": "https://localhost:8080/",
          "height": 62
        },
        "outputId": "e0e04111-6d34-43c0-9dc2-b9c34d1d7f14"
      },
      "source": [
        "# Importing tensorflow\n",
        "np.random.seed(42)\n",
        "import tensorflow as tf\n",
        "tf.set_random_seed(42)"
      ],
      "execution_count": 12,
      "outputs": [
        {
          "output_type": "display_data",
          "data": {
            "text/html": [
              "<p style=\"color: red;\">\n",
              "The default version of TensorFlow in Colab will soon switch to TensorFlow 2.x.<br>\n",
              "We recommend you <a href=\"https://www.tensorflow.org/guide/migrate\" target=\"_blank\">upgrade</a> now \n",
              "or ensure your notebook will continue to use TensorFlow 1.x via the <code>%tensorflow_version 1.x</code> magic:\n",
              "<a href=\"https://colab.research.google.com/notebooks/tensorflow_version.ipynb\" target=\"_blank\">more info</a>.</p>\n"
            ],
            "text/plain": [
              "<IPython.core.display.HTML object>"
            ]
          },
          "metadata": {
            "tags": []
          }
        }
      ]
    },
    {
      "cell_type": "code",
      "metadata": {
        "id": "Hg5Un3N7upDk",
        "colab_type": "code",
        "colab": {}
      },
      "source": [
        "# Configuring a session\n",
        "session_conf = tf.ConfigProto(\n",
        "    intra_op_parallelism_threads=1,\n",
        "    inter_op_parallelism_threads=1\n",
        ")"
      ],
      "execution_count": 0,
      "outputs": []
    },
    {
      "cell_type": "code",
      "metadata": {
        "id": "Hh3v5S5supDm",
        "colab_type": "code",
        "colab": {
          "base_uri": "https://localhost:8080/",
          "height": 34
        },
        "outputId": "054a5e5d-220d-45a2-da1a-5aa42fcdea8b"
      },
      "source": [
        "# Import Keras\n",
        "from keras import backend as K\n",
        "sess = tf.Session(graph=tf.get_default_graph(), config=session_conf)\n",
        "K.set_session(sess)"
      ],
      "execution_count": 14,
      "outputs": [
        {
          "output_type": "stream",
          "text": [
            "Using TensorFlow backend.\n"
          ],
          "name": "stderr"
        }
      ]
    },
    {
      "cell_type": "code",
      "metadata": {
        "id": "F60JfJhIupDo",
        "colab_type": "code",
        "colab": {}
      },
      "source": [
        "# Importing libraries\n",
        "from keras.models import Sequential\n",
        "from keras.layers import LSTM\n",
        "from keras.layers.core import Dense, Dropout\n",
        "from keras.layers import BatchNormalization"
      ],
      "execution_count": 0,
      "outputs": []
    },
    {
      "cell_type": "code",
      "metadata": {
        "id": "sTDuR2meupDs",
        "colab_type": "code",
        "colab": {}
      },
      "source": [
        "# Utility function to count the number of classes\n",
        "def _count_classes(y):\n",
        "    return len(set([tuple(category) for category in y]))"
      ],
      "execution_count": 0,
      "outputs": []
    },
    {
      "cell_type": "code",
      "metadata": {
        "id": "lIM-6fD3upDu",
        "colab_type": "code",
        "outputId": "694e22c9-d7ff-46cc-febb-8077eefa6109",
        "colab": {
          "base_uri": "https://localhost:8080/",
          "height": 84
        }
      },
      "source": [
        "# Loading the train and test data\n",
        "X_train, X_test, Y_train, Y_test = load_data()"
      ],
      "execution_count": 17,
      "outputs": [
        {
          "output_type": "stream",
          "text": [
            "/usr/local/lib/python3.6/dist-packages/ipykernel_launcher.py:11: FutureWarning: Method .as_matrix will be removed in a future version. Use .values instead.\n",
            "  # This is added back by InteractiveShellApp.init_path()\n",
            "/usr/local/lib/python3.6/dist-packages/ipykernel_launcher.py:12: FutureWarning: Method .as_matrix will be removed in a future version. Use .values instead.\n",
            "  if sys.path[0] == '':\n"
          ],
          "name": "stderr"
        }
      ]
    },
    {
      "cell_type": "code",
      "metadata": {
        "id": "uoKvNnJnupDw",
        "colab_type": "code",
        "outputId": "a43f60ff-bb8c-4aa9-a0aa-9bb9d3b3c88c",
        "colab": {
          "base_uri": "https://localhost:8080/",
          "height": 67
        }
      },
      "source": [
        "timesteps = len(X_train[0])\n",
        "input_dim = len(X_train[0][0])\n",
        "n_classes = _count_classes(Y_train)\n",
        "\n",
        "print(timesteps)\n",
        "print(input_dim)\n",
        "print(len(X_train))"
      ],
      "execution_count": 21,
      "outputs": [
        {
          "output_type": "stream",
          "text": [
            "128\n",
            "9\n",
            "7352\n"
          ],
          "name": "stdout"
        }
      ]
    },
    {
      "cell_type": "markdown",
      "metadata": {
        "id": "pakinBoWupDz",
        "colab_type": "text"
      },
      "source": [
        "- Defining the Architecture of LSTM"
      ]
    },
    {
      "cell_type": "code",
      "metadata": {
        "id": "bF-_AHSqupDq",
        "colab_type": "code",
        "colab": {}
      },
      "source": [
        "# Initializing parameters\n",
        "epochs = 50\n",
        "batch_size = 100\n",
        "n_hidden = 256"
      ],
      "execution_count": 0,
      "outputs": []
    },
    {
      "cell_type": "code",
      "metadata": {
        "id": "ADzvpYLZupDz",
        "colab_type": "code",
        "outputId": "5aa8e58a-f258-47e4-807a-90ae6589f5f7",
        "colab": {
          "base_uri": "https://localhost:8080/",
          "height": 423
        }
      },
      "source": [
        "# Initiliazing the sequential model\n",
        "model = Sequential()\n",
        "# Configuring the parameters\n",
        "model.add(LSTM(n_hidden, input_shape=(timesteps, input_dim)))\n",
        "# Adding a dropout layer\n",
        "model.add(Dropout(0.30))\n",
        "# Adding a dense output layer with sigmoid activation\n",
        "model.add(Dense(n_classes, activation='sigmoid'))\n",
        "model.summary()"
      ],
      "execution_count": 18,
      "outputs": [
        {
          "output_type": "stream",
          "text": [
            "WARNING:tensorflow:From /usr/local/lib/python3.6/dist-packages/keras/backend/tensorflow_backend.py:541: The name tf.placeholder is deprecated. Please use tf.compat.v1.placeholder instead.\n",
            "\n",
            "WARNING:tensorflow:From /usr/local/lib/python3.6/dist-packages/keras/backend/tensorflow_backend.py:4432: The name tf.random_uniform is deprecated. Please use tf.random.uniform instead.\n",
            "\n",
            "WARNING:tensorflow:From /usr/local/lib/python3.6/dist-packages/keras/backend/tensorflow_backend.py:148: The name tf.placeholder_with_default is deprecated. Please use tf.compat.v1.placeholder_with_default instead.\n",
            "\n",
            "WARNING:tensorflow:From /usr/local/lib/python3.6/dist-packages/keras/backend/tensorflow_backend.py:3733: calling dropout (from tensorflow.python.ops.nn_ops) with keep_prob is deprecated and will be removed in a future version.\n",
            "Instructions for updating:\n",
            "Please use `rate` instead of `keep_prob`. Rate should be set to `rate = 1 - keep_prob`.\n",
            "Model: \"sequential_1\"\n",
            "_________________________________________________________________\n",
            "Layer (type)                 Output Shape              Param #   \n",
            "=================================================================\n",
            "lstm_1 (LSTM)                (None, 256)               272384    \n",
            "_________________________________________________________________\n",
            "dropout_1 (Dropout)          (None, 256)               0         \n",
            "_________________________________________________________________\n",
            "dense_1 (Dense)              (None, 6)                 1542      \n",
            "=================================================================\n",
            "Total params: 273,926\n",
            "Trainable params: 273,926\n",
            "Non-trainable params: 0\n",
            "_________________________________________________________________\n"
          ],
          "name": "stdout"
        }
      ]
    },
    {
      "cell_type": "code",
      "metadata": {
        "id": "W5HG7WFdupD1",
        "colab_type": "code",
        "colab": {
          "base_uri": "https://localhost:8080/",
          "height": 84
        },
        "outputId": "501e8b86-c1cf-47f8-e281-5125003c4950"
      },
      "source": [
        "# Compiling the model\n",
        "model.compile(loss='categorical_crossentropy',\n",
        "              optimizer='rmsprop',\n",
        "              metrics=['accuracy'])"
      ],
      "execution_count": 19,
      "outputs": [
        {
          "output_type": "stream",
          "text": [
            "WARNING:tensorflow:From /usr/local/lib/python3.6/dist-packages/keras/optimizers.py:793: The name tf.train.Optimizer is deprecated. Please use tf.compat.v1.train.Optimizer instead.\n",
            "\n",
            "WARNING:tensorflow:From /usr/local/lib/python3.6/dist-packages/keras/backend/tensorflow_backend.py:3576: The name tf.log is deprecated. Please use tf.math.log instead.\n",
            "\n"
          ],
          "name": "stdout"
        }
      ]
    },
    {
      "cell_type": "code",
      "metadata": {
        "id": "IktVyUvZupD3",
        "colab_type": "code",
        "outputId": "ada896d3-66f8-449b-94d3-4d011b871dda",
        "colab": {
          "base_uri": "https://localhost:8080/",
          "height": 1000
        }
      },
      "source": [
        "# Training the model\n",
        "history = model.fit(X_train,\n",
        "          Y_train,\n",
        "          batch_size=batch_size,\n",
        "          validation_data=(X_test, Y_test),\n",
        "          epochs=epochs)"
      ],
      "execution_count": 20,
      "outputs": [
        {
          "output_type": "stream",
          "text": [
            "WARNING:tensorflow:From /usr/local/lib/python3.6/dist-packages/tensorflow_core/python/ops/math_grad.py:1424: where (from tensorflow.python.ops.array_ops) is deprecated and will be removed in a future version.\n",
            "Instructions for updating:\n",
            "Use tf.where in 2.0, which has the same broadcast rule as np.where\n",
            "WARNING:tensorflow:From /usr/local/lib/python3.6/dist-packages/keras/backend/tensorflow_backend.py:1033: The name tf.assign_add is deprecated. Please use tf.compat.v1.assign_add instead.\n",
            "\n",
            "WARNING:tensorflow:From /usr/local/lib/python3.6/dist-packages/keras/backend/tensorflow_backend.py:1020: The name tf.assign is deprecated. Please use tf.compat.v1.assign instead.\n",
            "\n",
            "Train on 7352 samples, validate on 2947 samples\n",
            "Epoch 1/50\n",
            "WARNING:tensorflow:From /usr/local/lib/python3.6/dist-packages/keras/backend/tensorflow_backend.py:190: The name tf.get_default_session is deprecated. Please use tf.compat.v1.get_default_session instead.\n",
            "\n",
            "WARNING:tensorflow:From /usr/local/lib/python3.6/dist-packages/keras/backend/tensorflow_backend.py:207: The name tf.global_variables is deprecated. Please use tf.compat.v1.global_variables instead.\n",
            "\n",
            "WARNING:tensorflow:From /usr/local/lib/python3.6/dist-packages/keras/backend/tensorflow_backend.py:216: The name tf.is_variable_initialized is deprecated. Please use tf.compat.v1.is_variable_initialized instead.\n",
            "\n",
            "WARNING:tensorflow:From /usr/local/lib/python3.6/dist-packages/keras/backend/tensorflow_backend.py:223: The name tf.variables_initializer is deprecated. Please use tf.compat.v1.variables_initializer instead.\n",
            "\n",
            "7352/7352 [==============================] - 22s 3ms/step - loss: 1.4166 - acc: 0.3781 - val_loss: 1.2801 - val_acc: 0.4907\n",
            "Epoch 2/50\n",
            "7352/7352 [==============================] - 13s 2ms/step - loss: 1.2602 - acc: 0.4584 - val_loss: 1.2215 - val_acc: 0.4659\n",
            "Epoch 3/50\n",
            "7352/7352 [==============================] - 13s 2ms/step - loss: 1.0909 - acc: 0.5083 - val_loss: 1.2319 - val_acc: 0.4340\n",
            "Epoch 4/50\n",
            "7352/7352 [==============================] - 13s 2ms/step - loss: 1.2146 - acc: 0.4415 - val_loss: 1.4156 - val_acc: 0.3498\n",
            "Epoch 5/50\n",
            "7352/7352 [==============================] - 13s 2ms/step - loss: 1.3867 - acc: 0.3591 - val_loss: 1.3975 - val_acc: 0.3515\n",
            "Epoch 6/50\n",
            "7352/7352 [==============================] - 13s 2ms/step - loss: 1.1597 - acc: 0.4736 - val_loss: 0.9785 - val_acc: 0.6067\n",
            "Epoch 7/50\n",
            "7352/7352 [==============================] - 13s 2ms/step - loss: 0.9876 - acc: 0.5566 - val_loss: 0.9139 - val_acc: 0.5684\n",
            "Epoch 8/50\n",
            "7352/7352 [==============================] - 13s 2ms/step - loss: 0.8073 - acc: 0.6198 - val_loss: 0.8681 - val_acc: 0.5596\n",
            "Epoch 9/50\n",
            "7352/7352 [==============================] - 13s 2ms/step - loss: 0.7525 - acc: 0.6374 - val_loss: 0.7005 - val_acc: 0.6698\n",
            "Epoch 10/50\n",
            "7352/7352 [==============================] - 13s 2ms/step - loss: 0.8026 - acc: 0.6353 - val_loss: 0.8003 - val_acc: 0.6166\n",
            "Epoch 11/50\n",
            "7352/7352 [==============================] - 13s 2ms/step - loss: 0.8872 - acc: 0.6230 - val_loss: 0.9043 - val_acc: 0.6474\n",
            "Epoch 12/50\n",
            "7352/7352 [==============================] - 13s 2ms/step - loss: 0.7821 - acc: 0.6741 - val_loss: 0.6648 - val_acc: 0.7041\n",
            "Epoch 13/50\n",
            "7352/7352 [==============================] - 13s 2ms/step - loss: 0.6043 - acc: 0.7688 - val_loss: 0.6902 - val_acc: 0.7109\n",
            "Epoch 14/50\n",
            "7352/7352 [==============================] - 13s 2ms/step - loss: 0.4179 - acc: 0.8541 - val_loss: 0.4127 - val_acc: 0.8483\n",
            "Epoch 15/50\n",
            "7352/7352 [==============================] - 13s 2ms/step - loss: 0.3617 - acc: 0.8719 - val_loss: 0.4195 - val_acc: 0.8649\n",
            "Epoch 16/50\n",
            "7352/7352 [==============================] - 13s 2ms/step - loss: 0.2816 - acc: 0.9018 - val_loss: 0.3375 - val_acc: 0.8728\n",
            "Epoch 17/50\n",
            "7352/7352 [==============================] - 13s 2ms/step - loss: 0.2540 - acc: 0.9086 - val_loss: 0.2816 - val_acc: 0.8870\n",
            "Epoch 18/50\n",
            "7352/7352 [==============================] - 13s 2ms/step - loss: 0.2007 - acc: 0.9249 - val_loss: 0.3060 - val_acc: 0.8853\n",
            "Epoch 19/50\n",
            "7352/7352 [==============================] - 13s 2ms/step - loss: 0.2365 - acc: 0.9221 - val_loss: 0.2406 - val_acc: 0.9070\n",
            "Epoch 20/50\n",
            "7352/7352 [==============================] - 13s 2ms/step - loss: 0.2038 - acc: 0.9244 - val_loss: 0.3377 - val_acc: 0.9006\n",
            "Epoch 21/50\n",
            "7352/7352 [==============================] - 13s 2ms/step - loss: 0.1649 - acc: 0.9350 - val_loss: 0.2803 - val_acc: 0.8979\n",
            "Epoch 22/50\n",
            "7352/7352 [==============================] - 13s 2ms/step - loss: 0.1935 - acc: 0.9334 - val_loss: 0.3490 - val_acc: 0.8901\n",
            "Epoch 23/50\n",
            "7352/7352 [==============================] - 13s 2ms/step - loss: 0.1570 - acc: 0.9370 - val_loss: 0.3393 - val_acc: 0.8856\n",
            "Epoch 24/50\n",
            "7352/7352 [==============================] - 13s 2ms/step - loss: 0.1605 - acc: 0.9366 - val_loss: 0.3510 - val_acc: 0.8884\n",
            "Epoch 25/50\n",
            "7352/7352 [==============================] - 13s 2ms/step - loss: 0.1382 - acc: 0.9472 - val_loss: 0.3157 - val_acc: 0.8935\n",
            "Epoch 26/50\n",
            "7352/7352 [==============================] - 13s 2ms/step - loss: 0.1450 - acc: 0.9441 - val_loss: 0.2566 - val_acc: 0.9067\n",
            "Epoch 27/50\n",
            "7352/7352 [==============================] - 13s 2ms/step - loss: 0.1327 - acc: 0.9472 - val_loss: 0.2997 - val_acc: 0.9141\n",
            "Epoch 28/50\n",
            "7352/7352 [==============================] - 13s 2ms/step - loss: 0.1316 - acc: 0.9487 - val_loss: 0.2630 - val_acc: 0.9138\n",
            "Epoch 29/50\n",
            "7352/7352 [==============================] - 13s 2ms/step - loss: 0.1285 - acc: 0.9463 - val_loss: 0.3003 - val_acc: 0.9138\n",
            "Epoch 30/50\n",
            "7352/7352 [==============================] - 13s 2ms/step - loss: 0.1379 - acc: 0.9487 - val_loss: 0.2370 - val_acc: 0.9158\n",
            "Epoch 31/50\n",
            "7352/7352 [==============================] - 13s 2ms/step - loss: 0.3599 - acc: 0.9027 - val_loss: 0.5325 - val_acc: 0.8290\n",
            "Epoch 32/50\n",
            "7352/7352 [==============================] - 13s 2ms/step - loss: 0.1473 - acc: 0.9431 - val_loss: 0.2709 - val_acc: 0.9169\n",
            "Epoch 33/50\n",
            "7352/7352 [==============================] - 13s 2ms/step - loss: 0.1406 - acc: 0.9482 - val_loss: 0.2173 - val_acc: 0.9213\n",
            "Epoch 34/50\n",
            "7352/7352 [==============================] - 13s 2ms/step - loss: 0.1457 - acc: 0.9455 - val_loss: 0.3075 - val_acc: 0.9131\n",
            "Epoch 35/50\n",
            "7352/7352 [==============================] - 12s 2ms/step - loss: 0.1291 - acc: 0.9480 - val_loss: 0.2539 - val_acc: 0.9182\n",
            "Epoch 36/50\n",
            "7352/7352 [==============================] - 13s 2ms/step - loss: 0.1300 - acc: 0.9483 - val_loss: 0.2888 - val_acc: 0.9145\n",
            "Epoch 37/50\n",
            "7352/7352 [==============================] - 13s 2ms/step - loss: 0.1411 - acc: 0.9478 - val_loss: 0.2828 - val_acc: 0.9138\n",
            "Epoch 38/50\n",
            "7352/7352 [==============================] - 13s 2ms/step - loss: 0.1275 - acc: 0.9472 - val_loss: 0.3035 - val_acc: 0.9213\n",
            "Epoch 39/50\n",
            "7352/7352 [==============================] - 13s 2ms/step - loss: 0.1148 - acc: 0.9513 - val_loss: 0.2713 - val_acc: 0.9118\n",
            "Epoch 40/50\n",
            "7352/7352 [==============================] - 13s 2ms/step - loss: 0.1164 - acc: 0.9527 - val_loss: 0.2678 - val_acc: 0.9277\n",
            "Epoch 41/50\n",
            "7352/7352 [==============================] - 13s 2ms/step - loss: 0.1246 - acc: 0.9505 - val_loss: 0.2872 - val_acc: 0.9046\n",
            "Epoch 42/50\n",
            "7352/7352 [==============================] - 13s 2ms/step - loss: 0.1148 - acc: 0.9538 - val_loss: 0.2775 - val_acc: 0.9138\n",
            "Epoch 43/50\n",
            "7352/7352 [==============================] - 13s 2ms/step - loss: 0.1171 - acc: 0.9539 - val_loss: 0.2907 - val_acc: 0.9257\n",
            "Epoch 44/50\n",
            "7352/7352 [==============================] - 13s 2ms/step - loss: 0.1152 - acc: 0.9547 - val_loss: 0.2639 - val_acc: 0.9270\n",
            "Epoch 45/50\n",
            "7352/7352 [==============================] - 13s 2ms/step - loss: 0.1350 - acc: 0.9418 - val_loss: 0.2640 - val_acc: 0.9063\n",
            "Epoch 46/50\n",
            "7352/7352 [==============================] - 13s 2ms/step - loss: 0.1132 - acc: 0.9478 - val_loss: 0.2723 - val_acc: 0.9213\n",
            "Epoch 47/50\n",
            "7352/7352 [==============================] - 13s 2ms/step - loss: 0.1089 - acc: 0.9557 - val_loss: 0.3218 - val_acc: 0.9213\n",
            "Epoch 48/50\n",
            "7352/7352 [==============================] - 12s 2ms/step - loss: 0.1152 - acc: 0.9548 - val_loss: 0.4168 - val_acc: 0.8982\n",
            "Epoch 49/50\n",
            "7352/7352 [==============================] - 13s 2ms/step - loss: 0.1173 - acc: 0.9550 - val_loss: 0.2701 - val_acc: 0.9294\n",
            "Epoch 50/50\n",
            "7352/7352 [==============================] - 12s 2ms/step - loss: 0.1111 - acc: 0.9588 - val_loss: 0.2337 - val_acc: 0.9240\n"
          ],
          "name": "stdout"
        }
      ]
    },
    {
      "cell_type": "code",
      "metadata": {
        "id": "IbpDZ74kupD8",
        "colab_type": "code",
        "outputId": "508e9de9-793a-483e-f1e5-eda4a6720131",
        "colab": {
          "base_uri": "https://localhost:8080/",
          "height": 185
        }
      },
      "source": [
        "# Confusion Matrix\n",
        "print(confusion_matrix(Y_test, model.predict(X_test)))"
      ],
      "execution_count": 21,
      "outputs": [
        {
          "output_type": "stream",
          "text": [
            "Pred                LAYING  SITTING  ...  WALKING_DOWNSTAIRS  WALKING_UPSTAIRS\n",
            "True                                 ...                                      \n",
            "LAYING                 537        0  ...                   0                 0\n",
            "SITTING                  5      387  ...                   0                 1\n",
            "STANDING                 0       97  ...                   0                 0\n",
            "WALKING                  0        0  ...                  14                 0\n",
            "WALKING_DOWNSTAIRS       0        0  ...                 418                 1\n",
            "WALKING_UPSTAIRS         0        1  ...                   1               464\n",
            "\n",
            "[6 rows x 6 columns]\n"
          ],
          "name": "stdout"
        }
      ]
    },
    {
      "cell_type": "code",
      "metadata": {
        "id": "uc0fBoB5upD_",
        "colab_type": "code",
        "outputId": "d6df21de-e881-44ae-b25c-e8af4d820a36",
        "colab": {
          "base_uri": "https://localhost:8080/",
          "height": 34
        }
      },
      "source": [
        "score_model1 = model.evaluate(X_test, Y_test)"
      ],
      "execution_count": 22,
      "outputs": [
        {
          "output_type": "stream",
          "text": [
            "2947/2947 [==============================] - 5s 2ms/step\n"
          ],
          "name": "stdout"
        }
      ]
    },
    {
      "cell_type": "code",
      "metadata": {
        "id": "zFxpt5cmupEB",
        "colab_type": "code",
        "outputId": "45490521-e2f5-4c72-f5bd-8a57d0a93dc3",
        "colab": {
          "base_uri": "https://localhost:8080/",
          "height": 34
        }
      },
      "source": [
        "score_model1"
      ],
      "execution_count": 23,
      "outputs": [
        {
          "output_type": "execute_result",
          "data": {
            "text/plain": [
              "[0.23366940406341205, 0.9239904988123515]"
            ]
          },
          "metadata": {
            "tags": []
          },
          "execution_count": 23
        }
      ]
    },
    {
      "cell_type": "code",
      "metadata": {
        "id": "FunULqW98IEH",
        "colab_type": "code",
        "colab": {}
      },
      "source": [
        "#https://github.com/sunneysood/Tensorflow/blob/master/Multi_Layer_LSTM.ipynb\n",
        "import matplotlib.pyplot as plt\n",
        "\n",
        "\n",
        "def plot_graphs(history, string):\n",
        "  plt.plot(history.history[string])\n",
        "  plt.plot(history.history['val_'+string])\n",
        "  plt.xlabel(\"Epochs\")\n",
        "  plt.ylabel(string)\n",
        "  plt.legend([string, 'val_'+string])\n",
        "  plt.show()"
      ],
      "execution_count": 0,
      "outputs": []
    },
    {
      "cell_type": "code",
      "metadata": {
        "id": "PB9onSOH8KCE",
        "colab_type": "code",
        "outputId": "116591d7-3605-41ce-a3af-9afce5ea1c19",
        "colab": {
          "base_uri": "https://localhost:8080/",
          "height": 541
        }
      },
      "source": [
        "plot_graphs(history, 'acc')\n",
        "plot_graphs(history, 'loss')"
      ],
      "execution_count": 25,
      "outputs": [
        {
          "output_type": "display_data",
          "data": {
            "image/png": "[encoded data removed]",
            "text/plain": [
              "<Figure size 432x288 with 1 Axes>"
            ]
          },
          "metadata": {
            "tags": []
          }
        },
        {
          "output_type": "display_data",
          "data": {
            "image/png": "[encoded data removed]",
            "text/plain": [
              "<Figure size 432x288 with 1 Axes>"
            ]
          },
          "metadata": {
            "tags": []
          }
        }
      ]
    },
    {
      "cell_type": "markdown",
      "metadata": {
        "id": "OmNnx8IoupEC",
        "colab_type": "text"
      },
      "source": [
        "- With a simple 2 layer architecture we got 90.09% accuracy and a loss of 0.30\n",
        "- We can further imporve the performace with Hyperparameter tuning"
      ]
    },
    {
      "cell_type": "markdown",
      "metadata": {
        "id": "efBvnzn988fz",
        "colab_type": "text"
      },
      "source": [
        "# Model 2"
      ]
    },
    {
      "cell_type": "code",
      "metadata": {
        "id": "-OOKwl5L9AFR",
        "colab_type": "code",
        "colab": {}
      },
      "source": [
        ""
      ],
      "execution_count": 0,
      "outputs": []
    },
    {
      "cell_type": "code",
      "metadata": {
        "colab_type": "code",
        "id": "5qkncBIP9KZk",
        "colab": {}
      },
      "source": [
        "# Initializing parameters\n",
        "epochs = 50\n",
        "batch_size = 100\n",
        "n_hidden = 64"
      ],
      "execution_count": 0,
      "outputs": []
    },
    {
      "cell_type": "code",
      "metadata": {
        "colab_type": "code",
        "outputId": "1b596638-343e-4c51-fc5f-950b723c87fb",
        "id": "735ZyT-P9KZq",
        "colab": {
          "base_uri": "https://localhost:8080/",
          "height": 269
        }
      },
      "source": [
        "# Initiliazing the sequential model\n",
        "model = Sequential()\n",
        "# Configuring the parameters\n",
        "model.add(LSTM(n_hidden, input_shape=(timesteps, input_dim)))\n",
        "# Adding a dropout layer\n",
        "model.add(Dropout(0.60))\n",
        "# Adding a dense output layer with sigmoid activation\n",
        "model.add(Dense(n_classes, activation='sigmoid'))\n",
        "model.summary()"
      ],
      "execution_count": 27,
      "outputs": [
        {
          "output_type": "stream",
          "text": [
            "WARNING:tensorflow:Large dropout rate: 0.6 (>0.5). In TensorFlow 2.x, dropout() uses dropout rate instead of keep_prob. Please ensure that this is intended.\n",
            "Model: \"sequential_2\"\n",
            "_________________________________________________________________\n",
            "Layer (type)                 Output Shape              Param #   \n",
            "=================================================================\n",
            "lstm_2 (LSTM)                (None, 64)                18944     \n",
            "_________________________________________________________________\n",
            "dropout_2 (Dropout)          (None, 64)                0         \n",
            "_________________________________________________________________\n",
            "dense_2 (Dense)              (None, 6)                 390       \n",
            "=================================================================\n",
            "Total params: 19,334\n",
            "Trainable params: 19,334\n",
            "Non-trainable params: 0\n",
            "_________________________________________________________________\n"
          ],
          "name": "stdout"
        }
      ]
    },
    {
      "cell_type": "code",
      "metadata": {
        "colab_type": "code",
        "id": "defSwyby9KZs",
        "colab": {}
      },
      "source": [
        "# Compiling the model\n",
        "model.compile(loss='categorical_crossentropy',\n",
        "              optimizer='rmsprop',\n",
        "              metrics=['accuracy'])"
      ],
      "execution_count": 0,
      "outputs": []
    },
    {
      "cell_type": "code",
      "metadata": {
        "colab_type": "code",
        "outputId": "545dda37-6d18-440b-e0e1-ab8f55893f8c",
        "id": "aNNyy-gU9KZv",
        "colab": {
          "base_uri": "https://localhost:8080/",
          "height": 1000
        }
      },
      "source": [
        "# Training the model\n",
        "history = model.fit(X_train,\n",
        "          Y_train,\n",
        "          batch_size=batch_size,\n",
        "          validation_data=(X_test, Y_test),\n",
        "          epochs=epochs)"
      ],
      "execution_count": 29,
      "outputs": [
        {
          "output_type": "stream",
          "text": [
            "Train on 7352 samples, validate on 2947 samples\n",
            "Epoch 1/50\n",
            "7352/7352 [==============================] - 13s 2ms/step - loss: 1.4521 - acc: 0.3745 - val_loss: 1.3466 - val_acc: 0.4157\n",
            "Epoch 2/50\n",
            "7352/7352 [==============================] - 13s 2ms/step - loss: 1.2343 - acc: 0.4758 - val_loss: 1.1975 - val_acc: 0.4662\n",
            "Epoch 3/50\n",
            "7352/7352 [==============================] - 13s 2ms/step - loss: 1.1193 - acc: 0.5069 - val_loss: 1.1867 - val_acc: 0.5005\n",
            "Epoch 4/50\n",
            "7352/7352 [==============================] - 13s 2ms/step - loss: 1.0557 - acc: 0.5099 - val_loss: 1.1546 - val_acc: 0.4706\n",
            "Epoch 5/50\n",
            "7352/7352 [==============================] - 13s 2ms/step - loss: 1.0820 - acc: 0.4927 - val_loss: 1.1243 - val_acc: 0.4737\n",
            "Epoch 6/50\n",
            "7352/7352 [==============================] - 13s 2ms/step - loss: 1.1131 - acc: 0.5007 - val_loss: 1.1292 - val_acc: 0.5467\n",
            "Epoch 7/50\n",
            "7352/7352 [==============================] - 13s 2ms/step - loss: 1.0350 - acc: 0.5324 - val_loss: 1.0944 - val_acc: 0.5154\n",
            "Epoch 8/50\n",
            "7352/7352 [==============================] - 13s 2ms/step - loss: 0.9976 - acc: 0.5536 - val_loss: 0.9647 - val_acc: 0.5792\n",
            "Epoch 9/50\n",
            "7352/7352 [==============================] - 13s 2ms/step - loss: 0.9221 - acc: 0.5894 - val_loss: 0.8978 - val_acc: 0.5918\n",
            "Epoch 10/50\n",
            "7352/7352 [==============================] - 13s 2ms/step - loss: 0.8387 - acc: 0.6117 - val_loss: 0.8485 - val_acc: 0.6169\n",
            "Epoch 11/50\n",
            "7352/7352 [==============================] - 13s 2ms/step - loss: 0.8185 - acc: 0.6174 - val_loss: 0.8682 - val_acc: 0.6132\n",
            "Epoch 12/50\n",
            "7352/7352 [==============================] - 13s 2ms/step - loss: 0.8216 - acc: 0.6198 - val_loss: 0.8539 - val_acc: 0.5996\n",
            "Epoch 13/50\n",
            "7352/7352 [==============================] - 13s 2ms/step - loss: 0.7585 - acc: 0.6432 - val_loss: 0.8361 - val_acc: 0.6054\n",
            "Epoch 14/50\n",
            "7352/7352 [==============================] - 13s 2ms/step - loss: 0.7040 - acc: 0.6474 - val_loss: 0.7938 - val_acc: 0.6057\n",
            "Epoch 15/50\n",
            "7352/7352 [==============================] - 13s 2ms/step - loss: 0.7416 - acc: 0.6317 - val_loss: 0.8531 - val_acc: 0.6098\n",
            "Epoch 16/50\n",
            "7352/7352 [==============================] - 13s 2ms/step - loss: 0.7087 - acc: 0.6472 - val_loss: 0.8496 - val_acc: 0.6023\n",
            "Epoch 17/50\n",
            "7352/7352 [==============================] - 13s 2ms/step - loss: 0.6693 - acc: 0.6472 - val_loss: 0.8106 - val_acc: 0.5972\n",
            "Epoch 18/50\n",
            "7352/7352 [==============================] - 13s 2ms/step - loss: 0.6923 - acc: 0.6432 - val_loss: 0.7691 - val_acc: 0.6057\n",
            "Epoch 19/50\n",
            "7352/7352 [==============================] - 13s 2ms/step - loss: 0.6066 - acc: 0.6570 - val_loss: 0.7224 - val_acc: 0.6081\n",
            "Epoch 20/50\n",
            "7352/7352 [==============================] - 13s 2ms/step - loss: 0.6040 - acc: 0.6559 - val_loss: 0.7183 - val_acc: 0.6101\n",
            "Epoch 21/50\n",
            "7352/7352 [==============================] - 13s 2ms/step - loss: 0.6257 - acc: 0.6483 - val_loss: 0.7060 - val_acc: 0.6125\n",
            "Epoch 22/50\n",
            "7352/7352 [==============================] - 13s 2ms/step - loss: 0.5748 - acc: 0.6613 - val_loss: 0.7488 - val_acc: 0.6105\n",
            "Epoch 23/50\n",
            "7352/7352 [==============================] - 13s 2ms/step - loss: 0.5720 - acc: 0.6582 - val_loss: 0.7095 - val_acc: 0.6108\n",
            "Epoch 24/50\n",
            "7352/7352 [==============================] - 13s 2ms/step - loss: 0.5717 - acc: 0.6590 - val_loss: 0.6919 - val_acc: 0.6101\n",
            "Epoch 25/50\n",
            "7352/7352 [==============================] - 13s 2ms/step - loss: 0.5631 - acc: 0.6619 - val_loss: 0.6940 - val_acc: 0.6166\n",
            "Epoch 26/50\n",
            "7352/7352 [==============================] - 13s 2ms/step - loss: 0.5335 - acc: 0.6654 - val_loss: 0.7282 - val_acc: 0.6108\n",
            "Epoch 27/50\n",
            "7352/7352 [==============================] - 13s 2ms/step - loss: 0.5487 - acc: 0.6674 - val_loss: 0.7174 - val_acc: 0.6108\n",
            "Epoch 28/50\n",
            "7352/7352 [==============================] - 13s 2ms/step - loss: 0.5225 - acc: 0.6723 - val_loss: 0.6959 - val_acc: 0.6210\n",
            "Epoch 29/50\n",
            "7352/7352 [==============================] - 13s 2ms/step - loss: 0.5182 - acc: 0.6767 - val_loss: 0.6125 - val_acc: 0.6250\n",
            "Epoch 30/50\n",
            "7352/7352 [==============================] - 13s 2ms/step - loss: 0.5091 - acc: 0.6813 - val_loss: 0.6704 - val_acc: 0.6203\n",
            "Epoch 31/50\n",
            "7352/7352 [==============================] - 13s 2ms/step - loss: 0.4909 - acc: 0.6851 - val_loss: 0.6428 - val_acc: 0.6223\n",
            "Epoch 32/50\n",
            "7352/7352 [==============================] - 13s 2ms/step - loss: 0.4848 - acc: 0.6839 - val_loss: 0.6615 - val_acc: 0.6138\n",
            "Epoch 33/50\n",
            "7352/7352 [==============================] - 13s 2ms/step - loss: 0.4809 - acc: 0.6915 - val_loss: 0.6346 - val_acc: 0.6128\n",
            "Epoch 34/50\n",
            "7352/7352 [==============================] - 13s 2ms/step - loss: 0.4858 - acc: 0.6934 - val_loss: 0.5728 - val_acc: 0.6328\n",
            "Epoch 35/50\n",
            "7352/7352 [==============================] - 13s 2ms/step - loss: 0.4677 - acc: 0.7156 - val_loss: 0.6132 - val_acc: 0.6580\n",
            "Epoch 36/50\n",
            "7352/7352 [==============================] - 13s 2ms/step - loss: 0.4530 - acc: 0.7394 - val_loss: 0.6743 - val_acc: 0.6929\n",
            "Epoch 37/50\n",
            "7352/7352 [==============================] - 13s 2ms/step - loss: 0.4845 - acc: 0.7435 - val_loss: 0.6960 - val_acc: 0.6882\n",
            "Epoch 38/50\n",
            "7352/7352 [==============================] - 13s 2ms/step - loss: 0.4513 - acc: 0.7794 - val_loss: 0.5497 - val_acc: 0.7693\n",
            "Epoch 39/50\n",
            "7352/7352 [==============================] - 13s 2ms/step - loss: 0.3964 - acc: 0.8164 - val_loss: 0.4697 - val_acc: 0.8157\n",
            "Epoch 40/50\n",
            "7352/7352 [==============================] - 13s 2ms/step - loss: 0.3792 - acc: 0.8190 - val_loss: 0.4605 - val_acc: 0.7869\n",
            "Epoch 41/50\n",
            "7352/7352 [==============================] - 13s 2ms/step - loss: 0.3565 - acc: 0.8360 - val_loss: 0.5351 - val_acc: 0.7659\n",
            "Epoch 42/50\n",
            "7352/7352 [==============================] - 13s 2ms/step - loss: 0.3187 - acc: 0.8792 - val_loss: 0.3893 - val_acc: 0.8609\n",
            "Epoch 43/50\n",
            "7352/7352 [==============================] - 13s 2ms/step - loss: 0.2576 - acc: 0.9140 - val_loss: 0.3526 - val_acc: 0.8707\n",
            "Epoch 44/50\n",
            "7352/7352 [==============================] - 13s 2ms/step - loss: 0.2267 - acc: 0.9256 - val_loss: 0.3299 - val_acc: 0.8826\n",
            "Epoch 45/50\n",
            "7352/7352 [==============================] - 13s 2ms/step - loss: 0.1944 - acc: 0.9365 - val_loss: 0.3877 - val_acc: 0.8880\n",
            "Epoch 46/50\n",
            "7352/7352 [==============================] - 13s 2ms/step - loss: 0.1740 - acc: 0.9408 - val_loss: 0.3707 - val_acc: 0.8863\n",
            "Epoch 47/50\n",
            "7352/7352 [==============================] - 13s 2ms/step - loss: 0.1829 - acc: 0.9343 - val_loss: 0.3197 - val_acc: 0.8962\n",
            "Epoch 48/50\n",
            "7352/7352 [==============================] - 13s 2ms/step - loss: 0.1603 - acc: 0.9437 - val_loss: 0.2943 - val_acc: 0.9026\n",
            "Epoch 49/50\n",
            "7352/7352 [==============================] - 13s 2ms/step - loss: 0.1667 - acc: 0.9436 - val_loss: 0.3235 - val_acc: 0.8999\n",
            "Epoch 50/50\n",
            "7352/7352 [==============================] - 12s 2ms/step - loss: 0.1745 - acc: 0.9463 - val_loss: 0.3826 - val_acc: 0.8755\n"
          ],
          "name": "stdout"
        }
      ]
    },
    {
      "cell_type": "code",
      "metadata": {
        "colab_type": "code",
        "outputId": "938c640f-4554-43ef-ef54-d6ebcbcc6e95",
        "id": "mAMxh-o39KZx",
        "colab": {
          "base_uri": "https://localhost:8080/",
          "height": 185
        }
      },
      "source": [
        "# Confusion Matrix\n",
        "print(confusion_matrix(Y_test, model.predict(X_test)))"
      ],
      "execution_count": 30,
      "outputs": [
        {
          "output_type": "stream",
          "text": [
            "Pred                LAYING  SITTING  ...  WALKING_DOWNSTAIRS  WALKING_UPSTAIRS\n",
            "True                                 ...                                      \n",
            "LAYING                 510        0  ...                   0                27\n",
            "SITTING                  2      376  ...                   0                 0\n",
            "STANDING                 0       71  ...                   0                 0\n",
            "WALKING                  0        0  ...                   1                31\n",
            "WALKING_DOWNSTAIRS       0        0  ...                 346                73\n",
            "WALKING_UPSTAIRS         0        1  ...                  15               429\n",
            "\n",
            "[6 rows x 6 columns]\n"
          ],
          "name": "stdout"
        }
      ]
    },
    {
      "cell_type": "code",
      "metadata": {
        "colab_type": "code",
        "outputId": "3c10d1ed-42ed-4e40-9cd2-bf28dc9bc207",
        "id": "jIsi9KMp9KZz",
        "colab": {
          "base_uri": "https://localhost:8080/",
          "height": 34
        }
      },
      "source": [
        "score_model2 = model.evaluate(X_test, Y_test)"
      ],
      "execution_count": 31,
      "outputs": [
        {
          "output_type": "stream",
          "text": [
            "2947/2947 [==============================] - 5s 2ms/step\n"
          ],
          "name": "stdout"
        }
      ]
    },
    {
      "cell_type": "code",
      "metadata": {
        "colab_type": "code",
        "outputId": "c9b58b79-c871-4116-9851-f585b6d07c17",
        "id": "i1diEjGI9KZ2",
        "colab": {
          "base_uri": "https://localhost:8080/",
          "height": 34
        }
      },
      "source": [
        "score_model2"
      ],
      "execution_count": 32,
      "outputs": [
        {
          "output_type": "execute_result",
          "data": {
            "text/plain": [
              "[0.3825929564366027, 0.8754665761791652]"
            ]
          },
          "metadata": {
            "tags": []
          },
          "execution_count": 32
        }
      ]
    },
    {
      "cell_type": "code",
      "metadata": {
        "colab_type": "code",
        "id": "N2oQGOLs9KZ4",
        "colab": {}
      },
      "source": [
        "#https://github.com/sunneysood/Tensorflow/blob/master/Multi_Layer_LSTM.ipynb\n",
        "import matplotlib.pyplot as plt\n",
        "\n",
        "\n",
        "def plot_graphs(history, string):\n",
        "  plt.plot(history.history[string])\n",
        "  plt.plot(history.history['val_'+string])\n",
        "  plt.xlabel(\"Epochs\")\n",
        "  plt.ylabel(string)\n",
        "  plt.legend([string, 'val_'+string])\n",
        "  plt.show()"
      ],
      "execution_count": 0,
      "outputs": []
    },
    {
      "cell_type": "code",
      "metadata": {
        "colab_type": "code",
        "id": "HPj-_8E49KZ6",
        "outputId": "83eeb2b7-35d0-4b51-fbbe-8db1136b153b",
        "colab": {
          "base_uri": "https://localhost:8080/",
          "height": 541
        }
      },
      "source": [
        "plot_graphs(history, 'acc')\n",
        "plot_graphs(history, 'loss')"
      ],
      "execution_count": 34,
      "outputs": [
        {
          "output_type": "display_data",
          "data": {
            "image/png": "[encoded data removed]",
            "text/plain": [
              "<Figure size 432x288 with 1 Axes>"
            ]
          },
          "metadata": {
            "tags": []
          }
        },
        {
          "output_type": "display_data",
          "data": {
            "image/png": "[encoded data removed]",
            "text/plain": [
              "<Figure size 432x288 with 1 Axes>"
            ]
          },
          "metadata": {
            "tags": []
          }
        }
      ]
    },
    {
      "cell_type": "markdown",
      "metadata": {
        "colab_type": "text",
        "id": "renREvoF9KZ8"
      },
      "source": [
        "- With a simple 2 layer architecture and high dropout we got 62.85% accuracy and a loss of 0.66"
      ]
    },
    {
      "cell_type": "markdown",
      "metadata": {
        "id": "Cc6hRU_O9NdM",
        "colab_type": "text"
      },
      "source": [
        "# Model 3"
      ]
    },
    {
      "cell_type": "code",
      "metadata": {
        "id": "BzHEKIgoirr3",
        "colab_type": "code",
        "colab": {}
      },
      "source": [
        "#https://towardsdatascience.com/neural-network-with-tensorflow-how-to-stop-training-using-callback-5c8d575c18a9\n",
        "\n",
        "# when accuracy reaches ACCURACY_THRESHOLD\n",
        "from keras.callbacks import Callback\n",
        "\n",
        "ACCURACY_THRESHOLD = 0.94\n",
        "\n",
        "class myCallback(Callback):\n",
        "\tdef on_epoch_end(self, epoch, logs={}):\n",
        "\t\tif(logs.get('val_acc') > ACCURACY_THRESHOLD):\n",
        "\t\t\tprint(\"\\nReached %2.2f%% accuracy, so stopping training!!\" %(ACCURACY_THRESHOLD*100))\n",
        "\t\t\tself.model.stop_training = True\n",
        "\n",
        "# Instantiate a callback object\n",
        "callbacks = myCallback()\n"
      ],
      "execution_count": 0,
      "outputs": []
    },
    {
      "cell_type": "code",
      "metadata": {
        "colab_type": "code",
        "id": "6jnUjek89R7v",
        "colab": {}
      },
      "source": [
        "# Initializing parameters\n",
        "epochs = 100\n",
        "batch_size = 200\n",
        "n_hidden = 200"
      ],
      "execution_count": 0,
      "outputs": []
    },
    {
      "cell_type": "code",
      "metadata": {
        "colab_type": "code",
        "outputId": "0dc1cede-c3e6-407d-f43b-7f9ae27744fe",
        "id": "4RH6bZ219R71",
        "colab": {
          "base_uri": "https://localhost:8080/",
          "height": 353
        }
      },
      "source": [
        "# Initiliazing the sequential model\n",
        "from keras.layers import BatchNormalization\n",
        "model = Sequential()\n",
        "# Configuring the parameters\n",
        "model.add(LSTM(n_hidden, input_shape=(timesteps, input_dim),return_sequences=True))\n",
        "# Adding a dropout layer\n",
        "model.add(Dropout(0.45))\n",
        "model.add(BatchNormalization())\n",
        "model.add(LSTM(n_hidden - 32))\n",
        "model.add(Dropout(0.5))\n",
        "# Adding a dense output layer with sigmoid activation\n",
        "model.add(Dense(n_classes, activation='sigmoid'))\n",
        "model.summary()\n"
      ],
      "execution_count": 94,
      "outputs": [
        {
          "output_type": "stream",
          "text": [
            "Model: \"sequential_21\"\n",
            "_________________________________________________________________\n",
            "Layer (type)                 Output Shape              Param #   \n",
            "=================================================================\n",
            "lstm_38 (LSTM)               (None, 128, 200)          168000    \n",
            "_________________________________________________________________\n",
            "dropout_29 (Dropout)         (None, 128, 200)          0         \n",
            "_________________________________________________________________\n",
            "batch_normalization_23 (Batc (None, 128, 200)          800       \n",
            "_________________________________________________________________\n",
            "lstm_39 (LSTM)               (None, 168)               247968    \n",
            "_________________________________________________________________\n",
            "dropout_30 (Dropout)         (None, 168)               0         \n",
            "_________________________________________________________________\n",
            "dense_19 (Dense)             (None, 6)                 1014      \n",
            "=================================================================\n",
            "Total params: 417,782\n",
            "Trainable params: 417,382\n",
            "Non-trainable params: 400\n",
            "_________________________________________________________________\n"
          ],
          "name": "stdout"
        }
      ]
    },
    {
      "cell_type": "code",
      "metadata": {
        "colab_type": "code",
        "id": "uroVVOeP9R73",
        "colab": {}
      },
      "source": [
        "# Compiling the model\n",
        "#https://stackoverflow.com/questions/56977277/default-adam-optimizer-doesnt-work-in-tf-keras-but-string-adam-does\n",
        "#https://stackoverflow.com/questions/50056356/could-not-interpret-optimizer-identifier-error-in-keras\n",
        "\n",
        "#from tensorflow.python.keras.optimizer_v2.adam import Adam\n",
        "\n",
        "\n",
        "#from keras.optimizers import adam\n",
        "#adam = adam(lr=0.001,decay = 1e-4)\n",
        "\n",
        "model.compile(loss='categorical_crossentropy',\n",
        "              optimizer='adam',\n",
        "              metrics=['accuracy'])"
      ],
      "execution_count": 0,
      "outputs": []
    },
    {
      "cell_type": "code",
      "metadata": {
        "colab_type": "code",
        "outputId": "4b42d475-76a9-4472-ef58-0b4b4e0b0ed7",
        "id": "fzYMlhML9R76",
        "colab": {
          "base_uri": "https://localhost:8080/",
          "height": 1000
        }
      },
      "source": [
        "# Training the model\n",
        "history = model.fit(X_train, Y_train,\n",
        "          callbacks=[callbacks],\n",
        "          batch_size=batch_size,\n",
        "          validation_data=(X_test, Y_test),\n",
        "          epochs=epochs)"
      ],
      "execution_count": 96,
      "outputs": [
        {
          "output_type": "stream",
          "text": [
            "Train on 7352 samples, validate on 2947 samples\n",
            "Epoch 1/100\n",
            "7352/7352 [==============================] - 33s 5ms/step - loss: 1.0837 - acc: 0.5945 - val_loss: 1.4406 - val_acc: 0.4055\n",
            "Epoch 2/100\n",
            "7352/7352 [==============================] - 23s 3ms/step - loss: 0.5407 - acc: 0.8160 - val_loss: 1.5593 - val_acc: 0.5365\n",
            "Epoch 3/100\n",
            "7352/7352 [==============================] - 23s 3ms/step - loss: 0.2936 - acc: 0.9057 - val_loss: 0.4098 - val_acc: 0.8521\n",
            "Epoch 4/100\n",
            "7352/7352 [==============================] - 23s 3ms/step - loss: 0.1937 - acc: 0.9302 - val_loss: 0.4058 - val_acc: 0.8619\n",
            "Epoch 5/100\n",
            "7352/7352 [==============================] - 23s 3ms/step - loss: 0.1546 - acc: 0.9423 - val_loss: 0.2776 - val_acc: 0.9101\n",
            "Epoch 6/100\n",
            "7352/7352 [==============================] - 23s 3ms/step - loss: 0.1455 - acc: 0.9430 - val_loss: 0.3506 - val_acc: 0.8772\n",
            "Epoch 7/100\n",
            "7352/7352 [==============================] - 23s 3ms/step - loss: 0.1833 - acc: 0.9339 - val_loss: 0.2906 - val_acc: 0.8968\n",
            "Epoch 8/100\n",
            "7352/7352 [==============================] - 23s 3ms/step - loss: 0.1432 - acc: 0.9472 - val_loss: 0.2471 - val_acc: 0.9077\n",
            "Epoch 9/100\n",
            "7352/7352 [==============================] - 23s 3ms/step - loss: 0.1335 - acc: 0.9459 - val_loss: 0.3508 - val_acc: 0.8850\n",
            "Epoch 10/100\n",
            "7352/7352 [==============================] - 23s 3ms/step - loss: 0.1386 - acc: 0.9449 - val_loss: 0.3125 - val_acc: 0.9060\n",
            "Epoch 11/100\n",
            "7352/7352 [==============================] - 23s 3ms/step - loss: 0.1451 - acc: 0.9464 - val_loss: 0.3171 - val_acc: 0.9040\n",
            "Epoch 12/100\n",
            "7352/7352 [==============================] - 23s 3ms/step - loss: 0.1288 - acc: 0.9514 - val_loss: 0.3942 - val_acc: 0.8928\n",
            "Epoch 13/100\n",
            "7352/7352 [==============================] - 23s 3ms/step - loss: 0.1769 - acc: 0.9348 - val_loss: 0.3720 - val_acc: 0.8901\n",
            "Epoch 14/100\n",
            "7352/7352 [==============================] - 23s 3ms/step - loss: 0.1390 - acc: 0.9467 - val_loss: 0.3774 - val_acc: 0.8870\n",
            "Epoch 15/100\n",
            "7352/7352 [==============================] - 23s 3ms/step - loss: 0.1376 - acc: 0.9465 - val_loss: 0.2859 - val_acc: 0.9162\n",
            "Epoch 16/100\n",
            "7352/7352 [==============================] - 23s 3ms/step - loss: 0.1261 - acc: 0.9479 - val_loss: 0.3294 - val_acc: 0.9074\n",
            "Epoch 17/100\n",
            "7352/7352 [==============================] - 23s 3ms/step - loss: 0.1230 - acc: 0.9494 - val_loss: 0.3593 - val_acc: 0.9084\n",
            "Epoch 18/100\n",
            "7352/7352 [==============================] - 23s 3ms/step - loss: 0.1123 - acc: 0.9543 - val_loss: 0.3279 - val_acc: 0.9040\n",
            "Epoch 19/100\n",
            "7352/7352 [==============================] - 23s 3ms/step - loss: 0.1126 - acc: 0.9529 - val_loss: 0.2842 - val_acc: 0.9131\n",
            "Epoch 20/100\n",
            "7352/7352 [==============================] - 23s 3ms/step - loss: 0.1090 - acc: 0.9550 - val_loss: 0.2851 - val_acc: 0.9077\n",
            "Epoch 21/100\n",
            "7352/7352 [==============================] - 22s 3ms/step - loss: 0.1089 - acc: 0.9539 - val_loss: 0.5289 - val_acc: 0.8687\n",
            "Epoch 22/100\n",
            "7352/7352 [==============================] - 22s 3ms/step - loss: 0.1068 - acc: 0.9540 - val_loss: 0.3775 - val_acc: 0.9023\n",
            "Epoch 23/100\n",
            "7352/7352 [==============================] - 23s 3ms/step - loss: 0.1085 - acc: 0.9532 - val_loss: 0.4053 - val_acc: 0.8907\n",
            "Epoch 24/100\n",
            "7352/7352 [==============================] - 23s 3ms/step - loss: 0.1129 - acc: 0.9518 - val_loss: 0.4532 - val_acc: 0.8636\n",
            "Epoch 25/100\n",
            "7352/7352 [==============================] - 22s 3ms/step - loss: 0.1109 - acc: 0.9557 - val_loss: 0.3420 - val_acc: 0.9050\n",
            "Epoch 26/100\n",
            "7352/7352 [==============================] - 23s 3ms/step - loss: 0.1069 - acc: 0.9584 - val_loss: 0.3215 - val_acc: 0.9043\n",
            "Epoch 27/100\n",
            "7352/7352 [==============================] - 22s 3ms/step - loss: 0.1045 - acc: 0.9547 - val_loss: 0.3163 - val_acc: 0.9067\n",
            "Epoch 28/100\n",
            "7352/7352 [==============================] - 23s 3ms/step - loss: 0.1200 - acc: 0.9542 - val_loss: 0.2599 - val_acc: 0.9199\n",
            "Epoch 29/100\n",
            "7352/7352 [==============================] - 23s 3ms/step - loss: 0.1079 - acc: 0.9532 - val_loss: 0.3678 - val_acc: 0.9040\n",
            "Epoch 30/100\n",
            "7352/7352 [==============================] - 23s 3ms/step - loss: 0.1056 - acc: 0.9566 - val_loss: 0.2724 - val_acc: 0.9019\n",
            "Epoch 31/100\n",
            "7352/7352 [==============================] - 22s 3ms/step - loss: 0.0958 - acc: 0.9572 - val_loss: 0.2932 - val_acc: 0.9152\n",
            "Epoch 32/100\n",
            "7352/7352 [==============================] - 22s 3ms/step - loss: 0.1063 - acc: 0.9540 - val_loss: 0.2807 - val_acc: 0.9158\n",
            "Epoch 33/100\n",
            "7352/7352 [==============================] - 23s 3ms/step - loss: 0.1084 - acc: 0.9557 - val_loss: 0.2746 - val_acc: 0.9111\n",
            "Epoch 34/100\n",
            "7352/7352 [==============================] - 22s 3ms/step - loss: 0.1057 - acc: 0.9535 - val_loss: 0.2695 - val_acc: 0.9101\n",
            "Epoch 35/100\n",
            "7352/7352 [==============================] - 22s 3ms/step - loss: 0.1074 - acc: 0.9536 - val_loss: 0.3080 - val_acc: 0.9067\n",
            "Epoch 36/100\n",
            "7352/7352 [==============================] - 22s 3ms/step - loss: 0.0962 - acc: 0.9544 - val_loss: 0.2802 - val_acc: 0.9101\n",
            "Epoch 37/100\n",
            "7352/7352 [==============================] - 23s 3ms/step - loss: 0.1076 - acc: 0.9577 - val_loss: 0.3861 - val_acc: 0.8785\n",
            "Epoch 38/100\n",
            "7352/7352 [==============================] - 23s 3ms/step - loss: 0.1034 - acc: 0.9566 - val_loss: 0.2556 - val_acc: 0.9074\n",
            "Epoch 39/100\n",
            "7352/7352 [==============================] - 22s 3ms/step - loss: 0.0971 - acc: 0.9584 - val_loss: 0.2737 - val_acc: 0.9148\n",
            "Epoch 40/100\n",
            "7352/7352 [==============================] - 22s 3ms/step - loss: 0.0949 - acc: 0.9572 - val_loss: 0.3631 - val_acc: 0.8955\n",
            "Epoch 41/100\n",
            "7352/7352 [==============================] - 22s 3ms/step - loss: 0.1009 - acc: 0.9567 - val_loss: 0.2679 - val_acc: 0.9152\n",
            "Epoch 42/100\n",
            "7352/7352 [==============================] - 22s 3ms/step - loss: 0.0937 - acc: 0.9611 - val_loss: 0.2708 - val_acc: 0.9182\n",
            "Epoch 43/100\n",
            "7352/7352 [==============================] - 23s 3ms/step - loss: 0.1010 - acc: 0.9584 - val_loss: 0.2775 - val_acc: 0.9189\n",
            "Epoch 44/100\n",
            "7352/7352 [==============================] - 22s 3ms/step - loss: 0.1017 - acc: 0.9574 - val_loss: 0.2930 - val_acc: 0.9199\n",
            "Epoch 45/100\n",
            "7352/7352 [==============================] - 22s 3ms/step - loss: 0.0950 - acc: 0.9616 - val_loss: 0.2960 - val_acc: 0.9250\n",
            "Epoch 46/100\n",
            "7352/7352 [==============================] - 22s 3ms/step - loss: 0.0948 - acc: 0.9581 - val_loss: 0.2825 - val_acc: 0.9233\n",
            "Epoch 47/100\n",
            "7352/7352 [==============================] - 22s 3ms/step - loss: 0.0963 - acc: 0.9569 - val_loss: 0.2750 - val_acc: 0.9111\n",
            "Epoch 48/100\n",
            "7352/7352 [==============================] - 22s 3ms/step - loss: 0.0965 - acc: 0.9578 - val_loss: 0.2784 - val_acc: 0.9091\n",
            "Epoch 49/100\n",
            "7352/7352 [==============================] - 22s 3ms/step - loss: 0.0993 - acc: 0.9570 - val_loss: 0.2528 - val_acc: 0.9243\n",
            "Epoch 50/100\n",
            "7352/7352 [==============================] - 21s 3ms/step - loss: 0.0923 - acc: 0.9603 - val_loss: 0.2108 - val_acc: 0.9264\n",
            "Epoch 51/100\n",
            "7352/7352 [==============================] - 21s 3ms/step - loss: 0.0861 - acc: 0.9610 - val_loss: 0.2654 - val_acc: 0.9274\n",
            "Epoch 52/100\n",
            "7352/7352 [==============================] - 22s 3ms/step - loss: 0.1020 - acc: 0.9536 - val_loss: 0.2975 - val_acc: 0.9223\n",
            "Epoch 53/100\n",
            "7352/7352 [==============================] - 22s 3ms/step - loss: 0.0836 - acc: 0.9606 - val_loss: 0.2501 - val_acc: 0.9267\n",
            "Epoch 54/100\n",
            "7352/7352 [==============================] - 22s 3ms/step - loss: 0.0950 - acc: 0.9599 - val_loss: 0.3450 - val_acc: 0.9169\n",
            "Epoch 55/100\n",
            "7352/7352 [==============================] - 22s 3ms/step - loss: 0.0862 - acc: 0.9627 - val_loss: 0.2945 - val_acc: 0.9192\n",
            "Epoch 56/100\n",
            "7352/7352 [==============================] - 22s 3ms/step - loss: 0.0926 - acc: 0.9606 - val_loss: 0.2742 - val_acc: 0.9359\n",
            "Epoch 57/100\n",
            "7352/7352 [==============================] - 22s 3ms/step - loss: 0.0952 - acc: 0.9615 - val_loss: 0.2299 - val_acc: 0.9165\n",
            "Epoch 58/100\n",
            "7352/7352 [==============================] - 22s 3ms/step - loss: 0.0909 - acc: 0.9625 - val_loss: 0.2265 - val_acc: 0.9403\n",
            "\n",
            "Reached 94.00% accuracy, so stopping training!!\n"
          ],
          "name": "stdout"
        }
      ]
    },
    {
      "cell_type": "code",
      "metadata": {
        "colab_type": "code",
        "outputId": "031a79f9-5332-4686-b659-84c63319ff87",
        "id": "XOUWc2tP9R78",
        "colab": {
          "base_uri": "https://localhost:8080/",
          "height": 185
        }
      },
      "source": [
        "# Confusion Matrix\n",
        "print(confusion_matrix(Y_test, model.predict(X_test)))"
      ],
      "execution_count": 97,
      "outputs": [
        {
          "output_type": "stream",
          "text": [
            "Pred                LAYING  SITTING  ...  WALKING_DOWNSTAIRS  WALKING_UPSTAIRS\n",
            "True                                 ...                                      \n",
            "LAYING                 537        0  ...                   0                 0\n",
            "SITTING                  5      418  ...                   0                 4\n",
            "STANDING                 0       77  ...                   0                 0\n",
            "WALKING                  0        0  ...                   4                 1\n",
            "WALKING_DOWNSTAIRS       0        0  ...                 414                 1\n",
            "WALKING_UPSTAIRS         0        0  ...                   0               456\n",
            "\n",
            "[6 rows x 6 columns]\n"
          ],
          "name": "stdout"
        }
      ]
    },
    {
      "cell_type": "code",
      "metadata": {
        "colab_type": "code",
        "outputId": "53e389cd-88d7-43cd-9b5d-27e53fc524c3",
        "id": "NNrmWrqV9R7_",
        "colab": {
          "base_uri": "https://localhost:8080/",
          "height": 34
        }
      },
      "source": [
        "score_model3 = model.evaluate(X_test, Y_test)"
      ],
      "execution_count": 98,
      "outputs": [
        {
          "output_type": "stream",
          "text": [
            "2947/2947 [==============================] - 19s 6ms/step\n"
          ],
          "name": "stdout"
        }
      ]
    },
    {
      "cell_type": "code",
      "metadata": {
        "colab_type": "code",
        "outputId": "17e146c4-fb28-45cd-dac8-b951eaea2664",
        "id": "sqIZ0maw9R8B",
        "colab": {
          "base_uri": "https://localhost:8080/",
          "height": 34
        }
      },
      "source": [
        "score_model3"
      ],
      "execution_count": 99,
      "outputs": [
        {
          "output_type": "execute_result",
          "data": {
            "text/plain": [
              "[0.22652217569071587, 0.9402782490668476]"
            ]
          },
          "metadata": {
            "tags": []
          },
          "execution_count": 99
        }
      ]
    },
    {
      "cell_type": "code",
      "metadata": {
        "colab_type": "code",
        "id": "ADFw64d99R8D",
        "colab": {}
      },
      "source": [
        "#https://github.com/sunneysood/Tensorflow/blob/master/Multi_Layer_LSTM.ipynb\n",
        "import matplotlib.pyplot as plt\n",
        "\n",
        "\n",
        "def plot_graphs(history, string):\n",
        "  plt.plot(history.history[string])\n",
        "  plt.plot(history.history['val_'+string])\n",
        "  plt.xlabel(\"Epochs\")\n",
        "  plt.ylabel(string)\n",
        "  plt.legend([string, 'val_'+string])\n",
        "  plt.show()"
      ],
      "execution_count": 0,
      "outputs": []
    },
    {
      "cell_type": "code",
      "metadata": {
        "colab_type": "code",
        "id": "mYDr5JRW9R8E",
        "outputId": "aa6d3652-fc0e-497d-92c7-77653a8069d9",
        "colab": {
          "base_uri": "https://localhost:8080/",
          "height": 541
        }
      },
      "source": [
        "plot_graphs(history, 'acc')\n",
        "plot_graphs(history, 'loss')"
      ],
      "execution_count": 101,
      "outputs": [
        {
          "output_type": "display_data",
          "data": {
            "image/png": "[encoded data removed]",
            "text/plain": [
              "<Figure size 432x288 with 1 Axes>"
            ]
          },
          "metadata": {
            "tags": []
          }
        },
        {
          "output_type": "display_data",
          "data": {
            "image/png": "[encoded data removed]",
            "text/plain": [
              "<Figure size 432x288 with 1 Axes>"
            ]
          },
          "metadata": {
            "tags": []
          }
        }
      ]
    },
    {
      "cell_type": "markdown",
      "metadata": {
        "colab_type": "text",
        "id": "NkAbElhj9R8H"
      },
      "source": [
        "- With a simple 2 layer architecture we got 92.19% accuracy and a loss of 0.38\n"
      ]
    },
    {
      "cell_type": "markdown",
      "metadata": {
        "id": "XeXXqYwA_0Qq",
        "colab_type": "text"
      },
      "source": [
        "# Conclusion"
      ]
    },
    {
      "cell_type": "code",
      "metadata": {
        "id": "Z4yFwIX7B5wt",
        "colab_type": "code",
        "colab": {}
      },
      "source": [
        ""
      ],
      "execution_count": 0,
      "outputs": []
    },
    {
      "cell_type": "code",
      "metadata": {
        "id": "v6WcYiZ8_3KO",
        "colab_type": "code",
        "colab": {}
      },
      "source": [
        "from prettytable import PrettyTable\n",
        "    \n",
        "x = PrettyTable()\n",
        "\n",
        "x.field_names = [\"Model\", \"Test Loss\", \"Test Accuracy\"]\n",
        "\n",
        "x.add_row([\"Increase LSTM Units\",score_model1[0],score_model1[1]])\n",
        "x.add_row([\"Increase Dropouts\",score_model2[0],score_model2[1]])\n",
        "x.add_row([\"Increase LSTM Layers with increased Dropouts\",score_model3[0],score_model3[1]])\n",
        "print(x)\n",
        "\n"
      ],
      "execution_count": 0,
      "outputs": []
    },
    {
      "cell_type": "code",
      "metadata": {
        "id": "jr50_cSeBmGY",
        "colab_type": "code",
        "colab": {}
      },
      "source": [
        ""
      ],
      "execution_count": 0,
      "outputs": []
    }
  ]
}