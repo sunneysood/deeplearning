{
  "nbformat": 4,
  "nbformat_minor": 0,
  "metadata": {
    "kernelspec": {
      "name": "python3",
      "display_name": "Python 3"
    },
    "language_info": {
      "codemirror_mode": {
        "name": "ipython",
        "version": 3
      },
      "file_extension": ".py",
      "mimetype": "text/x-python",
      "name": "python",
      "nbconvert_exporter": "python",
      "pygments_lexer": "ipython3",
      "version": "3.6.1"
    },
    "colab": {
      "name": "suny.sn1@gmail.com HAR_LSTM.ipynb",
      "provenance": [],
      "collapsed_sections": [
        "efBvnzn988fz"
      ]
    },
    "accelerator": "GPU"
  },
  "cells": [
    {
      "cell_type": "code",
      "metadata": {
        "id": "eduy5AIiupDN",
        "colab_type": "code",
        "colab": {}
      },
      "source": [
        "# Importing Libraries"
      ],
      "execution_count": 0,
      "outputs": []
    },
    {
      "cell_type": "code",
      "metadata": {
        "id": "CjLFfAFFUnNK",
        "colab_type": "code",
        "colab": {
          "base_uri": "https://localhost:8080/",
          "height": 121
        },
        "outputId": "c2b5b5e7-8bbe-4a6d-a006-e985c6a3f915"
      },
      "source": [
        "from google.colab import drive\n",
        "drive.mount('/content/drive')"
      ],
      "execution_count": 3,
      "outputs": [
        {
          "output_type": "stream",
          "text": [
            "Go to this URL in a browser: https://accounts.google.com/o/oauth2/auth?client_id=947318989803-6bn6qk8qdgf4n4g3pfee6491hc0brc4i.apps.googleusercontent.com&redirect_uri=urn%3aietf%3awg%3aoauth%3a2.0%3aoob&response_type=code&scope=email%20https%3a%2f%2fwww.googleapis.com%2fauth%2fdocs.test%20https%3a%2f%2fwww.googleapis.com%2fauth%2fdrive%20https%3a%2f%2fwww.googleapis.com%2fauth%2fdrive.photos.readonly%20https%3a%2f%2fwww.googleapis.com%2fauth%2fpeopleapi.readonly\n",
            "\n",
            "Enter your authorization code:\n",
            "··········\n",
            "Mounted at /content/drive\n"
          ],
          "name": "stdout"
        }
      ]
    },
    {
      "cell_type": "code",
      "metadata": {
        "id": "UAysDxUTupDS",
        "colab_type": "code",
        "colab": {}
      },
      "source": [
        "import pandas as pd\n",
        "import numpy as np"
      ],
      "execution_count": 0,
      "outputs": []
    },
    {
      "cell_type": "code",
      "metadata": {
        "id": "Yjg1AjIqupDV",
        "colab_type": "code",
        "colab": {}
      },
      "source": [
        "# Activities are the class labels\n",
        "# It is a 6 class classification\n",
        "ACTIVITIES = {\n",
        "    0: 'WALKING',\n",
        "    1: 'WALKING_UPSTAIRS',\n",
        "    2: 'WALKING_DOWNSTAIRS',\n",
        "    3: 'SITTING',\n",
        "    4: 'STANDING',\n",
        "    5: 'LAYING',\n",
        "}\n",
        "\n",
        "# Utility function to print the confusion matrix\n",
        "def confusion_matrix(Y_true, Y_pred):\n",
        "    Y_true = pd.Series([ACTIVITIES[y] for y in np.argmax(Y_true, axis=1)])\n",
        "    Y_pred = pd.Series([ACTIVITIES[y] for y in np.argmax(Y_pred, axis=1)])\n",
        "\n",
        "    return pd.crosstab(Y_true, Y_pred, rownames=['True'], colnames=['Pred'])"
      ],
      "execution_count": 0,
      "outputs": []
    },
    {
      "cell_type": "markdown",
      "metadata": {
        "id": "cmcYL-FCupDX",
        "colab_type": "text"
      },
      "source": [
        "### Data"
      ]
    },
    {
      "cell_type": "code",
      "metadata": {
        "id": "i7C8N8uOupDX",
        "colab_type": "code",
        "colab": {}
      },
      "source": [
        "# Data directory\n",
        "DATADIR = '/content/drive/My Drive/HumanActivityRecognition/HAR/UCI_HAR_Dataset'"
      ],
      "execution_count": 0,
      "outputs": []
    },
    {
      "cell_type": "code",
      "metadata": {
        "id": "BAcsWAZvupDZ",
        "colab_type": "code",
        "colab": {}
      },
      "source": [
        "# Raw data signals\n",
        "# Signals are from Accelerometer and Gyroscope\n",
        "# The signals are in x,y,z directions\n",
        "# Sensor signals are filtered to have only body acceleration\n",
        "# excluding the acceleration due to gravity\n",
        "# Triaxial acceleration from the accelerometer is total acceleration\n",
        "SIGNALS = [\n",
        "    \"body_acc_x\",\n",
        "    \"body_acc_y\",\n",
        "    \"body_acc_z\",\n",
        "    \"body_gyro_x\",\n",
        "    \"body_gyro_y\",\n",
        "    \"body_gyro_z\",\n",
        "    \"total_acc_x\",\n",
        "    \"total_acc_y\",\n",
        "    \"total_acc_z\"\n",
        "]"
      ],
      "execution_count": 0,
      "outputs": []
    },
    {
      "cell_type": "code",
      "metadata": {
        "id": "QPwBxAiKupDd",
        "colab_type": "code",
        "colab": {}
      },
      "source": [
        "# Utility function to read the data from csv file\n",
        "def _read_csv(filename):\n",
        "    return pd.read_csv(filename, delim_whitespace=True, header=None)\n",
        "\n",
        "# Utility function to load the load\n",
        "def load_signals(subset):\n",
        "    signals_data = []\n",
        "\n",
        "    for signal in SIGNALS:\n",
        "        filename = f'/content/drive/My Drive/HumanActivityRecognition/HAR/UCI_HAR_Dataset/{subset}/Inertial Signals/{signal}_{subset}.txt'\n",
        "        signals_data.append(\n",
        "            _read_csv(filename).as_matrix()\n",
        "        ) \n",
        "\n",
        "    # Transpose is used to change the dimensionality of the output,\n",
        "    # aggregating the signals by combination of sample/timestep.\n",
        "    # Resultant shape is (7352 train/2947 test samples, 128 timesteps, 9 signals)\n",
        "    return np.transpose(signals_data, (1, 2, 0))"
      ],
      "execution_count": 0,
      "outputs": []
    },
    {
      "cell_type": "code",
      "metadata": {
        "id": "4mD9NyARupDf",
        "colab_type": "code",
        "colab": {}
      },
      "source": [
        "\n",
        "def load_y(subset):\n",
        "    \"\"\"\n",
        "    The objective that we are trying to predict is a integer, from 1 to 6,\n",
        "    that represents a human activity. We return a binary representation of \n",
        "    every sample objective as a 6 bits vector using One Hot Encoding\n",
        "    (https://pandas.pydata.org/pandas-docs/stable/generated/pandas.get_dummies.html)\n",
        "    \"\"\"\n",
        "    filename = f'/content/drive/My Drive/HumanActivityRecognition/HAR/UCI_HAR_Dataset/{subset}/y_{subset}.txt'\n",
        "    y = _read_csv(filename)[0]\n",
        "\n",
        "    return pd.get_dummies(y).as_matrix()"
      ],
      "execution_count": 0,
      "outputs": []
    },
    {
      "cell_type": "code",
      "metadata": {
        "id": "Z3vSqP5MupDg",
        "colab_type": "code",
        "colab": {}
      },
      "source": [
        "def load_data():\n",
        "    \"\"\"\n",
        "    Obtain the dataset from multiple files.\n",
        "    Returns: X_train, X_test, y_train, y_test\n",
        "    \"\"\"\n",
        "    X_train, X_test = load_signals('train'), load_signals('test')\n",
        "    y_train, y_test = load_y('train'), load_y('test')\n",
        "\n",
        "    return X_train, X_test, y_train, y_test"
      ],
      "execution_count": 0,
      "outputs": []
    },
    {
      "cell_type": "code",
      "metadata": {
        "id": "KWh1QPorupDi",
        "colab_type": "code",
        "colab": {
          "base_uri": "https://localhost:8080/",
          "height": 62
        },
        "outputId": "01d015b3-8def-4c0a-981d-3d87a0b5097b"
      },
      "source": [
        "# Importing tensorflow\n",
        "np.random.seed(42)\n",
        "import tensorflow as tf\n",
        "tf.set_random_seed(42)"
      ],
      "execution_count": 11,
      "outputs": [
        {
          "output_type": "display_data",
          "data": {
            "text/html": [
              "<p style=\"color: red;\">\n",
              "The default version of TensorFlow in Colab will soon switch to TensorFlow 2.x.<br>\n",
              "We recommend you <a href=\"https://www.tensorflow.org/guide/migrate\" target=\"_blank\">upgrade</a> now \n",
              "or ensure your notebook will continue to use TensorFlow 1.x via the <code>%tensorflow_version 1.x</code> magic:\n",
              "<a href=\"https://colab.research.google.com/notebooks/tensorflow_version.ipynb\" target=\"_blank\">more info</a>.</p>\n"
            ],
            "text/plain": [
              "<IPython.core.display.HTML object>"
            ]
          },
          "metadata": {
            "tags": []
          }
        }
      ]
    },
    {
      "cell_type": "code",
      "metadata": {
        "id": "Hg5Un3N7upDk",
        "colab_type": "code",
        "colab": {}
      },
      "source": [
        "# Configuring a session\n",
        "session_conf = tf.ConfigProto(\n",
        "    intra_op_parallelism_threads=1,\n",
        "    inter_op_parallelism_threads=1\n",
        ")"
      ],
      "execution_count": 0,
      "outputs": []
    },
    {
      "cell_type": "code",
      "metadata": {
        "id": "Hh3v5S5supDm",
        "colab_type": "code",
        "colab": {
          "base_uri": "https://localhost:8080/",
          "height": 34
        },
        "outputId": "f42445ed-12e7-4ae9-988f-1605a6cd72d9"
      },
      "source": [
        "# Import Keras\n",
        "from keras import backend as K\n",
        "sess = tf.Session(graph=tf.get_default_graph(), config=session_conf)\n",
        "K.set_session(sess)"
      ],
      "execution_count": 13,
      "outputs": [
        {
          "output_type": "stream",
          "text": [
            "Using TensorFlow backend.\n"
          ],
          "name": "stderr"
        }
      ]
    },
    {
      "cell_type": "code",
      "metadata": {
        "id": "F60JfJhIupDo",
        "colab_type": "code",
        "colab": {}
      },
      "source": [
        "# Importing libraries\n",
        "from keras.models import Sequential\n",
        "from keras.layers import LSTM\n",
        "from keras.layers.core import Dense, Dropout\n",
        "from keras.layers import BatchNormalization"
      ],
      "execution_count": 0,
      "outputs": []
    },
    {
      "cell_type": "code",
      "metadata": {
        "id": "sTDuR2meupDs",
        "colab_type": "code",
        "colab": {}
      },
      "source": [
        "# Utility function to count the number of classes\n",
        "def _count_classes(y):\n",
        "    return len(set([tuple(category) for category in y]))"
      ],
      "execution_count": 0,
      "outputs": []
    },
    {
      "cell_type": "code",
      "metadata": {
        "id": "lIM-6fD3upDu",
        "colab_type": "code",
        "outputId": "91c71bda-2c2f-46be-fa92-46147f9da5ae",
        "colab": {
          "base_uri": "https://localhost:8080/",
          "height": 84
        }
      },
      "source": [
        "# Loading the train and test data\n",
        "X_train, X_test, Y_train, Y_test = load_data()"
      ],
      "execution_count": 16,
      "outputs": [
        {
          "output_type": "stream",
          "text": [
            "/usr/local/lib/python3.6/dist-packages/ipykernel_launcher.py:11: FutureWarning: Method .as_matrix will be removed in a future version. Use .values instead.\n",
            "  # This is added back by InteractiveShellApp.init_path()\n",
            "/usr/local/lib/python3.6/dist-packages/ipykernel_launcher.py:12: FutureWarning: Method .as_matrix will be removed in a future version. Use .values instead.\n",
            "  if sys.path[0] == '':\n"
          ],
          "name": "stderr"
        }
      ]
    },
    {
      "cell_type": "code",
      "metadata": {
        "id": "uoKvNnJnupDw",
        "colab_type": "code",
        "outputId": "1dc7b9a1-3766-4015-9964-60b53ed4058f",
        "colab": {
          "base_uri": "https://localhost:8080/",
          "height": 67
        }
      },
      "source": [
        "timesteps = len(X_train[0])\n",
        "input_dim = len(X_train[0][0])\n",
        "n_classes = _count_classes(Y_train)\n",
        "\n",
        "print(timesteps)\n",
        "print(input_dim)\n",
        "print(len(X_train))"
      ],
      "execution_count": 17,
      "outputs": [
        {
          "output_type": "stream",
          "text": [
            "128\n",
            "9\n",
            "7352\n"
          ],
          "name": "stdout"
        }
      ]
    },
    {
      "cell_type": "markdown",
      "metadata": {
        "id": "pakinBoWupDz",
        "colab_type": "text"
      },
      "source": [
        "- Defining the Architecture of LSTM"
      ]
    },
    {
      "cell_type": "code",
      "metadata": {
        "id": "bF-_AHSqupDq",
        "colab_type": "code",
        "colab": {}
      },
      "source": [
        "# Initializing parameters\n",
        "epochs = 50\n",
        "batch_size = 100\n",
        "n_hidden = 256"
      ],
      "execution_count": 0,
      "outputs": []
    },
    {
      "cell_type": "code",
      "metadata": {
        "id": "ADzvpYLZupDz",
        "colab_type": "code",
        "outputId": "e37fd980-5cfd-49a4-df45-b16588df8602",
        "colab": {
          "base_uri": "https://localhost:8080/",
          "height": 423
        }
      },
      "source": [
        "# Initiliazing the sequential model\n",
        "model = Sequential()\n",
        "# Configuring the parameters\n",
        "model.add(LSTM(n_hidden, input_shape=(timesteps, input_dim)))\n",
        "# Adding a dropout layer\n",
        "model.add(Dropout(0.30))\n",
        "# Adding a dense output layer with sigmoid activation\n",
        "model.add(Dense(n_classes, activation='sigmoid'))\n",
        "model.summary()"
      ],
      "execution_count": 19,
      "outputs": [
        {
          "output_type": "stream",
          "text": [
            "WARNING:tensorflow:From /usr/local/lib/python3.6/dist-packages/keras/backend/tensorflow_backend.py:541: The name tf.placeholder is deprecated. Please use tf.compat.v1.placeholder instead.\n",
            "\n",
            "WARNING:tensorflow:From /usr/local/lib/python3.6/dist-packages/keras/backend/tensorflow_backend.py:4432: The name tf.random_uniform is deprecated. Please use tf.random.uniform instead.\n",
            "\n",
            "WARNING:tensorflow:From /usr/local/lib/python3.6/dist-packages/keras/backend/tensorflow_backend.py:148: The name tf.placeholder_with_default is deprecated. Please use tf.compat.v1.placeholder_with_default instead.\n",
            "\n",
            "WARNING:tensorflow:From /usr/local/lib/python3.6/dist-packages/keras/backend/tensorflow_backend.py:3733: calling dropout (from tensorflow.python.ops.nn_ops) with keep_prob is deprecated and will be removed in a future version.\n",
            "Instructions for updating:\n",
            "Please use `rate` instead of `keep_prob`. Rate should be set to `rate = 1 - keep_prob`.\n",
            "Model: \"sequential_1\"\n",
            "_________________________________________________________________\n",
            "Layer (type)                 Output Shape              Param #   \n",
            "=================================================================\n",
            "lstm_1 (LSTM)                (None, 256)               272384    \n",
            "_________________________________________________________________\n",
            "dropout_1 (Dropout)          (None, 256)               0         \n",
            "_________________________________________________________________\n",
            "dense_1 (Dense)              (None, 6)                 1542      \n",
            "=================================================================\n",
            "Total params: 273,926\n",
            "Trainable params: 273,926\n",
            "Non-trainable params: 0\n",
            "_________________________________________________________________\n"
          ],
          "name": "stdout"
        }
      ]
    },
    {
      "cell_type": "code",
      "metadata": {
        "id": "W5HG7WFdupD1",
        "colab_type": "code",
        "colab": {
          "base_uri": "https://localhost:8080/",
          "height": 84
        },
        "outputId": "7aaba15b-058c-4d7a-b209-1391100b018c"
      },
      "source": [
        "# Compiling the model\n",
        "model.compile(loss='categorical_crossentropy',\n",
        "              optimizer='rmsprop',\n",
        "              metrics=['accuracy'])"
      ],
      "execution_count": 20,
      "outputs": [
        {
          "output_type": "stream",
          "text": [
            "WARNING:tensorflow:From /usr/local/lib/python3.6/dist-packages/keras/optimizers.py:793: The name tf.train.Optimizer is deprecated. Please use tf.compat.v1.train.Optimizer instead.\n",
            "\n",
            "WARNING:tensorflow:From /usr/local/lib/python3.6/dist-packages/keras/backend/tensorflow_backend.py:3576: The name tf.log is deprecated. Please use tf.math.log instead.\n",
            "\n"
          ],
          "name": "stdout"
        }
      ]
    },
    {
      "cell_type": "code",
      "metadata": {
        "id": "IktVyUvZupD3",
        "colab_type": "code",
        "outputId": "b9485b3c-6144-404b-ccf3-c47b48ed06e6",
        "colab": {
          "base_uri": "https://localhost:8080/",
          "height": 1000
        }
      },
      "source": [
        "# Training the model\n",
        "history = model.fit(X_train,\n",
        "          Y_train,\n",
        "          batch_size=batch_size,\n",
        "          validation_data=(X_test, Y_test),\n",
        "          epochs=epochs)"
      ],
      "execution_count": 21,
      "outputs": [
        {
          "output_type": "stream",
          "text": [
            "WARNING:tensorflow:From /usr/local/lib/python3.6/dist-packages/tensorflow_core/python/ops/math_grad.py:1424: where (from tensorflow.python.ops.array_ops) is deprecated and will be removed in a future version.\n",
            "Instructions for updating:\n",
            "Use tf.where in 2.0, which has the same broadcast rule as np.where\n",
            "WARNING:tensorflow:From /usr/local/lib/python3.6/dist-packages/keras/backend/tensorflow_backend.py:1033: The name tf.assign_add is deprecated. Please use tf.compat.v1.assign_add instead.\n",
            "\n",
            "WARNING:tensorflow:From /usr/local/lib/python3.6/dist-packages/keras/backend/tensorflow_backend.py:1020: The name tf.assign is deprecated. Please use tf.compat.v1.assign instead.\n",
            "\n",
            "Train on 7352 samples, validate on 2947 samples\n",
            "Epoch 1/50\n",
            "WARNING:tensorflow:From /usr/local/lib/python3.6/dist-packages/keras/backend/tensorflow_backend.py:190: The name tf.get_default_session is deprecated. Please use tf.compat.v1.get_default_session instead.\n",
            "\n",
            "WARNING:tensorflow:From /usr/local/lib/python3.6/dist-packages/keras/backend/tensorflow_backend.py:207: The name tf.global_variables is deprecated. Please use tf.compat.v1.global_variables instead.\n",
            "\n",
            "WARNING:tensorflow:From /usr/local/lib/python3.6/dist-packages/keras/backend/tensorflow_backend.py:216: The name tf.is_variable_initialized is deprecated. Please use tf.compat.v1.is_variable_initialized instead.\n",
            "\n",
            "WARNING:tensorflow:From /usr/local/lib/python3.6/dist-packages/keras/backend/tensorflow_backend.py:223: The name tf.variables_initializer is deprecated. Please use tf.compat.v1.variables_initializer instead.\n",
            "\n",
            "7352/7352 [==============================] - 22s 3ms/step - loss: 1.4261 - acc: 0.3671 - val_loss: 1.3734 - val_acc: 0.3607\n",
            "Epoch 2/50\n",
            "7352/7352 [==============================] - 14s 2ms/step - loss: 1.2832 - acc: 0.4370 - val_loss: 1.2766 - val_acc: 0.4340\n",
            "Epoch 3/50\n",
            "7352/7352 [==============================] - 14s 2ms/step - loss: 1.1515 - acc: 0.5099 - val_loss: 0.9959 - val_acc: 0.5752\n",
            "Epoch 4/50\n",
            "7352/7352 [==============================] - 14s 2ms/step - loss: 0.9987 - acc: 0.5435 - val_loss: 0.9784 - val_acc: 0.5524\n",
            "Epoch 5/50\n",
            "7352/7352 [==============================] - 13s 2ms/step - loss: 0.9294 - acc: 0.5790 - val_loss: 1.0986 - val_acc: 0.5796\n",
            "Epoch 6/50\n",
            "7352/7352 [==============================] - 14s 2ms/step - loss: 0.8166 - acc: 0.6152 - val_loss: 1.2233 - val_acc: 0.3997\n",
            "Epoch 7/50\n",
            "7352/7352 [==============================] - 14s 2ms/step - loss: 0.7841 - acc: 0.5929 - val_loss: 0.9380 - val_acc: 0.4421\n",
            "Epoch 8/50\n",
            "7352/7352 [==============================] - 13s 2ms/step - loss: 0.6942 - acc: 0.6691 - val_loss: 0.7141 - val_acc: 0.6590\n",
            "Epoch 9/50\n",
            "7352/7352 [==============================] - 14s 2ms/step - loss: 0.5297 - acc: 0.7871 - val_loss: 0.6410 - val_acc: 0.7866\n",
            "Epoch 10/50\n",
            "7352/7352 [==============================] - 14s 2ms/step - loss: 0.3420 - acc: 0.8746 - val_loss: 0.3892 - val_acc: 0.8480\n",
            "Epoch 11/50\n",
            "7352/7352 [==============================] - 14s 2ms/step - loss: 0.2782 - acc: 0.9029 - val_loss: 0.3698 - val_acc: 0.8792\n",
            "Epoch 12/50\n",
            "7352/7352 [==============================] - 14s 2ms/step - loss: 0.2540 - acc: 0.9083 - val_loss: 0.6241 - val_acc: 0.7944\n",
            "Epoch 13/50\n",
            "7352/7352 [==============================] - 14s 2ms/step - loss: 0.2326 - acc: 0.9150 - val_loss: 0.3543 - val_acc: 0.8789\n",
            "Epoch 14/50\n",
            "7352/7352 [==============================] - 14s 2ms/step - loss: 0.2030 - acc: 0.9222 - val_loss: 0.2783 - val_acc: 0.8992\n",
            "Epoch 15/50\n",
            "7352/7352 [==============================] - 13s 2ms/step - loss: 0.1934 - acc: 0.9338 - val_loss: 0.2086 - val_acc: 0.9203\n",
            "Epoch 16/50\n",
            "7352/7352 [==============================] - 14s 2ms/step - loss: 0.1708 - acc: 0.9334 - val_loss: 0.2949 - val_acc: 0.8996\n",
            "Epoch 17/50\n",
            "7352/7352 [==============================] - 14s 2ms/step - loss: 0.1687 - acc: 0.9389 - val_loss: 0.2208 - val_acc: 0.9206\n",
            "Epoch 18/50\n",
            "7352/7352 [==============================] - 14s 2ms/step - loss: 0.1551 - acc: 0.9382 - val_loss: 0.2471 - val_acc: 0.9196\n",
            "Epoch 19/50\n",
            "7352/7352 [==============================] - 14s 2ms/step - loss: 0.1620 - acc: 0.9378 - val_loss: 0.2574 - val_acc: 0.9013\n",
            "Epoch 20/50\n",
            "7352/7352 [==============================] - 14s 2ms/step - loss: 0.1426 - acc: 0.9440 - val_loss: 0.4807 - val_acc: 0.8521\n",
            "Epoch 21/50\n",
            "7352/7352 [==============================] - 14s 2ms/step - loss: 0.1366 - acc: 0.9455 - val_loss: 0.2579 - val_acc: 0.9097\n",
            "Epoch 22/50\n",
            "7352/7352 [==============================] - 14s 2ms/step - loss: 0.1379 - acc: 0.9486 - val_loss: 0.2555 - val_acc: 0.9179\n",
            "Epoch 23/50\n",
            "7352/7352 [==============================] - 14s 2ms/step - loss: 0.1861 - acc: 0.9316 - val_loss: 0.2351 - val_acc: 0.9172\n",
            "Epoch 24/50\n",
            "7352/7352 [==============================] - 14s 2ms/step - loss: 0.1499 - acc: 0.9412 - val_loss: 0.3472 - val_acc: 0.8938\n",
            "Epoch 25/50\n",
            "7352/7352 [==============================] - 14s 2ms/step - loss: 0.1457 - acc: 0.9389 - val_loss: 0.2651 - val_acc: 0.9223\n",
            "Epoch 26/50\n",
            "7352/7352 [==============================] - 14s 2ms/step - loss: 0.1333 - acc: 0.9470 - val_loss: 0.3027 - val_acc: 0.9226\n",
            "Epoch 27/50\n",
            "7352/7352 [==============================] - 14s 2ms/step - loss: 0.1280 - acc: 0.9499 - val_loss: 0.3504 - val_acc: 0.9118\n",
            "Epoch 28/50\n",
            "7352/7352 [==============================] - 14s 2ms/step - loss: 0.1263 - acc: 0.9501 - val_loss: 0.3008 - val_acc: 0.9152\n",
            "Epoch 29/50\n",
            "7352/7352 [==============================] - 14s 2ms/step - loss: 0.1369 - acc: 0.9431 - val_loss: 0.2881 - val_acc: 0.9030\n",
            "Epoch 30/50\n",
            "7352/7352 [==============================] - 14s 2ms/step - loss: 0.1349 - acc: 0.9465 - val_loss: 0.2587 - val_acc: 0.9043\n",
            "Epoch 31/50\n",
            "7352/7352 [==============================] - 14s 2ms/step - loss: 0.1265 - acc: 0.9514 - val_loss: 0.2907 - val_acc: 0.9260\n",
            "Epoch 32/50\n",
            "7352/7352 [==============================] - 14s 2ms/step - loss: 0.1327 - acc: 0.9516 - val_loss: 0.2832 - val_acc: 0.9023\n",
            "Epoch 33/50\n",
            "7352/7352 [==============================] - 14s 2ms/step - loss: 0.1329 - acc: 0.9491 - val_loss: 0.2988 - val_acc: 0.9108\n",
            "Epoch 34/50\n",
            "7352/7352 [==============================] - 14s 2ms/step - loss: 0.1176 - acc: 0.9518 - val_loss: 0.2365 - val_acc: 0.9141\n",
            "Epoch 35/50\n",
            "7352/7352 [==============================] - 14s 2ms/step - loss: 0.1191 - acc: 0.9505 - val_loss: 0.3421 - val_acc: 0.9206\n",
            "Epoch 36/50\n",
            "7352/7352 [==============================] - 14s 2ms/step - loss: 0.1388 - acc: 0.9478 - val_loss: 0.3099 - val_acc: 0.9138\n",
            "Epoch 37/50\n",
            "7352/7352 [==============================] - 14s 2ms/step - loss: 0.1167 - acc: 0.9498 - val_loss: 0.2951 - val_acc: 0.9213\n",
            "Epoch 38/50\n",
            "7352/7352 [==============================] - 14s 2ms/step - loss: 0.1242 - acc: 0.9508 - val_loss: 0.3048 - val_acc: 0.9209\n",
            "Epoch 39/50\n",
            "7352/7352 [==============================] - 14s 2ms/step - loss: 0.1123 - acc: 0.9521 - val_loss: 0.2899 - val_acc: 0.9260\n",
            "Epoch 40/50\n",
            "7352/7352 [==============================] - 14s 2ms/step - loss: 0.1381 - acc: 0.9495 - val_loss: 0.2591 - val_acc: 0.9172\n",
            "Epoch 41/50\n",
            "7352/7352 [==============================] - 14s 2ms/step - loss: 0.1081 - acc: 0.9543 - val_loss: 0.2901 - val_acc: 0.9220\n",
            "Epoch 42/50\n",
            "7352/7352 [==============================] - 14s 2ms/step - loss: 0.1366 - acc: 0.9506 - val_loss: 0.3160 - val_acc: 0.9023\n",
            "Epoch 43/50\n",
            "7352/7352 [==============================] - 14s 2ms/step - loss: 0.1176 - acc: 0.9440 - val_loss: 0.3331 - val_acc: 0.8992\n",
            "Epoch 44/50\n",
            "7352/7352 [==============================] - 14s 2ms/step - loss: 0.1216 - acc: 0.9504 - val_loss: 0.2844 - val_acc: 0.9196\n",
            "Epoch 45/50\n",
            "7352/7352 [==============================] - 14s 2ms/step - loss: 0.1189 - acc: 0.9508 - val_loss: 0.3525 - val_acc: 0.9094\n",
            "Epoch 46/50\n",
            "7352/7352 [==============================] - 14s 2ms/step - loss: 0.1430 - acc: 0.9468 - val_loss: 0.3235 - val_acc: 0.9155\n",
            "Epoch 47/50\n",
            "7352/7352 [==============================] - 14s 2ms/step - loss: 0.1105 - acc: 0.9550 - val_loss: 0.3000 - val_acc: 0.9162\n",
            "Epoch 48/50\n",
            "7352/7352 [==============================] - 14s 2ms/step - loss: 0.1214 - acc: 0.9512 - val_loss: 0.2729 - val_acc: 0.9206\n",
            "Epoch 49/50\n",
            "7352/7352 [==============================] - 14s 2ms/step - loss: 0.1120 - acc: 0.9546 - val_loss: 0.2513 - val_acc: 0.9220\n",
            "Epoch 50/50\n",
            "7352/7352 [==============================] - 14s 2ms/step - loss: 0.1140 - acc: 0.9480 - val_loss: 0.2919 - val_acc: 0.9213\n"
          ],
          "name": "stdout"
        }
      ]
    },
    {
      "cell_type": "code",
      "metadata": {
        "id": "IbpDZ74kupD8",
        "colab_type": "code",
        "outputId": "50f9338b-e3bd-487c-bb0c-0850308993da",
        "colab": {
          "base_uri": "https://localhost:8080/",
          "height": 185
        }
      },
      "source": [
        "# Confusion Matrix\n",
        "print(confusion_matrix(Y_test, model.predict(X_test)))"
      ],
      "execution_count": 22,
      "outputs": [
        {
          "output_type": "stream",
          "text": [
            "Pred                LAYING  SITTING  ...  WALKING_DOWNSTAIRS  WALKING_UPSTAIRS\n",
            "True                                 ...                                      \n",
            "LAYING                 537        0  ...                   0                 0\n",
            "SITTING                  6      374  ...                   0                 1\n",
            "STANDING                 0       66  ...                   0                 0\n",
            "WALKING                  0        0  ...                  18                 0\n",
            "WALKING_DOWNSTAIRS       0        0  ...                 408                 4\n",
            "WALKING_UPSTAIRS         0        2  ...                   0               454\n",
            "\n",
            "[6 rows x 6 columns]\n"
          ],
          "name": "stdout"
        }
      ]
    },
    {
      "cell_type": "code",
      "metadata": {
        "id": "uc0fBoB5upD_",
        "colab_type": "code",
        "outputId": "24926342-2873-4709-fb83-0a8ff1277903",
        "colab": {
          "base_uri": "https://localhost:8080/",
          "height": 34
        }
      },
      "source": [
        "score_model1 = model.evaluate(X_test, Y_test)"
      ],
      "execution_count": 23,
      "outputs": [
        {
          "output_type": "stream",
          "text": [
            "2947/2947 [==============================] - 6s 2ms/step\n"
          ],
          "name": "stdout"
        }
      ]
    },
    {
      "cell_type": "code",
      "metadata": {
        "id": "zFxpt5cmupEB",
        "colab_type": "code",
        "outputId": "075af0ae-ff9d-408a-aff4-d25e18403ea0",
        "colab": {
          "base_uri": "https://localhost:8080/",
          "height": 34
        }
      },
      "source": [
        "score_model1"
      ],
      "execution_count": 24,
      "outputs": [
        {
          "output_type": "execute_result",
          "data": {
            "text/plain": [
              "[0.2918661247611214, 0.9212758737699356]"
            ]
          },
          "metadata": {
            "tags": []
          },
          "execution_count": 24
        }
      ]
    },
    {
      "cell_type": "code",
      "metadata": {
        "id": "FunULqW98IEH",
        "colab_type": "code",
        "colab": {}
      },
      "source": [
        "#https://github.com/sunneysood/Tensorflow/blob/master/Multi_Layer_LSTM.ipynb\n",
        "import matplotlib.pyplot as plt\n",
        "\n",
        "\n",
        "def plot_graphs(history, string):\n",
        "  plt.plot(history.history[string])\n",
        "  plt.plot(history.history['val_'+string])\n",
        "  plt.xlabel(\"Epochs\")\n",
        "  plt.ylabel(string)\n",
        "  plt.legend([string, 'val_'+string])\n",
        "  plt.show()"
      ],
      "execution_count": 0,
      "outputs": []
    },
    {
      "cell_type": "code",
      "metadata": {
        "id": "PB9onSOH8KCE",
        "colab_type": "code",
        "outputId": "fe14ad20-728c-4803-b633-507b101e5b2b",
        "colab": {
          "base_uri": "https://localhost:8080/",
          "height": 541
        }
      },
      "source": [
        "plot_graphs(history, 'acc')\n",
        "plot_graphs(history, 'loss')"
      ],
      "execution_count": 26,
      "outputs": [
        {
          "output_type": "display_data",
          "data": {
            "image/png": "[encoded data removed]",
            "text/plain": [
              "<Figure size 432x288 with 1 Axes>"
            ]
          },
          "metadata": {
            "tags": []
          }
        },
        {
          "output_type": "display_data",
          "data": {
            "image/png": "[encoded data removed]",
            "text/plain": [
              "<Figure size 432x288 with 1 Axes>"
            ]
          },
          "metadata": {
            "tags": []
          }
        }
      ]
    },
    {
      "cell_type": "markdown",
      "metadata": {
        "id": "OmNnx8IoupEC",
        "colab_type": "text"
      },
      "source": [
        "- With a simple 2 layer architecture we got 90.09% accuracy and a loss of 0.30\n",
        "- We can further imporve the performace with Hyperparameter tuning"
      ]
    },
    {
      "cell_type": "markdown",
      "metadata": {
        "id": "efBvnzn988fz",
        "colab_type": "text"
      },
      "source": [
        "# Model 2"
      ]
    },
    {
      "cell_type": "code",
      "metadata": {
        "id": "-OOKwl5L9AFR",
        "colab_type": "code",
        "colab": {}
      },
      "source": [
        ""
      ],
      "execution_count": 0,
      "outputs": []
    },
    {
      "cell_type": "code",
      "metadata": {
        "colab_type": "code",
        "id": "5qkncBIP9KZk",
        "colab": {}
      },
      "source": [
        "# Initializing parameters\n",
        "epochs = 50\n",
        "batch_size = 100\n",
        "n_hidden = 64"
      ],
      "execution_count": 0,
      "outputs": []
    },
    {
      "cell_type": "code",
      "metadata": {
        "colab_type": "code",
        "outputId": "717f306a-68e5-4a61-ab54-bfbd8e2b90d1",
        "id": "735ZyT-P9KZq",
        "colab": {
          "base_uri": "https://localhost:8080/",
          "height": 0
        }
      },
      "source": [
        "# Initiliazing the sequential model\n",
        "model = Sequential()\n",
        "# Configuring the parameters\n",
        "model.add(LSTM(n_hidden, input_shape=(timesteps, input_dim)))\n",
        "# Adding a dropout layer\n",
        "model.add(Dropout(0.60))\n",
        "# Adding a dense output layer with sigmoid activation\n",
        "model.add(Dense(n_classes, activation='sigmoid'))\n",
        "model.summary()"
      ],
      "execution_count": 28,
      "outputs": [
        {
          "output_type": "stream",
          "text": [
            "WARNING:tensorflow:Large dropout rate: 0.6 (>0.5). In TensorFlow 2.x, dropout() uses dropout rate instead of keep_prob. Please ensure that this is intended.\n",
            "Model: \"sequential_2\"\n",
            "_________________________________________________________________\n",
            "Layer (type)                 Output Shape              Param #   \n",
            "=================================================================\n",
            "lstm_2 (LSTM)                (None, 64)                18944     \n",
            "_________________________________________________________________\n",
            "dropout_2 (Dropout)          (None, 64)                0         \n",
            "_________________________________________________________________\n",
            "dense_2 (Dense)              (None, 6)                 390       \n",
            "=================================================================\n",
            "Total params: 19,334\n",
            "Trainable params: 19,334\n",
            "Non-trainable params: 0\n",
            "_________________________________________________________________\n"
          ],
          "name": "stdout"
        }
      ]
    },
    {
      "cell_type": "code",
      "metadata": {
        "colab_type": "code",
        "id": "defSwyby9KZs",
        "colab": {}
      },
      "source": [
        "# Compiling the model\n",
        "model.compile(loss='categorical_crossentropy',\n",
        "              optimizer='rmsprop',\n",
        "              metrics=['accuracy'])"
      ],
      "execution_count": 0,
      "outputs": []
    },
    {
      "cell_type": "code",
      "metadata": {
        "colab_type": "code",
        "outputId": "296c5cd7-f5a3-4b09-e8d4-52603ab25dd7",
        "id": "aNNyy-gU9KZv",
        "colab": {
          "base_uri": "https://localhost:8080/",
          "height": 0
        }
      },
      "source": [
        "# Training the model\n",
        "history = model.fit(X_train,\n",
        "          Y_train,\n",
        "          batch_size=batch_size,\n",
        "          validation_data=(X_test, Y_test),\n",
        "          epochs=epochs)"
      ],
      "execution_count": 30,
      "outputs": [
        {
          "output_type": "stream",
          "text": [
            "Train on 7352 samples, validate on 2947 samples\n",
            "Epoch 1/50\n",
            "7352/7352 [==============================] - 15s 2ms/step - loss: 1.4525 - acc: 0.3911 - val_loss: 1.3022 - val_acc: 0.4591\n",
            "Epoch 2/50\n",
            "7352/7352 [==============================] - 14s 2ms/step - loss: 1.2319 - acc: 0.4661 - val_loss: 1.2138 - val_acc: 0.4886\n",
            "Epoch 3/50\n",
            "7352/7352 [==============================] - 14s 2ms/step - loss: 1.1262 - acc: 0.4950 - val_loss: 1.1308 - val_acc: 0.5290\n",
            "Epoch 4/50\n",
            "7352/7352 [==============================] - 14s 2ms/step - loss: 1.0726 - acc: 0.5026 - val_loss: 1.0422 - val_acc: 0.5277\n",
            "Epoch 5/50\n",
            "7352/7352 [==============================] - 14s 2ms/step - loss: 0.9862 - acc: 0.5681 - val_loss: 1.0102 - val_acc: 0.5870\n",
            "Epoch 6/50\n",
            "7352/7352 [==============================] - 14s 2ms/step - loss: 0.9472 - acc: 0.5721 - val_loss: 0.9409 - val_acc: 0.5803\n",
            "Epoch 7/50\n",
            "7352/7352 [==============================] - 14s 2ms/step - loss: 0.8811 - acc: 0.5877 - val_loss: 0.8666 - val_acc: 0.5711\n",
            "Epoch 8/50\n",
            "7352/7352 [==============================] - 14s 2ms/step - loss: 0.7696 - acc: 0.6238 - val_loss: 0.8610 - val_acc: 0.5748\n",
            "Epoch 9/50\n",
            "7352/7352 [==============================] - 14s 2ms/step - loss: 0.7487 - acc: 0.6385 - val_loss: 0.8400 - val_acc: 0.6067\n",
            "Epoch 10/50\n",
            "7352/7352 [==============================] - 14s 2ms/step - loss: 0.8017 - acc: 0.6163 - val_loss: 0.9979 - val_acc: 0.5545\n",
            "Epoch 11/50\n",
            "7352/7352 [==============================] - 14s 2ms/step - loss: 0.7843 - acc: 0.6266 - val_loss: 0.9667 - val_acc: 0.5769\n",
            "Epoch 12/50\n",
            "7352/7352 [==============================] - 14s 2ms/step - loss: 0.7268 - acc: 0.6401 - val_loss: 0.8916 - val_acc: 0.5996\n",
            "Epoch 13/50\n",
            "7352/7352 [==============================] - 14s 2ms/step - loss: 0.7458 - acc: 0.6427 - val_loss: 0.8443 - val_acc: 0.6105\n",
            "Epoch 14/50\n",
            "7352/7352 [==============================] - 14s 2ms/step - loss: 0.6926 - acc: 0.6590 - val_loss: 0.8648 - val_acc: 0.6067\n",
            "Epoch 15/50\n",
            "7352/7352 [==============================] - 14s 2ms/step - loss: 0.6928 - acc: 0.6609 - val_loss: 0.8585 - val_acc: 0.6138\n",
            "Epoch 16/50\n",
            "7352/7352 [==============================] - 14s 2ms/step - loss: 0.7583 - acc: 0.6417 - val_loss: 1.2567 - val_acc: 0.4686\n",
            "Epoch 17/50\n",
            "7352/7352 [==============================] - 14s 2ms/step - loss: 0.7924 - acc: 0.6288 - val_loss: 0.8315 - val_acc: 0.6121\n",
            "Epoch 18/50\n",
            "7352/7352 [==============================] - 14s 2ms/step - loss: 0.6511 - acc: 0.6676 - val_loss: 0.8087 - val_acc: 0.5870\n",
            "Epoch 19/50\n",
            "7352/7352 [==============================] - 14s 2ms/step - loss: 0.6459 - acc: 0.6680 - val_loss: 1.8393 - val_acc: 0.4690\n",
            "Epoch 20/50\n",
            "7352/7352 [==============================] - 14s 2ms/step - loss: 0.6031 - acc: 0.6984 - val_loss: 1.2979 - val_acc: 0.5565\n",
            "Epoch 21/50\n",
            "7352/7352 [==============================] - 14s 2ms/step - loss: 0.6603 - acc: 0.7010 - val_loss: 0.8220 - val_acc: 0.6590\n",
            "Epoch 22/50\n",
            "7352/7352 [==============================] - 14s 2ms/step - loss: 0.5610 - acc: 0.7743 - val_loss: 0.8749 - val_acc: 0.7343\n",
            "Epoch 23/50\n",
            "7352/7352 [==============================] - 14s 2ms/step - loss: 0.9495 - acc: 0.6393 - val_loss: 0.9819 - val_acc: 0.6407\n",
            "Epoch 24/50\n",
            "7352/7352 [==============================] - 14s 2ms/step - loss: 0.8539 - acc: 0.6885 - val_loss: 0.9158 - val_acc: 0.6773\n",
            "Epoch 25/50\n",
            "7352/7352 [==============================] - 14s 2ms/step - loss: 0.6508 - acc: 0.7527 - val_loss: 0.7832 - val_acc: 0.7577\n",
            "Epoch 26/50\n",
            "7352/7352 [==============================] - 14s 2ms/step - loss: 0.5153 - acc: 0.8118 - val_loss: 0.6919 - val_acc: 0.7777\n",
            "Epoch 27/50\n",
            "7352/7352 [==============================] - 14s 2ms/step - loss: 0.4423 - acc: 0.8565 - val_loss: 0.5778 - val_acc: 0.8327\n",
            "Epoch 28/50\n",
            "7352/7352 [==============================] - 14s 2ms/step - loss: 0.3853 - acc: 0.8818 - val_loss: 0.6206 - val_acc: 0.8337\n",
            "Epoch 29/50\n",
            "7352/7352 [==============================] - 14s 2ms/step - loss: 0.5432 - acc: 0.8230 - val_loss: 0.8979 - val_acc: 0.6200\n",
            "Epoch 30/50\n",
            "7352/7352 [==============================] - 14s 2ms/step - loss: 0.5749 - acc: 0.7828 - val_loss: 0.8858 - val_acc: 0.7808\n",
            "Epoch 31/50\n",
            "7352/7352 [==============================] - 14s 2ms/step - loss: 0.4115 - acc: 0.8785 - val_loss: 0.6173 - val_acc: 0.8174\n",
            "Epoch 32/50\n",
            "7352/7352 [==============================] - 14s 2ms/step - loss: 0.3747 - acc: 0.8829 - val_loss: 0.5468 - val_acc: 0.8531\n",
            "Epoch 33/50\n",
            "7352/7352 [==============================] - 14s 2ms/step - loss: 0.3888 - acc: 0.8836 - val_loss: 0.7046 - val_acc: 0.8062\n",
            "Epoch 34/50\n",
            "7352/7352 [==============================] - 14s 2ms/step - loss: 0.3461 - acc: 0.8981 - val_loss: 0.6082 - val_acc: 0.8371\n",
            "Epoch 35/50\n",
            "7352/7352 [==============================] - 14s 2ms/step - loss: 0.3685 - acc: 0.8862 - val_loss: 0.7439 - val_acc: 0.8073\n",
            "Epoch 36/50\n",
            "7352/7352 [==============================] - 14s 2ms/step - loss: 0.3640 - acc: 0.8841 - val_loss: 0.6663 - val_acc: 0.8219\n",
            "Epoch 37/50\n",
            "7352/7352 [==============================] - 14s 2ms/step - loss: 0.3047 - acc: 0.8981 - val_loss: 0.5250 - val_acc: 0.8605\n",
            "Epoch 38/50\n",
            "7352/7352 [==============================] - 14s 2ms/step - loss: 0.3223 - acc: 0.9000 - val_loss: 0.6722 - val_acc: 0.8001\n",
            "Epoch 39/50\n",
            "7352/7352 [==============================] - 14s 2ms/step - loss: 0.3534 - acc: 0.8804 - val_loss: 0.7126 - val_acc: 0.7631\n",
            "Epoch 40/50\n",
            "7352/7352 [==============================] - 14s 2ms/step - loss: 0.3023 - acc: 0.8908 - val_loss: 0.4484 - val_acc: 0.8548\n",
            "Epoch 41/50\n",
            "7352/7352 [==============================] - 14s 2ms/step - loss: 0.2757 - acc: 0.9147 - val_loss: 0.5008 - val_acc: 0.8738\n",
            "Epoch 42/50\n",
            "7352/7352 [==============================] - 14s 2ms/step - loss: 0.2242 - acc: 0.9283 - val_loss: 0.4374 - val_acc: 0.8816\n",
            "Epoch 43/50\n",
            "7352/7352 [==============================] - 14s 2ms/step - loss: 0.2558 - acc: 0.9176 - val_loss: 0.4695 - val_acc: 0.8829\n",
            "Epoch 44/50\n",
            "7352/7352 [==============================] - 14s 2ms/step - loss: 0.2311 - acc: 0.9267 - val_loss: 0.5242 - val_acc: 0.8212\n",
            "Epoch 45/50\n",
            "7352/7352 [==============================] - 14s 2ms/step - loss: 0.2011 - acc: 0.9282 - val_loss: 0.4525 - val_acc: 0.8588\n",
            "Epoch 46/50\n",
            "7352/7352 [==============================] - 14s 2ms/step - loss: 0.1886 - acc: 0.9339 - val_loss: 0.5374 - val_acc: 0.8772\n",
            "Epoch 47/50\n",
            "7352/7352 [==============================] - 14s 2ms/step - loss: 0.1949 - acc: 0.9351 - val_loss: 0.5166 - val_acc: 0.8744\n",
            "Epoch 48/50\n",
            "7352/7352 [==============================] - 14s 2ms/step - loss: 0.1943 - acc: 0.9378 - val_loss: 0.5173 - val_acc: 0.8816\n",
            "Epoch 49/50\n",
            "7352/7352 [==============================] - 14s 2ms/step - loss: 0.1931 - acc: 0.9368 - val_loss: 0.5249 - val_acc: 0.8856\n",
            "Epoch 50/50\n",
            "7352/7352 [==============================] - 14s 2ms/step - loss: 0.1843 - acc: 0.9397 - val_loss: 0.5202 - val_acc: 0.8741\n"
          ],
          "name": "stdout"
        }
      ]
    },
    {
      "cell_type": "code",
      "metadata": {
        "colab_type": "code",
        "outputId": "ea3847c3-4962-4487-f52f-8784ea173234",
        "id": "mAMxh-o39KZx",
        "colab": {
          "base_uri": "https://localhost:8080/",
          "height": 0
        }
      },
      "source": [
        "# Confusion Matrix\n",
        "print(confusion_matrix(Y_test, model.predict(X_test)))"
      ],
      "execution_count": 31,
      "outputs": [
        {
          "output_type": "stream",
          "text": [
            "Pred                LAYING  SITTING  ...  WALKING_DOWNSTAIRS  WALKING_UPSTAIRS\n",
            "True                                 ...                                      \n",
            "LAYING                 518        0  ...                   0                19\n",
            "SITTING                  0      409  ...                   0                 3\n",
            "STANDING                 0      115  ...                   0                 0\n",
            "WALKING                  0        2  ...                  28                 3\n",
            "WALKING_DOWNSTAIRS       0        0  ...                 412                 4\n",
            "WALKING_UPSTAIRS         0        0  ...                  36               359\n",
            "\n",
            "[6 rows x 6 columns]\n"
          ],
          "name": "stdout"
        }
      ]
    },
    {
      "cell_type": "code",
      "metadata": {
        "colab_type": "code",
        "outputId": "181ce9b4-b61a-4653-bb70-e6dbe4a6274c",
        "id": "jIsi9KMp9KZz",
        "colab": {
          "base_uri": "https://localhost:8080/",
          "height": 0
        }
      },
      "source": [
        "score_model2 = model.evaluate(X_test, Y_test)"
      ],
      "execution_count": 32,
      "outputs": [
        {
          "output_type": "stream",
          "text": [
            "2947/2947 [==============================] - 6s 2ms/step\n"
          ],
          "name": "stdout"
        }
      ]
    },
    {
      "cell_type": "code",
      "metadata": {
        "colab_type": "code",
        "outputId": "0207f9fe-4c71-4861-edcb-36b64f517122",
        "id": "i1diEjGI9KZ2",
        "colab": {
          "base_uri": "https://localhost:8080/",
          "height": 0
        }
      },
      "source": [
        "score_model2"
      ],
      "execution_count": 33,
      "outputs": [
        {
          "output_type": "execute_result",
          "data": {
            "text/plain": [
              "[0.5201896399972675, 0.8741092636579573]"
            ]
          },
          "metadata": {
            "tags": []
          },
          "execution_count": 33
        }
      ]
    },
    {
      "cell_type": "code",
      "metadata": {
        "colab_type": "code",
        "id": "N2oQGOLs9KZ4",
        "colab": {}
      },
      "source": [
        "#https://github.com/sunneysood/Tensorflow/blob/master/Multi_Layer_LSTM.ipynb\n",
        "import matplotlib.pyplot as plt\n",
        "\n",
        "\n",
        "def plot_graphs(history, string):\n",
        "  plt.plot(history.history[string])\n",
        "  plt.plot(history.history['val_'+string])\n",
        "  plt.xlabel(\"Epochs\")\n",
        "  plt.ylabel(string)\n",
        "  plt.legend([string, 'val_'+string])\n",
        "  plt.show()"
      ],
      "execution_count": 0,
      "outputs": []
    },
    {
      "cell_type": "code",
      "metadata": {
        "colab_type": "code",
        "id": "HPj-_8E49KZ6",
        "outputId": "8ccf337e-ffb8-4b5d-e9d1-7648f3cbc1f1",
        "colab": {
          "base_uri": "https://localhost:8080/",
          "height": 0
        }
      },
      "source": [
        "plot_graphs(history, 'acc')\n",
        "plot_graphs(history, 'loss')"
      ],
      "execution_count": 35,
      "outputs": [
        {
          "output_type": "display_data",
          "data": {
            "image/png": "[encoded data removed]",
            "text/plain": [
              "<Figure size 432x288 with 1 Axes>"
            ]
          },
          "metadata": {
            "tags": []
          }
        },
        {
          "output_type": "display_data",
          "data": {
            "image/png": "[encoded data removed]",
            "text/plain": [
              "<Figure size 432x288 with 1 Axes>"
            ]
          },
          "metadata": {
            "tags": []
          }
        }
      ]
    },
    {
      "cell_type": "markdown",
      "metadata": {
        "colab_type": "text",
        "id": "renREvoF9KZ8"
      },
      "source": [
        "- With a simple 2 layer architecture and high dropout we got 62.85% accuracy and a loss of 0.66"
      ]
    },
    {
      "cell_type": "markdown",
      "metadata": {
        "id": "Cc6hRU_O9NdM",
        "colab_type": "text"
      },
      "source": [
        "# Model 3"
      ]
    },
    {
      "cell_type": "code",
      "metadata": {
        "id": "BzHEKIgoirr3",
        "colab_type": "code",
        "colab": {}
      },
      "source": [
        "#https://towardsdatascience.com/neural-network-with-tensorflow-how-to-stop-training-using-callback-5c8d575c18a9\n",
        "\n",
        "# when accuracy reaches ACCURACY_THRESHOLD\n",
        "from keras.callbacks import Callback\n",
        "\n",
        "ACCURACY_THRESHOLD = 0.94\n",
        "\n",
        "class myCallback(Callback):\n",
        "\tdef on_epoch_end(self, epoch, logs={}):\n",
        "\t\tif(logs.get('val_acc') > ACCURACY_THRESHOLD):\n",
        "\t\t\tprint(\"\\nReached %2.2f%% accuracy, so stopping training!!\" %(ACCURACY_THRESHOLD*100))\n",
        "\t\t\tself.model.stop_training = True\n",
        "\n",
        "# Instantiate a callback object\n",
        "callbacks = myCallback()\n"
      ],
      "execution_count": 0,
      "outputs": []
    },
    {
      "cell_type": "code",
      "metadata": {
        "colab_type": "code",
        "id": "6jnUjek89R7v",
        "colab": {}
      },
      "source": [
        "# Initializing parameters\n",
        "epochs = 100\n",
        "batch_size = 200\n",
        "n_hidden = 200"
      ],
      "execution_count": 0,
      "outputs": []
    },
    {
      "cell_type": "code",
      "metadata": {
        "colab_type": "code",
        "outputId": "9aa61862-9f95-40eb-8c16-e24182c9f175",
        "id": "4RH6bZ219R71",
        "colab": {
          "base_uri": "https://localhost:8080/",
          "height": 353
        }
      },
      "source": [
        "# Initiliazing the sequential model\n",
        "from keras.layers import BatchNormalization\n",
        "model = Sequential()\n",
        "# Configuring the parameters\n",
        "model.add(LSTM(n_hidden, input_shape=(timesteps, input_dim),return_sequences=True))\n",
        "# Adding a dropout layer\n",
        "model.add(Dropout(0.45))\n",
        "model.add(BatchNormalization())\n",
        "model.add(LSTM(n_hidden - 32))\n",
        "model.add(Dropout(0.5))\n",
        "# Adding a dense output layer with sigmoid activation\n",
        "model.add(Dense(n_classes, activation='sigmoid'))\n",
        "model.summary()\n"
      ],
      "execution_count": 38,
      "outputs": [
        {
          "output_type": "stream",
          "text": [
            "Model: \"sequential_3\"\n",
            "_________________________________________________________________\n",
            "Layer (type)                 Output Shape              Param #   \n",
            "=================================================================\n",
            "lstm_3 (LSTM)                (None, 128, 200)          168000    \n",
            "_________________________________________________________________\n",
            "dropout_3 (Dropout)          (None, 128, 200)          0         \n",
            "_________________________________________________________________\n",
            "batch_normalization_1 (Batch (None, 128, 200)          800       \n",
            "_________________________________________________________________\n",
            "lstm_4 (LSTM)                (None, 168)               247968    \n",
            "_________________________________________________________________\n",
            "dropout_4 (Dropout)          (None, 168)               0         \n",
            "_________________________________________________________________\n",
            "dense_3 (Dense)              (None, 6)                 1014      \n",
            "=================================================================\n",
            "Total params: 417,782\n",
            "Trainable params: 417,382\n",
            "Non-trainable params: 400\n",
            "_________________________________________________________________\n"
          ],
          "name": "stdout"
        }
      ]
    },
    {
      "cell_type": "code",
      "metadata": {
        "colab_type": "code",
        "id": "uroVVOeP9R73",
        "colab": {}
      },
      "source": [
        "# Compiling the model\n",
        "#https://stackoverflow.com/questions/56977277/default-adam-optimizer-doesnt-work-in-tf-keras-but-string-adam-does\n",
        "#https://stackoverflow.com/questions/50056356/could-not-interpret-optimizer-identifier-error-in-keras\n",
        "\n",
        "#from tensorflow.python.keras.optimizer_v2.adam import Adam\n",
        "\n",
        "\n",
        "#from keras.optimizers import adam\n",
        "#adam = adam(lr=0.001,decay = 1e-4)\n",
        "\n",
        "model.compile(loss='categorical_crossentropy',\n",
        "              optimizer='adam',\n",
        "              metrics=['accuracy'])"
      ],
      "execution_count": 0,
      "outputs": []
    },
    {
      "cell_type": "code",
      "metadata": {
        "colab_type": "code",
        "outputId": "166562a5-26ef-4dd3-df62-6cd3d41687ac",
        "id": "fzYMlhML9R76",
        "colab": {
          "base_uri": "https://localhost:8080/",
          "height": 1000
        }
      },
      "source": [
        "# Training the model\n",
        "history = model.fit(X_train, Y_train,\n",
        "          callbacks=[callbacks],\n",
        "          batch_size=batch_size,\n",
        "          validation_data=(X_test, Y_test),\n",
        "          epochs=epochs)"
      ],
      "execution_count": 40,
      "outputs": [
        {
          "output_type": "stream",
          "text": [
            "Train on 7352 samples, validate on 2947 samples\n",
            "Epoch 1/100\n",
            "7352/7352 [==============================] - 16s 2ms/step - loss: 1.0526 - acc: 0.5996 - val_loss: 0.9359 - val_acc: 0.6206\n",
            "Epoch 2/100\n",
            "7352/7352 [==============================] - 14s 2ms/step - loss: 0.5477 - acc: 0.7998 - val_loss: 0.5351 - val_acc: 0.8181\n",
            "Epoch 3/100\n",
            "7352/7352 [==============================] - 14s 2ms/step - loss: 0.3055 - acc: 0.9047 - val_loss: 0.3590 - val_acc: 0.8748\n",
            "Epoch 4/100\n",
            "7352/7352 [==============================] - 14s 2ms/step - loss: 0.1934 - acc: 0.9320 - val_loss: 0.6996 - val_acc: 0.7706\n",
            "Epoch 5/100\n",
            "7352/7352 [==============================] - 14s 2ms/step - loss: 0.1655 - acc: 0.9399 - val_loss: 0.4341 - val_acc: 0.8789\n",
            "Epoch 6/100\n",
            "7352/7352 [==============================] - 14s 2ms/step - loss: 0.1433 - acc: 0.9459 - val_loss: 0.3356 - val_acc: 0.8935\n",
            "Epoch 7/100\n",
            "7352/7352 [==============================] - 14s 2ms/step - loss: 0.1644 - acc: 0.9414 - val_loss: 0.5383 - val_acc: 0.7642\n",
            "Epoch 8/100\n",
            "7352/7352 [==============================] - 14s 2ms/step - loss: 0.1526 - acc: 0.9410 - val_loss: 0.3078 - val_acc: 0.9091\n",
            "Epoch 9/100\n",
            "7352/7352 [==============================] - 14s 2ms/step - loss: 0.1466 - acc: 0.9434 - val_loss: 0.3215 - val_acc: 0.8968\n",
            "Epoch 10/100\n",
            "7352/7352 [==============================] - 14s 2ms/step - loss: 0.1685 - acc: 0.9342 - val_loss: 0.6846 - val_acc: 0.7241\n",
            "Epoch 11/100\n",
            "7352/7352 [==============================] - 14s 2ms/step - loss: 0.1622 - acc: 0.9362 - val_loss: 0.3633 - val_acc: 0.8694\n",
            "Epoch 12/100\n",
            "7352/7352 [==============================] - 14s 2ms/step - loss: 0.1266 - acc: 0.9471 - val_loss: 0.2920 - val_acc: 0.9074\n",
            "Epoch 13/100\n",
            "7352/7352 [==============================] - 14s 2ms/step - loss: 0.1176 - acc: 0.9546 - val_loss: 0.3003 - val_acc: 0.9182\n",
            "Epoch 14/100\n",
            "7352/7352 [==============================] - 15s 2ms/step - loss: 0.1292 - acc: 0.9510 - val_loss: 0.2868 - val_acc: 0.9209\n",
            "Epoch 15/100\n",
            "7352/7352 [==============================] - 14s 2ms/step - loss: 0.1210 - acc: 0.9491 - val_loss: 0.2638 - val_acc: 0.9101\n",
            "Epoch 16/100\n",
            "7352/7352 [==============================] - 14s 2ms/step - loss: 0.1313 - acc: 0.9475 - val_loss: 0.3515 - val_acc: 0.8897\n",
            "Epoch 17/100\n",
            "7352/7352 [==============================] - 14s 2ms/step - loss: 0.1267 - acc: 0.9505 - val_loss: 0.2600 - val_acc: 0.9189\n",
            "Epoch 18/100\n",
            "7352/7352 [==============================] - 14s 2ms/step - loss: 0.1171 - acc: 0.9498 - val_loss: 0.2860 - val_acc: 0.9189\n",
            "Epoch 19/100\n",
            "7352/7352 [==============================] - 14s 2ms/step - loss: 0.1144 - acc: 0.9516 - val_loss: 0.2888 - val_acc: 0.9226\n",
            "Epoch 20/100\n",
            "7352/7352 [==============================] - 14s 2ms/step - loss: 0.1143 - acc: 0.9520 - val_loss: 0.2754 - val_acc: 0.9074\n",
            "Epoch 21/100\n",
            "7352/7352 [==============================] - 14s 2ms/step - loss: 0.1180 - acc: 0.9512 - val_loss: 0.2376 - val_acc: 0.9179\n",
            "Epoch 22/100\n",
            "7352/7352 [==============================] - 14s 2ms/step - loss: 0.1087 - acc: 0.9536 - val_loss: 0.2792 - val_acc: 0.9138\n",
            "Epoch 23/100\n",
            "7352/7352 [==============================] - 14s 2ms/step - loss: 0.1083 - acc: 0.9539 - val_loss: 0.2843 - val_acc: 0.9311\n",
            "Epoch 24/100\n",
            "7352/7352 [==============================] - 14s 2ms/step - loss: 0.1076 - acc: 0.9535 - val_loss: 0.2647 - val_acc: 0.9203\n",
            "Epoch 25/100\n",
            "7352/7352 [==============================] - 14s 2ms/step - loss: 0.1028 - acc: 0.9570 - val_loss: 0.2564 - val_acc: 0.9321\n",
            "Epoch 26/100\n",
            "7352/7352 [==============================] - 14s 2ms/step - loss: 0.1110 - acc: 0.9543 - val_loss: 0.3037 - val_acc: 0.9179\n",
            "Epoch 27/100\n",
            "7352/7352 [==============================] - 14s 2ms/step - loss: 0.1090 - acc: 0.9516 - val_loss: 0.2932 - val_acc: 0.9186\n",
            "Epoch 28/100\n",
            "7352/7352 [==============================] - 14s 2ms/step - loss: 0.1173 - acc: 0.9493 - val_loss: 0.2890 - val_acc: 0.9026\n",
            "Epoch 29/100\n",
            "7352/7352 [==============================] - 14s 2ms/step - loss: 0.1106 - acc: 0.9555 - val_loss: 0.2582 - val_acc: 0.9237\n",
            "Epoch 30/100\n",
            "7352/7352 [==============================] - 14s 2ms/step - loss: 0.1089 - acc: 0.9538 - val_loss: 0.2581 - val_acc: 0.9169\n",
            "Epoch 31/100\n",
            "7352/7352 [==============================] - 14s 2ms/step - loss: 0.1056 - acc: 0.9559 - val_loss: 0.2894 - val_acc: 0.9165\n",
            "Epoch 32/100\n",
            "7352/7352 [==============================] - 14s 2ms/step - loss: 0.1094 - acc: 0.9535 - val_loss: 0.4032 - val_acc: 0.8802\n",
            "Epoch 33/100\n",
            "7352/7352 [==============================] - 14s 2ms/step - loss: 0.1326 - acc: 0.9474 - val_loss: 0.4714 - val_acc: 0.8734\n",
            "Epoch 34/100\n",
            "7352/7352 [==============================] - 14s 2ms/step - loss: 0.1102 - acc: 0.9548 - val_loss: 0.3657 - val_acc: 0.8904\n",
            "Epoch 35/100\n",
            "7352/7352 [==============================] - 14s 2ms/step - loss: 0.1076 - acc: 0.9543 - val_loss: 0.3245 - val_acc: 0.8982\n",
            "Epoch 36/100\n",
            "7352/7352 [==============================] - 15s 2ms/step - loss: 0.1141 - acc: 0.9539 - val_loss: 0.2512 - val_acc: 0.9284\n",
            "Epoch 37/100\n",
            "7352/7352 [==============================] - 14s 2ms/step - loss: 0.1648 - acc: 0.9350 - val_loss: 0.3208 - val_acc: 0.8958\n",
            "Epoch 38/100\n",
            "7352/7352 [==============================] - 14s 2ms/step - loss: 0.1170 - acc: 0.9523 - val_loss: 0.3495 - val_acc: 0.8924\n",
            "Epoch 39/100\n",
            "7352/7352 [==============================] - 14s 2ms/step - loss: 0.1033 - acc: 0.9555 - val_loss: 0.2856 - val_acc: 0.9036\n",
            "Epoch 40/100\n",
            "7352/7352 [==============================] - 14s 2ms/step - loss: 0.1084 - acc: 0.9536 - val_loss: 0.2207 - val_acc: 0.9206\n",
            "Epoch 41/100\n",
            "7352/7352 [==============================] - 14s 2ms/step - loss: 0.1010 - acc: 0.9550 - val_loss: 0.2793 - val_acc: 0.9074\n",
            "Epoch 42/100\n",
            "7352/7352 [==============================] - 14s 2ms/step - loss: 0.1030 - acc: 0.9570 - val_loss: 0.2370 - val_acc: 0.9379\n",
            "Epoch 43/100\n",
            "7352/7352 [==============================] - 14s 2ms/step - loss: 0.1051 - acc: 0.9544 - val_loss: 0.2584 - val_acc: 0.9141\n",
            "Epoch 44/100\n",
            "7352/7352 [==============================] - 14s 2ms/step - loss: 0.0921 - acc: 0.9580 - val_loss: 0.2852 - val_acc: 0.9118\n",
            "Epoch 45/100\n",
            "7352/7352 [==============================] - 14s 2ms/step - loss: 0.0963 - acc: 0.9585 - val_loss: 0.2853 - val_acc: 0.9325\n",
            "Epoch 46/100\n",
            "7352/7352 [==============================] - 14s 2ms/step - loss: 0.0961 - acc: 0.9604 - val_loss: 0.3260 - val_acc: 0.9111\n",
            "Epoch 47/100\n",
            "7352/7352 [==============================] - 14s 2ms/step - loss: 0.1025 - acc: 0.9589 - val_loss: 0.3126 - val_acc: 0.9050\n",
            "Epoch 48/100\n",
            "7352/7352 [==============================] - 14s 2ms/step - loss: 0.1021 - acc: 0.9557 - val_loss: 0.3174 - val_acc: 0.9223\n",
            "Epoch 49/100\n",
            "7352/7352 [==============================] - 14s 2ms/step - loss: 0.0916 - acc: 0.9578 - val_loss: 0.3677 - val_acc: 0.9158\n",
            "Epoch 50/100\n",
            "7352/7352 [==============================] - 14s 2ms/step - loss: 0.0910 - acc: 0.9584 - val_loss: 0.3398 - val_acc: 0.9189\n",
            "Epoch 51/100\n",
            "7352/7352 [==============================] - 14s 2ms/step - loss: 0.0925 - acc: 0.9591 - val_loss: 0.3336 - val_acc: 0.9284\n",
            "Epoch 52/100\n",
            "7352/7352 [==============================] - 14s 2ms/step - loss: 0.0933 - acc: 0.9596 - val_loss: 0.3260 - val_acc: 0.9128\n",
            "Epoch 53/100\n",
            "7352/7352 [==============================] - 15s 2ms/step - loss: 0.1051 - acc: 0.9562 - val_loss: 0.2922 - val_acc: 0.9009\n",
            "Epoch 54/100\n",
            "7352/7352 [==============================] - 14s 2ms/step - loss: 0.1105 - acc: 0.9547 - val_loss: 0.2843 - val_acc: 0.9125\n",
            "Epoch 55/100\n",
            "7352/7352 [==============================] - 14s 2ms/step - loss: 0.1149 - acc: 0.9525 - val_loss: 0.3361 - val_acc: 0.9104\n",
            "Epoch 56/100\n",
            "7352/7352 [==============================] - 14s 2ms/step - loss: 0.0952 - acc: 0.9574 - val_loss: 0.2624 - val_acc: 0.9206\n",
            "Epoch 57/100\n",
            "7352/7352 [==============================] - 15s 2ms/step - loss: 0.1007 - acc: 0.9540 - val_loss: 0.3734 - val_acc: 0.8955\n",
            "Epoch 58/100\n",
            "7352/7352 [==============================] - 14s 2ms/step - loss: 0.0990 - acc: 0.9585 - val_loss: 0.2184 - val_acc: 0.9243\n",
            "Epoch 59/100\n",
            "7352/7352 [==============================] - 14s 2ms/step - loss: 0.0890 - acc: 0.9589 - val_loss: 0.2534 - val_acc: 0.9162\n",
            "Epoch 60/100\n",
            "7352/7352 [==============================] - 15s 2ms/step - loss: 0.0907 - acc: 0.9587 - val_loss: 0.3157 - val_acc: 0.9084\n",
            "Epoch 61/100\n",
            "7352/7352 [==============================] - 14s 2ms/step - loss: 0.0964 - acc: 0.9596 - val_loss: 0.2482 - val_acc: 0.9308\n",
            "Epoch 62/100\n",
            "7352/7352 [==============================] - 14s 2ms/step - loss: 0.0875 - acc: 0.9616 - val_loss: 0.2417 - val_acc: 0.9257\n",
            "Epoch 63/100\n",
            "7352/7352 [==============================] - 14s 2ms/step - loss: 0.1108 - acc: 0.9431 - val_loss: 0.2811 - val_acc: 0.9165\n",
            "Epoch 64/100\n",
            "7352/7352 [==============================] - 14s 2ms/step - loss: 0.1119 - acc: 0.9523 - val_loss: 0.3258 - val_acc: 0.9138\n",
            "Epoch 65/100\n",
            "7352/7352 [==============================] - 15s 2ms/step - loss: 0.1007 - acc: 0.9558 - val_loss: 0.2779 - val_acc: 0.9203\n",
            "Epoch 66/100\n",
            "7352/7352 [==============================] - 14s 2ms/step - loss: 0.0855 - acc: 0.9584 - val_loss: 0.2670 - val_acc: 0.9335\n",
            "Epoch 67/100\n",
            "7352/7352 [==============================] - 14s 2ms/step - loss: 0.1027 - acc: 0.9566 - val_loss: 0.2430 - val_acc: 0.9338\n",
            "Epoch 68/100\n",
            "7352/7352 [==============================] - 14s 2ms/step - loss: 0.0956 - acc: 0.9580 - val_loss: 0.2746 - val_acc: 0.9148\n",
            "Epoch 69/100\n",
            "7352/7352 [==============================] - 14s 2ms/step - loss: 0.0945 - acc: 0.9596 - val_loss: 0.2330 - val_acc: 0.9230\n",
            "Epoch 70/100\n",
            "7352/7352 [==============================] - 14s 2ms/step - loss: 0.0847 - acc: 0.9612 - val_loss: 0.2487 - val_acc: 0.9328\n",
            "Epoch 71/100\n",
            "7352/7352 [==============================] - 14s 2ms/step - loss: 0.0811 - acc: 0.9634 - val_loss: 0.2247 - val_acc: 0.9311\n",
            "Epoch 72/100\n",
            "7352/7352 [==============================] - 14s 2ms/step - loss: 0.0797 - acc: 0.9656 - val_loss: 0.2226 - val_acc: 0.9321\n",
            "Epoch 73/100\n",
            "7352/7352 [==============================] - 14s 2ms/step - loss: 0.0831 - acc: 0.9629 - val_loss: 0.1944 - val_acc: 0.9416\n",
            "\n",
            "Reached 94.00% accuracy, so stopping training!!\n"
          ],
          "name": "stdout"
        }
      ]
    },
    {
      "cell_type": "code",
      "metadata": {
        "colab_type": "code",
        "outputId": "2ba87fc1-429f-48f4-c262-d0f632536013",
        "id": "XOUWc2tP9R78",
        "colab": {
          "base_uri": "https://localhost:8080/",
          "height": 185
        }
      },
      "source": [
        "# Confusion Matrix\n",
        "print(confusion_matrix(Y_test, model.predict(X_test)))"
      ],
      "execution_count": 41,
      "outputs": [
        {
          "output_type": "stream",
          "text": [
            "Pred                LAYING  SITTING  ...  WALKING_DOWNSTAIRS  WALKING_UPSTAIRS\n",
            "True                                 ...                                      \n",
            "LAYING                 537        0  ...                   0                 0\n",
            "SITTING                  5      415  ...                   0                 5\n",
            "STANDING                 0       71  ...                   0                 0\n",
            "WALKING                  0        0  ...                   0                 1\n",
            "WALKING_DOWNSTAIRS       0        0  ...                 403                17\n",
            "WALKING_UPSTAIRS         0        1  ...                   3               464\n",
            "\n",
            "[6 rows x 6 columns]\n"
          ],
          "name": "stdout"
        }
      ]
    },
    {
      "cell_type": "code",
      "metadata": {
        "colab_type": "code",
        "outputId": "f14ec744-a82c-444e-a7c5-fabf1260d241",
        "id": "NNrmWrqV9R7_",
        "colab": {
          "base_uri": "https://localhost:8080/",
          "height": 34
        }
      },
      "source": [
        "score_model3 = model.evaluate(X_test, Y_test)"
      ],
      "execution_count": 42,
      "outputs": [
        {
          "output_type": "stream",
          "text": [
            "2947/2947 [==============================] - 12s 4ms/step\n"
          ],
          "name": "stdout"
        }
      ]
    },
    {
      "cell_type": "code",
      "metadata": {
        "colab_type": "code",
        "outputId": "950acf18-42c3-46df-817f-e80b151727d6",
        "id": "sqIZ0maw9R8B",
        "colab": {
          "base_uri": "https://localhost:8080/",
          "height": 34
        }
      },
      "source": [
        "score_model3"
      ],
      "execution_count": 43,
      "outputs": [
        {
          "output_type": "execute_result",
          "data": {
            "text/plain": [
              "[0.19435074410812728, 0.9416355615880556]"
            ]
          },
          "metadata": {
            "tags": []
          },
          "execution_count": 43
        }
      ]
    },
    {
      "cell_type": "code",
      "metadata": {
        "colab_type": "code",
        "id": "ADFw64d99R8D",
        "colab": {}
      },
      "source": [
        "#https://github.com/sunneysood/Tensorflow/blob/master/Multi_Layer_LSTM.ipynb\n",
        "import matplotlib.pyplot as plt\n",
        "\n",
        "\n",
        "def plot_graphs(history, string):\n",
        "  plt.plot(history.history[string])\n",
        "  plt.plot(history.history['val_'+string])\n",
        "  plt.xlabel(\"Epochs\")\n",
        "  plt.ylabel(string)\n",
        "  plt.legend([string, 'val_'+string])\n",
        "  plt.show()"
      ],
      "execution_count": 0,
      "outputs": []
    },
    {
      "cell_type": "code",
      "metadata": {
        "colab_type": "code",
        "id": "mYDr5JRW9R8E",
        "outputId": "eb4a1437-b213-41a3-c4ba-3b05bf925d03",
        "colab": {
          "base_uri": "https://localhost:8080/",
          "height": 541
        }
      },
      "source": [
        "plot_graphs(history, 'acc')\n",
        "plot_graphs(history, 'loss')"
      ],
      "execution_count": 45,
      "outputs": [
        {
          "output_type": "display_data",
          "data": {
            "image/png": "[encoded data removed]",
            "text/plain": [
              "<Figure size 432x288 with 1 Axes>"
            ]
          },
          "metadata": {
            "tags": []
          }
        },
        {
          "output_type": "display_data",
          "data": {
            "image/png": "[encoded data removed]",
            "text/plain": [
              "<Figure size 432x288 with 1 Axes>"
            ]
          },
          "metadata": {
            "tags": []
          }
        }
      ]
    },
    {
      "cell_type": "markdown",
      "metadata": {
        "colab_type": "text",
        "id": "NkAbElhj9R8H"
      },
      "source": [
        "- With a simple 2 layer architecture we got 92.19% accuracy and a loss of 0.38\n"
      ]
    },
    {
      "cell_type": "markdown",
      "metadata": {
        "id": "XeXXqYwA_0Qq",
        "colab_type": "text"
      },
      "source": [
        "# Conclusion"
      ]
    },
    {
      "cell_type": "code",
      "metadata": {
        "id": "Z4yFwIX7B5wt",
        "colab_type": "code",
        "colab": {}
      },
      "source": [
        ""
      ],
      "execution_count": 0,
      "outputs": []
    },
    {
      "cell_type": "code",
      "metadata": {
        "id": "v6WcYiZ8_3KO",
        "colab_type": "code",
        "outputId": "bfb54e04-77c7-4aab-8895-985e4397f642",
        "colab": {
          "base_uri": "https://localhost:8080/",
          "height": 134
        }
      },
      "source": [
        "from prettytable import PrettyTable\n",
        "    \n",
        "x = PrettyTable()\n",
        "\n",
        "x.field_names = [\"Model\", \"Test Loss\", \"Test Accuracy\"]\n",
        "\n",
        "x.add_row([\"Increase LSTM Units\",score_model1[0],score_model1[1]])\n",
        "x.add_row([\"Increase Dropouts\",score_model2[0],score_model2[1]])\n",
        "x.add_row([\"Increase LSTM Layers with increased Dropouts\",score_model3[0],score_model3[1]])\n",
        "print(x)\n",
        "\n"
      ],
      "execution_count": 46,
      "outputs": [
        {
          "output_type": "stream",
          "text": [
            "+----------------------------------------------+---------------------+--------------------+\n",
            "|                    Model                     |      Test Loss      |   Test Accuracy    |\n",
            "+----------------------------------------------+---------------------+--------------------+\n",
            "|             Increase LSTM Units              |  0.2918661247611214 | 0.9212758737699356 |\n",
            "|              Increase Dropouts               |  0.5201896399972675 | 0.8741092636579573 |\n",
            "| Increase LSTM Layers with increased Dropouts | 0.19435074410812728 | 0.9416355615880556 |\n",
            "+----------------------------------------------+---------------------+--------------------+\n"
          ],
          "name": "stdout"
        }
      ]
    },
    {
      "cell_type": "code",
      "metadata": {
        "id": "jr50_cSeBmGY",
        "colab_type": "code",
        "colab": {}
      },
      "source": [
        ""
      ],
      "execution_count": 0,
      "outputs": []
    }
  ]
}