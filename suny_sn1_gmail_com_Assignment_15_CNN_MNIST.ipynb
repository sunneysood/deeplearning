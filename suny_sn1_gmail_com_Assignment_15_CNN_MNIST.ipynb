{
  "nbformat": 4,
  "nbformat_minor": 0,
  "metadata": {
    "colab": {
      "name": "suny.sn1@gmail.com Assignment 15 CNN_MNIST.ipynb",
      "provenance": [],
      "collapsed_sections": [],
      "include_colab_link": true
    },
    "kernelspec": {
      "name": "python3",
      "display_name": "Python 3"
    },
    "accelerator": "GPU"
  },
  "cells": [
    {
      "cell_type": "markdown",
      "metadata": {
        "id": "view-in-github",
        "colab_type": "text"
      },
      "source": [
        "<a href=\"https://colab.research.google.com/github/sunneysood/deeplearning/blob/master/suny_sn1_gmail_com_Assignment_15_CNN_MNIST.ipynb\" target=\"_parent\"><img src=\"https://colab.research.google.com/assets/colab-badge.svg\" alt=\"Open In Colab\"/></a>"
      ]
    },
    {
      "cell_type": "code",
      "metadata": {
        "id": "H9EU0e8yzFOm",
        "colab_type": "code",
        "outputId": "b6ad7612-58bf-4fd6-ebfd-cd85afac13b4",
        "colab": {
          "base_uri": "https://localhost:8080/",
          "height": 163
        }
      },
      "source": [
        "# Credits: https://github.com/keras-team/keras/blob/master/examples/mnist_cnn.py\n",
        "\n",
        "\n",
        "from __future__ import print_function\n",
        "import keras\n",
        "from keras.datasets import mnist\n",
        "from keras.models import Sequential\n",
        "from keras.layers import Dense, Dropout, Flatten\n",
        "from keras.layers import Conv2D, MaxPooling2D\n",
        "from keras import backend as K\n",
        "\n",
        "batch_size = 128\n",
        "num_classes = 10\n",
        "epochs = 12\n",
        "\n",
        "# input image dimensions\n",
        "img_rows, img_cols = 28, 28\n",
        "\n",
        "# the data, split between train and test sets\n",
        "(x_train, y_train), (x_test, y_test) = mnist.load_data()\n",
        "\n",
        "if K.image_data_format() == 'channels_first':\n",
        "    x_train = x_train.reshape(x_train.shape[0], 1, img_rows, img_cols)\n",
        "    x_test = x_test.reshape(x_test.shape[0], 1, img_rows, img_cols)\n",
        "    input_shape = (1, img_rows, img_cols)\n",
        "else:\n",
        "    x_train = x_train.reshape(x_train.shape[0], img_rows, img_cols, 1)\n",
        "    x_test = x_test.reshape(x_test.shape[0], img_rows, img_cols, 1)\n",
        "    input_shape = (img_rows, img_cols, 1)\n",
        "\n",
        "x_train = x_train.astype('float32')\n",
        "x_test = x_test.astype('float32')\n",
        "x_train /= 255\n",
        "x_test /= 255\n",
        "print('x_train shape:', x_train.shape)\n",
        "print(x_train.shape[0], 'train samples')\n",
        "print(x_test.shape[0], 'test samples')\n",
        "\n",
        "# convert class vectors to binary class matrices\n",
        "y_train = keras.utils.to_categorical(y_train, num_classes)\n",
        "y_test = keras.utils.to_categorical(y_test, num_classes)"
      ],
      "execution_count": 1,
      "outputs": [
        {
          "output_type": "stream",
          "text": [
            "Using TensorFlow backend.\n"
          ],
          "name": "stderr"
        },
        {
          "output_type": "display_data",
          "data": {
            "text/html": [
              "<p style=\"color: red;\">\n",
              "The default version of TensorFlow in Colab will soon switch to TensorFlow 2.x.<br>\n",
              "We recommend you <a href=\"https://www.tensorflow.org/guide/migrate\" target=\"_blank\">upgrade</a> now \n",
              "or ensure your notebook will continue to use TensorFlow 1.x via the <code>%tensorflow_version 1.x</code> magic:\n",
              "<a href=\"https://colab.research.google.com/notebooks/tensorflow_version.ipynb\" target=\"_blank\">more info</a>.</p>\n"
            ],
            "text/plain": [
              "<IPython.core.display.HTML object>"
            ]
          },
          "metadata": {
            "tags": []
          }
        },
        {
          "output_type": "stream",
          "text": [
            "Downloading data from https://s3.amazonaws.com/img-datasets/mnist.npz\n",
            "11493376/11490434 [==============================] - 1s 0us/step\n",
            "x_train shape: (60000, 28, 28, 1)\n",
            "60000 train samples\n",
            "10000 test samples\n"
          ],
          "name": "stdout"
        }
      ]
    },
    {
      "cell_type": "code",
      "metadata": {
        "id": "dBrkJ8nhaKq9",
        "colab_type": "code",
        "colab": {}
      },
      "source": [
        "#https://github.com/sunneysood/Tensorflow/blob/master/Multi_Layer_LSTM.ipynb\n",
        "import matplotlib.pyplot as plt\n",
        "\n",
        "\n",
        "def plot_graphs(history, string):\n",
        "  plt.plot(history.history[string])\n",
        "  plt.plot(history.history['val_'+string])\n",
        "  plt.xlabel(\"Epochs\")\n",
        "  plt.ylabel(string)\n",
        "  plt.legend([string, 'val_'+string])\n",
        "  plt.show()"
      ],
      "execution_count": 0,
      "outputs": []
    },
    {
      "cell_type": "markdown",
      "metadata": {
        "id": "L0IrdeikyAR_",
        "colab_type": "text"
      },
      "source": [
        "## CNN with 3*3 Kernel wth 3 conv layers with maxpooling , drop out and batch normalisation "
      ]
    },
    {
      "cell_type": "code",
      "metadata": {
        "id": "5MGJ7M6Ax-gf",
        "colab_type": "code",
        "colab": {
          "base_uri": "https://localhost:8080/",
          "height": 1000
        },
        "outputId": "8d242209-78a5-4267-cdc9-4b889ddbfc15"
      },
      "source": [
        "model = Sequential()\n",
        "model.add(Conv2D(32, kernel_size=(3, 3),\n",
        "                 activation='relu',\n",
        "                 input_shape=input_shape))\n",
        "\n",
        "model.add(Conv2D(64, (3, 3), activation='relu'))\n",
        "model.add(MaxPooling2D(pool_size=(3, 3)))\n",
        "model.add(Dropout(0.2))\n",
        "\n",
        "model.add(Conv2D(128, (3, 3), activation='relu'))\n",
        "model.add(MaxPooling2D(pool_size=(3, 3)))\n",
        "model.add(Dropout(0.2))\n",
        "\n",
        "model.add(Flatten())\n",
        "model.add(Dense(128, activation='relu'))\n",
        "model.add(Dropout(0.25))\n",
        "model.add(Dense(num_classes, activation='softmax'))\n",
        "\n",
        "model.compile(loss=keras.losses.categorical_crossentropy,\n",
        "              optimizer=keras.optimizers.Adadelta(),\n",
        "              metrics=['accuracy'])\n",
        "\n",
        "model.summary()\n",
        "\n",
        "model_run = model.fit(x_train, y_train,\n",
        "          batch_size=batch_size,\n",
        "          epochs=epochs,\n",
        "          verbose=1,\n",
        "          validation_data=(x_test, y_test))\n",
        "\n",
        "\n",
        "plot_graphs(model_run, 'acc')\n",
        "plot_graphs(model_run, 'loss')\n",
        "\n",
        "score = model.evaluate(x_test, y_test, verbose=0)\n",
        "print('Test loss:', score[0])\n",
        "print('Test accuracy:', score[1])"
      ],
      "execution_count": 9,
      "outputs": [
        {
          "output_type": "stream",
          "text": [
            "Model: \"sequential_2\"\n",
            "_________________________________________________________________\n",
            "Layer (type)                 Output Shape              Param #   \n",
            "=================================================================\n",
            "conv2d_4 (Conv2D)            (None, 26, 26, 32)        320       \n",
            "_________________________________________________________________\n",
            "conv2d_5 (Conv2D)            (None, 24, 24, 64)        18496     \n",
            "_________________________________________________________________\n",
            "max_pooling2d_3 (MaxPooling2 (None, 8, 8, 64)          0         \n",
            "_________________________________________________________________\n",
            "dropout_4 (Dropout)          (None, 8, 8, 64)          0         \n",
            "_________________________________________________________________\n",
            "conv2d_6 (Conv2D)            (None, 6, 6, 128)         73856     \n",
            "_________________________________________________________________\n",
            "max_pooling2d_4 (MaxPooling2 (None, 2, 2, 128)         0         \n",
            "_________________________________________________________________\n",
            "dropout_5 (Dropout)          (None, 2, 2, 128)         0         \n",
            "_________________________________________________________________\n",
            "flatten_2 (Flatten)          (None, 512)               0         \n",
            "_________________________________________________________________\n",
            "dense_3 (Dense)              (None, 128)               65664     \n",
            "_________________________________________________________________\n",
            "dropout_6 (Dropout)          (None, 128)               0         \n",
            "_________________________________________________________________\n",
            "dense_4 (Dense)              (None, 10)                1290      \n",
            "=================================================================\n",
            "Total params: 159,626\n",
            "Trainable params: 159,626\n",
            "Non-trainable params: 0\n",
            "_________________________________________________________________\n",
            "Train on 60000 samples, validate on 10000 samples\n",
            "Epoch 1/12\n",
            "60000/60000 [==============================] - 151s 3ms/step - loss: 0.3311 - acc: 0.8917 - val_loss: 0.0555 - val_acc: 0.9832\n",
            "Epoch 2/12\n",
            "60000/60000 [==============================] - 150s 3ms/step - loss: 0.0736 - acc: 0.9770 - val_loss: 0.0408 - val_acc: 0.9869\n",
            "Epoch 3/12\n",
            "60000/60000 [==============================] - 150s 3ms/step - loss: 0.0545 - acc: 0.9831 - val_loss: 0.0249 - val_acc: 0.9920\n",
            "Epoch 4/12\n",
            "60000/60000 [==============================] - 150s 2ms/step - loss: 0.0474 - acc: 0.9851 - val_loss: 0.0281 - val_acc: 0.9908\n",
            "Epoch 5/12\n",
            "60000/60000 [==============================] - 149s 2ms/step - loss: 0.0384 - acc: 0.9879 - val_loss: 0.0239 - val_acc: 0.9923\n",
            "Epoch 6/12\n",
            "60000/60000 [==============================] - 149s 2ms/step - loss: 0.0356 - acc: 0.9888 - val_loss: 0.0214 - val_acc: 0.9927\n",
            "Epoch 7/12\n",
            "60000/60000 [==============================] - 149s 2ms/step - loss: 0.0312 - acc: 0.9900 - val_loss: 0.0211 - val_acc: 0.9928\n",
            "Epoch 8/12\n",
            "60000/60000 [==============================] - 149s 2ms/step - loss: 0.0276 - acc: 0.9912 - val_loss: 0.0222 - val_acc: 0.9926\n",
            "Epoch 9/12\n",
            "60000/60000 [==============================] - 149s 2ms/step - loss: 0.0246 - acc: 0.9920 - val_loss: 0.0185 - val_acc: 0.9943\n",
            "Epoch 10/12\n",
            "60000/60000 [==============================] - 149s 2ms/step - loss: 0.0225 - acc: 0.9929 - val_loss: 0.0181 - val_acc: 0.9942\n",
            "Epoch 11/12\n",
            "60000/60000 [==============================] - 149s 2ms/step - loss: 0.0226 - acc: 0.9929 - val_loss: 0.0198 - val_acc: 0.9936\n",
            "Epoch 12/12\n",
            "60000/60000 [==============================] - 149s 2ms/step - loss: 0.0202 - acc: 0.9936 - val_loss: 0.0187 - val_acc: 0.9940\n"
          ],
          "name": "stdout"
        },
        {
          "output_type": "display_data",
          "data": {
            "image/png": "[encoded data removed]",
            "text/plain": [
              "<Figure size 432x288 with 1 Axes>"
            ]
          },
          "metadata": {
            "tags": []
          }
        },
        {
          "output_type": "display_data",
          "data": {
            "image/png": "[encoded data removed]",
            "text/plain": [
              "<Figure size 432x288 with 1 Axes>"
            ]
          },
          "metadata": {
            "tags": []
          }
        },
        {
          "output_type": "stream",
          "text": [
            "Test loss: 0.018668196208900555\n",
            "Test accuracy: 0.994\n"
          ],
          "name": "stdout"
        }
      ]
    },
    {
      "cell_type": "code",
      "metadata": {
        "id": "pUo-klnIhwcI",
        "colab_type": "code",
        "colab": {}
      },
      "source": [
        "#model_run.history['val_loss']"
      ],
      "execution_count": 0,
      "outputs": []
    },
    {
      "cell_type": "markdown",
      "metadata": {
        "id": "DJWr1qsyykQq",
        "colab_type": "text"
      },
      "source": [
        "## CNN with 5*5 Kernel wth 12 conv layers with maxpooling and drop out "
      ]
    },
    {
      "cell_type": "code",
      "metadata": {
        "id": "wk5FyQ8Vx-Lv",
        "colab_type": "code",
        "colab": {
          "base_uri": "https://localhost:8080/",
          "height": 1000
        },
        "outputId": "e7350b4a-26e7-435e-ce67-aaa185b55199"
      },
      "source": [
        "from keras.layers.normalization import BatchNormalization\n",
        "\n",
        "model = Sequential()\n",
        "model.add(Conv2D(32, kernel_size=(5, 5),\n",
        "                 activation='relu',\n",
        "                 input_shape=input_shape,padding='same'))\n",
        "model.add(Conv2D(16, (5, 5), activation='relu',padding='same'))\n",
        "#model.add(MaxPooling2D(pool_size=(5, 5),strides=(1,1),padding='same'))\n",
        "model.add(Dropout(0.25))\n",
        "\n",
        "model.add(Conv2D(32, (5, 5), activation='relu',padding='same'))\n",
        "#model.add(MaxPooling2D(pool_size=(5, 5),padding='same'))\n",
        "model.add(BatchNormalization())\n",
        "model.add(Dropout(0.25))\n",
        "\n",
        "#model.add(Conv2D(256, (5, 5), activation='relu',padding='same'))\n",
        "#model.add(MaxPooling2D(pool_size=(5, 5)))\n",
        "#model.add(Dropout(0.25))\n",
        "\n",
        "#model.add(Conv2D(512, (5, 5), activation='relu',padding='same'))\n",
        "#model.add(Dropout(0.25))\n",
        "#model.add(BatchNormalization())\n",
        "\n",
        "#model.add(Conv2D(512, (5, 5), activation='relu',padding='same'))\n",
        "#model.add(MaxPooling2D(pool_size=(5, 5),padding='same'))\n",
        "\n",
        "#model.add(Conv2D(512, (5, 5), activation='relu',padding='same'))\n",
        "#model.add(MaxPooling2D(pool_size=(5, 5),padding='same'))\n",
        "\n",
        "model.add(Conv2D(16, (5, 5), activation='relu',padding='same'))\n",
        "model.add(MaxPooling2D(pool_size=(5, 5),padding='same'))\n",
        "model.add(Dropout(0.25))\n",
        "\n",
        "model.add(Conv2D(32, (5, 5), activation='relu',padding='same'))\n",
        "#model.add(Conv2D(128, (5, 5), activation='relu',padding='same'))\n",
        "model.add(BatchNormalization())\n",
        "model.add(Dropout(0.25))\n",
        "#model.add(Conv2D(64, (5, 5), activation='relu',padding='same'))\n",
        "#model.add(Conv2D(64, (5, 5), activation='relu',padding='same'))\n",
        "\n",
        "model.add(Flatten())\n",
        "model.add(Dense(32, activation='relu'))\n",
        "#model.add(Dropout(0.5))\n",
        "model.add(Dense(num_classes, activation='softmax'))\n",
        "\n",
        "model.compile(loss=keras.losses.categorical_crossentropy,\n",
        "              optimizer=keras.optimizers.Adadelta(),\n",
        "              metrics=['accuracy'])\n",
        "\n",
        "model.summary()\n",
        "\n"
      ],
      "execution_count": 3,
      "outputs": [
        {
          "output_type": "stream",
          "text": [
            "WARNING:tensorflow:From /usr/local/lib/python3.6/dist-packages/keras/backend/tensorflow_backend.py:66: The name tf.get_default_graph is deprecated. Please use tf.compat.v1.get_default_graph instead.\n",
            "\n",
            "WARNING:tensorflow:From /usr/local/lib/python3.6/dist-packages/keras/backend/tensorflow_backend.py:541: The name tf.placeholder is deprecated. Please use tf.compat.v1.placeholder instead.\n",
            "\n",
            "WARNING:tensorflow:From /usr/local/lib/python3.6/dist-packages/keras/backend/tensorflow_backend.py:4432: The name tf.random_uniform is deprecated. Please use tf.random.uniform instead.\n",
            "\n",
            "WARNING:tensorflow:From /usr/local/lib/python3.6/dist-packages/keras/backend/tensorflow_backend.py:148: The name tf.placeholder_with_default is deprecated. Please use tf.compat.v1.placeholder_with_default instead.\n",
            "\n",
            "WARNING:tensorflow:From /usr/local/lib/python3.6/dist-packages/keras/backend/tensorflow_backend.py:3733: calling dropout (from tensorflow.python.ops.nn_ops) with keep_prob is deprecated and will be removed in a future version.\n",
            "Instructions for updating:\n",
            "Please use `rate` instead of `keep_prob`. Rate should be set to `rate = 1 - keep_prob`.\n",
            "WARNING:tensorflow:From /usr/local/lib/python3.6/dist-packages/keras/backend/tensorflow_backend.py:190: The name tf.get_default_session is deprecated. Please use tf.compat.v1.get_default_session instead.\n",
            "\n",
            "WARNING:tensorflow:From /usr/local/lib/python3.6/dist-packages/keras/backend/tensorflow_backend.py:197: The name tf.ConfigProto is deprecated. Please use tf.compat.v1.ConfigProto instead.\n",
            "\n",
            "WARNING:tensorflow:From /usr/local/lib/python3.6/dist-packages/keras/backend/tensorflow_backend.py:203: The name tf.Session is deprecated. Please use tf.compat.v1.Session instead.\n",
            "\n",
            "WARNING:tensorflow:From /usr/local/lib/python3.6/dist-packages/keras/backend/tensorflow_backend.py:207: The name tf.global_variables is deprecated. Please use tf.compat.v1.global_variables instead.\n",
            "\n",
            "WARNING:tensorflow:From /usr/local/lib/python3.6/dist-packages/keras/backend/tensorflow_backend.py:216: The name tf.is_variable_initialized is deprecated. Please use tf.compat.v1.is_variable_initialized instead.\n",
            "\n",
            "WARNING:tensorflow:From /usr/local/lib/python3.6/dist-packages/keras/backend/tensorflow_backend.py:223: The name tf.variables_initializer is deprecated. Please use tf.compat.v1.variables_initializer instead.\n",
            "\n",
            "WARNING:tensorflow:From /usr/local/lib/python3.6/dist-packages/keras/backend/tensorflow_backend.py:2041: The name tf.nn.fused_batch_norm is deprecated. Please use tf.compat.v1.nn.fused_batch_norm instead.\n",
            "\n",
            "WARNING:tensorflow:From /usr/local/lib/python3.6/dist-packages/keras/backend/tensorflow_backend.py:4267: The name tf.nn.max_pool is deprecated. Please use tf.nn.max_pool2d instead.\n",
            "\n",
            "WARNING:tensorflow:From /usr/local/lib/python3.6/dist-packages/keras/optimizers.py:793: The name tf.train.Optimizer is deprecated. Please use tf.compat.v1.train.Optimizer instead.\n",
            "\n",
            "WARNING:tensorflow:From /usr/local/lib/python3.6/dist-packages/keras/backend/tensorflow_backend.py:3576: The name tf.log is deprecated. Please use tf.math.log instead.\n",
            "\n",
            "Model: \"sequential_1\"\n",
            "_________________________________________________________________\n",
            "Layer (type)                 Output Shape              Param #   \n",
            "=================================================================\n",
            "conv2d_1 (Conv2D)            (None, 28, 28, 32)        832       \n",
            "_________________________________________________________________\n",
            "conv2d_2 (Conv2D)            (None, 28, 28, 16)        12816     \n",
            "_________________________________________________________________\n",
            "dropout_1 (Dropout)          (None, 28, 28, 16)        0         \n",
            "_________________________________________________________________\n",
            "conv2d_3 (Conv2D)            (None, 28, 28, 32)        12832     \n",
            "_________________________________________________________________\n",
            "batch_normalization_1 (Batch (None, 28, 28, 32)        128       \n",
            "_________________________________________________________________\n",
            "dropout_2 (Dropout)          (None, 28, 28, 32)        0         \n",
            "_________________________________________________________________\n",
            "conv2d_4 (Conv2D)            (None, 28, 28, 16)        12816     \n",
            "_________________________________________________________________\n",
            "max_pooling2d_1 (MaxPooling2 (None, 6, 6, 16)          0         \n",
            "_________________________________________________________________\n",
            "dropout_3 (Dropout)          (None, 6, 6, 16)          0         \n",
            "_________________________________________________________________\n",
            "conv2d_5 (Conv2D)            (None, 6, 6, 32)          12832     \n",
            "_________________________________________________________________\n",
            "batch_normalization_2 (Batch (None, 6, 6, 32)          128       \n",
            "_________________________________________________________________\n",
            "dropout_4 (Dropout)          (None, 6, 6, 32)          0         \n",
            "_________________________________________________________________\n",
            "flatten_1 (Flatten)          (None, 1152)              0         \n",
            "_________________________________________________________________\n",
            "dense_1 (Dense)              (None, 32)                36896     \n",
            "_________________________________________________________________\n",
            "dense_2 (Dense)              (None, 10)                330       \n",
            "=================================================================\n",
            "Total params: 89,610\n",
            "Trainable params: 89,482\n",
            "Non-trainable params: 128\n",
            "_________________________________________________________________\n"
          ],
          "name": "stdout"
        }
      ]
    },
    {
      "cell_type": "code",
      "metadata": {
        "id": "_gkjP1sdw1Ea",
        "colab_type": "code",
        "colab": {
          "base_uri": "https://localhost:8080/",
          "height": 574
        },
        "outputId": "7ab8e1b1-6641-484c-de18-1d468d6d5785"
      },
      "source": [
        "model_run = model.fit(x_train, y_train,\n",
        "          batch_size=batch_size,\n",
        "          epochs=epochs,\n",
        "          verbose=1,\n",
        "          validation_data=(x_test, y_test))"
      ],
      "execution_count": 4,
      "outputs": [
        {
          "output_type": "stream",
          "text": [
            "WARNING:tensorflow:From /usr/local/lib/python3.6/dist-packages/tensorflow_core/python/ops/math_grad.py:1424: where (from tensorflow.python.ops.array_ops) is deprecated and will be removed in a future version.\n",
            "Instructions for updating:\n",
            "Use tf.where in 2.0, which has the same broadcast rule as np.where\n",
            "WARNING:tensorflow:From /usr/local/lib/python3.6/dist-packages/keras/backend/tensorflow_backend.py:1033: The name tf.assign_add is deprecated. Please use tf.compat.v1.assign_add instead.\n",
            "\n",
            "WARNING:tensorflow:From /usr/local/lib/python3.6/dist-packages/keras/backend/tensorflow_backend.py:1020: The name tf.assign is deprecated. Please use tf.compat.v1.assign instead.\n",
            "\n",
            "Train on 60000 samples, validate on 10000 samples\n",
            "Epoch 1/12\n",
            "60000/60000 [==============================] - 13s 212us/step - loss: 0.2938 - acc: 0.9047 - val_loss: 0.0488 - val_acc: 0.9845\n",
            "Epoch 2/12\n",
            "60000/60000 [==============================] - 6s 97us/step - loss: 0.0807 - acc: 0.9753 - val_loss: 0.0447 - val_acc: 0.9857\n",
            "Epoch 3/12\n",
            "60000/60000 [==============================] - 6s 98us/step - loss: 0.0600 - acc: 0.9817 - val_loss: 0.0337 - val_acc: 0.9895\n",
            "Epoch 4/12\n",
            "60000/60000 [==============================] - 6s 98us/step - loss: 0.0478 - acc: 0.9853 - val_loss: 0.0365 - val_acc: 0.9877\n",
            "Epoch 5/12\n",
            "60000/60000 [==============================] - 6s 99us/step - loss: 0.0406 - acc: 0.9869 - val_loss: 0.0198 - val_acc: 0.9927\n",
            "Epoch 6/12\n",
            "60000/60000 [==============================] - 6s 98us/step - loss: 0.0367 - acc: 0.9887 - val_loss: 0.0230 - val_acc: 0.9920\n",
            "Epoch 7/12\n",
            "60000/60000 [==============================] - 6s 97us/step - loss: 0.0345 - acc: 0.9895 - val_loss: 0.0255 - val_acc: 0.9917\n",
            "Epoch 8/12\n",
            "60000/60000 [==============================] - 6s 98us/step - loss: 0.0303 - acc: 0.9906 - val_loss: 0.0185 - val_acc: 0.9947\n",
            "Epoch 9/12\n",
            "60000/60000 [==============================] - 6s 97us/step - loss: 0.0289 - acc: 0.9910 - val_loss: 0.0176 - val_acc: 0.9939\n",
            "Epoch 10/12\n",
            "60000/60000 [==============================] - 6s 98us/step - loss: 0.0272 - acc: 0.9915 - val_loss: 0.0223 - val_acc: 0.9923\n",
            "Epoch 11/12\n",
            "60000/60000 [==============================] - 6s 97us/step - loss: 0.0241 - acc: 0.9923 - val_loss: 0.0251 - val_acc: 0.9923\n",
            "Epoch 12/12\n",
            "60000/60000 [==============================] - 6s 97us/step - loss: 0.0252 - acc: 0.9918 - val_loss: 0.0182 - val_acc: 0.9933\n"
          ],
          "name": "stdout"
        }
      ]
    },
    {
      "cell_type": "code",
      "metadata": {
        "id": "RnAFw9Y9w11p",
        "colab_type": "code",
        "colab": {
          "base_uri": "https://localhost:8080/",
          "height": 574
        },
        "outputId": "eced1298-acd2-44c8-ddbe-790e98105d4d"
      },
      "source": [
        "plot_graphs(model_run, 'acc')\n",
        "plot_graphs(model_run, 'loss')\n",
        "\n",
        "score = model.evaluate(x_test, y_test, verbose=0)\n",
        "print('Test loss:', score[0])\n",
        "print('Test accuracy:', score[1])"
      ],
      "execution_count": 5,
      "outputs": [
        {
          "output_type": "display_data",
          "data": {
            "image/png": "[encoded data removed]",
            "text/plain": [
              "<Figure size 432x288 with 1 Axes>"
            ]
          },
          "metadata": {
            "tags": []
          }
        },
        {
          "output_type": "display_data",
          "data": {
            "image/png": "[encoded data removed]",
            "text/plain": [
              "<Figure size 432x288 with 1 Axes>"
            ]
          },
          "metadata": {
            "tags": []
          }
        },
        {
          "output_type": "stream",
          "text": [
            "Test loss: 0.018208784474545246\n",
            "Test accuracy: 0.9933\n"
          ],
          "name": "stdout"
        }
      ]
    },
    {
      "cell_type": "markdown",
      "metadata": {
        "id": "MvrS5C9Fypr-",
        "colab_type": "text"
      },
      "source": [
        "## CNN with 9*9 Kernel wth 15 conv layers with maxpooling and drop out "
      ]
    },
    {
      "cell_type": "code",
      "metadata": {
        "id": "Bb1Y5cE6x9gt",
        "colab_type": "code",
        "colab": {
          "base_uri": "https://localhost:8080/",
          "height": 790
        },
        "outputId": "bc7ef8fe-34f4-430b-b102-1e276b1d2f30"
      },
      "source": [
        "from keras.layers.normalization import BatchNormalization\n",
        "model = Sequential()\n",
        "model.add(Conv2D(32, kernel_size=(7, 7),\n",
        "                 activation='relu',\n",
        "                 input_shape=input_shape,padding='same'))\n",
        "model.add(Conv2D(32, (7, 7), activation='relu',padding='same'))\n",
        "#model.add(MaxPooling2D(pool_size=(2, 2),padding='same'))\n",
        "model.add(Dropout(0.25))\n",
        "\n",
        "model.add(Conv2D(16, (7, 7), activation='relu',padding='same'))\n",
        "#model.add(MaxPooling2D(pool_size=(2, 2),padding='same'))\n",
        "#model.add(Dropout(0.25))\n",
        "model.add(BatchNormalization())\n",
        "\n",
        "model.add(Conv2D(32, (7, 7), activation='relu',padding='same'))\n",
        "model.add(MaxPooling2D(pool_size=(2, 2),padding='same'))\n",
        "#model.add(Dropout(0.25))\n",
        "\n",
        "model.add(Conv2D(32, (7, 7), activation='relu',padding='same'))\n",
        "#model.add(MaxPooling2D(pool_size=(2, 2),padding='same'))\n",
        "model.add(Dropout(0.25))\n",
        "\n",
        "model.add(Conv2D(64, (7, 7), activation='relu',padding='same'))\n",
        "#model.add(MaxPooling2D(pool_size=(2, 2),padding='same'))\n",
        "model.add(Dropout(0.25))\n",
        "model.add(BatchNormalization())\n",
        "\n",
        "model.add(Conv2D(16, (7, 7), activation='relu',padding='same'))\n",
        "#model.add(MaxPooling2D(pool_size=(2, 2),padding='same'))\n",
        "#model.add(Dropout(0.25))\n",
        "\n",
        "#model.add(Conv2D(128, (9, 9), activation='relu',padding='same'))\n",
        "#model.add(MaxPooling2D(pool_size=(2, 2),padding='same'))\n",
        "#model.add(Dropout(0.25))\n",
        "\n",
        "#model.add(Conv2D(64, (9, 9), activation='relu',padding='same'))\n",
        "#model.add(MaxPooling2D(pool_size=(2, 2),padding='same'))\n",
        "#model.add(Dropout(0.25))\n",
        "#model.add(BatchNormalization())\n",
        "\n",
        "#model.add(Conv2D(64, (9, 9), activation='relu',padding='same'))\n",
        "#model.add(MaxPooling2D(pool_size=(2, 2),padding='same'))\n",
        "#model.add(Dropout(0.25))\n",
        "\n",
        "model.add(Conv2D(32, (7, 7), activation='relu',padding='same'))\n",
        "#model.add(MaxPooling2D(pool_size=(2, 2),padding='same'))\n",
        "model.add(BatchNormalization())\n",
        "model.add(Dropout(0.25))\n",
        "\n",
        "model.add(Flatten())\n",
        "model.add(Dense(32, activation='relu'))\n",
        "#model.add(Dropout(0.5))\n",
        "model.add(Dense(num_classes, activation='softmax'))\n",
        "\n",
        "\n",
        "model.compile(loss=keras.losses.categorical_crossentropy,\n",
        "              optimizer=keras.optimizers.Adadelta(),\n",
        "              metrics=['accuracy'])\n",
        "\n",
        "model.summary()"
      ],
      "execution_count": 8,
      "outputs": [
        {
          "output_type": "stream",
          "text": [
            "Model: \"sequential_3\"\n",
            "_________________________________________________________________\n",
            "Layer (type)                 Output Shape              Param #   \n",
            "=================================================================\n",
            "conv2d_14 (Conv2D)           (None, 28, 28, 32)        1600      \n",
            "_________________________________________________________________\n",
            "conv2d_15 (Conv2D)           (None, 28, 28, 32)        50208     \n",
            "_________________________________________________________________\n",
            "dropout_10 (Dropout)         (None, 28, 28, 32)        0         \n",
            "_________________________________________________________________\n",
            "conv2d_16 (Conv2D)           (None, 28, 28, 16)        25104     \n",
            "_________________________________________________________________\n",
            "batch_normalization_6 (Batch (None, 28, 28, 16)        64        \n",
            "_________________________________________________________________\n",
            "conv2d_17 (Conv2D)           (None, 28, 28, 32)        25120     \n",
            "_________________________________________________________________\n",
            "max_pooling2d_3 (MaxPooling2 (None, 14, 14, 32)        0         \n",
            "_________________________________________________________________\n",
            "conv2d_18 (Conv2D)           (None, 14, 14, 32)        50208     \n",
            "_________________________________________________________________\n",
            "dropout_11 (Dropout)         (None, 14, 14, 32)        0         \n",
            "_________________________________________________________________\n",
            "conv2d_19 (Conv2D)           (None, 14, 14, 64)        100416    \n",
            "_________________________________________________________________\n",
            "dropout_12 (Dropout)         (None, 14, 14, 64)        0         \n",
            "_________________________________________________________________\n",
            "batch_normalization_7 (Batch (None, 14, 14, 64)        256       \n",
            "_________________________________________________________________\n",
            "conv2d_20 (Conv2D)           (None, 14, 14, 16)        50192     \n",
            "_________________________________________________________________\n",
            "conv2d_21 (Conv2D)           (None, 14, 14, 32)        25120     \n",
            "_________________________________________________________________\n",
            "batch_normalization_8 (Batch (None, 14, 14, 32)        128       \n",
            "_________________________________________________________________\n",
            "dropout_13 (Dropout)         (None, 14, 14, 32)        0         \n",
            "_________________________________________________________________\n",
            "flatten_3 (Flatten)          (None, 6272)              0         \n",
            "_________________________________________________________________\n",
            "dense_5 (Dense)              (None, 32)                200736    \n",
            "_________________________________________________________________\n",
            "dense_6 (Dense)              (None, 10)                330       \n",
            "=================================================================\n",
            "Total params: 529,482\n",
            "Trainable params: 529,258\n",
            "Non-trainable params: 224\n",
            "_________________________________________________________________\n"
          ],
          "name": "stdout"
        }
      ]
    },
    {
      "cell_type": "code",
      "metadata": {
        "id": "m2I5eQlBKb_f",
        "colab_type": "code",
        "colab": {
          "base_uri": "https://localhost:8080/",
          "height": 437
        },
        "outputId": "d1e0d8a2-8f88-4da7-b429-c82ceae1f277"
      },
      "source": [
        "model_run = model.fit(x_train, y_train,\n",
        "          batch_size=batch_size,\n",
        "          epochs=epochs,\n",
        "          verbose=1,\n",
        "          validation_data=(x_test, y_test))"
      ],
      "execution_count": 9,
      "outputs": [
        {
          "output_type": "stream",
          "text": [
            "Train on 60000 samples, validate on 10000 samples\n",
            "Epoch 1/12\n",
            "60000/60000 [==============================] - 14s 226us/step - loss: 0.3027 - acc: 0.9040 - val_loss: 0.1934 - val_acc: 0.9570\n",
            "Epoch 2/12\n",
            "60000/60000 [==============================] - 12s 202us/step - loss: 0.0643 - acc: 0.9814 - val_loss: 0.0528 - val_acc: 0.9870\n",
            "Epoch 3/12\n",
            "60000/60000 [==============================] - 12s 201us/step - loss: 0.0469 - acc: 0.9865 - val_loss: 0.0338 - val_acc: 0.9893\n",
            "Epoch 4/12\n",
            "60000/60000 [==============================] - 12s 201us/step - loss: 0.0344 - acc: 0.9899 - val_loss: 0.0532 - val_acc: 0.9890\n",
            "Epoch 5/12\n",
            "60000/60000 [==============================] - 12s 200us/step - loss: 0.0302 - acc: 0.9913 - val_loss: 0.0294 - val_acc: 0.9922\n",
            "Epoch 6/12\n",
            "60000/60000 [==============================] - 12s 200us/step - loss: 0.0230 - acc: 0.9932 - val_loss: 0.0419 - val_acc: 0.9904\n",
            "Epoch 7/12\n",
            "60000/60000 [==============================] - 12s 201us/step - loss: 0.0210 - acc: 0.9939 - val_loss: 0.0313 - val_acc: 0.9921\n",
            "Epoch 8/12\n",
            "60000/60000 [==============================] - 12s 201us/step - loss: 0.0169 - acc: 0.9946 - val_loss: 0.0253 - val_acc: 0.9942\n",
            "Epoch 9/12\n",
            "60000/60000 [==============================] - 12s 200us/step - loss: 0.0140 - acc: 0.9957 - val_loss: 0.0228 - val_acc: 0.9933\n",
            "Epoch 10/12\n",
            "60000/60000 [==============================] - 12s 201us/step - loss: 0.0164 - acc: 0.9946 - val_loss: 0.0290 - val_acc: 0.9934\n",
            "Epoch 11/12\n",
            "60000/60000 [==============================] - 12s 200us/step - loss: 0.0131 - acc: 0.9959 - val_loss: 0.0254 - val_acc: 0.9942\n",
            "Epoch 12/12\n",
            "60000/60000 [==============================] - 12s 200us/step - loss: 0.0121 - acc: 0.9961 - val_loss: 0.0215 - val_acc: 0.9944\n"
          ],
          "name": "stdout"
        }
      ]
    },
    {
      "cell_type": "code",
      "metadata": {
        "id": "fLRlCuEMxYma",
        "colab_type": "code",
        "colab": {
          "base_uri": "https://localhost:8080/",
          "height": 578
        },
        "outputId": "06cfabb4-3050-4aca-89fa-243332fdcf2e"
      },
      "source": [
        "plot_graphs(model_run, 'acc')\n",
        "plot_graphs(model_run, 'loss')\n",
        "\n",
        "\n",
        "score = model.evaluate(x_test, y_test, verbose=0)\n",
        "print('Test loss:', score[0])\n",
        "print('Test accuracy:', score[1])"
      ],
      "execution_count": 10,
      "outputs": [
        {
          "output_type": "display_data",
          "data": {
            "image/png": "[encoded data removed]",
            "text/plain": [
              "<Figure size 432x288 with 1 Axes>"
            ]
          },
          "metadata": {
            "tags": []
          }
        },
        {
          "output_type": "display_data",
          "data": {
            "image/png": "[encoded data removed]",
            "text/plain": [
              "<Figure size 432x288 with 1 Axes>"
            ]
          },
          "metadata": {
            "tags": []
          }
        },
        {
          "output_type": "stream",
          "text": [
            "Test loss: 0.021519929788950138\n",
            "Test accuracy: 0.9944\n"
          ],
          "name": "stdout"
        }
      ]
    },
    {
      "cell_type": "code",
      "metadata": {
        "id": "SYFjBg6ebp3J",
        "colab_type": "code",
        "colab": {}
      },
      "source": [
        ""
      ],
      "execution_count": 0,
      "outputs": []
    }
  ]
}