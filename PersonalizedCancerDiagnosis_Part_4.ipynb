{
  "nbformat": 4,
  "nbformat_minor": 0,
  "metadata": {
    "colab": {
      "name": "PersonalizedCancerDiagnosis Part 4 (1).ipynb",
      "provenance": []
    },
    "kernelspec": {
      "display_name": "Python 3",
      "language": "python",
      "name": "python3"
    },
    "language_info": {
      "codemirror_mode": {
        "name": "ipython",
        "version": 3
      },
      "file_extension": ".py",
      "mimetype": "text/x-python",
      "name": "python",
      "nbconvert_exporter": "python",
      "pygments_lexer": "ipython3",
      "version": "3.5.3"
    }
  },
  "cells": [
    {
      "cell_type": "markdown",
      "metadata": {
        "colab_type": "text",
        "id": "xCjRvTxKOQuR"
      },
      "source": [
        "<p style=\"font-size:36px;text-align:center\"> <b>Personalized cancer diagnosis</b> </p>"
      ]
    },
    {
      "cell_type": "markdown",
      "metadata": {
        "colab_type": "text",
        "id": "ylEEdGq_OQuU"
      },
      "source": [
        "<h1>1. Business Problem</h1>"
      ]
    },
    {
      "cell_type": "markdown",
      "metadata": {
        "colab_type": "text",
        "id": "enOmIXotOQuV"
      },
      "source": [
        "<h2>1.1. Description</h2>"
      ]
    },
    {
      "cell_type": "markdown",
      "metadata": {
        "colab_type": "text",
        "id": "_8luKZvfOQuX"
      },
      "source": [
        "<p> Source: https://www.kaggle.com/c/msk-redefining-cancer-treatment/ </p>\n",
        "<p> Data: Memorial Sloan Kettering Cancer Center (MSKCC)</p>\n",
        "<p> Download training_variants.zip and training_text.zip from Kaggle.</p> \n",
        "\n",
        "<h6> Context:</h6>\n",
        "<p> Source: https://www.kaggle.com/c/msk-redefining-cancer-treatment/discussion/35336#198462</p>\n",
        "\n",
        "<h6> Problem statement : </h6>\n",
        "<p> Classify the given genetic variations/mutations based on evidence from text-based clinical literature. </p>"
      ]
    },
    {
      "cell_type": "markdown",
      "metadata": {
        "colab_type": "text",
        "id": "eOO0zzCjOQuY"
      },
      "source": [
        "<h2>1.2. Source/Useful Links</h2>"
      ]
    },
    {
      "cell_type": "markdown",
      "metadata": {
        "colab_type": "text",
        "id": "lWkAIDUPOQuZ"
      },
      "source": [
        " Some articles and reference blogs about the problem statement"
      ]
    },
    {
      "cell_type": "markdown",
      "metadata": {
        "colab_type": "text",
        "id": "QQ-dIB1COQub"
      },
      "source": [
        "1. https://www.forbes.com/sites/matthewherper/2017/06/03/a-new-cancer-drug-helped-almost-everyone-who-took-it-almost-heres-what-it-teaches-us/#2a44ee2f6b25\n",
        "2. https://www.youtube.com/watch?v=UwbuW7oK8rk \n",
        "3. https://www.youtube.com/watch?v=qxXRKVompI8"
      ]
    },
    {
      "cell_type": "markdown",
      "metadata": {
        "colab_type": "text",
        "id": "0QJkDkarOQuc"
      },
      "source": [
        "<h2>1.3. Real-world/Business objectives and constraints.</h2>"
      ]
    },
    {
      "cell_type": "markdown",
      "metadata": {
        "colab_type": "text",
        "id": "CCLeDepSOQuc"
      },
      "source": [
        "* No low-latency requirement.\n",
        "* Interpretability is important.\n",
        "* Errors can be very costly.\n",
        "* Probability of a data-point belonging to each class is needed."
      ]
    },
    {
      "cell_type": "markdown",
      "metadata": {
        "colab_type": "text",
        "id": "3AD25TPFOQud"
      },
      "source": [
        "<h1>2. Machine Learning Problem Formulation</h1>"
      ]
    },
    {
      "cell_type": "markdown",
      "metadata": {
        "colab_type": "text",
        "id": "kJilLeTgOQuf"
      },
      "source": [
        "<h2>2.1. Data</h2>"
      ]
    },
    {
      "cell_type": "markdown",
      "metadata": {
        "colab_type": "text",
        "id": "GAkBG-9JOQuf"
      },
      "source": [
        "<h3>2.1.1. Data Overview</h3>"
      ]
    },
    {
      "cell_type": "markdown",
      "metadata": {
        "colab_type": "text",
        "id": "_xgJzFEHOQuh"
      },
      "source": [
        "- Source: https://www.kaggle.com/c/msk-redefining-cancer-treatment/data\n",
        "- We have two data files: one conatins the information about the genetic mutations and the other contains the clinical evidence (text) that  human experts/pathologists use to classify the genetic mutations. \n",
        "- Both these data files are have a common column called ID\n",
        "- <p> \n",
        "    Data file's information:\n",
        "    <ul> \n",
        "        <li>\n",
        "        training_variants (ID , Gene, Variations, Class)\n",
        "        </li>\n",
        "        <li>\n",
        "        training_text (ID, Text)\n",
        "        </li>\n",
        "    </ul>\n",
        "</p>"
      ]
    },
    {
      "cell_type": "markdown",
      "metadata": {
        "colab_type": "text",
        "id": "lUV7vz1iOQui"
      },
      "source": [
        "<h3>2.1.2. Example Data Point</h3>"
      ]
    },
    {
      "cell_type": "markdown",
      "metadata": {
        "colab_type": "text",
        "id": "t4UYmjTIOQuj"
      },
      "source": [
        "<h6>training_variants</h6>\n",
        "<hr>\n",
        "ID,Gene,Variation,Class<br>\n",
        "0,FAM58A,Truncating Mutations,1 <br>\n",
        "1,CBL,W802*,2 <br>\n",
        "2,CBL,Q249E,2 <br>\n",
        "...\n",
        "\n",
        "<h6> training_text</h6>\n",
        "<hr>\n",
        "ID,Text <br>\n",
        "0||Cyclin-dependent kinases (CDKs) regulate a variety of fundamental cellular processes. CDK10 stands out as one of the last orphan CDKs for which no activating cyclin has been identified and no kinase activity revealed. Previous work has shown that CDK10 silencing increases ETS2 (v-ets erythroblastosis virus E26 oncogene homolog 2)-driven activation of the MAPK pathway, which confers tamoxifen resistance to breast cancer cells. The precise mechanisms by which CDK10 modulates ETS2 activity, and more generally the functions of CDK10, remain elusive. Here we demonstrate that CDK10 is a cyclin-dependent kinase by identifying cyclin M as an activating cyclin. Cyclin M, an orphan cyclin, is the product of FAM58A, whose mutations cause STAR syndrome, a human developmental anomaly whose features include toe syndactyly, telecanthus, and anogenital and renal malformations. We show that STAR syndrome-associated cyclin M mutants are unable to interact with CDK10. Cyclin M silencing phenocopies CDK10 silencing in increasing c-Raf and in conferring tamoxifen resistance to breast cancer cells. CDK10/cyclin M phosphorylates ETS2 in vitro, and in cells it positively controls ETS2 degradation by the proteasome. ETS2 protein levels are increased in cells derived from a STAR patient, and this increase is attributable to decreased cyclin M levels. Altogether, our results reveal an additional regulatory mechanism for ETS2, which plays key roles in cancer and development. They also shed light on the molecular mechanisms underlying STAR syndrome.Cyclin-dependent kinases (CDKs) play a pivotal role in the control of a number of fundamental cellular processes (1). The human genome contains 21 genes encoding proteins that can be considered as members of the CDK family owing to their sequence similarity with bona fide CDKs, those known to be activated by cyclins (2). Although discovered almost 20 y ago (3, 4), CDK10 remains one of the two CDKs without an identified cyclin partner. This knowledge gap has largely impeded the exploration of its biological functions. CDK10 can act as a positive cell cycle regulator in some cells (5, 6) or as a tumor suppressor in others (7, 8). CDK10 interacts with the ETS2 (v-ets erythroblastosis virus E26 oncogene homolog 2) transcription factor and inhibits its transcriptional activity through an unknown mechanism (9). CDK10 knockdown derepresses ETS2, which increases the expression of the c-Raf protein kinase, activates the MAPK pathway, and induces resistance of MCF7 cells to tamoxifen (6). ... "
      ]
    },
    {
      "cell_type": "markdown",
      "metadata": {
        "colab_type": "text",
        "id": "R3_NkUmXOQuk"
      },
      "source": [
        "<h2>2.2. Mapping the real-world problem to an ML problem</h2>"
      ]
    },
    {
      "cell_type": "markdown",
      "metadata": {
        "colab_type": "text",
        "id": "89xF097mOQum"
      },
      "source": [
        "<h3>2.2.1. Type of Machine Learning Problem</h3>"
      ]
    },
    {
      "cell_type": "markdown",
      "metadata": {
        "colab_type": "text",
        "id": "TZqA3ItzOQun"
      },
      "source": [
        "<p>\n",
        "    \n",
        "            There are nine different classes a genetic mutation can be classified into => Multi class classification problem\n",
        "   \n",
        "      \n",
        "    \n",
        "</p>"
      ]
    },
    {
      "cell_type": "markdown",
      "metadata": {
        "colab_type": "text",
        "id": "9uokTUjYOQuo"
      },
      "source": [
        "<h3>2.2.2. Performance Metric</h3>"
      ]
    },
    {
      "cell_type": "markdown",
      "metadata": {
        "colab_type": "text",
        "id": "kg0MC7b6OQup"
      },
      "source": [
        "Source: https://www.kaggle.com/c/msk-redefining-cancer-treatment#evaluation\n",
        "\n",
        "Metric(s): \n",
        "* Multi class log-loss \n",
        "* Confusion matrix \n"
      ]
    },
    {
      "cell_type": "markdown",
      "metadata": {
        "colab_type": "text",
        "id": "2rqQ1-rkOQuq"
      },
      "source": [
        "<h3>2.2.3. Machine Learing Objectives and Constraints</h3>"
      ]
    },
    {
      "cell_type": "markdown",
      "metadata": {
        "colab_type": "text",
        "id": "Kn3tUsrjOQur"
      },
      "source": [
        "<p> Objective: Predict the probability of each data-point belonging to each of the nine classes.\n",
        "</p>\n",
        "<p> Constraints:\n",
        "</p>\n",
        "* Interpretability\n",
        "* Class probabilities are needed.\n",
        "* Penalize the errors in class probabilites => Metric is Log-loss.\n",
        "* No Latency constraints."
      ]
    },
    {
      "cell_type": "markdown",
      "metadata": {
        "colab_type": "text",
        "id": "EPkaNa1NOQus"
      },
      "source": [
        "<h2>2.3. Train, CV and Test Datasets</h2>"
      ]
    },
    {
      "cell_type": "markdown",
      "metadata": {
        "colab_type": "text",
        "id": "rKjsBtT0OQut"
      },
      "source": [
        " Split the dataset randomly into three parts train, cross validation and test with 64%,16%, 20% of data respectively"
      ]
    },
    {
      "cell_type": "markdown",
      "metadata": {
        "colab_type": "text",
        "id": "j0VVGc0_OQuu"
      },
      "source": [
        "<h1>3. Exploratory Data Analysis</h1>"
      ]
    },
    {
      "cell_type": "code",
      "metadata": {
        "colab_type": "code",
        "id": "6_tz3SlAOQuv",
        "colab": {},
        "outputId": "ba6843ee-a515-4479-d7ad-8dd2e15417d2"
      },
      "source": [
        "import pandas as pd\n",
        "import matplotlib.pyplot as plt\n",
        "import re\n",
        "import time\n",
        "import warnings\n",
        "import numpy as np\n",
        "from nltk.corpus import stopwords\n",
        "from sklearn.decomposition import TruncatedSVD\n",
        "from sklearn.preprocessing import normalize\n",
        "from sklearn.feature_extraction.text import CountVectorizer\n",
        "from sklearn.manifold import TSNE\n",
        "import seaborn as sns\n",
        "from sklearn.neighbors import KNeighborsClassifier\n",
        "from sklearn.metrics import confusion_matrix\n",
        "from sklearn.metrics.classification import accuracy_score, log_loss\n",
        "from sklearn.feature_extraction.text import TfidfVectorizer\n",
        "from sklearn.linear_model import SGDClassifier\n",
        "from imblearn.over_sampling import SMOTE\n",
        "from collections import Counter\n",
        "from scipy.sparse import hstack\n",
        "from sklearn.multiclass import OneVsRestClassifier\n",
        "from sklearn.svm import SVC\n",
        "from sklearn.model_selection import StratifiedKFold \n",
        "from collections import Counter, defaultdict\n",
        "from sklearn.calibration import CalibratedClassifierCV\n",
        "from sklearn.naive_bayes import MultinomialNB\n",
        "from sklearn.naive_bayes import GaussianNB\n",
        "from sklearn.model_selection import train_test_split\n",
        "from sklearn.model_selection import GridSearchCV\n",
        "import math\n",
        "from sklearn.metrics import normalized_mutual_info_score\n",
        "from sklearn.ensemble import RandomForestClassifier\n",
        "warnings.filterwarnings(\"ignore\")\n",
        "\n",
        "from mlxtend.classifier import StackingClassifier\n",
        "\n",
        "from sklearn import model_selection\n",
        "from sklearn.linear_model import LogisticRegression\n"
      ],
      "execution_count": 0,
      "outputs": [
        {
          "output_type": "stream",
          "text": [
            "Using TensorFlow backend.\n",
            "/usr/local/lib/python3.5/dist-packages/tensorflow/python/framework/dtypes.py:526: FutureWarning: Passing (type, 1) or '1type' as a synonym of type is deprecated; in a future version of numpy, it will be understood as (type, (1,)) / '(1,)type'.\n",
            "  _np_qint8 = np.dtype([(\"qint8\", np.int8, 1)])\n",
            "/usr/local/lib/python3.5/dist-packages/tensorflow/python/framework/dtypes.py:527: FutureWarning: Passing (type, 1) or '1type' as a synonym of type is deprecated; in a future version of numpy, it will be understood as (type, (1,)) / '(1,)type'.\n",
            "  _np_quint8 = np.dtype([(\"quint8\", np.uint8, 1)])\n",
            "/usr/local/lib/python3.5/dist-packages/tensorflow/python/framework/dtypes.py:528: FutureWarning: Passing (type, 1) or '1type' as a synonym of type is deprecated; in a future version of numpy, it will be understood as (type, (1,)) / '(1,)type'.\n",
            "  _np_qint16 = np.dtype([(\"qint16\", np.int16, 1)])\n",
            "/usr/local/lib/python3.5/dist-packages/tensorflow/python/framework/dtypes.py:529: FutureWarning: Passing (type, 1) or '1type' as a synonym of type is deprecated; in a future version of numpy, it will be understood as (type, (1,)) / '(1,)type'.\n",
            "  _np_quint16 = np.dtype([(\"quint16\", np.uint16, 1)])\n",
            "/usr/local/lib/python3.5/dist-packages/tensorflow/python/framework/dtypes.py:530: FutureWarning: Passing (type, 1) or '1type' as a synonym of type is deprecated; in a future version of numpy, it will be understood as (type, (1,)) / '(1,)type'.\n",
            "  _np_qint32 = np.dtype([(\"qint32\", np.int32, 1)])\n",
            "/usr/local/lib/python3.5/dist-packages/tensorflow/python/framework/dtypes.py:535: FutureWarning: Passing (type, 1) or '1type' as a synonym of type is deprecated; in a future version of numpy, it will be understood as (type, (1,)) / '(1,)type'.\n",
            "  np_resource = np.dtype([(\"resource\", np.ubyte, 1)])\n"
          ],
          "name": "stderr"
        }
      ]
    },
    {
      "cell_type": "markdown",
      "metadata": {
        "colab_type": "text",
        "id": "M7AMKFKcOQu1"
      },
      "source": [
        "<h2>3.1. Reading Data</h2>"
      ]
    },
    {
      "cell_type": "markdown",
      "metadata": {
        "colab_type": "text",
        "id": "aBdBb2H3OQu2"
      },
      "source": [
        "<h3>3.1.1. Reading Gene and Variation Data</h3>"
      ]
    },
    {
      "cell_type": "code",
      "metadata": {
        "id": "2HpAnbXPpLop",
        "colab_type": "code",
        "colab": {},
        "outputId": "a18dae57-9823-411a-b43f-5db09062b4cd"
      },
      "source": [
        "#https://stackoverflow.com/questions/48908772/read-csv-with-pandas-from-subdirectory-on-windows-and-unix\n",
        "from pathlib import Path\n",
        "root = Path()\n",
        "root"
      ],
      "execution_count": 0,
      "outputs": [
        {
          "output_type": "execute_result",
          "data": {
            "text/plain": [
              "PosixPath('.')"
            ]
          },
          "metadata": {
            "tags": []
          },
          "execution_count": 2
        }
      ]
    },
    {
      "cell_type": "code",
      "metadata": {
        "colab_type": "code",
        "id": "0Os-owW1OQu2",
        "outputId": "ff8ef255-d908-403a-f72a-1eef6225ba7f",
        "colab": {}
      },
      "source": [
        "data = pd.read_csv(root / 'training_variants')\n",
        "print('Number of data points : ', data.shape[0])\n",
        "print('Number of features : ', data.shape[1])\n",
        "print('Features : ', data.columns.values)\n",
        "data.head()"
      ],
      "execution_count": 0,
      "outputs": [
        {
          "output_type": "stream",
          "text": [
            "Number of data points :  3321\n",
            "Number of features :  4\n",
            "Features :  ['ID' 'Gene' 'Variation' 'Class']\n"
          ],
          "name": "stdout"
        },
        {
          "output_type": "execute_result",
          "data": {
            "text/html": [
              "<div>\n",
              "<style scoped>\n",
              "    .dataframe tbody tr th:only-of-type {\n",
              "        vertical-align: middle;\n",
              "    }\n",
              "\n",
              "    .dataframe tbody tr th {\n",
              "        vertical-align: top;\n",
              "    }\n",
              "\n",
              "    .dataframe thead th {\n",
              "        text-align: right;\n",
              "    }\n",
              "</style>\n",
              "<table border=\"1\" class=\"dataframe\">\n",
              "  <thead>\n",
              "    <tr style=\"text-align: right;\">\n",
              "      <th></th>\n",
              "      <th>ID</th>\n",
              "      <th>Gene</th>\n",
              "      <th>Variation</th>\n",
              "      <th>Class</th>\n",
              "    </tr>\n",
              "  </thead>\n",
              "  <tbody>\n",
              "    <tr>\n",
              "      <th>0</th>\n",
              "      <td>0</td>\n",
              "      <td>FAM58A</td>\n",
              "      <td>Truncating Mutations</td>\n",
              "      <td>1</td>\n",
              "    </tr>\n",
              "    <tr>\n",
              "      <th>1</th>\n",
              "      <td>1</td>\n",
              "      <td>CBL</td>\n",
              "      <td>W802*</td>\n",
              "      <td>2</td>\n",
              "    </tr>\n",
              "    <tr>\n",
              "      <th>2</th>\n",
              "      <td>2</td>\n",
              "      <td>CBL</td>\n",
              "      <td>Q249E</td>\n",
              "      <td>2</td>\n",
              "    </tr>\n",
              "    <tr>\n",
              "      <th>3</th>\n",
              "      <td>3</td>\n",
              "      <td>CBL</td>\n",
              "      <td>N454D</td>\n",
              "      <td>3</td>\n",
              "    </tr>\n",
              "    <tr>\n",
              "      <th>4</th>\n",
              "      <td>4</td>\n",
              "      <td>CBL</td>\n",
              "      <td>L399V</td>\n",
              "      <td>4</td>\n",
              "    </tr>\n",
              "  </tbody>\n",
              "</table>\n",
              "</div>"
            ],
            "text/plain": [
              "   ID    Gene             Variation  Class\n",
              "0   0  FAM58A  Truncating Mutations      1\n",
              "1   1     CBL                 W802*      2\n",
              "2   2     CBL                 Q249E      2\n",
              "3   3     CBL                 N454D      3\n",
              "4   4     CBL                 L399V      4"
            ]
          },
          "metadata": {
            "tags": []
          },
          "execution_count": 3
        }
      ]
    },
    {
      "cell_type": "markdown",
      "metadata": {
        "colab_type": "text",
        "id": "6VYO0fvbOQu8"
      },
      "source": [
        "<p>\n",
        "    training/training_variants is a comma separated file containing the description of the genetic mutations used for training. <br>\n",
        "    Fields are \n",
        "    <ul>\n",
        "        <li><b>ID : </b>the id of the row used to link the mutation to the clinical evidence</li>\n",
        "        <li><b>Gene : </b>the gene where this genetic mutation is located </li>\n",
        "        <li><b>Variation : </b>the aminoacid change for this mutations </li>\n",
        "        <li><b>Class :</b> 1-9 the class this genetic mutation has been classified on</li>\n",
        "    </ul>"
      ]
    },
    {
      "cell_type": "markdown",
      "metadata": {
        "colab_type": "text",
        "id": "RPubFke6OQu9"
      },
      "source": [
        "<h3>3.1.2. Reading Text Data</h3>"
      ]
    },
    {
      "cell_type": "code",
      "metadata": {
        "colab_type": "code",
        "id": "1i30WJEyOQu9",
        "outputId": "558efb9a-6580-4ff7-a54e-1147907f3afb",
        "colab": {}
      },
      "source": [
        "# note the seprator in this file\n",
        "data_text =pd.read_csv(root / \"training_text\",sep=\"\\|\\|\",engine=\"python\",names=[\"ID\",\"TEXT\"],skiprows=1)\n",
        "print('Number of data points : ', data_text.shape[0])\n",
        "print('Number of features : ', data_text.shape[1])\n",
        "print('Features : ', data_text.columns.values)\n",
        "data_text.head()"
      ],
      "execution_count": 0,
      "outputs": [
        {
          "output_type": "stream",
          "text": [
            "Number of data points :  3321\n",
            "Number of features :  2\n",
            "Features :  ['ID' 'TEXT']\n"
          ],
          "name": "stdout"
        },
        {
          "output_type": "execute_result",
          "data": {
            "text/html": [
              "<div>\n",
              "<style scoped>\n",
              "    .dataframe tbody tr th:only-of-type {\n",
              "        vertical-align: middle;\n",
              "    }\n",
              "\n",
              "    .dataframe tbody tr th {\n",
              "        vertical-align: top;\n",
              "    }\n",
              "\n",
              "    .dataframe thead th {\n",
              "        text-align: right;\n",
              "    }\n",
              "</style>\n",
              "<table border=\"1\" class=\"dataframe\">\n",
              "  <thead>\n",
              "    <tr style=\"text-align: right;\">\n",
              "      <th></th>\n",
              "      <th>ID</th>\n",
              "      <th>TEXT</th>\n",
              "    </tr>\n",
              "  </thead>\n",
              "  <tbody>\n",
              "    <tr>\n",
              "      <th>0</th>\n",
              "      <td>0</td>\n",
              "      <td>Cyclin-dependent kinases (CDKs) regulate a var...</td>\n",
              "    </tr>\n",
              "    <tr>\n",
              "      <th>1</th>\n",
              "      <td>1</td>\n",
              "      <td>Abstract Background  Non-small cell lung canc...</td>\n",
              "    </tr>\n",
              "    <tr>\n",
              "      <th>2</th>\n",
              "      <td>2</td>\n",
              "      <td>Abstract Background  Non-small cell lung canc...</td>\n",
              "    </tr>\n",
              "    <tr>\n",
              "      <th>3</th>\n",
              "      <td>3</td>\n",
              "      <td>Recent evidence has demonstrated that acquired...</td>\n",
              "    </tr>\n",
              "    <tr>\n",
              "      <th>4</th>\n",
              "      <td>4</td>\n",
              "      <td>Oncogenic mutations in the monomeric Casitas B...</td>\n",
              "    </tr>\n",
              "  </tbody>\n",
              "</table>\n",
              "</div>"
            ],
            "text/plain": [
              "   ID                                               TEXT\n",
              "0   0  Cyclin-dependent kinases (CDKs) regulate a var...\n",
              "1   1   Abstract Background  Non-small cell lung canc...\n",
              "2   2   Abstract Background  Non-small cell lung canc...\n",
              "3   3  Recent evidence has demonstrated that acquired...\n",
              "4   4  Oncogenic mutations in the monomeric Casitas B..."
            ]
          },
          "metadata": {
            "tags": []
          },
          "execution_count": 4
        }
      ]
    },
    {
      "cell_type": "markdown",
      "metadata": {
        "colab_type": "text",
        "id": "ZSy3O7VvOQvC"
      },
      "source": [
        "<h3>3.1.3. Preprocessing of text</h3>"
      ]
    },
    {
      "cell_type": "code",
      "metadata": {
        "colab_type": "code",
        "id": "Y9RpP_0QOQvD",
        "colab": {}
      },
      "source": [
        "# loading stop words from nltk library\n",
        "stop_words = set(stopwords.words('english'))\n",
        "\n",
        "\n",
        "def nlp_preprocessing(total_text, index, column):\n",
        "    if type(total_text) is not int:\n",
        "        string = \"\"\n",
        "        # replace every special char with space\n",
        "        total_text = re.sub('[^a-zA-Z0-9\\n]', ' ', total_text)\n",
        "        # replace multiple spaces with single space\n",
        "        total_text = re.sub('\\s+',' ', total_text)\n",
        "        # converting all the chars into lower-case.\n",
        "        total_text = total_text.lower()\n",
        "        \n",
        "        for word in total_text.split():\n",
        "        # if the word is a not a stop word then retain that word from the data\n",
        "            if not word in stop_words:\n",
        "                string += word + \" \"\n",
        "        \n",
        "        data_text[column][index] = string"
      ],
      "execution_count": 0,
      "outputs": []
    },
    {
      "cell_type": "code",
      "metadata": {
        "colab_type": "code",
        "id": "lkCyyQm6OQvH",
        "outputId": "b2f0be09-126d-43d9-f615-744dd504bcb8",
        "colab": {}
      },
      "source": [
        "#text processing stage.\n",
        "start_time = time.clock()\n",
        "for index, row in data_text.iterrows():\n",
        "    if type(row['TEXT']) is str:\n",
        "        nlp_preprocessing(row['TEXT'], index, 'TEXT')\n",
        "    else:\n",
        "        print(\"there is no text description for id:\",index)\n",
        "print('Time took for preprocessing the text :',time.clock() - start_time, \"seconds\")"
      ],
      "execution_count": 0,
      "outputs": [
        {
          "output_type": "stream",
          "text": [
            "there is no text description for id: 1109\n",
            "there is no text description for id: 1277\n",
            "there is no text description for id: 1407\n",
            "there is no text description for id: 1639\n",
            "there is no text description for id: 2755\n",
            "Time took for preprocessing the text : 35.40578 seconds\n"
          ],
          "name": "stdout"
        }
      ]
    },
    {
      "cell_type": "code",
      "metadata": {
        "colab_type": "code",
        "id": "qk8gHyNhOQvL",
        "outputId": "4d49462b-26e1-4621-8f76-b4b4b65f529d",
        "colab": {}
      },
      "source": [
        "#merging both gene_variations and text data based on ID\n",
        "result = pd.merge(data, data_text,on='ID', how='left')\n",
        "result.head()"
      ],
      "execution_count": 0,
      "outputs": [
        {
          "output_type": "execute_result",
          "data": {
            "text/html": [
              "<div>\n",
              "<style scoped>\n",
              "    .dataframe tbody tr th:only-of-type {\n",
              "        vertical-align: middle;\n",
              "    }\n",
              "\n",
              "    .dataframe tbody tr th {\n",
              "        vertical-align: top;\n",
              "    }\n",
              "\n",
              "    .dataframe thead th {\n",
              "        text-align: right;\n",
              "    }\n",
              "</style>\n",
              "<table border=\"1\" class=\"dataframe\">\n",
              "  <thead>\n",
              "    <tr style=\"text-align: right;\">\n",
              "      <th></th>\n",
              "      <th>ID</th>\n",
              "      <th>Gene</th>\n",
              "      <th>Variation</th>\n",
              "      <th>Class</th>\n",
              "      <th>TEXT</th>\n",
              "    </tr>\n",
              "  </thead>\n",
              "  <tbody>\n",
              "    <tr>\n",
              "      <th>0</th>\n",
              "      <td>0</td>\n",
              "      <td>FAM58A</td>\n",
              "      <td>Truncating Mutations</td>\n",
              "      <td>1</td>\n",
              "      <td>cyclin dependent kinases cdks regulate variety...</td>\n",
              "    </tr>\n",
              "    <tr>\n",
              "      <th>1</th>\n",
              "      <td>1</td>\n",
              "      <td>CBL</td>\n",
              "      <td>W802*</td>\n",
              "      <td>2</td>\n",
              "      <td>abstract background non small cell lung cancer...</td>\n",
              "    </tr>\n",
              "    <tr>\n",
              "      <th>2</th>\n",
              "      <td>2</td>\n",
              "      <td>CBL</td>\n",
              "      <td>Q249E</td>\n",
              "      <td>2</td>\n",
              "      <td>abstract background non small cell lung cancer...</td>\n",
              "    </tr>\n",
              "    <tr>\n",
              "      <th>3</th>\n",
              "      <td>3</td>\n",
              "      <td>CBL</td>\n",
              "      <td>N454D</td>\n",
              "      <td>3</td>\n",
              "      <td>recent evidence demonstrated acquired uniparen...</td>\n",
              "    </tr>\n",
              "    <tr>\n",
              "      <th>4</th>\n",
              "      <td>4</td>\n",
              "      <td>CBL</td>\n",
              "      <td>L399V</td>\n",
              "      <td>4</td>\n",
              "      <td>oncogenic mutations monomeric casitas b lineag...</td>\n",
              "    </tr>\n",
              "  </tbody>\n",
              "</table>\n",
              "</div>"
            ],
            "text/plain": [
              "   ID    Gene             Variation  Class  \\\n",
              "0   0  FAM58A  Truncating Mutations      1   \n",
              "1   1     CBL                 W802*      2   \n",
              "2   2     CBL                 Q249E      2   \n",
              "3   3     CBL                 N454D      3   \n",
              "4   4     CBL                 L399V      4   \n",
              "\n",
              "                                                TEXT  \n",
              "0  cyclin dependent kinases cdks regulate variety...  \n",
              "1  abstract background non small cell lung cancer...  \n",
              "2  abstract background non small cell lung cancer...  \n",
              "3  recent evidence demonstrated acquired uniparen...  \n",
              "4  oncogenic mutations monomeric casitas b lineag...  "
            ]
          },
          "metadata": {
            "tags": []
          },
          "execution_count": 7
        }
      ]
    },
    {
      "cell_type": "code",
      "metadata": {
        "colab_type": "code",
        "id": "z4ITDIVDOQvQ",
        "outputId": "5e1d0fc8-d0e9-4852-ba3d-18238847e1c6",
        "colab": {}
      },
      "source": [
        "result[result.isnull().any(axis=1)]"
      ],
      "execution_count": 0,
      "outputs": [
        {
          "output_type": "execute_result",
          "data": {
            "text/html": [
              "<div>\n",
              "<style scoped>\n",
              "    .dataframe tbody tr th:only-of-type {\n",
              "        vertical-align: middle;\n",
              "    }\n",
              "\n",
              "    .dataframe tbody tr th {\n",
              "        vertical-align: top;\n",
              "    }\n",
              "\n",
              "    .dataframe thead th {\n",
              "        text-align: right;\n",
              "    }\n",
              "</style>\n",
              "<table border=\"1\" class=\"dataframe\">\n",
              "  <thead>\n",
              "    <tr style=\"text-align: right;\">\n",
              "      <th></th>\n",
              "      <th>ID</th>\n",
              "      <th>Gene</th>\n",
              "      <th>Variation</th>\n",
              "      <th>Class</th>\n",
              "      <th>TEXT</th>\n",
              "    </tr>\n",
              "  </thead>\n",
              "  <tbody>\n",
              "    <tr>\n",
              "      <th>1109</th>\n",
              "      <td>1109</td>\n",
              "      <td>FANCA</td>\n",
              "      <td>S1088F</td>\n",
              "      <td>1</td>\n",
              "      <td>NaN</td>\n",
              "    </tr>\n",
              "    <tr>\n",
              "      <th>1277</th>\n",
              "      <td>1277</td>\n",
              "      <td>ARID5B</td>\n",
              "      <td>Truncating Mutations</td>\n",
              "      <td>1</td>\n",
              "      <td>NaN</td>\n",
              "    </tr>\n",
              "    <tr>\n",
              "      <th>1407</th>\n",
              "      <td>1407</td>\n",
              "      <td>FGFR3</td>\n",
              "      <td>K508M</td>\n",
              "      <td>6</td>\n",
              "      <td>NaN</td>\n",
              "    </tr>\n",
              "    <tr>\n",
              "      <th>1639</th>\n",
              "      <td>1639</td>\n",
              "      <td>FLT1</td>\n",
              "      <td>Amplification</td>\n",
              "      <td>6</td>\n",
              "      <td>NaN</td>\n",
              "    </tr>\n",
              "    <tr>\n",
              "      <th>2755</th>\n",
              "      <td>2755</td>\n",
              "      <td>BRAF</td>\n",
              "      <td>G596C</td>\n",
              "      <td>7</td>\n",
              "      <td>NaN</td>\n",
              "    </tr>\n",
              "  </tbody>\n",
              "</table>\n",
              "</div>"
            ],
            "text/plain": [
              "        ID    Gene             Variation  Class TEXT\n",
              "1109  1109   FANCA                S1088F      1  NaN\n",
              "1277  1277  ARID5B  Truncating Mutations      1  NaN\n",
              "1407  1407   FGFR3                 K508M      6  NaN\n",
              "1639  1639    FLT1         Amplification      6  NaN\n",
              "2755  2755    BRAF                 G596C      7  NaN"
            ]
          },
          "metadata": {
            "tags": []
          },
          "execution_count": 8
        }
      ]
    },
    {
      "cell_type": "code",
      "metadata": {
        "colab_type": "code",
        "id": "co1v4XZ7OQvU",
        "colab": {}
      },
      "source": [
        "result.loc[result['TEXT'].isnull(),'TEXT'] = result['Gene'] +' '+result['Variation']"
      ],
      "execution_count": 0,
      "outputs": []
    },
    {
      "cell_type": "code",
      "metadata": {
        "colab_type": "code",
        "id": "TEzTARDBOQvX",
        "outputId": "71774e47-8951-43a7-8ab7-63f3a0616c01",
        "colab": {}
      },
      "source": [
        "result[result['ID']==1109]"
      ],
      "execution_count": 0,
      "outputs": [
        {
          "output_type": "execute_result",
          "data": {
            "text/html": [
              "<div>\n",
              "<style scoped>\n",
              "    .dataframe tbody tr th:only-of-type {\n",
              "        vertical-align: middle;\n",
              "    }\n",
              "\n",
              "    .dataframe tbody tr th {\n",
              "        vertical-align: top;\n",
              "    }\n",
              "\n",
              "    .dataframe thead th {\n",
              "        text-align: right;\n",
              "    }\n",
              "</style>\n",
              "<table border=\"1\" class=\"dataframe\">\n",
              "  <thead>\n",
              "    <tr style=\"text-align: right;\">\n",
              "      <th></th>\n",
              "      <th>ID</th>\n",
              "      <th>Gene</th>\n",
              "      <th>Variation</th>\n",
              "      <th>Class</th>\n",
              "      <th>TEXT</th>\n",
              "    </tr>\n",
              "  </thead>\n",
              "  <tbody>\n",
              "    <tr>\n",
              "      <th>1109</th>\n",
              "      <td>1109</td>\n",
              "      <td>FANCA</td>\n",
              "      <td>S1088F</td>\n",
              "      <td>1</td>\n",
              "      <td>FANCA S1088F</td>\n",
              "    </tr>\n",
              "  </tbody>\n",
              "</table>\n",
              "</div>"
            ],
            "text/plain": [
              "        ID   Gene Variation  Class          TEXT\n",
              "1109  1109  FANCA    S1088F      1  FANCA S1088F"
            ]
          },
          "metadata": {
            "tags": []
          },
          "execution_count": 10
        }
      ]
    },
    {
      "cell_type": "markdown",
      "metadata": {
        "colab_type": "text",
        "id": "4ha0M1aOOQvg"
      },
      "source": [
        "<h3>3.1.4. Test, Train and Cross Validation Split</h3>"
      ]
    },
    {
      "cell_type": "markdown",
      "metadata": {
        "colab_type": "text",
        "id": "Mb_GBIh1OQvi"
      },
      "source": [
        "<h4>3.1.4.1. Splitting data into train, test and cross validation (64:20:16)</h4>"
      ]
    },
    {
      "cell_type": "code",
      "metadata": {
        "colab_type": "code",
        "id": "ijj-MmMwOQvk",
        "colab": {}
      },
      "source": [
        "y_true = result['Class'].values\n",
        "result.Gene      = result.Gene.str.replace('\\s+', '_')\n",
        "result.Variation = result.Variation.str.replace('\\s+', '_')\n",
        "\n",
        "# split the data into test and train by maintaining same distribution of output varaible 'y_true' [stratify=y_true]\n",
        "X_train, test_df, y_train, y_test = train_test_split(result, y_true, stratify=y_true, test_size=0.2)\n",
        "# split the train data into train and cross validation by maintaining same distribution of output varaible 'y_train' [stratify=y_train]\n",
        "train_df, cv_df, y_train, y_cv = train_test_split(X_train, y_train, stratify=y_train, test_size=0.2)"
      ],
      "execution_count": 0,
      "outputs": []
    },
    {
      "cell_type": "markdown",
      "metadata": {
        "colab_type": "text",
        "id": "oWPLX4M9OQvo"
      },
      "source": [
        "<p> We split the data into train, test and cross validation data sets, preserving the ratio of class distribution in the original data set  </p>"
      ]
    },
    {
      "cell_type": "code",
      "metadata": {
        "colab_type": "code",
        "id": "wbzQMYZWOQvp",
        "outputId": "3a3df35e-bcfe-4a63-a3fd-e269d6d382e5",
        "colab": {}
      },
      "source": [
        "print('Number of data points in train data:', train_df.shape[0])\n",
        "print('Number of data points in test data:', test_df.shape[0])\n",
        "print('Number of data points in cross validation data:', cv_df.shape[0])"
      ],
      "execution_count": 0,
      "outputs": [
        {
          "output_type": "stream",
          "text": [
            "Number of data points in train data: 2124\n",
            "Number of data points in test data: 665\n",
            "Number of data points in cross validation data: 532\n"
          ],
          "name": "stdout"
        }
      ]
    },
    {
      "cell_type": "markdown",
      "metadata": {
        "colab_type": "text",
        "id": "NQeo-HuDOQvs"
      },
      "source": [
        "<h4>3.1.4.2. Distribution of y_i's in Train, Test and Cross Validation datasets</h4>"
      ]
    },
    {
      "cell_type": "code",
      "metadata": {
        "colab_type": "code",
        "id": "KC3KErJmOQvt",
        "outputId": "126ce930-39bc-4512-ae32-5c2928b2730b",
        "colab": {}
      },
      "source": [
        "#https://stackoverflow.com/questions/34656980/attributeerror-series-object-has-no-attribute-sort-values\n",
        "# it returns a dict, keys as class labels and values as the number of data points in that class\n",
        "train_class_distribution = train_df['Class'].value_counts().sort_index()\n",
        "test_class_distribution = test_df['Class'].value_counts().sort_index()\n",
        "cv_class_distribution = cv_df['Class'].value_counts().sort_index()\n",
        "\n",
        "my_colors = 'rgbkymc'\n",
        "train_class_distribution.plot(kind='bar')\n",
        "plt.xlabel('Class')\n",
        "plt.ylabel('Data points per Class')\n",
        "plt.title('Distribution of yi in train data')\n",
        "plt.grid()\n",
        "plt.show()\n",
        "\n",
        "\n",
        "print('-'*80)\n",
        "my_colors = 'rgbkymc'\n",
        "test_class_distribution.plot(kind='bar')\n",
        "plt.xlabel('Class')\n",
        "plt.ylabel('Data points per Class')\n",
        "plt.title('Distribution of yi in test data')\n",
        "plt.grid()\n",
        "plt.show()\n",
        "\n",
        "print('-'*80)\n",
        "my_colors = 'rgbkymc'\n",
        "cv_class_distribution.plot(kind='bar')\n",
        "plt.xlabel('Class')\n",
        "plt.ylabel('Data points per Class')\n",
        "plt.title('Distribution of yi in cross validation data')\n",
        "plt.grid()\n",
        "plt.show()\n",
        "\n"
      ],
      "execution_count": 0,
      "outputs": [
        {
          "output_type": "display_data",
          "data": {
            "image/png": "[encoded data removed]",
            "text/plain": [
              "<Figure size 432x288 with 1 Axes>"
            ]
          },
          "metadata": {
            "tags": [],
            "needs_background": "light"
          }
        },
        {
          "output_type": "stream",
          "text": [
            "--------------------------------------------------------------------------------\n"
          ],
          "name": "stdout"
        },
        {
          "output_type": "display_data",
          "data": {
            "image/png": "[encoded data removed]",
            "text/plain": [
              "<Figure size 432x288 with 1 Axes>"
            ]
          },
          "metadata": {
            "tags": [],
            "needs_background": "light"
          }
        },
        {
          "output_type": "stream",
          "text": [
            "--------------------------------------------------------------------------------\n"
          ],
          "name": "stdout"
        },
        {
          "output_type": "display_data",
          "data": {
            "image/png": "[encoded data removed]",
            "text/plain": [
              "<Figure size 432x288 with 1 Axes>"
            ]
          },
          "metadata": {
            "tags": [],
            "needs_background": "light"
          }
        }
      ]
    },
    {
      "cell_type": "code",
      "metadata": {
        "id": "jT_3iZi0pLpm",
        "colab_type": "code",
        "colab": {},
        "outputId": "0eaedb4f-90ca-4079-c8a7-165c6a5f4bdf"
      },
      "source": [
        "# ref: argsort https://docs.scipy.org/doc/numpy/reference/generated/numpy.argsort.html\n",
        "# -(train_class_distribution.values): the minus sign will give us in decreasing order\n",
        "sorted_yi_train = np.argsort(-train_class_distribution.values)\n",
        "sorted_yi_cv = np.argsort(-train_class_distribution.values)\n",
        "sorted_yi_test = np.argsort(-test_class_distribution.values)\n",
        "\n",
        "#http://zetcode.com/python/prettytable/\n",
        "from prettytable import PrettyTable\n",
        "x = PrettyTable()\n",
        "\n",
        "x.field_names = [\"Class\",\"Train DataPoints\", \"CV DataPoints\",\"Test DataPoints\",\"Train\",\"CV\",\"Test\"]\n",
        "\n",
        "for train,cv,test in zip(sorted_yi_train,sorted_yi_cv,sorted_yi_test):\n",
        "    x.add_row([train+1,train_class_distribution.values[train],\n",
        "               cv_class_distribution.values[cv],\n",
        "               test_class_distribution.values[test],\n",
        "              np.round((train_class_distribution.values[train]/train_df.shape[0]*100), 3), \n",
        "              np.round((cv_class_distribution.values[train]/cv_df.shape[0]*100), 3), \n",
        "              np.round((test_class_distribution.values[train]/test_df.shape[0]*100), 3)]) \n",
        "    \n",
        "print(x)"
      ],
      "execution_count": 0,
      "outputs": [
        {
          "output_type": "stream",
          "text": [
            "+-------+------------------+---------------+-----------------+--------+--------+--------+\n",
            "| Class | Train DataPoints | CV DataPoints | Test DataPoints | Train  |   CV   |  Test  |\n",
            "+-------+------------------+---------------+-----------------+--------+--------+--------+\n",
            "|   7   |       609        |      153      |       191       | 28.672 | 28.759 | 28.722 |\n",
            "|   4   |       439        |      110      |       137       | 20.669 | 20.677 | 20.602 |\n",
            "|   1   |       363        |       91      |       114       | 17.09  | 17.105 | 17.143 |\n",
            "|   2   |       289        |       72      |        91       | 13.606 | 13.534 | 13.684 |\n",
            "|   6   |       176        |       44      |        55       | 8.286  | 8.271  | 8.271  |\n",
            "|   5   |       155        |       39      |        48       | 7.298  | 7.331  | 7.218  |\n",
            "|   3   |        57        |       14      |        18       | 2.684  | 2.632  | 2.707  |\n",
            "|   9   |        24        |       6       |        7        |  1.13  | 1.128  | 1.053  |\n",
            "|   8   |        12        |       3       |        4        | 0.565  | 0.564  | 0.602  |\n",
            "+-------+------------------+---------------+-----------------+--------+--------+--------+\n"
          ],
          "name": "stdout"
        }
      ]
    },
    {
      "cell_type": "markdown",
      "metadata": {
        "colab_type": "text",
        "id": "kSO9RztaOQvw"
      },
      "source": [
        "<h2>3.2 Prediction using a 'Random' Model</h2>"
      ]
    },
    {
      "cell_type": "markdown",
      "metadata": {
        "colab_type": "text",
        "id": "B7eBGtKAOQvw"
      },
      "source": [
        "<p style=\"font-size:16px\"> In a 'Random' Model, we generate the NINE class probabilites randomly such that they sum to 1. </p>"
      ]
    },
    {
      "cell_type": "code",
      "metadata": {
        "colab_type": "code",
        "id": "9quvnOcWOQvx",
        "colab": {}
      },
      "source": [
        "# This function plots the confusion matrices given y_i, y_i_hat.\n",
        "def plot_confusion_matrix(test_y, predict_y):\n",
        "    C = confusion_matrix(test_y, predict_y)\n",
        "    # C = 9,9 matrix, each cell (i,j) represents number of points of class i are predicted class j\n",
        "    \n",
        "    A =(((C.T)/(C.sum(axis=1))).T)\n",
        "    #divid each element of the confusion matrix with the sum of elements in that column\n",
        "    \n",
        "    # C = [[1, 2],\n",
        "    #     [3, 4]]\n",
        "    # C.T = [[1, 3],\n",
        "    #        [2, 4]]\n",
        "    # C.sum(axis = 1)  axis=0 corresonds to columns and axis=1 corresponds to rows in two diamensional array\n",
        "    # C.sum(axix =1) = [[3, 7]]\n",
        "    # ((C.T)/(C.sum(axis=1))) = [[1/3, 3/7]\n",
        "    #                           [2/3, 4/7]]\n",
        "\n",
        "    # ((C.T)/(C.sum(axis=1))).T = [[1/3, 2/3]\n",
        "    #                           [3/7, 4/7]]\n",
        "    # sum of row elements = 1\n",
        "    \n",
        "    B =(C/C.sum(axis=0))\n",
        "    #divid each element of the confusion matrix with the sum of elements in that row\n",
        "    # C = [[1, 2],\n",
        "    #     [3, 4]]\n",
        "    # C.sum(axis = 0)  axis=0 corresonds to columns and axis=1 corresponds to rows in two diamensional array\n",
        "    # C.sum(axix =0) = [[4, 6]]\n",
        "    # (C/C.sum(axis=0)) = [[1/4, 2/6],\n",
        "    #                      [3/4, 4/6]] \n",
        "    \n",
        "    labels = [1,2,3,4,5,6,7,8,9]\n",
        "    # representing A in heatmap format\n",
        "    print(\"-\"*20, \"Confusion matrix\", \"-\"*20)\n",
        "    plt.figure(figsize=(20,7))\n",
        "    sns.heatmap(C, annot=True, cmap=\"YlGnBu\", fmt=\".3f\", xticklabels=labels, yticklabels=labels)\n",
        "    plt.xlabel('Predicted Class')\n",
        "    plt.ylabel('Original Class')\n",
        "    plt.show()\n",
        "\n",
        "    print(\"-\"*20, \"Precision matrix (Columm Sum=1)\", \"-\"*20)\n",
        "    plt.figure(figsize=(20,7))\n",
        "    sns.heatmap(B, annot=True, cmap=\"YlGnBu\", fmt=\".3f\", xticklabels=labels, yticklabels=labels)\n",
        "    plt.xlabel('Predicted Class')\n",
        "    plt.ylabel('Original Class')\n",
        "    plt.show()\n",
        "    \n",
        "    # representing B in heatmap format\n",
        "    print(\"-\"*20, \"Recall matrix (Row sum=1)\", \"-\"*20)\n",
        "    plt.figure(figsize=(20,7))\n",
        "    sns.heatmap(A, annot=True, cmap=\"YlGnBu\", fmt=\".3f\", xticklabels=labels, yticklabels=labels)\n",
        "    plt.xlabel('Predicted Class')\n",
        "    plt.ylabel('Original Class')\n",
        "    plt.show()"
      ],
      "execution_count": 0,
      "outputs": []
    },
    {
      "cell_type": "code",
      "metadata": {
        "colab_type": "code",
        "id": "VsR6cgBqOQvz",
        "outputId": "90800d35-6083-46b1-ae1e-23624a38ddd4",
        "colab": {}
      },
      "source": [
        "# we need to generate 9 numbers and the sum of numbers should be 1\n",
        "# one solution is to genarate 9 numbers and divide each of the numbers by their sum\n",
        "# ref: https://stackoverflow.com/a/18662466/4084039\n",
        "test_data_len = test_df.shape[0]\n",
        "cv_data_len = cv_df.shape[0]\n",
        "\n",
        "# we create a output array that has exactly same size as the CV data\n",
        "cv_predicted_y = np.zeros((cv_data_len,9))\n",
        "for i in range(cv_data_len):\n",
        "    rand_probs = np.random.rand(1,9)\n",
        "    cv_predicted_y[i] = ((rand_probs/sum(sum(rand_probs)))[0])\n",
        "print(\"Log loss on Cross Validation Data using Random Model\",log_loss(y_cv,cv_predicted_y, eps=1e-15))\n",
        "\n",
        "\n",
        "# Test-Set error.\n",
        "#we create a output array that has exactly same as the test data\n",
        "test_predicted_y = np.zeros((test_data_len,9))\n",
        "for i in range(test_data_len):\n",
        "    rand_probs = np.random.rand(1,9)\n",
        "    test_predicted_y[i] = ((rand_probs/sum(sum(rand_probs)))[0])\n",
        "print(\"Log loss on Test Data using Random Model\",log_loss(y_test,test_predicted_y, eps=1e-15))\n",
        "\n",
        "predicted_y =np.argmax(test_predicted_y, axis=1)\n",
        "plot_confusion_matrix(y_test, predicted_y+1)"
      ],
      "execution_count": 0,
      "outputs": [
        {
          "output_type": "stream",
          "text": [
            "Log loss on Cross Validation Data using Random Model 2.5168768294281563\n",
            "Log loss on Test Data using Random Model 2.4939873594986004\n",
            "-------------------- Confusion matrix --------------------\n"
          ],
          "name": "stdout"
        },
        {
          "output_type": "display_data",
          "data": {
            "image/png": "[encoded data removed]",
            "text/plain": [
              "<Figure size 1440x504 with 2 Axes>"
            ]
          },
          "metadata": {
            "tags": [],
            "needs_background": "light"
          }
        },
        {
          "output_type": "stream",
          "text": [
            "-------------------- Precision matrix (Columm Sum=1) --------------------\n"
          ],
          "name": "stdout"
        },
        {
          "output_type": "display_data",
          "data": {
            "image/png": "[encoded data removed]",
            "text/plain": [
              "<Figure size 1440x504 with 2 Axes>"
            ]
          },
          "metadata": {
            "tags": [],
            "needs_background": "light"
          }
        },
        {
          "output_type": "stream",
          "text": [
            "-------------------- Recall matrix (Row sum=1) --------------------\n"
          ],
          "name": "stdout"
        },
        {
          "output_type": "display_data",
          "data": {
            "image/png": "[encoded data removed]",
            "text/plain": [
              "<Figure size 1440x504 with 2 Axes>"
            ]
          },
          "metadata": {
            "tags": [],
            "needs_background": "light"
          }
        }
      ]
    },
    {
      "cell_type": "markdown",
      "metadata": {
        "colab_type": "text",
        "id": "tIy5AKY7OQv2"
      },
      "source": [
        "<h2>3.3 Univariate Analysis</h2>"
      ]
    },
    {
      "cell_type": "code",
      "metadata": {
        "colab_type": "code",
        "id": "glsAAhozOQv3",
        "colab": {}
      },
      "source": [
        "# code for response coding with Laplace smoothing.\n",
        "# alpha : used for laplace smoothing\n",
        "# feature: ['gene', 'variation']\n",
        "# df: ['train_df', 'test_df', 'cv_df']\n",
        "# algorithm\n",
        "# ----------\n",
        "# Consider all unique values and the number of occurances of given feature in train data dataframe\n",
        "# build a vector (1*9) , the first element = (number of times it occured in class1 + 10*alpha / number of time it occurred in total data+90*alpha)\n",
        "# gv_dict is like a look up table, for every gene it store a (1*9) representation of it\n",
        "# for a value of feature in df:\n",
        "# if it is in train data:\n",
        "# we add the vector that was stored in 'gv_dict' look up table to 'gv_fea'\n",
        "# if it is not there is train:\n",
        "# we add [1/9, 1/9, 1/9, 1/9,1/9, 1/9, 1/9, 1/9, 1/9] to 'gv_fea'\n",
        "# return 'gv_fea'\n",
        "# ----------------------\n",
        "\n",
        "# get_gv_fea_dict: Get Gene varaition Feature Dict\n",
        "def get_gv_fea_dict(alpha, feature, df):\n",
        "    # value_count: it contains a dict like\n",
        "    # print(train_df['Gene'].value_counts())\n",
        "    # output:\n",
        "    #        {BRCA1      174\n",
        "    #         TP53       106\n",
        "    #         EGFR        86\n",
        "    #         BRCA2       75\n",
        "    #         PTEN        69\n",
        "    #         KIT         61\n",
        "    #         BRAF        60\n",
        "    #         ERBB2       47\n",
        "    #         PDGFRA      46\n",
        "    #         ...}\n",
        "    # print(train_df['Variation'].value_counts())\n",
        "    # output:\n",
        "    # {\n",
        "    # Truncating_Mutations                     63\n",
        "    # Deletion                                 43\n",
        "    # Amplification                            43\n",
        "    # Fusions                                  22\n",
        "    # Overexpression                            3\n",
        "    # E17K                                      3\n",
        "    # Q61L                                      3\n",
        "    # S222D                                     2\n",
        "    # P130S                                     2\n",
        "    # ...\n",
        "    # }\n",
        "    value_count = train_df[feature].value_counts()\n",
        "    \n",
        "    # gv_dict : Gene Variation Dict, which contains the probability array for each gene/variation\n",
        "    gv_dict = dict()\n",
        "    \n",
        "    # denominator will contain the number of time that particular feature occured in whole data\n",
        "    for i, denominator in value_count.items():\n",
        "        # vec will contain (p(yi==1/Gi) probability of gene/variation belongs to perticular class\n",
        "        # vec is 9 diamensional vector\n",
        "        vec = []\n",
        "        for k in range(1,10):\n",
        "            # print(train_df.loc[(train_df['Class']==1) & (train_df['Gene']=='BRCA1')])\n",
        "            #         ID   Gene             Variation  Class  \n",
        "            # 2470  2470  BRCA1                S1715C      1   \n",
        "            # 2486  2486  BRCA1                S1841R      1   \n",
        "            # 2614  2614  BRCA1                   M1R      1   \n",
        "            # 2432  2432  BRCA1                L1657P      1   \n",
        "            # 2567  2567  BRCA1                T1685A      1   \n",
        "            # 2583  2583  BRCA1                E1660G      1   \n",
        "            # 2634  2634  BRCA1                W1718L      1   \n",
        "            # cls_cnt.shape[0] will return the number of rows\n",
        "\n",
        "            cls_cnt = train_df.loc[(train_df['Class']==k) & (train_df[feature]==i)]\n",
        "            \n",
        "            # cls_cnt.shape[0](numerator) will contain the number of time that particular feature occured in whole data\n",
        "            vec.append((cls_cnt.shape[0] + alpha*10)/ (denominator + 90*alpha))\n",
        "\n",
        "        # we are adding the gene/variation to the dict as key and vec as value\n",
        "        gv_dict[i]=vec\n",
        "    return gv_dict\n",
        "\n",
        "# Get Gene variation feature\n",
        "def get_gv_feature(alpha, feature, df):\n",
        "    # print(gv_dict)\n",
        "    #     {'BRCA1': [0.20075757575757575, 0.03787878787878788, 0.068181818181818177, 0.13636363636363635, 0.25, 0.19318181818181818, 0.03787878787878788, 0.03787878787878788, 0.03787878787878788], \n",
        "    #      'TP53': [0.32142857142857145, 0.061224489795918366, 0.061224489795918366, 0.27040816326530615, 0.061224489795918366, 0.066326530612244902, 0.051020408163265307, 0.051020408163265307, 0.056122448979591837], \n",
        "    #      'EGFR': [0.056818181818181816, 0.21590909090909091, 0.0625, 0.068181818181818177, 0.068181818181818177, 0.0625, 0.34659090909090912, 0.0625, 0.056818181818181816], \n",
        "    #      'BRCA2': [0.13333333333333333, 0.060606060606060608, 0.060606060606060608, 0.078787878787878782, 0.1393939393939394, 0.34545454545454546, 0.060606060606060608, 0.060606060606060608, 0.060606060606060608], \n",
        "    #      'PTEN': [0.069182389937106917, 0.062893081761006289, 0.069182389937106917, 0.46540880503144655, 0.075471698113207544, 0.062893081761006289, 0.069182389937106917, 0.062893081761006289, 0.062893081761006289], \n",
        "    #      'KIT': [0.066225165562913912, 0.25165562913907286, 0.072847682119205295, 0.072847682119205295, 0.066225165562913912, 0.066225165562913912, 0.27152317880794702, 0.066225165562913912, 0.066225165562913912], \n",
        "    #      'BRAF': [0.066666666666666666, 0.17999999999999999, 0.073333333333333334, 0.073333333333333334, 0.093333333333333338, 0.080000000000000002, 0.29999999999999999, 0.066666666666666666, 0.066666666666666666],\n",
        "    #      ...\n",
        "    #     }\n",
        "    gv_dict = get_gv_fea_dict(alpha, feature, df)\n",
        "    # value_count is similar in get_gv_fea_dict\n",
        "    value_count = train_df[feature].value_counts()\n",
        "    \n",
        "    # gv_fea: Gene_variation feature, it will contain the feature for each feature value in the data\n",
        "    gv_fea = []\n",
        "    # for every feature values in the given data frame we will check if it is there in the train data then we will add the feature to gv_fea\n",
        "    # if not we will add [1/9,1/9,1/9,1/9,1/9,1/9,1/9,1/9,1/9] to gv_fea\n",
        "    for index, row in df.iterrows():\n",
        "        if row[feature] in dict(value_count).keys():\n",
        "            gv_fea.append(gv_dict[row[feature]])\n",
        "        else:\n",
        "            gv_fea.append([1/9,1/9,1/9,1/9,1/9,1/9,1/9,1/9,1/9])\n",
        "#             gv_fea.append([-1,-1,-1,-1,-1,-1,-1,-1,-1])\n",
        "    return gv_fea"
      ],
      "execution_count": 0,
      "outputs": []
    },
    {
      "cell_type": "markdown",
      "metadata": {
        "colab_type": "text",
        "id": "ShBOxDTyOQv5"
      },
      "source": [
        "when we caculate the probability of a feature belongs to any particular class, we apply laplace smoothing\n",
        "<li>(numerator + 10\\*alpha) / (denominator + 90\\*alpha) </li>"
      ]
    },
    {
      "cell_type": "markdown",
      "metadata": {
        "colab_type": "text",
        "id": "Burwv7NcOQv6"
      },
      "source": [
        "<h3>3.2.1 Univariate Analysis on Gene Feature</h3>"
      ]
    },
    {
      "cell_type": "markdown",
      "metadata": {
        "colab_type": "text",
        "id": "xvrxgsHNOQv7"
      },
      "source": [
        "<p style=\"font-size:18px;\"> <b>Q1.</b> Gene, What type of feature it is ?</p>\n",
        "<p style=\"font-size:16px;\"><b>Ans.</b> Gene is a categorical variable </p>\n",
        "<p style=\"font-size:18px;\"> <b>Q2.</b> How many categories are there and How they are distributed?</p>"
      ]
    },
    {
      "cell_type": "code",
      "metadata": {
        "colab_type": "code",
        "id": "r4VErpbnOQv8",
        "outputId": "22f53282-bc40-474b-c939-7dcf706033c8",
        "colab": {}
      },
      "source": [
        "unique_genes = train_df['Gene'].value_counts()\n",
        "print('Number of Unique Genes :', unique_genes.shape[0])\n",
        "# the top 10 genes that occured most\n",
        "print(unique_genes.head(10))"
      ],
      "execution_count": 0,
      "outputs": [
        {
          "output_type": "stream",
          "text": [
            "Number of Unique Genes : 244\n",
            "BRCA1     178\n",
            "EGFR      105\n",
            "TP53      105\n",
            "PTEN       89\n",
            "BRCA2      82\n",
            "KIT        58\n",
            "BRAF       53\n",
            "ERBB2      47\n",
            "ALK        44\n",
            "PIK3CA     38\n",
            "Name: Gene, dtype: int64\n"
          ],
          "name": "stdout"
        }
      ]
    },
    {
      "cell_type": "code",
      "metadata": {
        "colab_type": "code",
        "id": "T5cMcwH-OQwD",
        "outputId": "5f043133-6293-4b95-bd59-ddcfeb9a28e7",
        "scrolled": true,
        "colab": {}
      },
      "source": [
        "print(\"Ans: There are\", unique_genes.shape[0] ,\"different categories of genes in the train data, and they are distibuted as follows\",)"
      ],
      "execution_count": 0,
      "outputs": [
        {
          "output_type": "stream",
          "text": [
            "Ans: There are 244 different categories of genes in the train data, and they are distibuted as follows\n"
          ],
          "name": "stdout"
        }
      ]
    },
    {
      "cell_type": "code",
      "metadata": {
        "colab_type": "code",
        "id": "94tkkWJFOQwK",
        "outputId": "153fad44-85d0-4e8e-a300-70b87b552f03",
        "colab": {}
      },
      "source": [
        "s = sum(unique_genes.values);\n",
        "h = unique_genes.values/s;\n",
        "plt.plot(h, label=\"Histrogram of Genes\")\n",
        "plt.xlabel('Index of a Gene')\n",
        "plt.ylabel('Number of Occurances')\n",
        "plt.legend()\n",
        "plt.grid()\n",
        "plt.show()\n"
      ],
      "execution_count": 0,
      "outputs": [
        {
          "output_type": "display_data",
          "data": {
            "image/png": "[encoded data removed]",
            "text/plain": [
              "<Figure size 432x288 with 1 Axes>"
            ]
          },
          "metadata": {
            "tags": [],
            "needs_background": "light"
          }
        }
      ]
    },
    {
      "cell_type": "code",
      "metadata": {
        "colab_type": "code",
        "id": "GSYysPfLOQwP",
        "outputId": "bba66e8a-e270-42be-c94a-b8671af5cb8d",
        "scrolled": true,
        "colab": {}
      },
      "source": [
        "c = np.cumsum(h)\n",
        "plt.plot(c,label='Cumulative distribution of Genes')\n",
        "plt.grid()\n",
        "plt.legend()\n",
        "plt.show()"
      ],
      "execution_count": 0,
      "outputs": [
        {
          "output_type": "display_data",
          "data": {
            "image/png": "[encoded data removed]",
            "text/plain": [
              "<Figure size 432x288 with 1 Axes>"
            ]
          },
          "metadata": {
            "tags": [],
            "needs_background": "light"
          }
        }
      ]
    },
    {
      "cell_type": "markdown",
      "metadata": {
        "colab_type": "text",
        "id": "KA0msTHPOQwT"
      },
      "source": [
        "<p style=\"font-size:18px;\"> <b>Q3.</b> How to featurize this Gene feature ?</p>\n",
        "\n",
        "<p style=\"font-size:16px;\"><b>Ans.</b>there are two ways we can featurize this variable\n",
        "check out this video: https://www.appliedaicourse.com/course/applied-ai-course-online/lessons/handling-categorical-and-numerical-features/\n",
        "<ol><li>One hot Encoding</li><li>Response coding</li></ol></p>\n",
        "<p> We will choose the appropriate featurization based on the ML model we use.  For this problem of multi-class classification with categorical features, one-hot encoding is better for Logistic regression while response coding is better for Random Forests. </p>"
      ]
    },
    {
      "cell_type": "code",
      "metadata": {
        "colab_type": "code",
        "id": "TcsbuDqcOQwU",
        "colab": {}
      },
      "source": [
        "#response-coding of the Gene feature\n",
        "# alpha is used for laplace smoothing\n",
        "alpha = 1\n",
        "# train gene feature\n",
        "train_gene_feature_responseCoding = np.array(get_gv_feature(alpha, \"Gene\", train_df))\n",
        "# test gene feature\n",
        "test_gene_feature_responseCoding = np.array(get_gv_feature(alpha, \"Gene\", test_df))\n",
        "# cross validation gene feature\n",
        "cv_gene_feature_responseCoding = np.array(get_gv_feature(alpha, \"Gene\", cv_df))"
      ],
      "execution_count": 0,
      "outputs": []
    },
    {
      "cell_type": "code",
      "metadata": {
        "colab_type": "code",
        "id": "CejFANCDOQwb",
        "outputId": "a41edb6a-e47d-44a7-ef3d-3bd4217bd3f9",
        "colab": {}
      },
      "source": [
        "print(\"train_gene_feature_responseCoding is converted feature using respone coding method. The shape of gene feature:\", train_gene_feature_responseCoding.shape)"
      ],
      "execution_count": 0,
      "outputs": [
        {
          "output_type": "stream",
          "text": [
            "train_gene_feature_responseCoding is converted feature using respone coding method. The shape of gene feature: (2124, 9)\n"
          ],
          "name": "stdout"
        }
      ]
    },
    {
      "cell_type": "code",
      "metadata": {
        "colab_type": "code",
        "id": "7TiLWR3LOQwq",
        "colab": {}
      },
      "source": [
        "# one-hot encoding of Gene feature.\n",
        "gene_vectorizer = CountVectorizer()\n",
        "train_gene_feature_onehotCoding = gene_vectorizer.fit_transform(train_df['Gene'])\n",
        "test_gene_feature_onehotCoding = gene_vectorizer.transform(test_df['Gene'])\n",
        "cv_gene_feature_onehotCoding = gene_vectorizer.transform(cv_df['Gene'])"
      ],
      "execution_count": 0,
      "outputs": []
    },
    {
      "cell_type": "code",
      "metadata": {
        "colab_type": "code",
        "id": "foYJ4tJnOQwt",
        "outputId": "7ef274c9-c886-4b7b-fe27-aedf4c5509cc",
        "colab": {}
      },
      "source": [
        "train_df['Gene'].head()"
      ],
      "execution_count": 0,
      "outputs": [
        {
          "output_type": "execute_result",
          "data": {
            "text/plain": [
              "996       TSC1\n",
              "1942    CARD11\n",
              "790      ERBB4\n",
              "1978    CTNNB1\n",
              "51       PTPRT\n",
              "Name: Gene, dtype: object"
            ]
          },
          "metadata": {
            "tags": []
          },
          "execution_count": 25
        }
      ]
    },
    {
      "cell_type": "code",
      "metadata": {
        "colab_type": "code",
        "id": "7aohGapoOQwx",
        "outputId": "55e5439a-e0ea-4957-dbfe-b817214a3ffa",
        "colab": {}
      },
      "source": [
        "gene_vectorizer.get_feature_names()"
      ],
      "execution_count": 0,
      "outputs": [
        {
          "output_type": "execute_result",
          "data": {
            "text/plain": [
              "['abl1',\n",
              " 'acvr1',\n",
              " 'ago2',\n",
              " 'akt1',\n",
              " 'akt2',\n",
              " 'akt3',\n",
              " 'alk',\n",
              " 'apc',\n",
              " 'ar',\n",
              " 'araf',\n",
              " 'arid1a',\n",
              " 'arid1b',\n",
              " 'arid2',\n",
              " 'asxl1',\n",
              " 'asxl2',\n",
              " 'atm',\n",
              " 'atr',\n",
              " 'atrx',\n",
              " 'aurka',\n",
              " 'aurkb',\n",
              " 'axin1',\n",
              " 'axl',\n",
              " 'b2m',\n",
              " 'bap1',\n",
              " 'bcl10',\n",
              " 'bcl2',\n",
              " 'bcl2l11',\n",
              " 'bcor',\n",
              " 'braf',\n",
              " 'brca1',\n",
              " 'brca2',\n",
              " 'brd4',\n",
              " 'brip1',\n",
              " 'btk',\n",
              " 'card11',\n",
              " 'carm1',\n",
              " 'casp8',\n",
              " 'cbl',\n",
              " 'ccnd1',\n",
              " 'ccnd2',\n",
              " 'ccnd3',\n",
              " 'ccne1',\n",
              " 'cdh1',\n",
              " 'cdk12',\n",
              " 'cdk4',\n",
              " 'cdk6',\n",
              " 'cdk8',\n",
              " 'cdkn1a',\n",
              " 'cdkn1b',\n",
              " 'cdkn2a',\n",
              " 'cdkn2b',\n",
              " 'cdkn2c',\n",
              " 'cebpa',\n",
              " 'chek2',\n",
              " 'cic',\n",
              " 'crebbp',\n",
              " 'ctcf',\n",
              " 'ctnnb1',\n",
              " 'ddr2',\n",
              " 'dicer1',\n",
              " 'dnmt3a',\n",
              " 'dnmt3b',\n",
              " 'egfr',\n",
              " 'eif1ax',\n",
              " 'elf3',\n",
              " 'ep300',\n",
              " 'epas1',\n",
              " 'epcam',\n",
              " 'erbb2',\n",
              " 'erbb3',\n",
              " 'erbb4',\n",
              " 'ercc2',\n",
              " 'ercc3',\n",
              " 'ercc4',\n",
              " 'erg',\n",
              " 'errfi1',\n",
              " 'esr1',\n",
              " 'etv1',\n",
              " 'etv6',\n",
              " 'ewsr1',\n",
              " 'ezh2',\n",
              " 'fam58a',\n",
              " 'fanca',\n",
              " 'fancc',\n",
              " 'fat1',\n",
              " 'fbxw7',\n",
              " 'fgf19',\n",
              " 'fgf4',\n",
              " 'fgfr1',\n",
              " 'fgfr2',\n",
              " 'fgfr3',\n",
              " 'fgfr4',\n",
              " 'flt1',\n",
              " 'flt3',\n",
              " 'foxa1',\n",
              " 'foxl2',\n",
              " 'foxo1',\n",
              " 'foxp1',\n",
              " 'fubp1',\n",
              " 'gata3',\n",
              " 'gli1',\n",
              " 'gna11',\n",
              " 'gnaq',\n",
              " 'gnas',\n",
              " 'h3f3a',\n",
              " 'hist1h1c',\n",
              " 'hla',\n",
              " 'hnf1a',\n",
              " 'hras',\n",
              " 'idh1',\n",
              " 'idh2',\n",
              " 'igf1r',\n",
              " 'ikzf1',\n",
              " 'inpp4b',\n",
              " 'jak1',\n",
              " 'jak2',\n",
              " 'jun',\n",
              " 'kdm5a',\n",
              " 'kdm5c',\n",
              " 'kdm6a',\n",
              " 'kdr',\n",
              " 'keap1',\n",
              " 'kit',\n",
              " 'klf4',\n",
              " 'kmt2a',\n",
              " 'kmt2b',\n",
              " 'kmt2c',\n",
              " 'kmt2d',\n",
              " 'knstrn',\n",
              " 'kras',\n",
              " 'lats1',\n",
              " 'lats2',\n",
              " 'map2k1',\n",
              " 'map2k2',\n",
              " 'map2k4',\n",
              " 'map3k1',\n",
              " 'mapk1',\n",
              " 'mdm2',\n",
              " 'mdm4',\n",
              " 'med12',\n",
              " 'mef2b',\n",
              " 'men1',\n",
              " 'met',\n",
              " 'mga',\n",
              " 'mlh1',\n",
              " 'mpl',\n",
              " 'msh2',\n",
              " 'msh6',\n",
              " 'mtor',\n",
              " 'myc',\n",
              " 'mycn',\n",
              " 'myd88',\n",
              " 'myod1',\n",
              " 'ncor1',\n",
              " 'nf1',\n",
              " 'nf2',\n",
              " 'nfe2l2',\n",
              " 'nfkbia',\n",
              " 'nkx2',\n",
              " 'notch1',\n",
              " 'notch2',\n",
              " 'nras',\n",
              " 'nsd1',\n",
              " 'ntrk1',\n",
              " 'ntrk2',\n",
              " 'ntrk3',\n",
              " 'nup93',\n",
              " 'pax8',\n",
              " 'pbrm1',\n",
              " 'pdgfra',\n",
              " 'pdgfrb',\n",
              " 'pik3ca',\n",
              " 'pik3cb',\n",
              " 'pik3cd',\n",
              " 'pik3r1',\n",
              " 'pik3r2',\n",
              " 'pim1',\n",
              " 'pms1',\n",
              " 'pms2',\n",
              " 'pole',\n",
              " 'ppp2r1a',\n",
              " 'ppp6c',\n",
              " 'prdm1',\n",
              " 'ptch1',\n",
              " 'pten',\n",
              " 'ptpn11',\n",
              " 'ptprd',\n",
              " 'ptprt',\n",
              " 'rab35',\n",
              " 'rac1',\n",
              " 'rad21',\n",
              " 'rad50',\n",
              " 'rad51c',\n",
              " 'rad54l',\n",
              " 'raf1',\n",
              " 'rasa1',\n",
              " 'rb1',\n",
              " 'rbm10',\n",
              " 'ret',\n",
              " 'rheb',\n",
              " 'rhoa',\n",
              " 'rictor',\n",
              " 'rit1',\n",
              " 'rnf43',\n",
              " 'ros1',\n",
              " 'runx1',\n",
              " 'rxra',\n",
              " 'rybp',\n",
              " 'sdhb',\n",
              " 'sdhc',\n",
              " 'setd2',\n",
              " 'sf3b1',\n",
              " 'shq1',\n",
              " 'smad2',\n",
              " 'smad3',\n",
              " 'smad4',\n",
              " 'smarca4',\n",
              " 'smarcb1',\n",
              " 'smo',\n",
              " 'sos1',\n",
              " 'sox9',\n",
              " 'spop',\n",
              " 'src',\n",
              " 'srsf2',\n",
              " 'stag2',\n",
              " 'stat3',\n",
              " 'stk11',\n",
              " 'tert',\n",
              " 'tet1',\n",
              " 'tet2',\n",
              " 'tgfbr1',\n",
              " 'tgfbr2',\n",
              " 'tmprss2',\n",
              " 'tp53',\n",
              " 'tp53bp1',\n",
              " 'tsc1',\n",
              " 'tsc2',\n",
              " 'u2af1',\n",
              " 'vegfa',\n",
              " 'vhl',\n",
              " 'whsc1',\n",
              " 'xpo1',\n",
              " 'xrcc2',\n",
              " 'yap1']"
            ]
          },
          "metadata": {
            "tags": []
          },
          "execution_count": 26
        }
      ]
    },
    {
      "cell_type": "code",
      "metadata": {
        "colab_type": "code",
        "id": "RnMPvg4OOQw0",
        "outputId": "50876d1f-0e50-409c-9455-e320bde9082f",
        "colab": {}
      },
      "source": [
        "print(\"train_gene_feature_onehotCoding is converted feature using one-hot encoding method. The shape of gene feature:\", train_gene_feature_onehotCoding.shape)"
      ],
      "execution_count": 0,
      "outputs": [
        {
          "output_type": "stream",
          "text": [
            "train_gene_feature_onehotCoding is converted feature using one-hot encoding method. The shape of gene feature: (2124, 244)\n"
          ],
          "name": "stdout"
        }
      ]
    },
    {
      "cell_type": "markdown",
      "metadata": {
        "colab_type": "text",
        "id": "dKDkc6TeOQw-"
      },
      "source": [
        "<p style=\"font-size:18px;\"> <b>Q4.</b> How good is this gene feature  in predicting y_i?</p>"
      ]
    },
    {
      "cell_type": "markdown",
      "metadata": {
        "colab_type": "text",
        "id": "vJ-891DNOQw_"
      },
      "source": [
        "There are many ways to estimate how good a feature is, in predicting y_i. One of the good methods is to build a proper ML model using just this feature. In this case, we will build a logistic regression model using only Gene feature (one hot encoded) to predict y_i."
      ]
    },
    {
      "cell_type": "code",
      "metadata": {
        "colab_type": "code",
        "id": "3lcCW-oEOQxA",
        "outputId": "358383a1-b788-4825-f2de-612c15db2c5d",
        "colab": {}
      },
      "source": [
        "alpha = [10 ** x for x in range(-5, 1)] # hyperparam for SGD classifier.\n",
        "\n",
        "# read more about SGDClassifier() at http://scikit-learn.org/stable/modules/generated/sklearn.linear_model.SGDClassifier.html\n",
        "# ------------------------------\n",
        "# default parameters\n",
        "# SGDClassifier(loss=’hinge’, penalty=’l2’, alpha=0.0001, l1_ratio=0.15, fit_intercept=True, max_iter=None, tol=None, \n",
        "# shuffle=True, verbose=0, epsilon=0.1, n_jobs=1, random_state=None, learning_rate=’optimal’, eta0=0.0, power_t=0.5, \n",
        "# class_weight=None, warm_start=False, average=False, n_iter=None)\n",
        "\n",
        "# some of methods\n",
        "# fit(X, y[, coef_init, intercept_init, …])\tFit linear model with Stochastic Gradient Descent.\n",
        "# predict(X)\tPredict class labels for samples in X.\n",
        "\n",
        "#-------------------------------\n",
        "# video link: \n",
        "#------------------------------\n",
        "\n",
        "\n",
        "cv_log_error_array=[]\n",
        "for i in alpha:\n",
        "    clf = SGDClassifier(alpha=i, penalty='l2', loss='log', random_state=42)\n",
        "    clf.fit(train_gene_feature_onehotCoding, y_train)\n",
        "    sig_clf = CalibratedClassifierCV(clf, method=\"sigmoid\")\n",
        "    sig_clf.fit(train_gene_feature_onehotCoding, y_train)\n",
        "    predict_y = sig_clf.predict_proba(cv_gene_feature_onehotCoding)\n",
        "    cv_log_error_array.append(log_loss(y_cv, predict_y, labels=clf.classes_, eps=1e-15))\n",
        "    print('For values of alpha = ', i, \"The log loss is:\",log_loss(y_cv, predict_y, labels=clf.classes_, eps=1e-15))\n",
        "\n",
        "fig, ax = plt.subplots()\n",
        "ax.plot(alpha, cv_log_error_array,c='g')\n",
        "for i, txt in enumerate(np.round(cv_log_error_array,3)):\n",
        "    ax.annotate((alpha[i],np.round(txt,3)), (alpha[i],cv_log_error_array[i]))\n",
        "plt.grid()\n",
        "plt.title(\"Cross Validation Error for each alpha\")\n",
        "plt.xlabel(\"Alpha i's\")\n",
        "plt.ylabel(\"Error measure\")\n",
        "plt.show()\n",
        "\n",
        "\n",
        "best_alpha = np.argmin(cv_log_error_array)\n",
        "clf = SGDClassifier(alpha=alpha[best_alpha], penalty='l2', loss='log', random_state=42)\n",
        "clf.fit(train_gene_feature_onehotCoding, y_train)\n",
        "sig_clf = CalibratedClassifierCV(clf, method=\"sigmoid\")\n",
        "sig_clf.fit(train_gene_feature_onehotCoding, y_train)\n",
        "\n",
        "predict_y = sig_clf.predict_proba(train_gene_feature_onehotCoding)\n",
        "print('For values of best alpha = ', alpha[best_alpha], \"The train log loss is:\",log_loss(y_train, predict_y, labels=clf.classes_, eps=1e-15))\n",
        "predict_y = sig_clf.predict_proba(cv_gene_feature_onehotCoding)\n",
        "print('For values of best alpha = ', alpha[best_alpha], \"The cross validation log loss is:\",log_loss(y_cv, predict_y, labels=clf.classes_, eps=1e-15))\n",
        "predict_y = sig_clf.predict_proba(test_gene_feature_onehotCoding)\n",
        "print('For values of best alpha = ', alpha[best_alpha], \"The test log loss is:\",log_loss(y_test, predict_y, labels=clf.classes_, eps=1e-15))\n"
      ],
      "execution_count": 0,
      "outputs": [
        {
          "output_type": "stream",
          "text": [
            "For values of alpha =  1e-05 The log loss is: 1.2110342625765864\n",
            "For values of alpha =  0.0001 The log loss is: 1.191957029214314\n",
            "For values of alpha =  0.001 The log loss is: 1.2310135102703135\n",
            "For values of alpha =  0.01 The log loss is: 1.3523126198750475\n",
            "For values of alpha =  0.1 The log loss is: 1.4572055544707399\n",
            "For values of alpha =  1 The log loss is: 1.4926308201068066\n"
          ],
          "name": "stdout"
        },
        {
          "output_type": "display_data",
          "data": {
            "image/png": "[encoded data removed]",
            "text/plain": [
              "<Figure size 432x288 with 1 Axes>"
            ]
          },
          "metadata": {
            "tags": [],
            "needs_background": "light"
          }
        },
        {
          "output_type": "stream",
          "text": [
            "For values of best alpha =  0.0001 The train log loss is: 1.0163880420764135\n",
            "For values of best alpha =  0.0001 The cross validation log loss is: 1.191957029214314\n",
            "For values of best alpha =  0.0001 The test log loss is: 1.12527437784916\n"
          ],
          "name": "stdout"
        }
      ]
    },
    {
      "cell_type": "markdown",
      "metadata": {
        "colab_type": "text",
        "id": "AZjuFgxwOQxE"
      },
      "source": [
        "<p style=\"font-size:18px;\"> <b>Q5.</b> Is the Gene feature stable across all the data sets (Test, Train, Cross validation)?</p>\n",
        "<p style=\"font-size:16px;\"> <b>Ans.</b> Yes, it is. Otherwise, the CV and Test errors would be significantly more than train error. </p>"
      ]
    },
    {
      "cell_type": "code",
      "metadata": {
        "colab_type": "code",
        "id": "PjY8VwyuOQxK",
        "outputId": "2cba8438-2273-46f0-b43f-942f62e31536",
        "colab": {}
      },
      "source": [
        "print(\"Q6. How many data points in Test and CV datasets are covered by the \", unique_genes.shape[0], \" genes in train dataset?\")\n",
        "\n",
        "test_coverage=test_df[test_df['Gene'].isin(list(set(train_df['Gene'])))].shape[0]\n",
        "cv_coverage=cv_df[cv_df['Gene'].isin(list(set(train_df['Gene'])))].shape[0]\n",
        "\n",
        "print('Ans\\n1. In test data',test_coverage, 'out of',test_df.shape[0], \":\",(test_coverage/test_df.shape[0])*100)\n",
        "print('2. In cross validation data',cv_coverage, 'out of ',cv_df.shape[0],\":\" ,(cv_coverage/cv_df.shape[0])*100)"
      ],
      "execution_count": 0,
      "outputs": [
        {
          "output_type": "stream",
          "text": [
            "Q6. How many data points in Test and CV datasets are covered by the  244  genes in train dataset?\n",
            "Ans\n",
            "1. In test data 656 out of 665 : 98.64661654135338\n",
            "2. In cross validation data 520 out of  532 : 97.74436090225564\n"
          ],
          "name": "stdout"
        }
      ]
    },
    {
      "cell_type": "markdown",
      "metadata": {
        "colab_type": "text",
        "id": "GZ8dUhbbOQxN"
      },
      "source": [
        "<h3>3.2.2 Univariate Analysis on Variation Feature</h3>"
      ]
    },
    {
      "cell_type": "markdown",
      "metadata": {
        "colab_type": "text",
        "id": "ZH8TKwYjOQxO"
      },
      "source": [
        "<p style=\"font-size:18px;\"> <b>Q7.</b> Variation, What type of feature is it ?</p>\n",
        "<p style=\"font-size:16px;\"><b>Ans.</b> Variation is a categorical variable </p>\n",
        "<p style=\"font-size:18px;\"> <b>Q8.</b> How many categories are there?</p>"
      ]
    },
    {
      "cell_type": "code",
      "metadata": {
        "colab_type": "code",
        "id": "ipBDKwsoOQxP",
        "outputId": "eadee41d-e613-4601-d605-5d48d1157284",
        "colab": {}
      },
      "source": [
        "unique_variations = train_df['Variation'].value_counts()\n",
        "print('Number of Unique Variations :', unique_variations.shape[0])\n",
        "# the top 10 variations that occured most\n",
        "print(unique_variations.head(10))"
      ],
      "execution_count": 0,
      "outputs": [
        {
          "output_type": "stream",
          "text": [
            "Number of Unique Variations : 1922\n",
            "Truncating_Mutations         66\n",
            "Deletion                     48\n",
            "Amplification                46\n",
            "Fusions                      23\n",
            "Overexpression                5\n",
            "G12V                          4\n",
            "E17K                          3\n",
            "R173C                         2\n",
            "E542K                         2\n",
            "Promoter_Hypermethylation     2\n",
            "Name: Variation, dtype: int64\n"
          ],
          "name": "stdout"
        }
      ]
    },
    {
      "cell_type": "code",
      "metadata": {
        "colab_type": "code",
        "id": "K9wWS-NYOQxV",
        "outputId": "c391bf04-d611-4d0e-b720-3c3d270defa3",
        "scrolled": true,
        "colab": {}
      },
      "source": [
        "print(\"Ans: There are\", unique_variations.shape[0] ,\"different categories of variations in the train data, and they are distibuted as follows\",)"
      ],
      "execution_count": 0,
      "outputs": [
        {
          "output_type": "stream",
          "text": [
            "Ans: There are 1922 different categories of variations in the train data, and they are distibuted as follows\n"
          ],
          "name": "stdout"
        }
      ]
    },
    {
      "cell_type": "code",
      "metadata": {
        "colab_type": "code",
        "id": "B7NmwrkpOQxk",
        "outputId": "eb46584d-d5b4-4e82-aac4-37fd2f22515d",
        "colab": {}
      },
      "source": [
        "s = sum(unique_variations.values);\n",
        "h = unique_variations.values/s;\n",
        "plt.plot(h, label=\"Histrogram of Variations\")\n",
        "plt.xlabel('Index of a Variation')\n",
        "plt.ylabel('Number of Occurances')\n",
        "plt.legend()\n",
        "plt.grid()\n",
        "plt.show()"
      ],
      "execution_count": 0,
      "outputs": [
        {
          "output_type": "display_data",
          "data": {
            "image/png": "[encoded data removed]",
            "text/plain": [
              "<Figure size 432x288 with 1 Axes>"
            ]
          },
          "metadata": {
            "tags": [],
            "needs_background": "light"
          }
        }
      ]
    },
    {
      "cell_type": "code",
      "metadata": {
        "colab_type": "code",
        "id": "9sWC9-MXOQxo",
        "outputId": "3f6a6acc-d848-4cf0-c8ab-a39b91ab48a7",
        "colab": {}
      },
      "source": [
        "c = np.cumsum(h)\n",
        "print(c)\n",
        "plt.plot(c,label='Cumulative distribution of Variations')\n",
        "plt.grid()\n",
        "plt.legend()\n",
        "plt.show()"
      ],
      "execution_count": 0,
      "outputs": [
        {
          "output_type": "stream",
          "text": [
            "[0.03107345 0.05367232 0.07532957 ... 0.99905838 0.99952919 1.        ]\n"
          ],
          "name": "stdout"
        },
        {
          "output_type": "display_data",
          "data": {
            "image/png": "[encoded data removed]",
            "text/plain": [
              "<Figure size 432x288 with 1 Axes>"
            ]
          },
          "metadata": {
            "tags": [],
            "needs_background": "light"
          }
        }
      ]
    },
    {
      "cell_type": "markdown",
      "metadata": {
        "colab_type": "text",
        "id": "e_jKtHYZOQxt"
      },
      "source": [
        "<p style=\"font-size:18px;\"> <b>Q9.</b> How to featurize this Variation feature ?</p>\n",
        "\n",
        "<p style=\"font-size:16px;\"><b>Ans.</b>There are two ways we can featurize this variable\n",
        "check out this video: https://www.appliedaicourse.com/course/applied-ai-course-online/lessons/handling-categorical-and-numerical-features/\n",
        "<ol><li>One hot Encoding</li><li>Response coding</li></ol></p>\n",
        "<p> We will be using both these methods to featurize the Variation Feature </p>"
      ]
    },
    {
      "cell_type": "code",
      "metadata": {
        "colab_type": "code",
        "id": "3FG82Rp2OQxt",
        "colab": {}
      },
      "source": [
        "# alpha is used for laplace smoothing\n",
        "alpha = 1\n",
        "# train gene feature\n",
        "train_variation_feature_responseCoding = np.array(get_gv_feature(alpha, \"Variation\", train_df))\n",
        "# test gene feature\n",
        "test_variation_feature_responseCoding = np.array(get_gv_feature(alpha, \"Variation\", test_df))\n",
        "# cross validation gene feature\n",
        "cv_variation_feature_responseCoding = np.array(get_gv_feature(alpha, \"Variation\", cv_df))"
      ],
      "execution_count": 0,
      "outputs": []
    },
    {
      "cell_type": "code",
      "metadata": {
        "colab_type": "code",
        "id": "FETgZxHEOQxw",
        "outputId": "af57ed48-b196-4e43-979d-10967e810459",
        "colab": {}
      },
      "source": [
        "print(\"train_variation_feature_responseCoding is a converted feature using the response coding method. The shape of Variation feature:\", train_variation_feature_responseCoding.shape)"
      ],
      "execution_count": 0,
      "outputs": [
        {
          "output_type": "stream",
          "text": [
            "train_variation_feature_responseCoding is a converted feature using the response coding method. The shape of Variation feature: (2124, 9)\n"
          ],
          "name": "stdout"
        }
      ]
    },
    {
      "cell_type": "code",
      "metadata": {
        "colab_type": "code",
        "id": "ruAYi3HwOQxy",
        "colab": {}
      },
      "source": [
        "# one-hot encoding of variation feature.\n",
        "variation_vectorizer = CountVectorizer()\n",
        "train_variation_feature_onehotCoding = variation_vectorizer.fit_transform(train_df['Variation'])\n",
        "test_variation_feature_onehotCoding = variation_vectorizer.transform(test_df['Variation'])\n",
        "cv_variation_feature_onehotCoding = variation_vectorizer.transform(cv_df['Variation'])"
      ],
      "execution_count": 0,
      "outputs": []
    },
    {
      "cell_type": "code",
      "metadata": {
        "colab_type": "code",
        "id": "pUdraWMYOQx3",
        "outputId": "bdd245b0-9379-40fd-bd85-14c69b311650",
        "colab": {}
      },
      "source": [
        "print(\"train_variation_feature_onehotEncoded is converted feature using the onne-hot encoding method. The shape of Variation feature:\", train_variation_feature_onehotCoding.shape)"
      ],
      "execution_count": 0,
      "outputs": [
        {
          "output_type": "stream",
          "text": [
            "train_variation_feature_onehotEncoded is converted feature using the onne-hot encoding method. The shape of Variation feature: (2124, 1954)\n"
          ],
          "name": "stdout"
        }
      ]
    },
    {
      "cell_type": "markdown",
      "metadata": {
        "colab_type": "text",
        "id": "hhg1JfPtOQx7"
      },
      "source": [
        "<p style=\"font-size:18px;\"> <b>Q10.</b> How good is this Variation feature  in predicting y_i?</p>"
      ]
    },
    {
      "cell_type": "markdown",
      "metadata": {
        "colab_type": "text",
        "id": "1zjZ4FBNOQx9"
      },
      "source": [
        "Let's build a model just like the earlier!"
      ]
    },
    {
      "cell_type": "code",
      "metadata": {
        "colab_type": "code",
        "id": "RDa2yRKfOQx9",
        "outputId": "d93b4e13-e709-4ca0-a703-3c3df48884f7",
        "scrolled": false,
        "colab": {}
      },
      "source": [
        "alpha = [10 ** x for x in range(-5, 1)]\n",
        "\n",
        "# read more about SGDClassifier() at http://scikit-learn.org/stable/modules/generated/sklearn.linear_model.SGDClassifier.html\n",
        "# ------------------------------\n",
        "# default parameters\n",
        "# SGDClassifier(loss=’hinge’, penalty=’l2’, alpha=0.0001, l1_ratio=0.15, fit_intercept=True, max_iter=None, tol=None, \n",
        "# shuffle=True, verbose=0, epsilon=0.1, n_jobs=1, random_state=None, learning_rate=’optimal’, eta0=0.0, power_t=0.5, \n",
        "# class_weight=None, warm_start=False, average=False, n_iter=None)\n",
        "\n",
        "# some of methods\n",
        "# fit(X, y[, coef_init, intercept_init, …])\tFit linear model with Stochastic Gradient Descent.\n",
        "# predict(X)\tPredict class labels for samples in X.\n",
        "\n",
        "#-------------------------------\n",
        "# video link: \n",
        "#------------------------------\n",
        "\n",
        "\n",
        "cv_log_error_array=[]\n",
        "for i in alpha:\n",
        "    clf = SGDClassifier(alpha=i, penalty='l2', loss='log', random_state=42)\n",
        "    clf.fit(train_variation_feature_onehotCoding, y_train)\n",
        "    \n",
        "    sig_clf = CalibratedClassifierCV(clf, method=\"sigmoid\")\n",
        "    sig_clf.fit(train_variation_feature_onehotCoding, y_train)\n",
        "    predict_y = sig_clf.predict_proba(cv_variation_feature_onehotCoding)\n",
        "    \n",
        "    cv_log_error_array.append(log_loss(y_cv, predict_y, labels=clf.classes_, eps=1e-15))\n",
        "    print('For values of alpha = ', i, \"The log loss is:\",log_loss(y_cv, predict_y, labels=clf.classes_, eps=1e-15))\n",
        "\n",
        "fig, ax = plt.subplots()\n",
        "ax.plot(alpha, cv_log_error_array,c='g')\n",
        "for i, txt in enumerate(np.round(cv_log_error_array,3)):\n",
        "    ax.annotate((alpha[i],np.round(txt,3)), (alpha[i],cv_log_error_array[i]))\n",
        "plt.grid()\n",
        "plt.title(\"Cross Validation Error for each alpha\")\n",
        "plt.xlabel(\"Alpha i's\")\n",
        "plt.ylabel(\"Error measure\")\n",
        "plt.show()\n",
        "\n",
        "\n",
        "best_alpha = np.argmin(cv_log_error_array)\n",
        "clf = SGDClassifier(alpha=alpha[best_alpha], penalty='l2', loss='log', random_state=42)\n",
        "clf.fit(train_variation_feature_onehotCoding, y_train)\n",
        "sig_clf = CalibratedClassifierCV(clf, method=\"sigmoid\")\n",
        "sig_clf.fit(train_variation_feature_onehotCoding, y_train)\n",
        "\n",
        "predict_y = sig_clf.predict_proba(train_variation_feature_onehotCoding)\n",
        "print('For values of best alpha = ', alpha[best_alpha], \"The train log loss is:\",log_loss(y_train, predict_y, labels=clf.classes_, eps=1e-15))\n",
        "predict_y = sig_clf.predict_proba(cv_variation_feature_onehotCoding)\n",
        "print('For values of best alpha = ', alpha[best_alpha], \"The cross validation log loss is:\",log_loss(y_cv, predict_y, labels=clf.classes_, eps=1e-15))\n",
        "predict_y = sig_clf.predict_proba(test_variation_feature_onehotCoding)\n",
        "print('For values of best alpha = ', alpha[best_alpha], \"The test log loss is:\",log_loss(y_test, predict_y, labels=clf.classes_, eps=1e-15))\n"
      ],
      "execution_count": 0,
      "outputs": [
        {
          "output_type": "stream",
          "text": [
            "For values of alpha =  1e-05 The log loss is: 1.7110305137689685\n",
            "For values of alpha =  0.0001 The log loss is: 1.705456226784161\n",
            "For values of alpha =  0.001 The log loss is: 1.7084047153542705\n",
            "For values of alpha =  0.01 The log loss is: 1.7207876126147919\n",
            "For values of alpha =  0.1 The log loss is: 1.7256686676650954\n",
            "For values of alpha =  1 The log loss is: 1.7290976416941959\n"
          ],
          "name": "stdout"
        },
        {
          "output_type": "display_data",
          "data": {
            "image/png": "[encoded data removed]",
            "text/plain": [
              "<Figure size 432x288 with 1 Axes>"
            ]
          },
          "metadata": {
            "tags": [],
            "needs_background": "light"
          }
        },
        {
          "output_type": "stream",
          "text": [
            "For values of best alpha =  0.0001 The train log loss is: 0.6690956038279754\n",
            "For values of best alpha =  0.0001 The cross validation log loss is: 1.705456226784161\n",
            "For values of best alpha =  0.0001 The test log loss is: 1.7184979735631927\n"
          ],
          "name": "stdout"
        }
      ]
    },
    {
      "cell_type": "markdown",
      "metadata": {
        "colab_type": "text",
        "id": "gO-gq3cFOQyB"
      },
      "source": [
        "<p style=\"font-size:18px;\"> <b>Q11.</b> Is the Variation feature stable across all the data sets (Test, Train, Cross validation)?</p>\n",
        "<p style=\"font-size:16px;\"> <b>Ans.</b> Not sure! But lets be very sure using the below analysis. </p>"
      ]
    },
    {
      "cell_type": "code",
      "metadata": {
        "colab_type": "code",
        "id": "pBZ5v2yBOQyB",
        "outputId": "1cd66f72-ed15-463d-fda0-6bad80b3cee4",
        "scrolled": true,
        "colab": {}
      },
      "source": [
        "print(\"Q12. How many data points are covered by total \", unique_variations.shape[0], \" genes in test and cross validation data sets?\")\n",
        "test_coverage=test_df[test_df['Variation'].isin(list(set(train_df['Variation'])))].shape[0]\n",
        "cv_coverage=cv_df[cv_df['Variation'].isin(list(set(train_df['Variation'])))].shape[0]\n",
        "print('Ans\\n1. In test data',test_coverage, 'out of',test_df.shape[0], \":\",(test_coverage/test_df.shape[0])*100)\n",
        "print('2. In cross validation data',cv_coverage, 'out of ',cv_df.shape[0],\":\" ,(cv_coverage/cv_df.shape[0])*100)"
      ],
      "execution_count": 0,
      "outputs": [
        {
          "output_type": "stream",
          "text": [
            "Q12. How many data points are covered by total  1922  genes in test and cross validation data sets?\n",
            "Ans\n",
            "1. In test data 58 out of 665 : 8.721804511278195\n",
            "2. In cross validation data 63 out of  532 : 11.842105263157894\n"
          ],
          "name": "stdout"
        }
      ]
    },
    {
      "cell_type": "markdown",
      "metadata": {
        "id": "ltjoTIJLpLrl",
        "colab_type": "text"
      },
      "source": [
        "# Task 4 Try any of the feature engineering techniques discussed in the course to reduce the CV and test log-loss to a value less than 1.0"
      ]
    },
    {
      "cell_type": "code",
      "metadata": {
        "id": "sUnTsjTHpLrm",
        "colab_type": "code",
        "colab": {}
      },
      "source": [
        "# https://stackoverflow.com/questions/47887247/combining-countvectorizer-and-ngrams-in-python"
      ],
      "execution_count": 0,
      "outputs": []
    },
    {
      "cell_type": "code",
      "metadata": {
        "id": "SxqOVp3gpLrs",
        "colab_type": "code",
        "colab": {},
        "outputId": "9dd8174f-9e08-4863-dd7c-959bf75106c8"
      },
      "source": [
        "# building a CountVectorizer with all the words that occured minimum 3 times in train data\n",
        "#text_vectorizer = TfidfVectorizer(ngram_range=(3,5),min_df=10)\n",
        "text_vectorizer = TfidfVectorizer(max_features=5000)\n",
        "train_text_feature_onehotCoding = text_vectorizer.fit_transform(train_df['TEXT'])\n",
        "# getting all the feature names (words)\n",
        "train_text_features= text_vectorizer.get_feature_names()\n",
        "\n",
        "# train_text_feature_onehotCoding.sum(axis=0).A1 will sum every row and returns (1*number of features) vector\n",
        "train_text_fea_counts = train_text_feature_onehotCoding.sum(axis=0).A1\n",
        "\n",
        "# zip(list(text_features),text_fea_counts) will zip a word with its number of times it occured\n",
        "text_fea_dict = dict(zip(list(train_text_features),train_text_fea_counts))\n",
        "\n",
        "print(\"Total number of unique words in train data :\", len(train_text_features))\n",
        "\n",
        "# don't forget to normalize every feature\n",
        "train_text_feature_onehotCoding = normalize(train_text_feature_onehotCoding, axis=0)\n",
        "\n",
        "# we use the same vectorizer that was trained on train data\n",
        "test_text_feature_onehotCoding = text_vectorizer.transform(test_df['TEXT'])\n",
        "# don't forget to normalize every feature\n",
        "test_text_feature_onehotCoding = normalize(test_text_feature_onehotCoding, axis=0)\n",
        "\n",
        "# we use the same vectorizer that was trained on train data\n",
        "cv_text_feature_onehotCoding = text_vectorizer.transform(cv_df['TEXT'])\n",
        "# don't forget to normalize every feature\n",
        "cv_text_feature_onehotCoding = normalize(cv_text_feature_onehotCoding, axis=0)"
      ],
      "execution_count": 0,
      "outputs": [
        {
          "output_type": "stream",
          "text": [
            "Total number of unique words in train data : 5000\n"
          ],
          "name": "stdout"
        }
      ]
    },
    {
      "cell_type": "code",
      "metadata": {
        "colab_type": "code",
        "id": "W1VYFJb_OQyy",
        "colab": {}
      },
      "source": [
        "# merging gene, variance and text features\n",
        "\n",
        "train_gene_var_onehotCoding = hstack((train_gene_feature_onehotCoding,train_variation_feature_onehotCoding))\n",
        "test_gene_var_onehotCoding = hstack((test_gene_feature_onehotCoding,test_variation_feature_onehotCoding))\n",
        "cv_gene_var_onehotCoding = hstack((cv_gene_feature_onehotCoding,cv_variation_feature_onehotCoding))\n",
        "\n",
        "train_x_onehotCoding = hstack((train_gene_var_onehotCoding, train_text_feature_onehotCoding)).tocsr()\n",
        "train_y = np.array(list(train_df['Class']))\n",
        "\n",
        "test_x_onehotCoding = hstack((test_gene_var_onehotCoding, test_text_feature_onehotCoding)).tocsr()\n",
        "test_y = np.array(list(test_df['Class']))\n",
        "\n",
        "cv_x_onehotCoding = hstack((cv_gene_var_onehotCoding, cv_text_feature_onehotCoding)).tocsr()\n",
        "cv_y = np.array(list(cv_df['Class']))"
      ],
      "execution_count": 0,
      "outputs": []
    },
    {
      "cell_type": "code",
      "metadata": {
        "id": "SbzGT8vdpLrw",
        "colab_type": "code",
        "colab": {}
      },
      "source": [
        "from sklearn.feature_selection import SelectKBest, chi2\n",
        "selectKBest = SelectKBest(chi2, k=2000)\n",
        "train_x_onehotCoding = selectKBest.fit_transform(train_x_onehotCoding,train_y)\n",
        "cv_x_onehotCoding = selectKBest.transform(cv_x_onehotCoding)\n",
        "test_x_onehotCoding = selectKBest.transform(test_x_onehotCoding)"
      ],
      "execution_count": 0,
      "outputs": []
    },
    {
      "cell_type": "markdown",
      "metadata": {
        "colab_type": "text",
        "id": "_OsvP1C6OQzk"
      },
      "source": [
        "<h4>Task 4 Hyper paramter tuning</h4>"
      ]
    },
    {
      "cell_type": "code",
      "metadata": {
        "colab_type": "code",
        "id": "6gknPIAJOQzl",
        "outputId": "4855f394-79f4-4089-e43c-c5de2c03df1f",
        "colab": {}
      },
      "source": [
        "alpha = [10 ** x for x in range(-6, 3)]\n",
        "cv_log_error_array = []\n",
        "for i in alpha:\n",
        "    print(\"for alpha =\", i)\n",
        "    clf = SGDClassifier(class_weight='balanced', alpha=i, penalty='l2', loss='log', random_state=42)\n",
        "    clf.fit(train_x_onehotCoding, train_y)\n",
        "    sig_clf = CalibratedClassifierCV(clf, method=\"sigmoid\")\n",
        "    sig_clf.fit(train_x_onehotCoding, train_y)\n",
        "    sig_clf_probs = sig_clf.predict_proba(cv_x_onehotCoding)\n",
        "    cv_log_error_array.append(log_loss(cv_y, sig_clf_probs, labels=clf.classes_, eps=1e-15))\n",
        "    # to avoid rounding error while multiplying probabilites we use log-probability estimates\n",
        "    print(\"Log Loss :\",log_loss(cv_y, sig_clf_probs)) \n",
        "\n",
        "fig, ax = plt.subplots()\n",
        "ax.plot(alpha, cv_log_error_array,c='g')\n",
        "for i, txt in enumerate(np.round(cv_log_error_array,3)):\n",
        "    ax.annotate((alpha[i],str(txt)), (alpha[i],cv_log_error_array[i]))\n",
        "plt.grid()\n",
        "plt.title(\"Cross Validation Error for each alpha\")\n",
        "plt.xlabel(\"Alpha i's\")\n",
        "plt.ylabel(\"Error measure\")\n",
        "plt.show()\n",
        "\n",
        "\n",
        "best_alpha = np.argmin(cv_log_error_array)\n",
        "clf = SGDClassifier(class_weight='balanced', alpha=alpha[best_alpha], penalty='l2', loss='log', random_state=42)\n",
        "clf.fit(train_x_onehotCoding, train_y)\n",
        "sig_clf = CalibratedClassifierCV(clf, method=\"sigmoid\")\n",
        "sig_clf.fit(train_x_onehotCoding, train_y)\n",
        "\n",
        "predict_y = sig_clf.predict_proba(train_x_onehotCoding)\n",
        "print('For values of best alpha = ', alpha[best_alpha], \"The train log loss is:\",log_loss(y_train, predict_y, labels=clf.classes_, eps=1e-15))\n",
        "predict_y = sig_clf.predict_proba(cv_x_onehotCoding)\n",
        "print('For values of best alpha = ', alpha[best_alpha], \"The cross validation log loss is:\",log_loss(y_cv, predict_y, labels=clf.classes_, eps=1e-15))\n",
        "predict_y = sig_clf.predict_proba(test_x_onehotCoding)\n",
        "print('For values of best alpha = ', alpha[best_alpha], \"The test log loss is:\",log_loss(y_test, predict_y, labels=clf.classes_, eps=1e-15))"
      ],
      "execution_count": 0,
      "outputs": [
        {
          "output_type": "stream",
          "text": [
            "for alpha = 1e-06\n",
            "Log Loss : 1.3115290302856233\n",
            "for alpha = 1e-05\n",
            "Log Loss : 1.1769606773105055\n",
            "for alpha = 0.0001\n",
            "Log Loss : 1.0295700468033027\n",
            "for alpha = 0.001\n",
            "Log Loss : 1.0422579417170403\n",
            "for alpha = 0.01\n",
            "Log Loss : 1.1755437097493222\n",
            "for alpha = 0.1\n",
            "Log Loss : 1.35619746488093\n",
            "for alpha = 1\n",
            "Log Loss : 1.475197965660491\n",
            "for alpha = 10\n",
            "Log Loss : 1.4926728583624715\n",
            "for alpha = 100\n",
            "Log Loss : 1.494910913716857\n"
          ],
          "name": "stdout"
        },
        {
          "output_type": "display_data",
          "data": {
            "image/png": "[encoded data removed]",
            "text/plain": [
              "<Figure size 432x288 with 1 Axes>"
            ]
          },
          "metadata": {
            "tags": [],
            "needs_background": "light"
          }
        },
        {
          "output_type": "stream",
          "text": [
            "For values of best alpha =  0.0001 The train log loss is: 0.5292715534106109\n",
            "For values of best alpha =  0.0001 The cross validation log loss is: 1.0295700468033027\n",
            "For values of best alpha =  0.0001 The test log loss is: 0.9472024702695916\n"
          ],
          "name": "stdout"
        }
      ]
    },
    {
      "cell_type": "markdown",
      "metadata": {
        "colab_type": "text",
        "id": "d6sk6Z7NOQzp"
      },
      "source": [
        "<h4>Task 4 Testing the model with best hyper paramters</h4>"
      ]
    },
    {
      "cell_type": "code",
      "metadata": {
        "id": "z4-u7FbwpLr1",
        "colab_type": "code",
        "colab": {}
      },
      "source": [
        "#Data preparation for ML models.\n",
        "#Misc. functionns for ML models\n",
        "\n",
        "def predict_and_plot_confusion_matrix(train_x, train_y,test_x, test_y, clf):\n",
        "    clf.fit(train_x, train_y)\n",
        "    sig_clf = CalibratedClassifierCV(clf, method=\"sigmoid\")\n",
        "    sig_clf.fit(train_x, train_y)\n",
        "    pred_y = sig_clf.predict(test_x)\n",
        "\n",
        "    # for calculating log_loss we willl provide the array of probabilities belongs to each class\n",
        "    print(\"Log loss :\",log_loss(test_y, sig_clf.predict_proba(test_x)))\n",
        "    # calculating the number of data points that are misclassified\n",
        "    print(\"Number of mis-classified points :\", np.count_nonzero((pred_y- test_y))/test_y.shape[0])\n",
        "    plot_confusion_matrix(test_y, pred_y)"
      ],
      "execution_count": 0,
      "outputs": []
    },
    {
      "cell_type": "code",
      "metadata": {
        "colab_type": "code",
        "id": "HEeyfXMIOQzp",
        "outputId": "34f85ffd-4d08-4e0a-8ac0-b8608a938bbe",
        "scrolled": false,
        "colab": {}
      },
      "source": [
        "# read more about SGDClassifier() at http://scikit-learn.org/stable/modules/generated/sklearn.linear_model.SGDClassifier.html\n",
        "# ------------------------------\n",
        "# default parameters\n",
        "# SGDClassifier(loss=’hinge’, penalty=’l2’, alpha=0.0001, l1_ratio=0.15, fit_intercept=True, max_iter=None, tol=None, \n",
        "# shuffle=True, verbose=0, epsilon=0.1, n_jobs=1, random_state=None, learning_rate=’optimal’, eta0=0.0, power_t=0.5, \n",
        "# class_weight=None, warm_start=False, average=False, n_iter=None)\n",
        "\n",
        "# some of methods\n",
        "# fit(X, y[, coef_init, intercept_init, …])\tFit linear model with Stochastic Gradient Descent.\n",
        "# predict(X)\tPredict class labels for samples in X.\n",
        "\n",
        "#-------------------------------\n",
        "# video link: https://www.appliedaicourse.com/course/applied-ai-course-online/lessons/geometric-intuition-1/\n",
        "#------------------------------\n",
        "clf = SGDClassifier(class_weight='balanced', alpha=alpha[best_alpha], penalty='l2', loss='log', random_state=42)\n",
        "predict_and_plot_confusion_matrix(train_x_onehotCoding, train_y, cv_x_onehotCoding, cv_y, clf)"
      ],
      "execution_count": 0,
      "outputs": [
        {
          "output_type": "stream",
          "text": [
            "Log loss : 1.0295700468033027\n",
            "Number of mis-classified points : 0.37030075187969924\n",
            "-------------------- Confusion matrix --------------------\n"
          ],
          "name": "stdout"
        },
        {
          "output_type": "display_data",
          "data": {
            "image/png": "[encoded data removed]",
            "text/plain": [
              "<Figure size 1440x504 with 2 Axes>"
            ]
          },
          "metadata": {
            "tags": [],
            "needs_background": "light"
          }
        },
        {
          "output_type": "stream",
          "text": [
            "-------------------- Precision matrix (Columm Sum=1) --------------------\n"
          ],
          "name": "stdout"
        },
        {
          "output_type": "display_data",
          "data": {
            "image/png": "[encoded data removed]",
            "text/plain": [
              "<Figure size 1440x504 with 2 Axes>"
            ]
          },
          "metadata": {
            "tags": [],
            "needs_background": "light"
          }
        },
        {
          "output_type": "stream",
          "text": [
            "-------------------- Recall matrix (Row sum=1) --------------------\n"
          ],
          "name": "stdout"
        },
        {
          "output_type": "display_data",
          "data": {
            "image/png": "[encoded data removed]",
            "text/plain": [
              "<Figure size 1440x504 with 2 Axes>"
            ]
          },
          "metadata": {
            "tags": [],
            "needs_background": "light"
          }
        }
      ]
    },
    {
      "cell_type": "code",
      "metadata": {
        "id": "W50BIc9opLr9",
        "colab_type": "code",
        "colab": {}
      },
      "source": [
        ""
      ],
      "execution_count": 0,
      "outputs": []
    },
    {
      "cell_type": "markdown",
      "metadata": {
        "colab_type": "text",
        "id": "GVXbZt6xOQ1E"
      },
      "source": [
        "# Conclusion"
      ]
    },
    {
      "cell_type": "code",
      "metadata": {
        "id": "1rL402jzphUU",
        "colab_type": "code",
        "colab": {
          "base_uri": "https://localhost:8080/",
          "height": 319
        },
        "outputId": "279211fa-ba15-4c9a-aa15-a9adfbdcc042"
      },
      "source": [
        "from prettytable import PrettyTable\n",
        "    \n",
        "x = PrettyTable()\n",
        "\n",
        "x.field_names = [\"Task\",\"Description\",\"Model\", \"Test Log Loss\"]\n",
        "\n",
        "x.add_row([\"Task 1\",\"Use TFIDFVectorizer\",\"Logistic Regression\",1.120])\n",
        "x.add_row([\"Task 1\",\"Use TFIDFVectorizer\",\"Naive Bayes\",1.301])\n",
        "x.add_row([\"Task 1\",\"Use TFIDFVectorizer\",\"KNN\",1.114])\n",
        "x.add_row([\"Task 1\",\"Use TFIDFVectorizer\",\"Linear SVM\",1.127])\n",
        "x.add_row([\"Task 1\",\"Use TFIDFVectorizer\",\"Random Forest\",1.161])\n",
        "x.add_row([\"Task 1\",\"Use TFIDFVectorizer\",\"Model Stack\",1.167])\n",
        "x.add_row([\"Task 2\",\"Use Top 1000 words using TFIDFVectorizer\",\"Naive Bayes\",1.301])\n",
        "x.add_row([\"Task 2\",\"Use Top 1000 words using TFIDFVectorizer\",\"KNN\",1.115])\n",
        "x.add_row([\"Task 2\",\"Use Top 1000 words using TFIDFVectorizer\",\"Logistic Regression\",1.119])\n",
        "x.add_row([\"Task 2\",\"Use Top 1000 words using TFIDFVectorizer\",\"Linear SVM\",1.128])\n",
        "x.add_row([\"Task 2\",\"Use Top 1000 words using TFIDFVectorizer\",\"Random Forest\",1.126])\n",
        "x.add_row([\"Task 2\",\"Use Top 1000 words using TFIDFVectorizer\",\"Model Stack\",1.188])\n",
        "x.add_row([\"Task 3\",\"Apply Logistic Regression on unigram & bigram\",\"Logistic Regression\",1.241])\n",
        "x.add_row([\"Task 4\",\"Reduce Log-Loss\",\"Logistic Regression\",0.945])\n",
        "print(x)"
      ],
      "execution_count": 4,
      "outputs": [
        {
          "output_type": "stream",
          "text": [
            "+--------+-----------------------------------------------+---------------------+---------------+\n",
            "|  Task  |                  Description                  |        Model        | Test Log Loss |\n",
            "+--------+-----------------------------------------------+---------------------+---------------+\n",
            "| Task 1 |              Use TFIDFVectorizer              | Logistic Regression |      1.12     |\n",
            "| Task 1 |              Use TFIDFVectorizer              |     Naive Bayes     |     1.301     |\n",
            "| Task 1 |              Use TFIDFVectorizer              |         KNN         |     1.114     |\n",
            "| Task 1 |              Use TFIDFVectorizer              |      Linear SVM     |     1.127     |\n",
            "| Task 1 |              Use TFIDFVectorizer              |    Random Forest    |     1.161     |\n",
            "| Task 1 |              Use TFIDFVectorizer              |     Model Stack     |     1.167     |\n",
            "| Task 2 |    Use Top 1000 words using TFIDFVectorizer   |     Naive Bayes     |     1.301     |\n",
            "| Task 2 |    Use Top 1000 words using TFIDFVectorizer   |         KNN         |     1.115     |\n",
            "| Task 2 |    Use Top 1000 words using TFIDFVectorizer   | Logistic Regression |     1.119     |\n",
            "| Task 2 |    Use Top 1000 words using TFIDFVectorizer   |      Linear SVM     |     1.128     |\n",
            "| Task 2 |    Use Top 1000 words using TFIDFVectorizer   |    Random Forest    |     1.126     |\n",
            "| Task 2 |    Use Top 1000 words using TFIDFVectorizer   |     Model Stack     |     1.188     |\n",
            "| Task 3 | Apply Logistic Regression on unigram & bigram | Logistic Regression |     1.241     |\n",
            "| Task 4 |                Reduce Log-Loss                | Logistic Regression |     0.945     |\n",
            "+--------+-----------------------------------------------+---------------------+---------------+\n"
          ],
          "name": "stdout"
        }
      ]
    },
    {
      "cell_type": "code",
      "metadata": {
        "id": "SqR1q4y3pleh",
        "colab_type": "code",
        "colab": {}
      },
      "source": [
        ""
      ],
      "execution_count": 0,
      "outputs": []
    }
  ]
}