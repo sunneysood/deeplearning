{
  "nbformat": 4,
  "nbformat_minor": 0,
  "metadata": {
    "colab": {
      "name": "MPNeuron.ipynb",
      "version": "0.3.2",
      "provenance": [],
      "collapsed_sections": [],
      "include_colab_link": true
    },
    "kernelspec": {
      "name": "python3",
      "display_name": "Python 3"
    }
  },
  "cells": [
    {
      "cell_type": "markdown",
      "metadata": {
        "id": "view-in-github",
        "colab_type": "text"
      },
      "source": [
        "<a href=\"https://colab.research.google.com/github/sunneysood/deeplearning/blob/master/MPNeuron.ipynb\" target=\"_parent\"><img src=\"https://colab.research.google.com/assets/colab-badge.svg\" alt=\"Open In Colab\"/></a>"
      ]
    },
    {
      "cell_type": "code",
      "metadata": {
        "id": "58pD5jeymM8n",
        "colab_type": "code",
        "colab": {}
      },
      "source": [
        "import sklearn.datasets\n",
        "import pandas as pd"
      ],
      "execution_count": 0,
      "outputs": []
    },
    {
      "cell_type": "code",
      "metadata": {
        "id": "GB9PXmafoGiy",
        "colab_type": "code",
        "colab": {}
      },
      "source": [
        "breast_cancer=sklearn.datasets.load_breast_cancer()"
      ],
      "execution_count": 0,
      "outputs": []
    },
    {
      "cell_type": "code",
      "metadata": {
        "id": "o4YwqYoyoXFW",
        "colab_type": "code",
        "colab": {}
      },
      "source": [
        "x=breast_cancer.data\n",
        "y=breast_cancer.target"
      ],
      "execution_count": 0,
      "outputs": []
    },
    {
      "cell_type": "code",
      "metadata": {
        "id": "Oee9KxUholF_",
        "colab_type": "code",
        "colab": {
          "base_uri": "https://localhost:8080/",
          "height": 416
        },
        "outputId": "58916b58-e65e-4ead-a086-58ee5e505d79"
      },
      "source": [
        "print(x)\n",
        "print(y)"
      ],
      "execution_count": 82,
      "outputs": [
        {
          "output_type": "stream",
          "text": [
            "[[1.799e+01 1.038e+01 1.228e+02 ... 2.654e-01 4.601e-01 1.189e-01]\n",
            " [2.057e+01 1.777e+01 1.329e+02 ... 1.860e-01 2.750e-01 8.902e-02]\n",
            " [1.969e+01 2.125e+01 1.300e+02 ... 2.430e-01 3.613e-01 8.758e-02]\n",
            " ...\n",
            " [1.660e+01 2.808e+01 1.083e+02 ... 1.418e-01 2.218e-01 7.820e-02]\n",
            " [2.060e+01 2.933e+01 1.401e+02 ... 2.650e-01 4.087e-01 1.240e-01]\n",
            " [7.760e+00 2.454e+01 4.792e+01 ... 0.000e+00 2.871e-01 7.039e-02]]\n",
            "[0 0 0 0 0 0 0 0 0 0 0 0 0 0 0 0 0 0 0 1 1 1 0 0 0 0 0 0 0 0 0 0 0 0 0 0 0\n",
            " 1 0 0 0 0 0 0 0 0 1 0 1 1 1 1 1 0 0 1 0 0 1 1 1 1 0 1 0 0 1 1 1 1 0 1 0 0\n",
            " 1 0 1 0 0 1 1 1 0 0 1 0 0 0 1 1 1 0 1 1 0 0 1 1 1 0 0 1 1 1 1 0 1 1 0 1 1\n",
            " 1 1 1 1 1 1 0 0 0 1 0 0 1 1 1 0 0 1 0 1 0 0 1 0 0 1 1 0 1 1 0 1 1 1 1 0 1\n",
            " 1 1 1 1 1 1 1 1 0 1 1 1 1 0 0 1 0 1 1 0 0 1 1 0 0 1 1 1 1 0 1 1 0 0 0 1 0\n",
            " 1 0 1 1 1 0 1 1 0 0 1 0 0 0 0 1 0 0 0 1 0 1 0 1 1 0 1 0 0 0 0 1 1 0 0 1 1\n",
            " 1 0 1 1 1 1 1 0 0 1 1 0 1 1 0 0 1 0 1 1 1 1 0 1 1 1 1 1 0 1 0 0 0 0 0 0 0\n",
            " 0 0 0 0 0 0 0 1 1 1 1 1 1 0 1 0 1 1 0 1 1 0 1 0 0 1 1 1 1 1 1 1 1 1 1 1 1\n",
            " 1 0 1 1 0 1 0 1 1 1 1 1 1 1 1 1 1 1 1 1 1 0 1 1 1 0 1 0 1 1 1 1 0 0 0 1 1\n",
            " 1 1 0 1 0 1 0 1 1 1 0 1 1 1 1 1 1 1 0 0 0 1 1 1 1 1 1 1 1 1 1 1 0 0 1 0 0\n",
            " 0 1 0 0 1 1 1 1 1 0 1 1 1 1 1 0 1 1 1 0 1 1 0 0 1 1 1 1 1 1 0 1 1 1 1 1 1\n",
            " 1 0 1 1 1 1 1 0 1 1 0 1 1 1 1 1 1 1 1 1 1 1 1 0 1 0 0 1 0 1 1 1 1 1 0 1 1\n",
            " 0 1 0 1 1 0 1 0 1 1 1 1 1 1 1 1 0 0 1 1 1 1 1 1 0 1 1 1 1 1 1 1 1 1 1 0 1\n",
            " 1 1 1 1 1 1 0 1 0 1 1 0 1 1 1 1 1 0 0 1 0 1 0 1 1 1 1 1 0 1 1 0 1 0 1 0 0\n",
            " 1 1 1 0 1 1 1 1 1 1 1 1 1 1 1 0 1 0 0 1 1 1 1 1 1 1 1 1 1 1 1 1 1 1 1 1 1\n",
            " 1 1 1 1 1 1 1 0 0 0 0 0 0 1]\n"
          ],
          "name": "stdout"
        }
      ]
    },
    {
      "cell_type": "markdown",
      "metadata": {
        "id": "Vt_f0bM4qea2",
        "colab_type": "text"
      },
      "source": [
        "# Loading Dataset"
      ]
    },
    {
      "cell_type": "code",
      "metadata": {
        "id": "9Ryy4FCrouUo",
        "colab_type": "code",
        "colab": {
          "base_uri": "https://localhost:8080/",
          "height": 35
        },
        "outputId": "eff99b02-1112-4296-b0a0-0ceab30cf957"
      },
      "source": [
        "print(x.shape, y.shape)"
      ],
      "execution_count": 83,
      "outputs": [
        {
          "output_type": "stream",
          "text": [
            "(569, 30) (569,)\n"
          ],
          "name": "stdout"
        }
      ]
    },
    {
      "cell_type": "code",
      "metadata": {
        "id": "laQ9dgYRo0ZC",
        "colab_type": "code",
        "colab": {}
      },
      "source": [
        "data=pd.DataFrame(breast_cancer.data,columns=breast_cancer.feature_names)"
      ],
      "execution_count": 0,
      "outputs": []
    },
    {
      "cell_type": "code",
      "metadata": {
        "id": "9KumREDfpHAp",
        "colab_type": "code",
        "colab": {}
      },
      "source": [
        "data['output']=breast_cancer.target"
      ],
      "execution_count": 0,
      "outputs": []
    },
    {
      "cell_type": "code",
      "metadata": {
        "id": "k6frMa14pTpJ",
        "colab_type": "code",
        "colab": {
          "base_uri": "https://localhost:8080/",
          "height": 257
        },
        "outputId": "ad41b068-591b-49c8-dab4-57a3921febbb"
      },
      "source": [
        "data.head()"
      ],
      "execution_count": 86,
      "outputs": [
        {
          "output_type": "execute_result",
          "data": {
            "text/html": [
              "<div>\n",
              "<style scoped>\n",
              "    .dataframe tbody tr th:only-of-type {\n",
              "        vertical-align: middle;\n",
              "    }\n",
              "\n",
              "    .dataframe tbody tr th {\n",
              "        vertical-align: top;\n",
              "    }\n",
              "\n",
              "    .dataframe thead th {\n",
              "        text-align: right;\n",
              "    }\n",
              "</style>\n",
              "<table border=\"1\" class=\"dataframe\">\n",
              "  <thead>\n",
              "    <tr style=\"text-align: right;\">\n",
              "      <th></th>\n",
              "      <th>mean radius</th>\n",
              "      <th>mean texture</th>\n",
              "      <th>mean perimeter</th>\n",
              "      <th>mean area</th>\n",
              "      <th>mean smoothness</th>\n",
              "      <th>mean compactness</th>\n",
              "      <th>mean concavity</th>\n",
              "      <th>mean concave points</th>\n",
              "      <th>mean symmetry</th>\n",
              "      <th>mean fractal dimension</th>\n",
              "      <th>radius error</th>\n",
              "      <th>texture error</th>\n",
              "      <th>perimeter error</th>\n",
              "      <th>area error</th>\n",
              "      <th>smoothness error</th>\n",
              "      <th>compactness error</th>\n",
              "      <th>concavity error</th>\n",
              "      <th>concave points error</th>\n",
              "      <th>symmetry error</th>\n",
              "      <th>fractal dimension error</th>\n",
              "      <th>worst radius</th>\n",
              "      <th>worst texture</th>\n",
              "      <th>worst perimeter</th>\n",
              "      <th>worst area</th>\n",
              "      <th>worst smoothness</th>\n",
              "      <th>worst compactness</th>\n",
              "      <th>worst concavity</th>\n",
              "      <th>worst concave points</th>\n",
              "      <th>worst symmetry</th>\n",
              "      <th>worst fractal dimension</th>\n",
              "      <th>output</th>\n",
              "    </tr>\n",
              "  </thead>\n",
              "  <tbody>\n",
              "    <tr>\n",
              "      <th>0</th>\n",
              "      <td>17.99</td>\n",
              "      <td>10.38</td>\n",
              "      <td>122.80</td>\n",
              "      <td>1001.0</td>\n",
              "      <td>0.11840</td>\n",
              "      <td>0.27760</td>\n",
              "      <td>0.3001</td>\n",
              "      <td>0.14710</td>\n",
              "      <td>0.2419</td>\n",
              "      <td>0.07871</td>\n",
              "      <td>1.0950</td>\n",
              "      <td>0.9053</td>\n",
              "      <td>8.589</td>\n",
              "      <td>153.40</td>\n",
              "      <td>0.006399</td>\n",
              "      <td>0.04904</td>\n",
              "      <td>0.05373</td>\n",
              "      <td>0.01587</td>\n",
              "      <td>0.03003</td>\n",
              "      <td>0.006193</td>\n",
              "      <td>25.38</td>\n",
              "      <td>17.33</td>\n",
              "      <td>184.60</td>\n",
              "      <td>2019.0</td>\n",
              "      <td>0.1622</td>\n",
              "      <td>0.6656</td>\n",
              "      <td>0.7119</td>\n",
              "      <td>0.2654</td>\n",
              "      <td>0.4601</td>\n",
              "      <td>0.11890</td>\n",
              "      <td>0</td>\n",
              "    </tr>\n",
              "    <tr>\n",
              "      <th>1</th>\n",
              "      <td>20.57</td>\n",
              "      <td>17.77</td>\n",
              "      <td>132.90</td>\n",
              "      <td>1326.0</td>\n",
              "      <td>0.08474</td>\n",
              "      <td>0.07864</td>\n",
              "      <td>0.0869</td>\n",
              "      <td>0.07017</td>\n",
              "      <td>0.1812</td>\n",
              "      <td>0.05667</td>\n",
              "      <td>0.5435</td>\n",
              "      <td>0.7339</td>\n",
              "      <td>3.398</td>\n",
              "      <td>74.08</td>\n",
              "      <td>0.005225</td>\n",
              "      <td>0.01308</td>\n",
              "      <td>0.01860</td>\n",
              "      <td>0.01340</td>\n",
              "      <td>0.01389</td>\n",
              "      <td>0.003532</td>\n",
              "      <td>24.99</td>\n",
              "      <td>23.41</td>\n",
              "      <td>158.80</td>\n",
              "      <td>1956.0</td>\n",
              "      <td>0.1238</td>\n",
              "      <td>0.1866</td>\n",
              "      <td>0.2416</td>\n",
              "      <td>0.1860</td>\n",
              "      <td>0.2750</td>\n",
              "      <td>0.08902</td>\n",
              "      <td>0</td>\n",
              "    </tr>\n",
              "    <tr>\n",
              "      <th>2</th>\n",
              "      <td>19.69</td>\n",
              "      <td>21.25</td>\n",
              "      <td>130.00</td>\n",
              "      <td>1203.0</td>\n",
              "      <td>0.10960</td>\n",
              "      <td>0.15990</td>\n",
              "      <td>0.1974</td>\n",
              "      <td>0.12790</td>\n",
              "      <td>0.2069</td>\n",
              "      <td>0.05999</td>\n",
              "      <td>0.7456</td>\n",
              "      <td>0.7869</td>\n",
              "      <td>4.585</td>\n",
              "      <td>94.03</td>\n",
              "      <td>0.006150</td>\n",
              "      <td>0.04006</td>\n",
              "      <td>0.03832</td>\n",
              "      <td>0.02058</td>\n",
              "      <td>0.02250</td>\n",
              "      <td>0.004571</td>\n",
              "      <td>23.57</td>\n",
              "      <td>25.53</td>\n",
              "      <td>152.50</td>\n",
              "      <td>1709.0</td>\n",
              "      <td>0.1444</td>\n",
              "      <td>0.4245</td>\n",
              "      <td>0.4504</td>\n",
              "      <td>0.2430</td>\n",
              "      <td>0.3613</td>\n",
              "      <td>0.08758</td>\n",
              "      <td>0</td>\n",
              "    </tr>\n",
              "    <tr>\n",
              "      <th>3</th>\n",
              "      <td>11.42</td>\n",
              "      <td>20.38</td>\n",
              "      <td>77.58</td>\n",
              "      <td>386.1</td>\n",
              "      <td>0.14250</td>\n",
              "      <td>0.28390</td>\n",
              "      <td>0.2414</td>\n",
              "      <td>0.10520</td>\n",
              "      <td>0.2597</td>\n",
              "      <td>0.09744</td>\n",
              "      <td>0.4956</td>\n",
              "      <td>1.1560</td>\n",
              "      <td>3.445</td>\n",
              "      <td>27.23</td>\n",
              "      <td>0.009110</td>\n",
              "      <td>0.07458</td>\n",
              "      <td>0.05661</td>\n",
              "      <td>0.01867</td>\n",
              "      <td>0.05963</td>\n",
              "      <td>0.009208</td>\n",
              "      <td>14.91</td>\n",
              "      <td>26.50</td>\n",
              "      <td>98.87</td>\n",
              "      <td>567.7</td>\n",
              "      <td>0.2098</td>\n",
              "      <td>0.8663</td>\n",
              "      <td>0.6869</td>\n",
              "      <td>0.2575</td>\n",
              "      <td>0.6638</td>\n",
              "      <td>0.17300</td>\n",
              "      <td>0</td>\n",
              "    </tr>\n",
              "    <tr>\n",
              "      <th>4</th>\n",
              "      <td>20.29</td>\n",
              "      <td>14.34</td>\n",
              "      <td>135.10</td>\n",
              "      <td>1297.0</td>\n",
              "      <td>0.10030</td>\n",
              "      <td>0.13280</td>\n",
              "      <td>0.1980</td>\n",
              "      <td>0.10430</td>\n",
              "      <td>0.1809</td>\n",
              "      <td>0.05883</td>\n",
              "      <td>0.7572</td>\n",
              "      <td>0.7813</td>\n",
              "      <td>5.438</td>\n",
              "      <td>94.44</td>\n",
              "      <td>0.011490</td>\n",
              "      <td>0.02461</td>\n",
              "      <td>0.05688</td>\n",
              "      <td>0.01885</td>\n",
              "      <td>0.01756</td>\n",
              "      <td>0.005115</td>\n",
              "      <td>22.54</td>\n",
              "      <td>16.67</td>\n",
              "      <td>152.20</td>\n",
              "      <td>1575.0</td>\n",
              "      <td>0.1374</td>\n",
              "      <td>0.2050</td>\n",
              "      <td>0.4000</td>\n",
              "      <td>0.1625</td>\n",
              "      <td>0.2364</td>\n",
              "      <td>0.07678</td>\n",
              "      <td>0</td>\n",
              "    </tr>\n",
              "  </tbody>\n",
              "</table>\n",
              "</div>"
            ],
            "text/plain": [
              "   mean radius  mean texture  ...  worst fractal dimension  output\n",
              "0        17.99         10.38  ...                  0.11890       0\n",
              "1        20.57         17.77  ...                  0.08902       0\n",
              "2        19.69         21.25  ...                  0.08758       0\n",
              "3        11.42         20.38  ...                  0.17300       0\n",
              "4        20.29         14.34  ...                  0.07678       0\n",
              "\n",
              "[5 rows x 31 columns]"
            ]
          },
          "metadata": {
            "tags": []
          },
          "execution_count": 86
        }
      ]
    },
    {
      "cell_type": "code",
      "metadata": {
        "id": "rPPYdQfQpb37",
        "colab_type": "code",
        "colab": {
          "base_uri": "https://localhost:8080/",
          "height": 349
        },
        "outputId": "ca67c637-f86b-4de5-ed09-6be4e6238fd1"
      },
      "source": [
        "data.describe()"
      ],
      "execution_count": 87,
      "outputs": [
        {
          "output_type": "execute_result",
          "data": {
            "text/html": [
              "<div>\n",
              "<style scoped>\n",
              "    .dataframe tbody tr th:only-of-type {\n",
              "        vertical-align: middle;\n",
              "    }\n",
              "\n",
              "    .dataframe tbody tr th {\n",
              "        vertical-align: top;\n",
              "    }\n",
              "\n",
              "    .dataframe thead th {\n",
              "        text-align: right;\n",
              "    }\n",
              "</style>\n",
              "<table border=\"1\" class=\"dataframe\">\n",
              "  <thead>\n",
              "    <tr style=\"text-align: right;\">\n",
              "      <th></th>\n",
              "      <th>mean radius</th>\n",
              "      <th>mean texture</th>\n",
              "      <th>mean perimeter</th>\n",
              "      <th>mean area</th>\n",
              "      <th>mean smoothness</th>\n",
              "      <th>mean compactness</th>\n",
              "      <th>mean concavity</th>\n",
              "      <th>mean concave points</th>\n",
              "      <th>mean symmetry</th>\n",
              "      <th>mean fractal dimension</th>\n",
              "      <th>radius error</th>\n",
              "      <th>texture error</th>\n",
              "      <th>perimeter error</th>\n",
              "      <th>area error</th>\n",
              "      <th>smoothness error</th>\n",
              "      <th>compactness error</th>\n",
              "      <th>concavity error</th>\n",
              "      <th>concave points error</th>\n",
              "      <th>symmetry error</th>\n",
              "      <th>fractal dimension error</th>\n",
              "      <th>worst radius</th>\n",
              "      <th>worst texture</th>\n",
              "      <th>worst perimeter</th>\n",
              "      <th>worst area</th>\n",
              "      <th>worst smoothness</th>\n",
              "      <th>worst compactness</th>\n",
              "      <th>worst concavity</th>\n",
              "      <th>worst concave points</th>\n",
              "      <th>worst symmetry</th>\n",
              "      <th>worst fractal dimension</th>\n",
              "      <th>output</th>\n",
              "    </tr>\n",
              "  </thead>\n",
              "  <tbody>\n",
              "    <tr>\n",
              "      <th>count</th>\n",
              "      <td>569.000000</td>\n",
              "      <td>569.000000</td>\n",
              "      <td>569.000000</td>\n",
              "      <td>569.000000</td>\n",
              "      <td>569.000000</td>\n",
              "      <td>569.000000</td>\n",
              "      <td>569.000000</td>\n",
              "      <td>569.000000</td>\n",
              "      <td>569.000000</td>\n",
              "      <td>569.000000</td>\n",
              "      <td>569.000000</td>\n",
              "      <td>569.000000</td>\n",
              "      <td>569.000000</td>\n",
              "      <td>569.000000</td>\n",
              "      <td>569.000000</td>\n",
              "      <td>569.000000</td>\n",
              "      <td>569.000000</td>\n",
              "      <td>569.000000</td>\n",
              "      <td>569.000000</td>\n",
              "      <td>569.000000</td>\n",
              "      <td>569.000000</td>\n",
              "      <td>569.000000</td>\n",
              "      <td>569.000000</td>\n",
              "      <td>569.000000</td>\n",
              "      <td>569.000000</td>\n",
              "      <td>569.000000</td>\n",
              "      <td>569.000000</td>\n",
              "      <td>569.000000</td>\n",
              "      <td>569.000000</td>\n",
              "      <td>569.000000</td>\n",
              "      <td>569.000000</td>\n",
              "    </tr>\n",
              "    <tr>\n",
              "      <th>mean</th>\n",
              "      <td>14.127292</td>\n",
              "      <td>19.289649</td>\n",
              "      <td>91.969033</td>\n",
              "      <td>654.889104</td>\n",
              "      <td>0.096360</td>\n",
              "      <td>0.104341</td>\n",
              "      <td>0.088799</td>\n",
              "      <td>0.048919</td>\n",
              "      <td>0.181162</td>\n",
              "      <td>0.062798</td>\n",
              "      <td>0.405172</td>\n",
              "      <td>1.216853</td>\n",
              "      <td>2.866059</td>\n",
              "      <td>40.337079</td>\n",
              "      <td>0.007041</td>\n",
              "      <td>0.025478</td>\n",
              "      <td>0.031894</td>\n",
              "      <td>0.011796</td>\n",
              "      <td>0.020542</td>\n",
              "      <td>0.003795</td>\n",
              "      <td>16.269190</td>\n",
              "      <td>25.677223</td>\n",
              "      <td>107.261213</td>\n",
              "      <td>880.583128</td>\n",
              "      <td>0.132369</td>\n",
              "      <td>0.254265</td>\n",
              "      <td>0.272188</td>\n",
              "      <td>0.114606</td>\n",
              "      <td>0.290076</td>\n",
              "      <td>0.083946</td>\n",
              "      <td>0.627417</td>\n",
              "    </tr>\n",
              "    <tr>\n",
              "      <th>std</th>\n",
              "      <td>3.524049</td>\n",
              "      <td>4.301036</td>\n",
              "      <td>24.298981</td>\n",
              "      <td>351.914129</td>\n",
              "      <td>0.014064</td>\n",
              "      <td>0.052813</td>\n",
              "      <td>0.079720</td>\n",
              "      <td>0.038803</td>\n",
              "      <td>0.027414</td>\n",
              "      <td>0.007060</td>\n",
              "      <td>0.277313</td>\n",
              "      <td>0.551648</td>\n",
              "      <td>2.021855</td>\n",
              "      <td>45.491006</td>\n",
              "      <td>0.003003</td>\n",
              "      <td>0.017908</td>\n",
              "      <td>0.030186</td>\n",
              "      <td>0.006170</td>\n",
              "      <td>0.008266</td>\n",
              "      <td>0.002646</td>\n",
              "      <td>4.833242</td>\n",
              "      <td>6.146258</td>\n",
              "      <td>33.602542</td>\n",
              "      <td>569.356993</td>\n",
              "      <td>0.022832</td>\n",
              "      <td>0.157336</td>\n",
              "      <td>0.208624</td>\n",
              "      <td>0.065732</td>\n",
              "      <td>0.061867</td>\n",
              "      <td>0.018061</td>\n",
              "      <td>0.483918</td>\n",
              "    </tr>\n",
              "    <tr>\n",
              "      <th>min</th>\n",
              "      <td>6.981000</td>\n",
              "      <td>9.710000</td>\n",
              "      <td>43.790000</td>\n",
              "      <td>143.500000</td>\n",
              "      <td>0.052630</td>\n",
              "      <td>0.019380</td>\n",
              "      <td>0.000000</td>\n",
              "      <td>0.000000</td>\n",
              "      <td>0.106000</td>\n",
              "      <td>0.049960</td>\n",
              "      <td>0.111500</td>\n",
              "      <td>0.360200</td>\n",
              "      <td>0.757000</td>\n",
              "      <td>6.802000</td>\n",
              "      <td>0.001713</td>\n",
              "      <td>0.002252</td>\n",
              "      <td>0.000000</td>\n",
              "      <td>0.000000</td>\n",
              "      <td>0.007882</td>\n",
              "      <td>0.000895</td>\n",
              "      <td>7.930000</td>\n",
              "      <td>12.020000</td>\n",
              "      <td>50.410000</td>\n",
              "      <td>185.200000</td>\n",
              "      <td>0.071170</td>\n",
              "      <td>0.027290</td>\n",
              "      <td>0.000000</td>\n",
              "      <td>0.000000</td>\n",
              "      <td>0.156500</td>\n",
              "      <td>0.055040</td>\n",
              "      <td>0.000000</td>\n",
              "    </tr>\n",
              "    <tr>\n",
              "      <th>25%</th>\n",
              "      <td>11.700000</td>\n",
              "      <td>16.170000</td>\n",
              "      <td>75.170000</td>\n",
              "      <td>420.300000</td>\n",
              "      <td>0.086370</td>\n",
              "      <td>0.064920</td>\n",
              "      <td>0.029560</td>\n",
              "      <td>0.020310</td>\n",
              "      <td>0.161900</td>\n",
              "      <td>0.057700</td>\n",
              "      <td>0.232400</td>\n",
              "      <td>0.833900</td>\n",
              "      <td>1.606000</td>\n",
              "      <td>17.850000</td>\n",
              "      <td>0.005169</td>\n",
              "      <td>0.013080</td>\n",
              "      <td>0.015090</td>\n",
              "      <td>0.007638</td>\n",
              "      <td>0.015160</td>\n",
              "      <td>0.002248</td>\n",
              "      <td>13.010000</td>\n",
              "      <td>21.080000</td>\n",
              "      <td>84.110000</td>\n",
              "      <td>515.300000</td>\n",
              "      <td>0.116600</td>\n",
              "      <td>0.147200</td>\n",
              "      <td>0.114500</td>\n",
              "      <td>0.064930</td>\n",
              "      <td>0.250400</td>\n",
              "      <td>0.071460</td>\n",
              "      <td>0.000000</td>\n",
              "    </tr>\n",
              "    <tr>\n",
              "      <th>50%</th>\n",
              "      <td>13.370000</td>\n",
              "      <td>18.840000</td>\n",
              "      <td>86.240000</td>\n",
              "      <td>551.100000</td>\n",
              "      <td>0.095870</td>\n",
              "      <td>0.092630</td>\n",
              "      <td>0.061540</td>\n",
              "      <td>0.033500</td>\n",
              "      <td>0.179200</td>\n",
              "      <td>0.061540</td>\n",
              "      <td>0.324200</td>\n",
              "      <td>1.108000</td>\n",
              "      <td>2.287000</td>\n",
              "      <td>24.530000</td>\n",
              "      <td>0.006380</td>\n",
              "      <td>0.020450</td>\n",
              "      <td>0.025890</td>\n",
              "      <td>0.010930</td>\n",
              "      <td>0.018730</td>\n",
              "      <td>0.003187</td>\n",
              "      <td>14.970000</td>\n",
              "      <td>25.410000</td>\n",
              "      <td>97.660000</td>\n",
              "      <td>686.500000</td>\n",
              "      <td>0.131300</td>\n",
              "      <td>0.211900</td>\n",
              "      <td>0.226700</td>\n",
              "      <td>0.099930</td>\n",
              "      <td>0.282200</td>\n",
              "      <td>0.080040</td>\n",
              "      <td>1.000000</td>\n",
              "    </tr>\n",
              "    <tr>\n",
              "      <th>75%</th>\n",
              "      <td>15.780000</td>\n",
              "      <td>21.800000</td>\n",
              "      <td>104.100000</td>\n",
              "      <td>782.700000</td>\n",
              "      <td>0.105300</td>\n",
              "      <td>0.130400</td>\n",
              "      <td>0.130700</td>\n",
              "      <td>0.074000</td>\n",
              "      <td>0.195700</td>\n",
              "      <td>0.066120</td>\n",
              "      <td>0.478900</td>\n",
              "      <td>1.474000</td>\n",
              "      <td>3.357000</td>\n",
              "      <td>45.190000</td>\n",
              "      <td>0.008146</td>\n",
              "      <td>0.032450</td>\n",
              "      <td>0.042050</td>\n",
              "      <td>0.014710</td>\n",
              "      <td>0.023480</td>\n",
              "      <td>0.004558</td>\n",
              "      <td>18.790000</td>\n",
              "      <td>29.720000</td>\n",
              "      <td>125.400000</td>\n",
              "      <td>1084.000000</td>\n",
              "      <td>0.146000</td>\n",
              "      <td>0.339100</td>\n",
              "      <td>0.382900</td>\n",
              "      <td>0.161400</td>\n",
              "      <td>0.317900</td>\n",
              "      <td>0.092080</td>\n",
              "      <td>1.000000</td>\n",
              "    </tr>\n",
              "    <tr>\n",
              "      <th>max</th>\n",
              "      <td>28.110000</td>\n",
              "      <td>39.280000</td>\n",
              "      <td>188.500000</td>\n",
              "      <td>2501.000000</td>\n",
              "      <td>0.163400</td>\n",
              "      <td>0.345400</td>\n",
              "      <td>0.426800</td>\n",
              "      <td>0.201200</td>\n",
              "      <td>0.304000</td>\n",
              "      <td>0.097440</td>\n",
              "      <td>2.873000</td>\n",
              "      <td>4.885000</td>\n",
              "      <td>21.980000</td>\n",
              "      <td>542.200000</td>\n",
              "      <td>0.031130</td>\n",
              "      <td>0.135400</td>\n",
              "      <td>0.396000</td>\n",
              "      <td>0.052790</td>\n",
              "      <td>0.078950</td>\n",
              "      <td>0.029840</td>\n",
              "      <td>36.040000</td>\n",
              "      <td>49.540000</td>\n",
              "      <td>251.200000</td>\n",
              "      <td>4254.000000</td>\n",
              "      <td>0.222600</td>\n",
              "      <td>1.058000</td>\n",
              "      <td>1.252000</td>\n",
              "      <td>0.291000</td>\n",
              "      <td>0.663800</td>\n",
              "      <td>0.207500</td>\n",
              "      <td>1.000000</td>\n",
              "    </tr>\n",
              "  </tbody>\n",
              "</table>\n",
              "</div>"
            ],
            "text/plain": [
              "       mean radius  mean texture  ...  worst fractal dimension      output\n",
              "count   569.000000    569.000000  ...               569.000000  569.000000\n",
              "mean     14.127292     19.289649  ...                 0.083946    0.627417\n",
              "std       3.524049      4.301036  ...                 0.018061    0.483918\n",
              "min       6.981000      9.710000  ...                 0.055040    0.000000\n",
              "25%      11.700000     16.170000  ...                 0.071460    0.000000\n",
              "50%      13.370000     18.840000  ...                 0.080040    1.000000\n",
              "75%      15.780000     21.800000  ...                 0.092080    1.000000\n",
              "max      28.110000     39.280000  ...                 0.207500    1.000000\n",
              "\n",
              "[8 rows x 31 columns]"
            ]
          },
          "metadata": {
            "tags": []
          },
          "execution_count": 87
        }
      ]
    },
    {
      "cell_type": "code",
      "metadata": {
        "id": "MtuQYrklpiFM",
        "colab_type": "code",
        "colab": {
          "base_uri": "https://localhost:8080/",
          "height": 69
        },
        "outputId": "9fd32f01-29c6-4cda-e72c-7944c6155890"
      },
      "source": [
        "data['output'].value_counts()"
      ],
      "execution_count": 88,
      "outputs": [
        {
          "output_type": "execute_result",
          "data": {
            "text/plain": [
              "1    357\n",
              "0    212\n",
              "Name: output, dtype: int64"
            ]
          },
          "metadata": {
            "tags": []
          },
          "execution_count": 88
        }
      ]
    },
    {
      "cell_type": "code",
      "metadata": {
        "id": "Bw0hjdmcpr0V",
        "colab_type": "code",
        "colab": {
          "base_uri": "https://localhost:8080/",
          "height": 35
        },
        "outputId": "a2e447ec-5fc3-4615-c21e-c0e95a3b0c9a"
      },
      "source": [
        "print(breast_cancer.target_names)"
      ],
      "execution_count": 89,
      "outputs": [
        {
          "output_type": "stream",
          "text": [
            "['malignant' 'benign']\n"
          ],
          "name": "stdout"
        }
      ]
    },
    {
      "cell_type": "code",
      "metadata": {
        "id": "51EBbmc5pw83",
        "colab_type": "code",
        "colab": {
          "base_uri": "https://localhost:8080/",
          "height": 195
        },
        "outputId": "704aae18-5837-4ab3-b337-4270a4e61af7"
      },
      "source": [
        "data.groupby(['output']).mean()"
      ],
      "execution_count": 90,
      "outputs": [
        {
          "output_type": "execute_result",
          "data": {
            "text/html": [
              "<div>\n",
              "<style scoped>\n",
              "    .dataframe tbody tr th:only-of-type {\n",
              "        vertical-align: middle;\n",
              "    }\n",
              "\n",
              "    .dataframe tbody tr th {\n",
              "        vertical-align: top;\n",
              "    }\n",
              "\n",
              "    .dataframe thead th {\n",
              "        text-align: right;\n",
              "    }\n",
              "</style>\n",
              "<table border=\"1\" class=\"dataframe\">\n",
              "  <thead>\n",
              "    <tr style=\"text-align: right;\">\n",
              "      <th></th>\n",
              "      <th>mean radius</th>\n",
              "      <th>mean texture</th>\n",
              "      <th>mean perimeter</th>\n",
              "      <th>mean area</th>\n",
              "      <th>mean smoothness</th>\n",
              "      <th>mean compactness</th>\n",
              "      <th>mean concavity</th>\n",
              "      <th>mean concave points</th>\n",
              "      <th>mean symmetry</th>\n",
              "      <th>mean fractal dimension</th>\n",
              "      <th>radius error</th>\n",
              "      <th>texture error</th>\n",
              "      <th>perimeter error</th>\n",
              "      <th>area error</th>\n",
              "      <th>smoothness error</th>\n",
              "      <th>compactness error</th>\n",
              "      <th>concavity error</th>\n",
              "      <th>concave points error</th>\n",
              "      <th>symmetry error</th>\n",
              "      <th>fractal dimension error</th>\n",
              "      <th>worst radius</th>\n",
              "      <th>worst texture</th>\n",
              "      <th>worst perimeter</th>\n",
              "      <th>worst area</th>\n",
              "      <th>worst smoothness</th>\n",
              "      <th>worst compactness</th>\n",
              "      <th>worst concavity</th>\n",
              "      <th>worst concave points</th>\n",
              "      <th>worst symmetry</th>\n",
              "      <th>worst fractal dimension</th>\n",
              "    </tr>\n",
              "    <tr>\n",
              "      <th>output</th>\n",
              "      <th></th>\n",
              "      <th></th>\n",
              "      <th></th>\n",
              "      <th></th>\n",
              "      <th></th>\n",
              "      <th></th>\n",
              "      <th></th>\n",
              "      <th></th>\n",
              "      <th></th>\n",
              "      <th></th>\n",
              "      <th></th>\n",
              "      <th></th>\n",
              "      <th></th>\n",
              "      <th></th>\n",
              "      <th></th>\n",
              "      <th></th>\n",
              "      <th></th>\n",
              "      <th></th>\n",
              "      <th></th>\n",
              "      <th></th>\n",
              "      <th></th>\n",
              "      <th></th>\n",
              "      <th></th>\n",
              "      <th></th>\n",
              "      <th></th>\n",
              "      <th></th>\n",
              "      <th></th>\n",
              "      <th></th>\n",
              "      <th></th>\n",
              "      <th></th>\n",
              "    </tr>\n",
              "  </thead>\n",
              "  <tbody>\n",
              "    <tr>\n",
              "      <th>0</th>\n",
              "      <td>17.462830</td>\n",
              "      <td>21.604906</td>\n",
              "      <td>115.365377</td>\n",
              "      <td>978.376415</td>\n",
              "      <td>0.102898</td>\n",
              "      <td>0.145188</td>\n",
              "      <td>0.160775</td>\n",
              "      <td>0.087990</td>\n",
              "      <td>0.192909</td>\n",
              "      <td>0.062680</td>\n",
              "      <td>0.609083</td>\n",
              "      <td>1.210915</td>\n",
              "      <td>4.323929</td>\n",
              "      <td>72.672406</td>\n",
              "      <td>0.006780</td>\n",
              "      <td>0.032281</td>\n",
              "      <td>0.041824</td>\n",
              "      <td>0.015060</td>\n",
              "      <td>0.020472</td>\n",
              "      <td>0.004062</td>\n",
              "      <td>21.134811</td>\n",
              "      <td>29.318208</td>\n",
              "      <td>141.370330</td>\n",
              "      <td>1422.286321</td>\n",
              "      <td>0.144845</td>\n",
              "      <td>0.374824</td>\n",
              "      <td>0.450606</td>\n",
              "      <td>0.182237</td>\n",
              "      <td>0.323468</td>\n",
              "      <td>0.091530</td>\n",
              "    </tr>\n",
              "    <tr>\n",
              "      <th>1</th>\n",
              "      <td>12.146524</td>\n",
              "      <td>17.914762</td>\n",
              "      <td>78.075406</td>\n",
              "      <td>462.790196</td>\n",
              "      <td>0.092478</td>\n",
              "      <td>0.080085</td>\n",
              "      <td>0.046058</td>\n",
              "      <td>0.025717</td>\n",
              "      <td>0.174186</td>\n",
              "      <td>0.062867</td>\n",
              "      <td>0.284082</td>\n",
              "      <td>1.220380</td>\n",
              "      <td>2.000321</td>\n",
              "      <td>21.135148</td>\n",
              "      <td>0.007196</td>\n",
              "      <td>0.021438</td>\n",
              "      <td>0.025997</td>\n",
              "      <td>0.009858</td>\n",
              "      <td>0.020584</td>\n",
              "      <td>0.003636</td>\n",
              "      <td>13.379801</td>\n",
              "      <td>23.515070</td>\n",
              "      <td>87.005938</td>\n",
              "      <td>558.899440</td>\n",
              "      <td>0.124959</td>\n",
              "      <td>0.182673</td>\n",
              "      <td>0.166238</td>\n",
              "      <td>0.074444</td>\n",
              "      <td>0.270246</td>\n",
              "      <td>0.079442</td>\n",
              "    </tr>\n",
              "  </tbody>\n",
              "</table>\n",
              "</div>"
            ],
            "text/plain": [
              "        mean radius  mean texture  ...  worst symmetry  worst fractal dimension\n",
              "output                             ...                                         \n",
              "0         17.462830     21.604906  ...        0.323468                 0.091530\n",
              "1         12.146524     17.914762  ...        0.270246                 0.079442\n",
              "\n",
              "[2 rows x 30 columns]"
            ]
          },
          "metadata": {
            "tags": []
          },
          "execution_count": 90
        }
      ]
    },
    {
      "cell_type": "markdown",
      "metadata": {
        "id": "kNpO8YqYqpoe",
        "colab_type": "text"
      },
      "source": [
        "# Train Test Split"
      ]
    },
    {
      "cell_type": "code",
      "metadata": {
        "id": "kgNbkhqop9JD",
        "colab_type": "code",
        "colab": {}
      },
      "source": [
        "from sklearn.model_selection import train_test_split"
      ],
      "execution_count": 0,
      "outputs": []
    },
    {
      "cell_type": "code",
      "metadata": {
        "id": "hpdUJ1O7qjUj",
        "colab_type": "code",
        "colab": {}
      },
      "source": [
        "x=data.drop('output',axis=1)\n",
        "y=data['output']"
      ],
      "execution_count": 0,
      "outputs": []
    },
    {
      "cell_type": "code",
      "metadata": {
        "id": "V2dQRiP8rFus",
        "colab_type": "code",
        "colab": {
          "base_uri": "https://localhost:8080/",
          "height": 35
        },
        "outputId": "6988a817-3be5-4e81-def5-1ee99e21ade4"
      },
      "source": [
        "type(x)"
      ],
      "execution_count": 93,
      "outputs": [
        {
          "output_type": "execute_result",
          "data": {
            "text/plain": [
              "pandas.core.frame.DataFrame"
            ]
          },
          "metadata": {
            "tags": []
          },
          "execution_count": 93
        }
      ]
    },
    {
      "cell_type": "code",
      "metadata": {
        "id": "Vcv7I9IErLae",
        "colab_type": "code",
        "colab": {
          "base_uri": "https://localhost:8080/",
          "height": 35
        },
        "outputId": "7b2e1326-c9b4-4f0c-cc20-c63c2f18532c"
      },
      "source": [
        "type(y)"
      ],
      "execution_count": 94,
      "outputs": [
        {
          "output_type": "execute_result",
          "data": {
            "text/plain": [
              "pandas.core.series.Series"
            ]
          },
          "metadata": {
            "tags": []
          },
          "execution_count": 94
        }
      ]
    },
    {
      "cell_type": "code",
      "metadata": {
        "id": "kKCqFA47rMbw",
        "colab_type": "code",
        "colab": {
          "base_uri": "https://localhost:8080/",
          "height": 87
        },
        "outputId": "7cf776bd-667f-4a04-8c0e-212471a4a44a"
      },
      "source": [
        "x_train,x_test,y_train,y_test=train_test_split(x,y)\n",
        "print(x_train.shape)\n",
        "print(x_test.shape)\n",
        "print(y_train.shape)\n",
        "print(y_test.shape)"
      ],
      "execution_count": 95,
      "outputs": [
        {
          "output_type": "stream",
          "text": [
            "(426, 30)\n",
            "(143, 30)\n",
            "(426,)\n",
            "(143,)\n"
          ],
          "name": "stdout"
        }
      ]
    },
    {
      "cell_type": "code",
      "metadata": {
        "id": "E5p111LErfaw",
        "colab_type": "code",
        "colab": {
          "base_uri": "https://localhost:8080/",
          "height": 87
        },
        "outputId": "8e8ec019-95a1-47b6-b785-b32e92c743f0"
      },
      "source": [
        "x_train,x_test,y_train,y_test=train_test_split(x,y,test_size=0.1)\n",
        "print(x_train.shape)\n",
        "print(x_test.shape)\n",
        "print(y_train.shape)\n",
        "print(y_test.shape)"
      ],
      "execution_count": 96,
      "outputs": [
        {
          "output_type": "stream",
          "text": [
            "(512, 30)\n",
            "(57, 30)\n",
            "(512,)\n",
            "(57,)\n"
          ],
          "name": "stdout"
        }
      ]
    },
    {
      "cell_type": "code",
      "metadata": {
        "id": "5A4cR8WFrvfr",
        "colab_type": "code",
        "colab": {
          "base_uri": "https://localhost:8080/",
          "height": 35
        },
        "outputId": "5c22ba94-e164-48cf-8b24-93b81149f18b"
      },
      "source": [
        "print(y.mean(),y_train.mean(),y_test.mean())"
      ],
      "execution_count": 97,
      "outputs": [
        {
          "output_type": "stream",
          "text": [
            "0.6274165202108963 0.6328125 0.5789473684210527\n"
          ],
          "name": "stdout"
        }
      ]
    },
    {
      "cell_type": "code",
      "metadata": {
        "id": "7_ZK1uUAr_ry",
        "colab_type": "code",
        "colab": {
          "base_uri": "https://localhost:8080/",
          "height": 104
        },
        "outputId": "a58fc1c4-290b-4349-a2b7-1da0c92f88ab"
      },
      "source": [
        "x_train,x_test,y_train,y_test=train_test_split(x,y,test_size=0.1,stratify=y)\n",
        "print(x_train.shape)\n",
        "print(x_test.shape)\n",
        "print(y_train.shape)\n",
        "print(y_test.shape)\n",
        "print(y.mean(),y_train.mean(),y_test.mean())"
      ],
      "execution_count": 98,
      "outputs": [
        {
          "output_type": "stream",
          "text": [
            "(512, 30)\n",
            "(57, 30)\n",
            "(512,)\n",
            "(57,)\n",
            "0.6274165202108963 0.626953125 0.631578947368421\n"
          ],
          "name": "stdout"
        }
      ]
    },
    {
      "cell_type": "code",
      "metadata": {
        "id": "ZtJ5Zj6bsRVK",
        "colab_type": "code",
        "colab": {
          "base_uri": "https://localhost:8080/",
          "height": 104
        },
        "outputId": "9fefa83c-56c6-4c9e-ccd8-14f259ef5b50"
      },
      "source": [
        "x_train,x_test,y_train,y_test=train_test_split(x,y,test_size=0.1,stratify=y,random_state=100)\n",
        "print(x_train.shape)\n",
        "print(x_test.shape)\n",
        "print(y_train.shape)\n",
        "print(y_test.shape)\n",
        "print(y.mean(),y_train.mean(),y_test.mean())"
      ],
      "execution_count": 99,
      "outputs": [
        {
          "output_type": "stream",
          "text": [
            "(512, 30)\n",
            "(57, 30)\n",
            "(512,)\n",
            "(57,)\n",
            "0.6274165202108963 0.626953125 0.631578947368421\n"
          ],
          "name": "stdout"
        }
      ]
    },
    {
      "cell_type": "code",
      "metadata": {
        "id": "ARCSI4xWsycp",
        "colab_type": "code",
        "colab": {}
      },
      "source": [
        ""
      ],
      "execution_count": 0,
      "outputs": []
    },
    {
      "cell_type": "markdown",
      "metadata": {
        "id": "NjrxW0Dgs6Xp",
        "colab_type": "text"
      },
      "source": [
        "# Binarisation"
      ]
    },
    {
      "cell_type": "code",
      "metadata": {
        "id": "UDfj7pcls8yF",
        "colab_type": "code",
        "colab": {}
      },
      "source": [
        "import matplotlib.pyplot as plt"
      ],
      "execution_count": 0,
      "outputs": []
    },
    {
      "cell_type": "code",
      "metadata": {
        "id": "6vCNhF2Jtjkq",
        "colab_type": "code",
        "colab": {
          "base_uri": "https://localhost:8080/",
          "height": 269
        },
        "outputId": "6ece3b87-e380-4fb0-8bff-a6b773a90288"
      },
      "source": [
        "plt.plot(x_train,'*')\n",
        "plt.show()"
      ],
      "execution_count": 101,
      "outputs": [
        {
          "output_type": "display_data",
          "data": {
            "image/png": "[encoded data removed]",
            "text/plain": [
              "<Figure size 432x288 with 1 Axes>"
            ]
          },
          "metadata": {
            "tags": []
          }
        }
      ]
    },
    {
      "cell_type": "code",
      "metadata": {
        "id": "nxppTAS6tqrD",
        "colab_type": "code",
        "colab": {
          "base_uri": "https://localhost:8080/",
          "height": 377
        },
        "outputId": "6ff74eb6-35c8-4a94-fb9b-93b44d25ee63"
      },
      "source": [
        "plt.plot(x_train.T,'*')\n",
        "plt.xticks(rotation='vertical')\n",
        "plt.show()"
      ],
      "execution_count": 102,
      "outputs": [
        {
          "output_type": "display_data",
          "data": {
            "image/png": "[encoded data removed]",
            "text/plain": [
              "<Figure size 432x288 with 1 Axes>"
            ]
          },
          "metadata": {
            "tags": []
          }
        }
      ]
    },
    {
      "cell_type": "code",
      "metadata": {
        "id": "pa6CR00Mt7v5",
        "colab_type": "code",
        "colab": {}
      },
      "source": [
        "x_binary_3_train=x_train['mean area'].map(lambda x: 1 if x >1000 else 0  )"
      ],
      "execution_count": 0,
      "outputs": []
    },
    {
      "cell_type": "code",
      "metadata": {
        "id": "WfYzzWA0u1-B",
        "colab_type": "code",
        "colab": {
          "base_uri": "https://localhost:8080/",
          "height": 377
        },
        "outputId": "993888dd-7481-47cd-87f5-da3c4559965b"
      },
      "source": [
        "plt.plot(x_test.T,'*')\n",
        "plt.xticks(rotation='vertical')\n",
        "plt.show()"
      ],
      "execution_count": 104,
      "outputs": [
        {
          "output_type": "display_data",
          "data": {
            "image/png": "[encoded data removed]",
            "text/plain": [
              "<Figure size 432x288 with 1 Axes>"
            ]
          },
          "metadata": {
            "tags": []
          }
        }
      ]
    },
    {
      "cell_type": "code",
      "metadata": {
        "id": "SbS8Tp3mvC95",
        "colab_type": "code",
        "colab": {}
      },
      "source": [
        "x_binary_train=x_train.apply(pd.cut,bins=2,labels=[1,0])"
      ],
      "execution_count": 0,
      "outputs": []
    },
    {
      "cell_type": "code",
      "metadata": {
        "id": "XfBO6xIlv_5q",
        "colab_type": "code",
        "colab": {
          "base_uri": "https://localhost:8080/",
          "height": 377
        },
        "outputId": "53bedc9f-ca77-4061-e055-066cb5d6050a"
      },
      "source": [
        "plt.plot(x_binary_train.T,'*')\n",
        "plt.xticks(rotation='vertical')\n",
        "plt.show()"
      ],
      "execution_count": 106,
      "outputs": [
        {
          "output_type": "display_data",
          "data": {
            "image/png": "[encoded data removed]",
            "text/plain": [
              "<Figure size 432x288 with 1 Axes>"
            ]
          },
          "metadata": {
            "tags": []
          }
        }
      ]
    },
    {
      "cell_type": "code",
      "metadata": {
        "id": "JtjMoekgwKAS",
        "colab_type": "code",
        "colab": {
          "base_uri": "https://localhost:8080/",
          "height": 377
        },
        "outputId": "c227db3c-b8a2-43d9-8ccc-e1cd89b71b30"
      },
      "source": [
        "x_binary_test=x_test.apply(pd.cut,bins=2,labels=[0,1])\n",
        "plt.plot(x_binary_test.T,'*')\n",
        "plt.xticks(rotation='vertical')\n",
        "plt.show()"
      ],
      "execution_count": 107,
      "outputs": [
        {
          "output_type": "display_data",
          "data": {
            "image/png": "[encoded data removed]",
            "text/plain": [
              "<Figure size 432x288 with 1 Axes>"
            ]
          },
          "metadata": {
            "tags": []
          }
        }
      ]
    },
    {
      "cell_type": "code",
      "metadata": {
        "id": "I0-cEYkawbUY",
        "colab_type": "code",
        "colab": {}
      },
      "source": [
        "x_b_train=x_binary_train.values\n",
        "x_b_test=x_binary_test.values"
      ],
      "execution_count": 0,
      "outputs": []
    },
    {
      "cell_type": "code",
      "metadata": {
        "id": "dVk_D2muwj-4",
        "colab_type": "code",
        "colab": {}
      },
      "source": [
        "import numpy as np"
      ],
      "execution_count": 0,
      "outputs": []
    },
    {
      "cell_type": "markdown",
      "metadata": {
        "id": "DR_9w28hx6Mf",
        "colab_type": "text"
      },
      "source": [
        "# NP Neuron Model"
      ]
    },
    {
      "cell_type": "code",
      "metadata": {
        "id": "mWShZIVhx9aw",
        "colab_type": "code",
        "colab": {
          "base_uri": "https://localhost:8080/",
          "height": 52
        },
        "outputId": "1ac0fed4-a5ba-42b0-c5d0-61b1fbdb7e96"
      },
      "source": [
        "b=3\n",
        "\n",
        "i=100\n",
        "\n",
        "if(np.sum(x_b_train[100,:]) >= b ):\n",
        "  print(\"NP Neuron Inference is malignent\")\n",
        "else: \n",
        "  print(\"NP Neuron Inference is benign\")\n",
        "  \n",
        "if (y_train[i]==1):\n",
        "  print(\"Ground truth is malignent\")\n",
        "else:\n",
        "  print(\"Ground truth is benign\")\n",
        "\n"
      ],
      "execution_count": 110,
      "outputs": [
        {
          "output_type": "stream",
          "text": [
            "NP Neuron Inference is malignent\n",
            "Ground truth is benign\n"
          ],
          "name": "stdout"
        }
      ]
    },
    {
      "cell_type": "code",
      "metadata": {
        "id": "_bsttjtKy462",
        "colab_type": "code",
        "colab": {
          "base_uri": "https://localhost:8080/",
          "height": 35
        },
        "outputId": "e34b21c5-92af-4a06-888d-53e4b7854fcd"
      },
      "source": [
        "b=3\n",
        "y_pred_train=[]\n",
        "accuracy=0\n",
        "\n",
        "for x , y in zip(x_b_train,y_train):\n",
        "  y_pred=(np.sum(x) > b)\n",
        "  y_pred_train.append(y_pred)\n",
        "  accuracy += (y==y_pred)\n",
        "  \n",
        "print(accuracy, accuracy/x_b_train.shape[0])\n",
        "  "
      ],
      "execution_count": 111,
      "outputs": [
        {
          "output_type": "stream",
          "text": [
            "321 0.626953125\n"
          ],
          "name": "stdout"
        }
      ]
    },
    {
      "cell_type": "code",
      "metadata": {
        "id": "74AT-wEX_Lwg",
        "colab_type": "code",
        "colab": {
          "base_uri": "https://localhost:8080/",
          "height": 555
        },
        "outputId": "6ddee929-1cb7-455b-ad7a-a11c8ce3d6d8"
      },
      "source": [
        "for b in range(x_b_train.shape[1]+1):\n",
        "  y_pred_train=[]\n",
        "  accuracy=0\n",
        "\n",
        "  for x , y in zip(x_b_train,y_train):\n",
        "    y_pred=(np.sum(x) > b)\n",
        "    y_pred_train.append(y_pred)\n",
        "    accuracy += (y==y_pred)\n",
        "\n",
        "  print(b, accuracy, accuracy/x_b_train.shape[0])\n",
        "  "
      ],
      "execution_count": 112,
      "outputs": [
        {
          "output_type": "stream",
          "text": [
            "0 321 0.626953125\n",
            "1 321 0.626953125\n",
            "2 321 0.626953125\n",
            "3 321 0.626953125\n",
            "4 321 0.626953125\n",
            "5 321 0.626953125\n",
            "6 321 0.626953125\n",
            "7 321 0.626953125\n",
            "8 321 0.626953125\n",
            "9 321 0.626953125\n",
            "10 321 0.626953125\n",
            "11 321 0.626953125\n",
            "12 321 0.626953125\n",
            "13 324 0.6328125\n",
            "14 325 0.634765625\n",
            "15 329 0.642578125\n",
            "16 334 0.65234375\n",
            "17 338 0.66015625\n",
            "18 341 0.666015625\n",
            "19 345 0.673828125\n",
            "20 355 0.693359375\n",
            "21 364 0.7109375\n",
            "22 375 0.732421875\n",
            "23 396 0.7734375\n",
            "24 408 0.796875\n",
            "25 423 0.826171875\n",
            "26 441 0.861328125\n",
            "27 444 0.8671875\n",
            "28 429 0.837890625\n",
            "29 386 0.75390625\n",
            "30 191 0.373046875\n"
          ],
          "name": "stdout"
        }
      ]
    },
    {
      "cell_type": "code",
      "metadata": {
        "id": "PeKPJJeRDgNg",
        "colab_type": "code",
        "colab": {}
      },
      "source": [
        "from sklearn.metrics import accuracy_score"
      ],
      "execution_count": 0,
      "outputs": []
    },
    {
      "cell_type": "code",
      "metadata": {
        "id": "XEFWgRhlAJ52",
        "colab_type": "code",
        "colab": {
          "base_uri": "https://localhost:8080/",
          "height": 35
        },
        "outputId": "00d8fc1f-ef78-463a-8a09-b7d2f000ff4a"
      },
      "source": [
        "y_pred_test=[]\n",
        "b=28\n",
        "for x in zip(x_b_test):\n",
        "    y_pred=(np.sum(x) > b)\n",
        "    y_pred_test.append(y_pred)\n",
        "\n",
        "accuracy = accuracy_score(y_pred_test,y_test)\n",
        "print(b, accuracy)\n",
        "  "
      ],
      "execution_count": 114,
      "outputs": [
        {
          "output_type": "stream",
          "text": [
            "28 0.3684210526315789\n"
          ],
          "name": "stdout"
        }
      ]
    },
    {
      "cell_type": "code",
      "metadata": {
        "id": "WnmXhBUdEZHM",
        "colab_type": "code",
        "colab": {}
      },
      "source": [
        ""
      ],
      "execution_count": 0,
      "outputs": []
    },
    {
      "cell_type": "markdown",
      "metadata": {
        "id": "g0-Juu_LFgvT",
        "colab_type": "text"
      },
      "source": [
        "# NP Neuron Class"
      ]
    },
    {
      "cell_type": "code",
      "metadata": {
        "id": "rQCqbt3UFjNs",
        "colab_type": "code",
        "colab": {}
      },
      "source": [
        "class NPNeuron:\n",
        "  def __init__(self):\n",
        "    self.b=0\n",
        "    \n",
        "  def model(self,x):\n",
        "    return sum(x)>= self.b\n",
        "  \n",
        "  def predict(self,x):\n",
        "    y=[]\n",
        "    for i in x:\n",
        "      result= self.model(i)\n",
        "      y.append(result)\n",
        "    return np.array(y)\n",
        "  \n",
        "  def fit(self,x,y):\n",
        "    accuracy={}\n",
        "    for b in range(x.shape[1]+1):\n",
        "      self.b=b\n",
        "      y_pred=self.predict(x)\n",
        "      accuracy[b]=accuracy_score(y_pred,y)\n",
        "      \n",
        "    best_b=max(accuracy,key=accuracy.get)\n",
        "    self.b=best_b\n",
        "    \n",
        "    print(\"Best value of accuracy is for \",best_b)\n",
        "    print(\"best accurarcy is \", accuracy[best_b])"
      ],
      "execution_count": 0,
      "outputs": []
    },
    {
      "cell_type": "code",
      "metadata": {
        "id": "Im-P4ZCKGdql",
        "colab_type": "code",
        "colab": {
          "base_uri": "https://localhost:8080/",
          "height": 52
        },
        "outputId": "51fdf48b-d8dc-4e20-908b-3e5e4d5a6bfe"
      },
      "source": [
        "npneuron=NPNeuron()\n",
        "\n",
        "npneuron.fit(x_b_train,y_train)"
      ],
      "execution_count": 116,
      "outputs": [
        {
          "output_type": "stream",
          "text": [
            "Best value of accuracy is for  28\n",
            "best accurarcy is  0.8671875\n"
          ],
          "name": "stdout"
        }
      ]
    },
    {
      "cell_type": "code",
      "metadata": {
        "id": "mhC3JnGiJKtE",
        "colab_type": "code",
        "colab": {
          "base_uri": "https://localhost:8080/",
          "height": 35
        },
        "outputId": "14adf3a4-67f9-45cd-81c2-b98c4e53073d"
      },
      "source": [
        "y_pred=npneuron.predict(x_b_test)\n",
        "a_test=accuracy_score(y_pred,y_test)\n",
        "print(a_test)"
      ],
      "execution_count": 117,
      "outputs": [
        {
          "output_type": "stream",
          "text": [
            "0.3684210526315789\n"
          ],
          "name": "stdout"
        }
      ]
    },
    {
      "cell_type": "code",
      "metadata": {
        "id": "sq7kVxP0K3C7",
        "colab_type": "code",
        "colab": {}
      },
      "source": [
        ""
      ],
      "execution_count": 0,
      "outputs": []
    },
    {
      "cell_type": "markdown",
      "metadata": {
        "id": "ulry3_los23e",
        "colab_type": "text"
      },
      "source": [
        "# Perceptron Model"
      ]
    },
    {
      "cell_type": "code",
      "metadata": {
        "id": "N90NH4ejxDY0",
        "colab_type": "code",
        "colab": {}
      },
      "source": [
        "x_train= x_train.values\n",
        "x_test=x_test.values"
      ],
      "execution_count": 0,
      "outputs": []
    },
    {
      "cell_type": "code",
      "metadata": {
        "id": "bg9qH2IQs50G",
        "colab_type": "code",
        "colab": {}
      },
      "source": [
        "class Perceptron: \n",
        "  def __init__(self):\n",
        "    self.w=None\n",
        "    self.b=None\n",
        "    \n",
        "  def model(self,x):\n",
        "    return 1 if (np.dot(self.w,x)>= self.b) else 0\n",
        "    \n",
        "  def predict(self, x):\n",
        "    y=[]\n",
        "    for i in x: \n",
        "      result=self.model(i)\n",
        "      y.append(result)\n",
        "    return np.array(y)\n",
        "      \n",
        "      \n",
        "  def fit(self,x,y,epochs=2,lr=1):\n",
        "    self.w=np.ones(x.shape[1])\n",
        "    self.b=0\n",
        "    maxaccuracy=0\n",
        "    accuracy={}\n",
        "    \n",
        "    weight_matrix=[]\n",
        "    \n",
        "    for e in range(epochs):\n",
        "      for i,j in zip(x,y):\n",
        "        y_pred=self.model(i)\n",
        "        if j==1 and y_pred==0:\n",
        "          self.w = self.w + lr*i\n",
        "          self.b = self.b + lr*1\n",
        "        elif j==0 and y_pred==1:\n",
        "          self.w=self.w - lr*i\n",
        "          self.b=self.b - lr*1\n",
        "      \n",
        "      weight_matrix.append(self.w)\n",
        "      accuracy[e] = accuracy_score(self.predict(x),y)\n",
        "      if accuracy[e]>maxaccuracy:\n",
        "        maxaccuracy=accuracy[e]\n",
        "        chkw=self.w\n",
        "        chkb=self.b\n",
        "    \n",
        "    \n",
        "    self.b=chkb\n",
        "    self.w=chkw\n",
        "    \n",
        "    print(maxaccuracy)\n",
        "    plt.plot(accuracy.values())\n",
        "    plt.ylim([0,1])\n",
        "    plt.show()\n",
        "    \n",
        "    return np.array(weight_matrix)\n",
        "    "
      ],
      "execution_count": 0,
      "outputs": []
    },
    {
      "cell_type": "code",
      "metadata": {
        "id": "8nc-y1-YwOuQ",
        "colab_type": "code",
        "colab": {}
      },
      "source": [
        "perc = Perceptron()"
      ],
      "execution_count": 0,
      "outputs": []
    },
    {
      "cell_type": "code",
      "metadata": {
        "id": "6HIpQJBiwOdE",
        "colab_type": "code",
        "colab": {
          "base_uri": "https://localhost:8080/",
          "height": 287
        },
        "outputId": "49cd4f7d-280c-4d76-f22e-ebe6c1764c09"
      },
      "source": [
        "wt_mtx= perc.fit(x_train,y_train,100,0.001)"
      ],
      "execution_count": 206,
      "outputs": [
        {
          "output_type": "stream",
          "text": [
            "0.919921875\n"
          ],
          "name": "stdout"
        },
        {
          "output_type": "display_data",
          "data": {
            "image/png": "[encoded data removed]",
            "text/plain": [
              "<Figure size 432x288 with 1 Axes>"
            ]
          },
          "metadata": {
            "tags": []
          }
        }
      ]
    },
    {
      "cell_type": "code",
      "metadata": {
        "id": "CU3zspS10YIA",
        "colab_type": "code",
        "colab": {
          "base_uri": "https://localhost:8080/",
          "height": 35
        },
        "outputId": "fe269763-70ea-425b-ac32-4a5a4f328d80"
      },
      "source": [
        "y_pred_train=perc.predict(x_train)\n",
        "print(accuracy_score(y_pred_train,y_train))"
      ],
      "execution_count": 196,
      "outputs": [
        {
          "output_type": "stream",
          "text": [
            "0.919921875\n"
          ],
          "name": "stdout"
        }
      ]
    },
    {
      "cell_type": "code",
      "metadata": {
        "id": "5wQvM40Jwlc4",
        "colab_type": "code",
        "colab": {
          "base_uri": "https://localhost:8080/",
          "height": 269
        },
        "outputId": "6ab14b59-c6d7-4977-96a0-37f5c191ba7d"
      },
      "source": [
        "plt.plot(perc.w)\n",
        "plt.show()"
      ],
      "execution_count": 197,
      "outputs": [
        {
          "output_type": "display_data",
          "data": {
            "image/png": "[encoded data removed]",
            "text/plain": [
              "<Figure size 432x288 with 1 Axes>"
            ]
          },
          "metadata": {
            "tags": []
          }
        }
      ]
    },
    {
      "cell_type": "code",
      "metadata": {
        "id": "XiVa9GfN0uUT",
        "colab_type": "code",
        "colab": {
          "base_uri": "https://localhost:8080/",
          "height": 35
        },
        "outputId": "361486ac-f225-4888-db55-868cf9aa5bec"
      },
      "source": [
        "y_pred_test=perc.predict(x_test)\n",
        "print(accuracy_score(y_pred_test,y_test))"
      ],
      "execution_count": 198,
      "outputs": [
        {
          "output_type": "stream",
          "text": [
            "0.9122807017543859\n"
          ],
          "name": "stdout"
        }
      ]
    },
    {
      "cell_type": "code",
      "metadata": {
        "id": "Tfdxydq51kyI",
        "colab_type": "code",
        "colab": {}
      },
      "source": [
        "#http://louistiao.me/posts/notebooks/embedding-matplotlib-animations-in-jupyter-notebooks/\n",
        "%matplotlib inline\n",
        "from matplotlib import animation, rc\n",
        "from IPython.display import HTML"
      ],
      "execution_count": 0,
      "outputs": []
    },
    {
      "cell_type": "code",
      "metadata": {
        "id": "B2AE71Rd_fWc",
        "colab_type": "code",
        "colab": {
          "base_uri": "https://localhost:8080/",
          "height": 269
        },
        "outputId": "39de7e7f-c147-4f33-8d5d-694f88507cb7"
      },
      "source": [
        "# First set up the figure, the axis, and the plot element we want to animate\n",
        "fig, ax = plt.subplots()\n",
        "\n",
        "ax.set_xlim(( 0, wt_mtx.shape[1]))\n",
        "ax.set_ylim((-50, 50))\n",
        "\n",
        "line, = ax.plot([], [], lw=2)"
      ],
      "execution_count": 220,
      "outputs": [
        {
          "output_type": "display_data",
          "data": {
            "image/png": "[encoded data removed]",
            "text/plain": [
              "<Figure size 432x288 with 1 Axes>"
            ]
          },
          "metadata": {
            "tags": []
          }
        }
      ]
    },
    {
      "cell_type": "code",
      "metadata": {
        "id": "4pVCVjuKCPV1",
        "colab_type": "code",
        "colab": {
          "base_uri": "https://localhost:8080/",
          "height": 156
        },
        "outputId": "dabd6655-94a9-48f3-d2e3-cb31cd0824e7"
      },
      "source": [
        "wt_mtx[-1,:]"
      ],
      "execution_count": 215,
      "outputs": [
        {
          "output_type": "execute_result",
          "data": {
            "text/plain": [
              "array([  5.898949  ,   0.32607   ,  24.87031   ,   5.5029    ,\n",
              "         1.00941743,   0.84047964,   0.71728714,   0.89018937,\n",
              "         1.0206768 ,   1.01846698,   0.9664833 ,   0.6344156 ,\n",
              "         0.0661239 , -13.32591   ,   0.99658927,   0.95363453,\n",
              "         0.93680693,   0.98730322,   0.99227065,   0.99614291,\n",
              "         6.144196  ,  -2.81788   ,  20.56987   ,  -8.7914    ,\n",
              "         0.99001519,   0.47668743,   0.29473868,   0.81774917,\n",
              "         0.9723132 ,   0.98403764])"
            ]
          },
          "metadata": {
            "tags": []
          },
          "execution_count": 215
        }
      ]
    },
    {
      "cell_type": "code",
      "metadata": {
        "id": "whb36HT6_4Lj",
        "colab_type": "code",
        "colab": {}
      },
      "source": [
        "# animation function. This is called sequentially\n",
        "def animate(i):\n",
        "    x = list(range(wt_mtx.shape[1]))\n",
        "    y = wt_mtx[i,:]\n",
        "    line.set_data(x, y)\n",
        "    return (line,)"
      ],
      "execution_count": 0,
      "outputs": []
    },
    {
      "cell_type": "code",
      "metadata": {
        "id": "VSJJut95_36Z",
        "colab_type": "code",
        "colab": {}
      },
      "source": [
        "# call the animator. blit=True means only re-draw the parts that have changed.\n",
        "anim = animation.FuncAnimation(fig, animate,frames=100, interval=200, blit=True)"
      ],
      "execution_count": 0,
      "outputs": []
    },
    {
      "cell_type": "code",
      "metadata": {
        "id": "5L6CZl9lAEa1",
        "colab_type": "code",
        "colab": {
          "base_uri": "https://localhost:8080/",
          "height": 309
        },
        "outputId": "faf40950-97ab-4504-b5bc-212a706e2916"
      },
      "source": [
        "HTML(anim.to_html5_video())"
      ],
      "execution_count": 223,
      "outputs": [
        {
          "output_type": "execute_result",
          "data": {
            "text/html": [
              "<video width=\"432\" height=\"288\" controls autoplay loop>\n",
              "  <source type=\"video/mp4\" src=\"data:video/mp4;base64,AAAAHGZ0eXBNNFYgAAACAGlzb21pc28yYXZjMQAAAAhmcmVlAABZiG1kYXQAAAKtBgX//6ncRem9\n",
              "5tlIt5Ys2CDZI+7veDI2NCAtIGNvcmUgMTUyIHIyODU0IGU5YTU5MDMgLSBILjI2NC9NUEVHLTQg\n",
              "QVZDIGNvZGVjIC0gQ29weWxlZnQgMjAwMy0yMDE3IC0gaHR0cDovL3d3dy52aWRlb2xhbi5vcmcv\n",
              "eDI2NC5odG1sIC0gb3B0aW9uczogY2FiYWM9MSByZWY9MyBkZWJsb2NrPTE6MDowIGFuYWx5c2U9\n",
              "MHgzOjB4MTEzIG1lPWhleCBzdWJtZT03IHBzeT0xIHBzeV9yZD0xLjAwOjAuMDAgbWl4ZWRfcmVm\n",
              "PTEgbWVfcmFuZ2U9MTYgY2hyb21hX21lPTEgdHJlbGxpcz0xIDh4OGRjdD0xIGNxbT0wIGRlYWR6\n",
              "b25lPTIxLDExIGZhc3RfcHNraXA9MSBjaHJvbWFfcXBfb2Zmc2V0PS0yIHRocmVhZHM9MyBsb29r\n",
              "YWhlYWRfdGhyZWFkcz0xIHNsaWNlZF90aHJlYWRzPTAgbnI9MCBkZWNpbWF0ZT0xIGludGVybGFj\n",
              "ZWQ9MCBibHVyYXlfY29tcGF0PTAgY29uc3RyYWluZWRfaW50cmE9MCBiZnJhbWVzPTMgYl9weXJh\n",
              "bWlkPTIgYl9hZGFwdD0xIGJfYmlhcz0wIGRpcmVjdD0xIHdlaWdodGI9MSBvcGVuX2dvcD0wIHdl\n",
              "aWdodHA9MiBrZXlpbnQ9MjUwIGtleWludF9taW49NSBzY2VuZWN1dD00MCBpbnRyYV9yZWZyZXNo\n",
              "PTAgcmNfbG9va2FoZWFkPTQwIHJjPWNyZiBtYnRyZWU9MSBjcmY9MjMuMCBxY29tcD0wLjYwIHFw\n",
              "bWluPTAgcXBtYXg9NjkgcXBzdGVwPTQgaXBfcmF0aW89MS40MCBhcT0xOjEuMDAAgAAACpdliIQA\n",
              "Ev/+963fgU3AQO1rulc4tMurlDQ9UfaUpni2SAAAAwADjh6zXRqSe5rQaAAFyZoHnr/P+YCaBdrh\n",
              "NBtedRjmISFGI+rOmGWWKfCNmkXVlY9UKuvbebKunb4nruFtVAgpI2NZGasRxCIAM4aYJ0yQ1EXP\n",
              "Y1qfRRZL7SVYhb9L/Il0p7fyWmyZcc+wkRbiG+MN90ip+HhOLL5cq5lWm5Xa4WLPwNakRVFMUipx\n",
              "J7zGUcfcVmk93ZYPR1Rn3LqnhMQj6Y5o6Kcywz+ZBCGGFhOcZCxevANGhBY5gRaXlU4nQGATEgEN\n",
              "ar9EMhx+lt+Iso0AALUEIZodhN8DxkxY8zoe0KayIJnP3VSVnKVhiqZG+8uEINmpj79AuJPNdPTx\n",
              "rMhAO5SiaDa7XdMjEqpPdDKtAUCIDwt8zkfXcpaEHd6TEsbfi9+nfA8YM6Hcq9Z94fbwHgv3+Prl\n",
              "P0LKz6eaYSKUWFY5AdIuTjTqqBQextxjbqp+lJl1nQG/rioz6A81rLYWqpq/U6umEdEdPwO1i+mQ\n",
              "TLrpdDaSYu0Sg1Ql/MUnXnGEKP1AzMVA9IBnpHPEDP/osKILfjz0Hg2XqmPuhSslbE93gDoqXs7c\n",
              "RzBqrhNq7pRFExfxhvyqkytt5JK6wVlBvDcj5MhewEg42PvtyYAREaDculTMKWuh8cpz/osQIrsn\n",
              "2WTJ2sn1qoQHhCfCFpc71kIn0cOp9aX+xC/w665sHgkwBDPipvsHpwU0GFV4PuAonYclOI0OrUFQ\n",
              "V0s4bi4PkxoD4hYJOzuWTgbAUXD6O5wXwJHueK+AcdCzmIcg8WR8RGuZp77HGUD5GTZZlAmonrT3\n",
              "QhRHnbjvywzwai5c3clOX8nu3h/tYLO6C+x3TlddVWENAAUNe805qDnAcD3bLCEnv0yXpQoI09cc\n",
              "tnX4ZbEvFvYaKZ/r4D7G3+bi6aoRloT/1wlohB4RAmND9OgcfbsF9aI2RNzAm3n9GUhHXoPIBxAl\n",
              "ms5EzmY+iWYTSbaLCx3Y5o72J1XQwXIhthWwHA4jS9BYUmbgEX1u/hO+ENPDSuTuRcg39Sp8JjBd\n",
              "23uGuFNwSZEzupvBGPr/FvgM8HAylOTox0lKHUkM2ehF1z6OKvyunl18NveNrrtH8W4aW/0QeuFT\n",
              "fg0JyubxpiRmgoXWgTCKG1EtzGrcjIsygTkBjLc7z58e6YT7029yOBVgzx6pnYFoVvTtIEHi5c1C\n",
              "T/C3Xmf9/0kE7RJw+A8Amra+LuJtUj/ElhtxmP1UzZXpJKkbJPe+OSI1v7p35NTXgfn09x5WmvCf\n",
              "5Gcgg+BfYQhHf9ERub2Et1m3wMsEr4IMHF+NPpb2zRmlVfdpMl6gsj0fLruBaor6n35xd4EOLi8m\n",
              "MzHPMY0NrtwxB34BSa6cphYWi3VjqYU1jaLD6I41EefR0azi1Szw1MidXKpyVxKExZZcMc9bhrn5\n",
              "O2+cvSdVyxX7apibhNt2F9ktA7wgUuIkhF7J5Ppq7mYOfAzvGdGdj2lJG7An4cILH51pqWzQLzBc\n",
              "izZHbwiWIIJksiXoIph4U8wsDsgERzHEN8SXBiiNZn/h9/weGtj/4cgwAPaUugP/sj5KIBzMIQB/\n",
              "u4KlpRg+EA0kLCRbP/PlvFJMukJmAdL8YdYG8OtxYgMo4q3/zPTlPE7m67X8wEUsv1v4HnWF0aJZ\n",
              "ldWfW5kt/xfv8xeE0sRgVrvw7fx7nTFZOCHG95Ix/BDEHd1A+4yvi2ljuD2E9Fw8HNK7e5XUSJpy\n",
              "FkYBS0M1f0W1SGC7ntgz95y7/dbOt0k5aGL+wkh2eia9HU5Lor+zKnmKMsIx7Pr2CJ8pPDLA5Vm2\n",
              "0bIUkJYh00MKK8Jt4Sj2BLEK4ZysO5RbCzd18Hri4pyqAxt5xOg/KMZSkwLeHXQVzyDbYpxMUQUK\n",
              "vQ/jzBuFsGkd7waxGVgmzGkiVXvygUyBxXPyqLixUxJ6bNlk478XW89f6ba8S4sNa8WmqZQZffhp\n",
              "v/oWKliUFox307z4FviDAYLyfELmDVsI0DaO2vMrLv9OxI0vPGqJgQJH0HtMGbWku9M8h908/1TT\n",
              "bMUp3p95WmVVporAkALGFajkakazMvMZReG07XRvgNh/dP6GjxcuAdnSkvcTMP+VkM63yAioAAaf\n",
              "XGQ7a5O/Y39J/ZnWc14DvyPl/5J+6HZpeWk5lkK7jzl0m90wQOGe5cMF3wk6+D84RoxFjE4jm9IX\n",
              "3X3NwAkSBbs4HxxLkXEuHGxxONyvl878pl6XJ2SfyC7yWljZhDSob9gvNDzOp4PL7nq/tKwQsQyY\n",
              "nwHLaKQkpMOwsw2DvPVp+QdUrwHv9S2bMWDoXZ6B4YlgIbD5+0AmLv2IK6kzDS2ck+bxlwP0l06r\n",
              "gFFchUYA6y1uaxqxJnCQ7D0xFL9K7JhX4Oyfd0mlZKwlAc76RRYPgD+6YlUrcGxeoVG29eMJM8zL\n",
              "li/dkaAzfs1HarVBXCOSacBJCbqVvmDqj6WFl+U4Qs6uJtUccs1CpFBtJUi0G8MeifxvARZtxGXb\n",
              "lxzDtxRH+7kTYgwDnKWSinfjeLtNSNZWGbAKYpKTAjAsHo3rQFyOMZxRjwBIv1QLj9JkdOu6U/4E\n",
              "TdhdYJx+Ho/A8T25lxDUkEtmT5kjy4vZnQvwea3n6susFDzEPH1fC7bvm6IlS8tgbV+eS6ZpMC5m\n",
              "1yuYsqGmuYkIfFzm+whm08iAG/V8FnzLcsFJpVfn0s41Qxgf5EG81qf+9kQfHKWBWPRPTWrBc5k4\n",
              "FP2xWFFxa19Whmm56iZ4r4tUQPygCazY3lk9rnV1WvGY+lP+DCdPSqz+7yoVCX9QwL0Xgk45c9YZ\n",
              "1rVo+K/GhEl6TEuacjqN95zjJN9EWAcM8OUGEGodgu4CA9BMKvmL5X4iLPzd86HjQT56sQNdGAq5\n",
              "dSWtJB8DOr5ocvpg2AiioeriBPhwcXoAYYuhGePP2owzD6OGZhX6Tx4RqejozGK+HiDLL0Fhr7EQ\n",
              "+CXfwiKfJK9yAsIBIuGD4TUQKkDDH8hNxfKS4fWHV0hbwdkIFhIByUru+ihOJkSsMhfExLFC9duY\n",
              "fMWObflLBaWikuZ7Mp4GSmizp/c9W+oow2jgamFMQ+G7mPWwTuoNRym1HhXsNmCGH5n6QzW0r4EG\n",
              "XIqmjsTkMdIV5ckaPDUcGN3Fhno8d5LBk2oqQu2h9RHO5Xe6Tq77xL+yyzT1QjXWQaGo4KrSYCCd\n",
              "Wu8FWi+4RgXu9AYVnmmqrpUrauZ6QPrZYg3XuiSPqaVs0u2x7ux8f/O/T+qiXeI4H9b9LKVDJm88\n",
              "6V43sergCEc50nJsvsZQ2VjlK2y/nev+Lsw6CF/3oHowHOYre799Oif2E2cwlbHhZ/60RyFmO2rT\n",
              "gGtmzBNQkG4oJ9S3gf1MSKwhdcTK+tRnuC+2Q3l9CvF0THfR5+38GQS1/TMgtG4y7y5S60rue3Aa\n",
              "jaz2FidS+ydY0XaqrdCTt2Jm0eieOSviYlWXC5Whzxi/cg352SxneU1VN5moYntXzKie2RiHmokl\n",
              "Rt4+WtxWsPsDx3Ihie/51IRkje5kPX20F7tKqPcDjEsme6d0Ly/RE+NPjbZA6bZjD4nBr2qpuOSZ\n",
              "qD0Lk3hlSU0lvpkhfXFeZe4oAiXL3V8AEkAG7QAAAyZBmiFsQS/+tSqADjuh24B79Cxt2VprsTGx\n",
              "qbZ6m5vlOVPjJqwQjzx/xz6LJAFss3N1oNMZvolx/hfbMRSRyaRHjBYCiaThLh0K3NcMnvv9Wpa1\n",
              "QcEzuEWPKD09ZJ3dxdTTDYqlXrybwoLlHkCtHevYcLKv7puRJAQf8lYy/Ztj+g87YLf0dqqu0mzC\n",
              "MY9VB2uuJQG7h/zAW7lLx28eyU7X5MgVV61Lt8BdPN3rapmLWp3u+5NRrICH0QkRhFUttXLEjbYJ\n",
              "9cAW8LUH/Ue3z4Jdzulu54b2YXwpRymxN2Oa9+nh80fUb3uW9d5j4Nbm4HduN+AQ+QteIafN4qgo\n",
              "pGVmVRA3nLWD9iIur5Y/BIocHMYKaNFz/SnlqGRv0Irw/jV+RND6rCYFaDHCZTV7/KB/WLM9Vj84\n",
              "X98eeSYgZb/ElvTn3khu6+/9o+P779ay67AbLQ+kdN0FWPcDO+AIgFLftmZykI/e22tMm7Z/VgGj\n",
              "vHopZrBncEAjjBOWbFxBPvLDckYuT+2O+FsaRBp8cthjv6y1b5lSzy3xtVbJ2gkVk3e7jtJNdmbs\n",
              "YV5W314AmOzfcf01rlM5XeBOqRvNLMmXVa6vvJWjvHQejYh7umQLDachNxrYwb/JTIeE+tyyIaZG\n",
              "MfeM1q0yIDSB95tt/kh1ENDfWh9WaW/G6FAsbr1uzZxdRmP3Q/SER0vm5YTam6PQlmur32L6uy4b\n",
              "AxHtpl8NswvVWin/F+OpIAtT+GHzFsH56hVMir4cCZTDe3bujPUqqxvb6sEM6ismQ8dwY3FRDgvz\n",
              "cvEEiBu3wb2a1CcW+G4i/AYasPENxaXtPa6UYvuJMmBUDEH5fW2RqY27RF+a9cdHiX74JRjcBTKJ\n",
              "A1drUcVyGQ9Xt5ytxP+zd5+TXEJp1zzm+ke/XSgmgvAmgGsiZn7B6QALCZZZM0bMgNee5eCvHuyJ\n",
              "vgm0MXcdnbKvtOUmKF30Qt0+GrVZGZ0RUE/mjnIrucRRxkF5AcGLOY/pkLtx4dGiPeyL8U/fEe1d\n",
              "t6bJJxAUQVccr9m9mkXFZds7jz6PxPhwgjWFZ58c+V8VrCNbv1aeigAAAhdBmkI8IZMphBL//rUq\n",
              "gADffy+B6Qjmv7ANrNk/0mjQokX7n5L6C3YQuUvpO0QMzOAQeHn+RZy+mDnwZYJc29TydrdOd+uG\n",
              "9u9/B+sg0Wvz5/ip//bC9b5t5wjXMII805g5jjwqRKcaq60OZgoTqIIrrepDogd3dxZOAf1zFcRz\n",
              "Qm/gh0b/sndVwvOeIiE66nCtiQOxVjC2UI3yU5a4+J6OD8sV3ZEWnRbKQnUi+dEocNK8Ljp9O42Z\n",
              "/u+4v7VVB9XvjvZ/i/y/+XTZhfFpTWPIcGlBm9WSctpjKcXHIzfhN9QQEaBl8+NQit2vgNPH0zGW\n",
              "PGensnzCYIszdSRrsxwbqcbeFxHx9BgBmrhrQYB04njFk3zVVcS6lhA6aFEMAe5UXr86uduOOqy8\n",
              "6D6W0DBgI5SwuHytxMRmoRg2O97MidD4vtt7+YsMTqakIR2dg5CNKSwr1rav6cO/XcyCzovpvBqa\n",
              "DCtqJL7cVbku6V6kax5zdDSuKdjOHV5RSBRtp0CV6e+iSCFDq5m97b25hsn7wOHSBcYMYJmjiKTL\n",
              "45BYDeTGv+NmO0QGKtsYBBfSPjAqHduOwRmliEXxk7Y2qNpo6wIjZ+eIAjkwxUkJtJ21hI/ohBZn\n",
              "TTgXBI1DS6dM96Qa0R8KxbfIbsQy/OTNNveZVXx7EtT3jZVpVJQdGTljZJPBpKE61KIe8ETdfI0N\n",
              "2Xi1inSKmUWBAAACb0GaY0nhDyZTAgn//rUqgADecxhM0AR5JFj4CVzX87rA1Nz3Qk1gJSCG2CIr\n",
              "pbwtdMXqxCaoKWl3nvIO/aI3clu41+AnuvVfMOidTKJDEbNOJc6zZA5Mgxy72bi9VUFUmrr2EVXK\n",
              "daLOr9y9yTnO5bGM89ulgPbizfcX5hbZzUt6g+HwfM5JHREIxwuzsePGdT69ojQh7N5oTspBI+t/\n",
              "a9YSgKmsCvcPnr40dEnT8CuY1N3sgwTjV7IgEld0xIs0J/JAQv37Bzvqlv7UZtOj3uv2XuUoKd1L\n",
              "Cm9kFKeS4xBXK7iRcvYt9cGKtZG/syMYARmsU5Sf73wvrFoDfWXxSvxOf/R1RxcytqAU+CeNxkAI\n",
              "wOkqSevIDeqgYg+YpEbSUsxzcXOSJGwm5uyQfQzL38RKMe/jq0XwAYSeGHhGYApOwcttd992Y+OJ\n",
              "iMWmvlYtEXumHKWQighB+VtwUV27gUspPmd61Rr1pRle0IPTeDYyVuH3ygYskT48Yo+8hpi1EEFu\n",
              "k8Nt8mbw8DpFCtVz6wf5XkNSaWh3SiwhhiDelddThKAIgfdCIVfVII+24c9xpjMgAm1zX+3OB+j0\n",
              "eFd8S4uDevN10GvHnRJOx1A/T9XGn2i9aV0zoC7UuyY22/QSBb3+he7oc9TePF8S31B3Su1HGuSK\n",
              "ZHF5cSzzs6CfzI6vMEVF4WwVIPDxi0ZHERUggi4X5P2IcB8ba16WR8ztTQM0ZSxS14xnNNI8QCOH\n",
              "J9i5cxkEpHBTez0/NLAPOKy8l2YbW08IGJJ016seXE+QQIEoOX5QSn6jiawVEAqjDAGK7PaT6GL8\n",
              "E/QtQI8b6JW4AAAClEGahUnhDyZTBRE8E//+tSqAAN9YRJj0AWJSzOXIaXXI3ayv9qH6zepNr4+A\n",
              "Lsn9283VSg7D0CWc3M9NWyokmL2FVOcZNeNFW/ZbhYBP+ut4sG4t0hHuG/QTvEwKtD7W/hi2Xv4C\n",
              "qKqQGAnZDQbOoPGOmYVf9FS7uLhi0lOly/b9y37jl4WaFjKQW0b/wVQojLmatHAWTtI7DllG2GSG\n",
              "cajQwaqi6+bNnQIHZBRz7CB/IPs6BTY7FywShr6Rt+Zf7GnNm05/G32rUfOhSHlcVIhjVIDz+jka\n",
              "3PZR04SUAdMSeojRg/8GwVu40emenyEO0jSj9U7xWfCRY+xMQHv3PMFUqgMc4KrEMOVXmynuXpDP\n",
              "yAtrhdzsLwbMV8isfQRSrrs5iL35WTrSYw9JaJ+wqnt5n7yGCX9CjQf6mC1RTed2kw2PuLMqy+VH\n",
              "S/8CmpEI8Bp7NQ4DAq1ddmhzxEtlLhSQK/UXyGV87tZyncez3P8FPevlpcluKp/hVqv8tJtdUgVK\n",
              "IsK7mho/FlVWYVV5YmfGxYMC+UQuz8E0enfSy5JlJUZ7LeTD2DQfiBE7J6ovc7aEmHC8nxoVXiwT\n",
              "i5DOMoGkZNe8JAPqu6OyKSCUUfY0EsjqvEhlfZzijS93dDY6ArlSx4wdArpbTokPZo3ljbdQwlt+\n",
              "cSLARWcadUZWVbSVjZlZu1FQW6RjlxBJk4VBrfkuUbeeilN8aIFlWngcso/HQ8DVzDF6z0fuD7J4\n",
              "+ivEJwsBS/IgFC1ek2fjSlnDFxSiYBP4UCLxpj6u8ABURTVgMmSmp5pJo2Iop0duHnCwIoy5SvAu\n",
              "F4d6WDb4USgroI63jO7eNuDv7CmKv+wl5Mx7MXY3XP4KmL047dTQfGzKM4MKCQAAAG4BnqRqQ/8A\n",
              "AmqUu0SZcAG4CztsgUYeDy6mDZ0KdxoRZNKPLcqq+IeaLGvcztFGxAbQu4By+hBbj14RB3rrgh6A\n",
              "dIuR7ImZR2i14AeczSXudVumgCCjDjCe+zFk89ngr4AsuzyyJ0Jt4FbhVZdicQAAAuxBmqhJ4Q8m\n",
              "UwIJ//61KoAA5OtK/4hOrgSO0zgL1HnKGYL2Jsn2Fvk2ccWQvr2pRNncOE41sfiw+FLoETKIjtG0\n",
              "P61a1Kmikc5LeYythHq8kE48/c+decuxRuml7YEzQf3STCGlRw7wWqA2fC4JT+MaFKaO5INT4pnX\n",
              "2ZtQVBAiUqq6CGEcSLI4LgYzPhBgmMt+hLbmPaTZKZJdfW8aKtAGDmKRPZy8lC0I1JGYpegijey1\n",
              "GcPY976NGrkSmdJUykdrq/fVHuAA2JGAj9F3WJGAQr4Ucx5bm+BT77WjlTE1hZiCS2Bv+PmhH0ia\n",
              "iw9nuZaXGKqEyz6Im0Ky1TnKySTEvceLgrEtIi9KkrAunmWA5KnqMfjig8IKXiQSxwGXB9SM7qhF\n",
              "NFKXTooijGbyYx7jlIu1QVBAEi4VS1Tm5Xw8PKicqkIoXqvuuT5B2pWaq0O+sNMSoZxFAmDDc8gS\n",
              "iRwpYduj1TZsGo0mkdV09wmFQBLt4BeTIW4uLROfkJPW8HkdaFVIzA7gE0eqHv2U8Ccs1XwNr0tP\n",
              "sh0CYob0A54iQZ8AeShH73/JNbAhLhGnFUuIBkgFiPdFLHBRwDZwCX9qZi1BO/fQFksL0UV6dMLA\n",
              "bShcsW5HFTGG3+/iybd2FSS9IhlvsyHpOzr16xpSJY5OuJTK1MclYAM7s1hS1Ip4Jcjx5auEnofS\n",
              "kpMyHKmmQuwxo1AFlJwiI83Jqso5aFi7qIUXKEGVKc/9KXPrAni6yXemhcoZZc5Wj5HC6KAly2wn\n",
              "kdJW4dwz8BrWxjAdXJnMRAUz4CPrMoh0/nEUE5xN4WYBUK2N9f12IhvlY6eJ9A4BCZFuoigXhGo/\n",
              "XrK4+TAmOmWULfEvL/YcvuVBxhVEup2E8G5EiBMLXbD4ebJp+1Pay08OZpV1/k0R5Q7FdaHKeIAD\n",
              "Xefjlxby56n8kzbILQMWc80xKvsPmsRvMwHqoY53V9OclvC27Ti+0MZq6ur2s5YvbdCXvF19wPWd\n",
              "AAAAZEGexkURPBD/AAEUdR+jGIAABcH2r7sUeiutyAM48dPw5U4HQZg5LVf1wu9yqGEWpke06OVN\n",
              "eIA47HsuIwbmb/nMYCYwpjVg/hzf+odk5Z1uzofVHm+67bg/fj7DwtpnYoco7oEAAAA/AZ7nakP/\n",
              "AAJpa4JbyBvaOt1ABxWQECf6a8SsGSUoD5lYXfRFaRoxHn/Oc7rn+E9zm6D99a2XksoZDgaygPSA\n",
              "AAADAEGa7EmoQWiZTAgn//61KoAA3k3bRWntAuEwAsJrZnLOdVF7VCq2Hw4wjx3TOssOfvhXXrRp\n",
              "BRGZv/9z6QetTrPEJrF73ZVl1mApMwLknKXXsvwzd0d6vQWRvPXAiXsff6QG6f1vU1khClSMhdNr\n",
              "Vxp/tU2+x8MXSuBgoHQIwPCgigeoXR5t2INyrM475hzn3emttAiS6u7NQS92msSsS8sa1vYSmtXa\n",
              "a4uWO8HFNCui6LNWnJ7s6fsZEnVLwrZR8Iq5T2W5iFI4zcgovKp4E6woV6PGkOlQPIET8/O9WB6U\n",
              "UjE9AGCjT7MH92f1il0mRWxu/3zrr2oUwIUZFezahaZF64LHYjqgpeUW339QwRPqy5iMNQPe3sy1\n",
              "/3Umb7MYv7lF4AdhIwaV6uvlE2Wbj+m5SgZbuoA4o3G5sIZHMpGjgjwKK/d01wSw//qfl83I9nbQ\n",
              "h7s0ODNIUyexvd/JYsGlWBPVczjLuLVJWjbG3sMvChPVexT8KgN4hr/v2VIMH8ObnCVL0VED9Rt6\n",
              "wd8CadcvTvybkPY2Iq+p4bxOFyzt2BPz/h/O7/46MEDCiRJ4S8E1YAhrdk8VXt0X3XNu3XkIVTQn\n",
              "22iKEp36pJI0oqfFiwgezZrwCLVnKSHuP2Z4t+UKrV6DOrqHZZ9FyBew2jk7TZL/KHWg3iDmA5jB\n",
              "qSTW0QNkJtie9QIF/tF69/ooKf3oPZfMMwpTqadGltG1oxtPj/4nFpwOdu4kSMuRmy5s0egUdeMs\n",
              "SKKssTPbXgXSr+3k1p7ORhU33Z8nSwwFgSFHERK3yz+i5ogt+0J5/54HOVmewTpqyi/RsVl/+ZmQ\n",
              "IhzSsaIcOtyyNcUCmYj7mhCb9AwR+wRXEj8DQTkU54dsySCnaGBfMFzOgC26haUJXeMBlUz3uetz\n",
              "m5z5W3JiLVC1B+uX7yGKUIPVIatjP5iOR9WfMxYQVN5YJHeohbuOJkKTJBP/aaKIWpBL81tHGmCk\n",
              "BpA0JBIEOLMJqwZzc5Fhrx+jnw6dMTFCLwU0FvefwAAAAHlBnwpFESwQ/wABErvRUau94XMAAOCT\n",
              "ElFvAizB8SX6ibog01jt8N0sY7lFh1XT/y1ASv1p96qEodoxtdnXaHqg0V439/jgh2dE+QoxRYgF\n",
              "cp9cL6b3wpCMGAaY4W0UORO8QiGp3Oq5gdUMAoW76w8FUzWfxuV2ToSRAAAAMgGfKXRD/wACapS+\n",
              "DY+DXt/ySsQPU4i34BO0VzQ0oH3zex9AgAunwPzNLiGZDW2SjXrAAAAASwGfK2pD/wACaNxrpOT9\n",
              "0UCtLExiX8W+ny1FfbhC5b03eiPxkALZuoLAJXAB7fQEs/ygAAnwm+hyxWIqhM/fvsIdhTQG1uQE\n",
              "XqctwAAAAjlBmy9JqEFsmUwIJ//+tSqAAN5NOc+xzchTqgCJxfC+Qr2ABngXvpgWeCJYMCF9rCpC\n",
              "Etx67PdCeX2nIch/eoos5tY7oDbD7N9fnAFgP1wGsu47B51rHiXZf1aMwngRz5iAH7VZIM17lr6w\n",
              "W1CVMegnALeUPQJ30cjTuvjlyuH93RT7hM60dUrYu48hdWd2A6Yo2hMOVHKRqVlVEpos8KNYk7Ox\n",
              "FatQK688QMz/pKI4DA0bvYVGF5uDkIz7eCoa7NgTT0e5Sw//UnSwL3z86rosh3W1laxoKxuHWDus\n",
              "Hh4ohncw7owQVF/xw1wPlxfmqXS0+BY1ZxQTM9tlCdOg5etAFzjmmPGP2LqN3rxTavuNic4ASGRm\n",
              "ZyvOeowz5n3rylW3DIBQ/2aO7XZLD5kF4fncwj2e6+HeiNHKEp1SrxGLhCo8CNpNr62Acodj13CY\n",
              "5e+lAN3eaYyXUPOB9k6pREBIdN6T/ml5qJ381PdxtWdFxatvV8HQv4TD0tV0mOa7MxmLzhqmr3ZF\n",
              "OuUFZwa0bvYTYGa+b4c3+wWwfAdHFYYjUUGbDSGFt7+5xukcAZgRqtRzpZKKvV4gQfFwvLVCIDOd\n",
              "xv+Kzt/VJnyKESTpwHgjLvtA1PhgJtNuRRvSibtt85H/Sxv4Lio9aVy0qou+4ERUcdyWmgrTJdNn\n",
              "JkIa/L1LIbGbPK/44LzsfMqspk64getEOVzF4WVVOjZckjVH5Bhw7qh9jTfDKTWKpSLR7U/VXBcx\n",
              "Q+DmiGHt7QAAAFZBn01FFSwQ/wABFFIwgNKQgBb2QTIAAAbT+Jh4VeGXuwxMsuQ7PSqLpPusQKd2\n",
              "jNwmLfSO3iluYjOILnNK1qxbZh7/N4qNJ4VoisTJE2jOpiX0as9XJwAAAC4Bn25qQ/8ABNWj7Dhk\n",
              "DZ+D0AF1MRrRJ67hTu74VR6XP5QX00drufnxraoVDxGBAAACd0Gbc0moQWyZTAgn//61KoABOHBA\n",
              "mSxyS9gJa2CgVoFLzgeljwGOl54vW0memu8/dsVL3mT2Akqrz5G4gsGp15jO2PVPjuZ8pzo/zrLR\n",
              "NUPudyv19z4vqIcApTM6e8lEaTbsX53S/VGfwscs0lTOumefZMWPTbGKKmyIHFe/UXcH2vYoR6cS\n",
              "/Dw8WTEIovcGqzs3cwHnN+cgVzCtKPNfQtXqm69Mgn2B6t/Nw8MoOprIne4xE8jfNaf7V9iCOW8B\n",
              "rHHG/ugG9aKzYLyKuDiYSzYJJ/fDUSrdPsQ50q5niY1KsLYOj7x3BJPFYfZ0ntnsa+7Vyud3AzSw\n",
              "x5GcM0YoovPD2z3HyxqC4oX1oJ2mY0rfAAUwsgyEK9ZVGPI5zOurWFjOJIAamor/e7Lwwv5ZYquv\n",
              "OCt0RO5LkVi4G0wY6D86R+cBJFuA9Bdf1rR78/6RhEYMb9rUD5ragrXtffwlIcSegAuSGb5QjW7f\n",
              "V+fFDkdmw1hlLr61/1kItvjnAXnLsZ8lNWTxkSfmiFYmlWmxovYZhXK+ygJ/4OpOUYJR22+lZf9o\n",
              "5qdAjFbSC6qMvnthhaCTRUCZ1kcLNvz81qIQEcHxZ1P8Kz0yfnWUanXads8ZM0LA02llYiDR32PZ\n",
              "c32kx8G78dAI9p9+ThinafOqsYORFSH10UGynJDG2amXUjQCMCJEtVnVGQtmT5SV919nQ9tWZjAa\n",
              "IiyefXjEUhTLsPfDBoykyyfuUaPMZh0vIc8A79mZXJyoUoCOvZ+0+8+XZrDR1WlFsjAUl8BZP1LS\n",
              "PRApPNkc0SReg1p/zGL/2TTKKs9OEZ4fyoBIQWyM/1X/aUfoptCKjugAAABAQZ+RRRUsEP8AARL9\n",
              "HoSGvli8ld95SyQFfIdYv43JB2flh8zVFkEALe0EGUAADSb2GoAAAAMAc8FH8qzPW3JpKgAAAEkB\n",
              "n7B0Q/8AAmqU6OsiuL9YhybYNl9S87AC1bXF2tx7BuMRj9WlzwCWliVsWyrm3ULK9qzYPrsb/qXS\n",
              "bbFHaFOzLmHwLMtHVnTBAAAAEAGfsmpD/wABpfHhnT/OC+EAAAHTQZu1SahBbJlMFEwU//7WjLAA\n",
              "cjXlAWXdQoqY7gtEe1ddTx0hMV0F5fq7CjIfjM4Co2TmaQ2C9sqVx5L1DonLyhJRBbThaIzlfmOS\n",
              "Bhxs0hUKnxKhGKa3ouIGiK/1k89mePwaJS+nLsYDbrokxzGEz1KjpHeOxGqgk+95q1IhxoayhFYk\n",
              "8SBFwk4zXZ/31deWj9GbJ+c/rwTYFp3LDW1goa535oV+PQT2LCpzKu9RHkEOKJrBX2klWLy8Q5F0\n",
              "hafLq2C+PGWrT3HqMPcK3ap7t0Z1HstuXogr9zOLG9QpA7mZmwkhH/CVTGbFPOUL7/QkAlebQ2Nx\n",
              "CwX545SIIWWyPw5T2kiDtNLnyxHKel41x2zu5ZiC5NK/kwVsk4H6NGOTQOEvntg98i5XlLkaDND3\n",
              "KvGJksSTliG1SBMDi9ampGW/6ZVGGCXZ8tWB7lRhxLY3jtIWTimX1I2gviL7FCAwDG2/gqy5WWvN\n",
              "SrybYKh+rfvG+ha5LfqUL1lapLaudEm7NjK5QBQr5D6gyuQ6Gf7pHIcER9hdfO/65bYbOW84VbAb\n",
              "DOfxKMYOTWX9kBaCtzOn1t3+YZN5lG0A1/85PQ0rX6OD22eZVt9iOdzh9a0y0TQ+RZMAAAAgAZ/U\n",
              "akP/AAJak9rO+Eh209XNV4htRxE4D2fWfD3uVsEAAAKeQZvZSeEKUmUwIJ///rUqgAG98qcYQCiv\n",
              "2HsAPuKNuX7BQdhRZxdcPrD4ZTowp/gm71aTX0llB/9alUR6Yyq6SPKssFtLNr0SRXaREFrWmvDk\n",
              "KC7YMHn+EhH3f0662WJdnEnGU40EZWKgBhz5myWZSQgE/u/4Xaasy0+04PwYvotQ+ReWTmybSMNE\n",
              "ClMiJ2x2GYbDzmrpmdMcSt1OKS4pZWN1vMI55JMndqYztZAnie82tHQACgGbz+9DEprTSHgyCIqO\n",
              "U/e/OHmBml6vwoveq+HoVqhQRPS7sg+Pa8B6wjQ6/eEBdFVrpuTNT2Ze3ZWHprclKLwyMiCRxEPc\n",
              "IWZW6rUMfcfJuXjAC4m1e9hlXjyGaLhg7Iz/jbBZAReCV1tT0kecundDVZNzspREmU+cX/b1wu2S\n",
              "wlnjVIOI8UHgROCq1gq9G5m/LXZpiZKq2p1As46Ey6z1ug2G0+JoUHcLapNx6ZBgslxIi4o2OHm+\n",
              "Anqe1h3ctX8oLCa2iR0kdIta7VizkZ78JyFP2Nfo74hyxfs5YXq4Ebo9EKsbhHjHFFknHS0DjbhM\n",
              "77MBOB9m+jgThke5FaQXlXPPsPnwe2yGsxBeznYW9kTym+P/u327QR2WrtamtEsOI6nkbQKWF/pV\n",
              "vDJdDUDexDVUEcc9R0NqQ6JBR2mQWja3i8zPJ1t4PYZuKPdgBRKESktxttdDh2cjHV3dWrhnN0nr\n",
              "H/Vu/ZF2ninjj6T2a2gFzADkCLJkurgCGwNaDM27e2xK646rk1iyBCBfON3Qv8MX33467SP8Qhsg\n",
              "s2af03XIbHoIiWC2gj3zvWv5zQdCu3agwPfIzXTTCd8Fci87oyhB1SFCOjl4ajXfqHiSsqAPIxdT\n",
              "1/QU94iD0tCRpdl5TqeJ5yKbgAAAADJBn/dFNEwQ/wACKsDvizNG5RTxuPnO3S9ZBP5/49G2r7Ss\n",
              "deQ6YPvLDauIUn6eusuRsQAAAFcBnhZ0Q/8ABNZd0XgC/MmGldNheBuRSZ/08oynwb4LoIn6v7b/\n",
              "89kA2XgCQaLzTulumUUb3B7e2slmE3cHOqIERyzRtda/KAMKZnVyWUYCeB2ITaHjhZkAAAAfAZ4Y\n",
              "akP/AATV1ZPAEeNz1xq4jT3aUynHYZt24wapGgAAAoNBmhxJqEFomUwIKf/+1oywAHHju4XADaLk\n",
              "CugxS+Hbos7Ha0Gq0uvPL8G0AIhIpZ3aTkeVKXjDQsTb7JRhGUBGNHvzNLHLGa/f6PrhxiWwQUQP\n",
              "t1VpjEe5EAXg75VkNJUWlcj18JKZ8vWSKHhNwnz6/hFa45yUt6PuK0LtryJNqjEFy/B/rkQnL/bd\n",
              "eazgnr2RUvQD7ORfetGHa98ZBeAeUfZCJhnly+bBguCuN0B6iT2BJPOhwNG8LNZFiQMlU2q2sNhy\n",
              "P9aSAPfriZezuhUkn9Qxqmx/WF5t0rAQ0IMgXbzeiWykzvwe0tbGVOgHx0CZl+OvjKhip9AEmsvz\n",
              "Tqz7WhqpMKtSQQl2K3sd7g4Nlfyj3Y6wzreb3Rh2EkNJpjPScFrjVESBl1Ir8T33BOX+q5ZRNTUm\n",
              "JSfSQmTCRtcWZlwpB6pnxj+XKPKK7iBSSINWTRUXWdlUwhgf4XHm1bpRAZ45NmBj6B6WnJ/5U+rm\n",
              "tjViY26xSuLPG+UT7nFT8pz825LYMbF7GzURbqxxbCcSMNZo92g7d8XtouSRNzIkqeC05rBuyuEi\n",
              "JDD4716w0MRGtqaKgfDmqOh21VAq+fuhTN0m6iGlv4Nk/IMr6E1+Wadc963K1hmaOBqydBLmus05\n",
              "NdVxh1MFgvHM81dOXifXe2qtNrK6vlojmLWc0k0BHQwPkHMR5CD8go75eDhes7E+7nU64pHt8C5N\n",
              "a9RsmXklz6+ytsrcZ9RZalSUlPMBaK2h8t0+nbF7Dh50KwpWbiK2eyGBG0Y+lN0t7i6oUpSCX1jt\n",
              "OXOWknrXSDWEPlxY9Ycfn9/6yp8NxyySKD2AR1kCVuOtzbBTFwIqI0dxluHKNf2JAAAAJkGeOkUR\n",
              "LBD/AAIqoIGgTkWOsQ2TpllhEtwxQn/NA7OlQPqcNPywAAAAWwGeW2pD/wAE1eFuvADjUeUyH+DV\n",
              "zhLaThksxMwOxxpFLOazjYsI13zooWqOF0VaFzY32v9M5A8ZJxqdkH41ScR33DYdWGst4bz+14qV\n",
              "vxCFuzSNtdgu1izCyYEAAALEQZpASahBbJlMCCn//taMsABya8NIQAEx4Febl95EVIRp5AfZyxez\n",
              "vEVQanOzBfc9U7lwYuoyapkWyn9AHFwyrkhN5ru1OejKKuRz5ZjnNoFGypC01qWS40/NW1lPXsWH\n",
              "lJC24mLkqdGrPBGeV48kuO7f/uLs8CrPFQpJ+RFOZHXTDh5hzKpfz7lJkU+bmJxFmi/pfcPXSA8y\n",
              "uuqasB0Njjh7Q4vroVSYghGC95cWVGJq0Kjr0RlDjbkVVh3kNaGv25YS/KuhdCq0nJvRnjM/yrle\n",
              "EAapfs8INC8VK4zhSBGfEEeSvuNu38F7AzYEMBtqkGMCd24uRC/f1/g/3UJOkBXVYACGjzWYUE25\n",
              "mrOkANeYZnAGp4NnHRpFTbpdpnFd+Ezum+wvxowNEQ37aCYn+UDaE75jG0plm9qDQYHKbv5qBYsg\n",
              "AaNEQNRmuAvjur5bo4S/IbUuEFeZUyvPAaHOPD/6MmGwzNBwS40GYQAALyPS6JRYNDXg0n5I9vn2\n",
              "+3lQBM3jLfQ8ww1KlK/NgePXenzxHkoMDCMJrnobL6IFRBiyW0yEFocaLI0m3qLxQIxnkA1TyFn6\n",
              "3FpBLdPO/2wLCpBrTpqAlovnAvJuctbd2uxiEs0gHVmoEewAH0Ym1m4j5rnunyzDzZAVfHBqQsJe\n",
              "oiqr3QaDdapa/oFcbrnI78l6zxvQoOOVsbAEJRuhJWty1KOQYJxxecU7MmvbVvmNTFkGrXHLyzPP\n",
              "XaXLJrSdnnVHAOsj2o6qUVA+9ExsG/hnGmZ951cr7FnztBE+ZtI3XVHtShXWLtpbzuWuuTTR4f7O\n",
              "ti3Mxec2kYkOaM+uRuADnsydx4g8Pz/JDTtDl6Uord8Y2B6NkVEknjo7eKhOjF6aC2eOgro/+ujl\n",
              "toytEb/ULTrzuuN+CkIrrZ5Ac/YgxE3Izrktc+S2pohtcRKqJBFIchOBAAAAOkGefkUVLBD/AAIp\n",
              "M4EUBzDMA6kQLCwBMG0XzXTRrm//bCmCLlSlbOCt6a3DIE4Avz0mux8IYjlKMyAAAABQAZ6ddEP/\n",
              "AATWTRrhJO74JvtQjgAmrb1qWIijLvvl9KIaZwDQqwVZUgGaqzxJ80L6pcTJ5Gaj2LFFIj0nHe48\n",
              "qEaWfMgChqWIQVBsgTrNgmAAAABZAZ6fakP/AATV4V/i5wxWEDfcAEygOG2SxGdXJryPySFAPER4\n",
              "ksuVbeccbc9dzDgMPHQaPWOdbp6MuZz1JtBEYU41f9lNx/9/n+4mh1kgeMctX4tPjjD41sEAAALe\n",
              "QZqESahBbJlMCCn//taMsABya8TowARzMmSCuE1BQ6HD0DHFXXetCq7HG6C+DepwBoVDr7OActc0\n",
              "b8v++Ab6qUfmBGen5MA/y+8cuRISZlXAXrti+wkHs5WCtd0+2rttP+nzH4UxNOjW36OEHd4lO/5Y\n",
              "SXGMwd9JrqKqNv9unCDLFyhY9ygdsZXD3gI4WxiL8eX5En9+NpYL2CNoTxgP6EAGHelnO6e7wBvZ\n",
              "4TjViWnvdJA0mAMJE93ZrMKG2jiSAXsthju4VBB1plalzCpEA32pYEZnv6RWRtyo+yYqNAekK51O\n",
              "xWXKEg+G3x00pbkIlRTjmz3fRTkTuuTLmkR4/z0h99JLORXr/lcNNQHpRuanbrPJzZYFjhF2jBwL\n",
              "gktUWMrKJ33LG3jxZO2QSaGG/sIi/4Y70KQR1+DbEltsTw62riEu8pnVZHWd7mVeBVPVwh4y3XCO\n",
              "gcGyRjIem6lnJo/7R55FjTABm0wANpzYIFQT8znbai4xq+eyOwt6tZhZ2Pppt5NUSXc5HWEou5Y+\n",
              "1L+EAcOmjBOQEVqksCnqAanuM92lcjBL6KwtnI2Z/4DcV0p4LVYs80+Gc2d3a3t4HR7SWz5K+uta\n",
              "hiNq5x7mzjLAN4Medo2ecnmbLzRuqse8oKPwqBT/NoNo2I49nfWHYhZgUEfVxwMTHrJlJ16aYKCK\n",
              "sU3612oTjo2P4ORgQCkeaVEibrk70caYw62ugJO7nHsEdVf2v+j5JArduqTyiHDDeZwm29BKariD\n",
              "zM2KpdvMvdCpfEC5qMDe3yk7KNHKOpW/jpAOednviNC7MF3nhW22R53kX29FQGB+DBymNac+yuqS\n",
              "bsCSQSZC9Er/J87ypWJJB6u7UkCQjNf1Orq7UQVXkBgyCnb9STCou3MwE95xnhYIyAFs6oti32L0\n",
              "au07MaeRRZr/r62GlrpfRjYtVC+A5KkaLYAmex/KyK5QGZBMTt5FYBZayFcMpHAp25gAAAA/QZ6i\n",
              "RRUsEP8AAiqg65XmxW4stADisBRZdzgjraddv8lAH4uls4QuFoHZiBY9j1yme3gBnu4/5kOl0fko\n",
              "fKCBAAAAIwGewXRD/wAE1k07NEfqg5VHKRPRr3arIJ7np1KM2ITJgAekAAAAHgGew2pD/wADS1LI\n",
              "6Vz0UJMJfSIs5i7L+sGEsjALaQAAAx5BmshJqEFsmUwIKf/+1oywAHHQ7dl51/ABp6HY+g9RfXJG\n",
              "StFb1dSpRocU1cO/FJG2vCkiLFwu70SeNtPCsCl9q7i7rMW8cUDeDY1RLWsQm+QE4eiw4fp2xCaY\n",
              "dg2wGCzpVqJ1Rc7fiK84AZMk0iV0l2fxS6zAYkcNg+XYXIavdtHMS5kDt5xp2p8XDtVTj3zYynG6\n",
              "DoW5mWhNEq1rop3i1q0c+1SZwub9ArDwsfpw6NHxHdSxrFtzVLM9KFDPmZo4g4UcTM5ZIpTUqxMX\n",
              "hmdnMGG+5Bh+EO+zgPMRYYVzEORpA0a3oT5rEG0Kbi6PmnnvLErHSkqn1xFygrFMJkYMufU765ld\n",
              "StOO+tjHMO+dP3KzFJXmynn5v2zkrknHCmUsfYzqXOTqDfIXI4kk3TbWuH4DGaHu9ixZI17IohrN\n",
              "v/5U7LHz+atvpHaBD9kb5HfnsbpBrQE5QYfJkqwh/SQq6GD51/zI2s5zIEPVJ83LJy46bMDG8DZn\n",
              "JLo+Y021pKQjfLfDV3DTJ+kBRrfK9rUoeXyykGmmUdKN2Hs8l2aAaLzvFDl6j/GmMt4Va9zjUQl2\n",
              "4gs6cIW668z+spqGNN4HtOkM8rd+TGPtKdZk8addJUfu2ISHvfSjUQNpxIwbosKigo39m3DKdrov\n",
              "CMcM+QHPVnXpEGiHYkcZJyP9GSRR7i/7ShHXqHpCYREJMr8GueynBKQ2YiesakBjVjiDWkBlwXxY\n",
              "GOVa+6h+mC5zXWYREOtJ2tOaWMuRsCEkFXPQwPvMXCw85shyEm3sTtFF8dU8MiRJfS2yKZvoJQ4S\n",
              "WyA3MrL7xq/epOrsUhMJ9Z3Q6kEudj0SpOtXfmGByxVNpeL9EXh5gRqGtgqMAL7890TFjcGSN4EV\n",
              "BOovIOzGTByhQrXLcHetoTTAsaihX5Jdk40OJqB79QessvNYYayIQpiryfku3AdEe7CBt3WZdXJK\n",
              "Eu7UxTb2fc5zCtSl7PEgOK9SSiBTGZpFvqxodmyDS/5BTFXwstDcynxwmEcQRVjHqRtSgZcokZqA\n",
              "G7jZdNPbzYri8N00q+2/TdjyyPGD5a0AAABLQZ7mRRUsEP8AAinMdaWT6ijmQ605cjYgZThkAGlV\n",
              "sFsSAonN3B07yMRnTqBEH4demNCBFbneT7LcvY6lkzS6tf7T537fXIDFaqFtAAAAHgGfBXRD/wAE\n",
              "tXKfHdJVSBLcvFmGk/knmeuYWKjkgQAAAEkBnwdqQ/8ABNU/tfQYFLrDyOCOAC2BQY1xDdgyZrZT\n",
              "Crvq302ckzC0fI3/cDVmSDIotNs+99wFbME/dsBsI34fyyL9BjyxtxGAAAACcEGbDEmoQWyZTAgp\n",
              "//7WjLAAcjXabxAC/6lpBBRT4YusyXJfkDt4PXNqcgsLnAFiX8rVMQi0/WDuPDN+q/2ztl8KDfRm\n",
              "gIqhr5KF7hZJzr2q4+fNv4XhMi1hSljHbfMQUrT9XtOj/NyQUNlzHrELHE11LtapzHecWHkx35SO\n",
              "KoR2D/53pjrpVsJ9Z7oyf4Qayc6EkOZm2Y24xbKY0DU6Z6upAlt5JGy34CVuE7XqjEVcxFs7mzgC\n",
              "JKDPcC8TDx/7iF5hdcfJMnxu43QkGlVSavjz82dyRL5n/rQJV4x9A9HPY+soFWnDnMKwFkabJWrc\n",
              "pH9J0oz/fg+ED/PfDhvxtwo5mOJzdhHb/RAKvCZLP6uvgIqT1U0DZOtGokOP4MaMY28s5aFMAuIx\n",
              "zPcen9HUddkj8W8SRx6+ynzM7cxeQxxBN6PS6jXspwzOLh5PB36NPLHBd63sJTuCgKKNZ7Sw8exY\n",
              "pJU4OiUS3ofwrDfq469dCOl3i9C41ZVD1rCEYDfbGYsMii0bkB2KlpHlgt1aWngnijL1gSY+390/\n",
              "wdmkaSK+/lHi3rdTM6Ir3El5h7jZqlbx5F+KnJFjSZtRSi72dNZfzJrkmivXO1QsnAFwpP9VkE41\n",
              "egd1xxzyXbKOi/a1nCn6/1Rfovy7s5SIRhQMChfNTfSLQx5gwIK6j3l72KaIBuOXpc+Lp7r/O6qG\n",
              "gAwF+92rmhxMcrwJz6WvkBul6Ged3v/2eTaU1sg0bPys2tHbV5teOnLM/H5jTbvDpm6wGqoSN2DM\n",
              "kTj1+Fy/l3KS4AdSnvW54q/X6jyhtIDsjFfjLVIhugCDH93LnRrE87zpkgAAADxBnypFFSwQ/wAC\n",
              "Kc7+xu637KnoIDsIuymoEqUIxUHjnlygvZMvRapV+dYQxpR9zYAccGUi9QUsd2bwgVsAAAAoAZ9J\n",
              "dEP/AATVKdHZOZcH/rT2VyWhJR0lCTgKhBzpblp3iOEGWUAwcAAAABABn0tqQ/8AAGv8eTU9/Eyg\n",
              "AAACekGbUEmoQWyZTAgp//7WjLAAcm2QOmmAHLZxJ7Z+cv2nR6JX+f/ONF+QmPlyuZsobnb9zi6z\n",
              "FyHMW/M8gIZxCJVvX/LzIedAQCCM75EEKY0z8g6NTWa3OgS1n4NxnO44WdjyqSopaIaJy5fZZjGI\n",
              "EZVrnFp8/NCZeI/hSSPQkBL00F3s9hCpNfyDQhxuW50OXS3Mbpzxk1e8IVVzeMRLdAd55fvuQwRy\n",
              "IkM1o0Ox1lD1tcsG9TvOR13NYAQech5wxom9O73JJPSxd3aqPDKk4lW9aQqw+ew1iVNiaFw3OIJb\n",
              "bZoqWlFv/BX+VrYqvp4MtHms0JwN7xFE7ErCZ5jJP5qFkI7DxrpCAumFDBiNT3iux07ATic3wQVs\n",
              "dx1uGBM6fyitMgGRFtUIxSTHYFwfWYWMCSygk8feq/R5NPDXCZ3YaMvt9YGmr0tToUPsALZBgSKi\n",
              "IgryasmDRHuVUDAn4CXbXSPhuAzxEVYrmCJEweSZrHIZb3OBwlkQT5Ru83mZsgyD3v7q5qZDhtfO\n",
              "L4HyMXLsa/ahnWRkHm54cOq2LVoDG3ksKJJD4fwrD50QsWYsKSxmZyPS7BGOGk+Bf5dPLjJfjkM5\n",
              "i3v+0H3ozChbpteAKPwbgdqpo4sYVm8FWoS53AsY6PRjclTIjhlJA+lMGGb26rA3rAnyYUNmssyy\n",
              "M1+tfTIv17RgJeh6IMYZKMddcykYWUAZyYNoySAATNds4MkZpEEHmtrn2t3PcQP1p64FF+Z/olun\n",
              "ZsfYs3HdI4eUBpxMmb3VXw8H/5SDeyTkCT+iMvL6YGzqfRx4DDL4B1fCUtTyUDPNeY/BRnEuuSzN\n",
              "uAW9Foex6qW+yp0AAAAnQZ9uRRUsEP8AAinPF87Ne/BT4hS+EIzvGcvnyn8uAA4yDkYxPB6RAAAA\n",
              "DwGfjXRD/wAAa+6MISawcQAAABABn49qQ/8AAPhhNHfYY60gAAACCUGblEmoQWyZTAgp//7WjLAA\n",
              "cdDt98c0wAqiYkcl9lVBR8TNdnwvwGgDXaP8ruttW5RaRfoEuZp2QKY0fZpRGzuNPLZEkzw9cgyR\n",
              "d6Casq2mUnzGvWiCpefU6O0WyFU1b9w+Xyb4lgf3iwxWmsIbz4yt8nZS8cZSZ0qfwhgNDsBblR0L\n",
              "Kmb7wMo860QqqwdSaejcH7Ycs2V9ZICtrofcsgYgmHB/Rn7susOq4cEoBib4aes4bl7alkWvxnMp\n",
              "hCq3AK6vEx6srsXQ2EkSiaNgujbo9+69Ff941odrIM2txp3o0qkuatC78mqIDS0YTlcVHxECWNg7\n",
              "K8eYf4arVTUZaHo1GN+rdSYtBY5F+Ngk7yRm9iJleBfMCThQAO7CyZOaBcOZb1urQydSzcC488F6\n",
              "2M3DueUfOtN65+6KPje21j4+LYoblXjU8fFGVAYhCn59ts2tjv6d0Op+ksYWnLHiSXfHSb9qrnt7\n",
              "7rlfBUcyO9FwE6dvmBWgNfi4y4kEdeY/CPWf6VN/S/LehmlV7A96j2iCB+XzBGMc1+x51Xo+F0A6\n",
              "Vtznm6p9Gx49NiZxgkcHdhbu3vSJpY9YXCQo8ThJBxP3Oa1gj/sy8VObiX83M6+ywEJLainpifCf\n",
              "bNkVm8WrpWFlaDqYZfxFKksB9bdbV3Q1EP3LyvkzzVcbNb2D8DwAOV1LEuZTy0Z8AAAAJkGfskUV\n",
              "LBD/AAIqVMu2SlifO5c+kJ/pkJR+P/vQALYvfZnqNvpBAAAADQGf0XRD/wAAa+6T/R8AAAAOAZ/T\n",
              "akP/AATUbPLiQpoAAAI0QZvYSahBbJlMCCn//taMsABybZA6aYAU32PRNqUdE7aic5eXGqHWNHO0\n",
              "ULJugZ2zJzPTl0kRpmds6TGBiovQQiBA3Op3mVZvxmqpvZI+W3ZLPNNg1R4ouJQ/h12ufiZJm51M\n",
              "uKmRORulheWgf0mldHmcNnhwsIllaMhRCKTX5DpfaNYVQoSameqoQxcBqsMqLxV+hu/zsAu8zMXm\n",
              "pwCJYQuOHDg/OoC8CcBXyFk0veuskUfc7SW5bdDWfIjiNK+/xdz/KAXiwurs9lJywPYELWWFzWOh\n",
              "rsak7d7aj/SEh8iJ+oSrIP536J7y1ep4MwtWyp408+whSs2LTWFlVKu/l+vNdqMuSPm1nxbbYSjP\n",
              "60H3uhydtAj2QQnuBWqFd56MlTrcE2GzAX1oefuYjkQI03obGSl6NSbzDxFTyrxf7v9ViYUlcx1t\n",
              "wnRKyZ6Fg4wxRHT+5nURakdtt0vlHSCkYY7+Z+WTq+6Fdsv/eaA+XbKYvih38xRpG4+fn65fkwKS\n",
              "GZ8NxZJ4s6KvPO0aUj1eUXq8H4Hn6MHUt8e6lWOXACgbX+U/dt4DLNsVmrcADk8b5WwIQNDknOu0\n",
              "lYufNonbZSpSvCIjkUEySokn7TniE7N7cVQsveh+v4v+kMgqOR471rBserUJyupPPBThAiQv0wD0\n",
              "XWMznbdgdUnzZtmCoQ1EmUcZpZym6ERBYFRrynYBBxsDlLBsP0c0+zlp1d1mguzKH1Ia9Ga43BlF\n",
              "zEOapidroBWxAAAAIkGf9kUVLBD/AAIqVOnoADhk8EIjlqsNtVmBz5Z36aeYfkAAAAAMAZ4VdEP/\n",
              "AAADAFbBAAAAEAGeF2pD/wADX7plBD9sFq0AAAJLQZocSahBbJlMCCn//taMsABybZBGNyAEXgy5\n",
              "k+PJ2bf1+anStNgV//LcxsNQtTBKgzMcr2wIEeXToK0Wql2IQOQWIVmS/BGbx/HcFUbfCwP4o3NF\n",
              "W1LmucDOkLjLerhYz46hH7XTL8aJlT9CxCo8IiP7U8+k5NGCVRC2ICcgYkkjvFEjBUAn3ndSYTzr\n",
              "T0CDa5XqpkNe7gIYl2rNsotwoPeLrBG4nc22LvtzQNRlgsWa/4NDj9rZf7qIjeLvK32ZiCcNpRMF\n",
              "t4wldOA/natCOuDYVb97dAbRDfpCeRqUuVvwpkwgxBs8Nhvlq1R0UQH1sEvHKBLXb7kgpmlD9Jlt\n",
              "X7qtKKmEYmp3cpPMBjhy9xh6bLA7aaLU3rW/xg3QcU/LVs5MVBh6oeWpu6iNyyJz/Evh3MMclLZq\n",
              "hxR+rwkd77OK3GqBQZxmhxxv229IJ5IA8E0J3wEC9o42BctdxsXcCDq0T11vKzKb9K8xNTUhPhGb\n",
              "WYed7H1aS4yMg641X25klWRpbsHt5FiIHGhKYMWXm/kkB/4cXpaYV9lLqBvsXW28013jYX1WPJZt\n",
              "rqraQJqMshr1qUROBTeyJJGfgPHbugQaaeFuMwa7eSxpQlndq5cR99wiD9+122H7t4yMxZXStQeH\n",
              "uiOsnV3OLc+pVJgMenAJECabIrkAUE2+LACD5TrcAuMDuGHufuUnnhPGCXcp7JZHh3lWiqXyxtYz\n",
              "sF4PRGCXbUb45gXkTeNfS/9NcRZKlWNUKmfzlYVX1Q4ZathV9X9ysdY0WAP8XFgAAAAwQZ46RRUs\n",
              "EP8AAioa9rf4+c/8l50IZRiMp77JgIqM4xNvuxRerNUn2FmkdzyHQMGBAAAAFQGeWXRD/wAAfCvq\n",
              "0R/5yfVX1hl6oAAAACABnltqQ/8ABLWj+59Ze0dvArzXMq95YsNLOjIZfmmRBwAAAh5BmkBJqEFs\n",
              "mUwIKf/+1oywAOPHgrGB+GpwckB9svC3k6exVRsVlmkgXtDOTHXXmZZttcqZSOcWMWl0X5IzCYq7\n",
              "gq9XWVry+6G5yIxYi3SrGkMjmRl2hXPoOOX6ZM7wXIPM+p1JhgMzfoo9ddk7W8OXgrIERwwaIubh\n",
              "ZxclwdFnq7us09ZIWmoXevSuuXmg0iz+Ccdbq6cwvZId2lDPVELXM2ioDHnxajagTfciQBZJ2qv9\n",
              "2tvW8y972ojNZfL5LUAryIU9Mb5386wmWzcUpDr1IFdHOUD24qFtq2G+4S1idOY3+CEAtnS7PDzY\n",
              "wOVv5b0BSZ00DM576eH+E8aNsR1hoFGLaCr44DX6beBhT+cYlCrP21DJCfFUJGz4qPngBLf7G9u3\n",
              "DTkXw5pv52Jjupnxiy3aXKPEecdf0UkCSiOTaLtUKKcYYo2XwlHVSqQy7AAUafX78KWZ7OyOIR4T\n",
              "OolKaQGvfbekCh7HaL5RTZWCW0Yin2spfYFravQoZu46pIAte+DkbdcMEwUt087hrShYTocyBGgE\n",
              "1/sjzx0bd/nHx5nj5xy87laGtkeAEYdqxt2V4H7SfPDBTUPjKDw4atY+a43dRfqn/sRrKeQq+d6N\n",
              "ip955FmZgTQa6UZ2bIUHsoVl5bHmPKmf4HkiXxjkleaoNxATjplk+t6oyg3dywlaIavEDro6M2yc\n",
              "78fE6Ie2gLQLSBdtFr7K9zy3Q3TvBQAAAClBnn5FFSwQ/wAEVEu8x0awOY+IkmhCYZXCJiB5/xY/\n",
              "9mp0uNbZHnC7gAAAADUBnp10Q/8ACasY2aDYVSrXNFp2DHupOlnGUflfHDTyzRx9kArTUeSnyj8V\n",
              "H8QWrHL2UEypgAAAABsBnp9qQ/8ACaw1NrCZ/bxVzuY+xTPeIQeTm9EAAAHZQZqESahBbJlMCCn/\n",
              "/taMsADjra/wtAM0zjXnADfk4V6SfsFKZaL9yR593uyXa7c4gSfjZGdXdnTpH7DHtpYE+QpeQrj0\n",
              "5wsgRCuQyhKqVm5xPHN0qqgMRwtz0ThXO3JYXPyPoTzPU8it2AX4tiu+mZbmFbSYouWtfLEEsN6G\n",
              "gvgL6YmIHQbxnkorHVvqtKnnJpJ/vjnLkSSLliio/0+3YtKD+UDmspbH4Jubcw/1BFMaYDKFjBVM\n",
              "Egm20r39CxL6HamcxH6lCaWLw0E3h9S0yb/MhHkREPF3jjlC7yc3mp4uY+GPoJTC9s9f1vxHrtYp\n",
              "3EnicIclj3GSZZbFwkqkJfHgfhCyyJoW27BuBTwQuYegjlr7eA3FU3iw8rWiP02+ne3sQaN8S25k\n",
              "t+yhkpX47wePZoOqG8f3WYzPXWNZXmaTRrM4mLuoKFPgDs+fmd1XlKYq/7Q6K6S1wbU4smtmjp/K\n",
              "eDiq/HpdgW4J0uziB7eN63E/tU0gRhX+t+RuLuOXLK55nDBj5odI6PN6PetNmzsFzRpCdICXqw4Y\n",
              "uhqOSY9RIsbVxi2U2kyko3eqN092Q6p2FxAOkElxDTbK0Td7HSJzkQbsIH5OOG38jfw55ECH/mk/\n",
              "ukTfBUwAAAAqQZ6iRRUsEP8ABFVD6FNqoad74gwxMhgZkOXilFEJT8wU1e5f+6lDDAFlAAAAMAGe\n",
              "wXRD/wAJsEuAHLZKDp2CDGw0pFfVClQkB0BjbvCn/zyMWwjTWXJ69VGtPsjKgAAAABcBnsNqQ/8A\n",
              "Br/HiDvgtzcDiIev8IUNvwAAAdJBmshJqEFsmUwIKf/+1oywAOOtruAkAtSeLyXQslte7mI8B5bH\n",
              "NRdXR0pocEy8JDObzB+dtkTcPtjoqCu2Zykp9mDSqT47xhN7DWY0widgidEuz6k0LYyk+t5MMwrP\n",
              "w17l9u39rOEcEErdfQRd4Z4JC/uEiM/Emx8+MWtfRqJ2BzpfDPRBgAMjjCtAq1+SS1j9u67P+5SE\n",
              "99BgtZRjiQonJ/rsofI4uYrJsjZ0VTnuyXSuSuSdw2Zu2tkGx2W4gG455Y/PLL91RKW+Raq9E9lv\n",
              "J0epNpBdy0CtNPnEU0vZuP0yQ/qpH+ahwPbgMiBl+61r+LP+Gr67HmdjOu2rVpGDNFHIgfx0rffu\n",
              "kxpfQbSdStsFa6E143Fg3oyjHmWLWr+ZH4aKiuq6u1w3bqeg3vBoCjNChYuQmXCe87dAuUzpAjta\n",
              "t/PieZpu9hShtb3NSsTEORCZWr7TC/++ecnLSzf/Q/LQWpIhBjVFOizjdyGBgVN/XbwFrfJoaUoH\n",
              "znGRR/TBrmrYNbNpCaIe1LhQBYVVRJ8mm6s0iIVrjuaJG7Wr6H9+ar0BcJg2FemF9l7oCzepsDeu\n",
              "Q/EtGX8OO00lZlhCPWLLwSpRY7ImvUtBDmjuCNSBAAAAK0Ge5kUVLBD/AARVQdkcak52a7xIS4dw\n",
              "IXJ45yUgt2p5+tsGmfa0jQjyBJ0AAABgAZ8FdEP/AAmqfP7/E/OuHrr7KRVFvOrgk1KpRgosaIoW\n",
              "AfEQegALnu58oLt7OfQd5CwLSMDUCDZgROxytBESVvICwPPEozZYRWnUknf7dcBnP6cu8fDhT2iG\n",
              "r8ZexhLxAAAAVAGfB2pD/wAGv8eh8mvqZvlr/5UDIzYFbH+KZegACd1/pvLDnUSofnExwT5HR8kN\n",
              "KPXSpriYqaZehK7xQOIk9Q2x9LeMsDfRVReg4kYcS7dJ+yRBwAAAAV5BmwxJqEFsmUwIKf/+1oyw\n",
              "AOPHtk0AQKTDcSi4oo8LKs9m6Dibv1acAH8bsW86vtepaczBOav9WWjGErjWRhYHEU81Qe3fKcau\n",
              "iqJzUI4gyiPZcEXMrW0BuA7lPBQUfAu6fBD2QjN8b2AzfswWYbY0vY6UfLhiDPQV0QjyqH2mlHUz\n",
              "DAhKInQ5viCkF8XAI6gx7rWHTm6UpmE+m0FhNd6E3gex9x3cUzlMR6F2Z2eWrB0GGvQpveH3SDi/\n",
              "REiBUqjWaxETxYVJYAOuD/zfN8m77esuqSBUCwYlZGbUfIJB3r+NqBmqrX/ppxcvPBs3pq8Df1k1\n",
              "DI3IqoYIxWNXArpSqJp7SsNqBJdo+c8gdFF7JWx4rHz+N36p63htp4HYRYXcbXwH93eHsYw6Xv3r\n",
              "3glOGKF8CP8Bdhq0Y2ePmNqY4gZDRGzSOXOo9QDGMFbpP91fG47OHp9qPl+DLlUb0AAAADFBnypF\n",
              "FSwQ/wADD6ptM1xMSMQUhUD/ORGN1Vf5FW9qo63P/N4BlM+CxvxBKIXFQNmBAAAAJgGfSXRD/wAJ\n",
              "quV4ewB8QSwlVAz8nW43xOmW7NK6dqyq0x/EABnwAAAAGQGfS2pD/wAGv8eEeI15DzMxpMagF1A4\n",
              "aMAAAAFgQZtQSahBbJlMCCn//taMsADjrbRFlAF/3q1PpAM1290t1AtNZCZ7el0/661Cc9vTKOIX\n",
              "hy7zQN/LRNFFOCLRjpWgdmIaD7ky3sKA1EBiogca8NhPBqXgDE1SYKCx3vsTOjsDW8WFchS7MNth\n",
              "c2d+lqg/BFsY2invF7ylxQOt4mJ3kQZnuxiXQL4bal8YE2esde7y96J1RKoMXMZuvYdJNzcqK9wQ\n",
              "UCpSLrdxMDx1PA4nVhA19Fltq2J34q79s6SFnFeU1T89wcnXMMD90aCokXqi6SWAyLVZjltRWwqs\n",
              "P1fcFq+AdArS8OG+Uqc4qkm2foUpQaxOWgl6EkEiSgjXLofnkXMIm0raGj3KbhJ+tZ1kgAby3NBZ\n",
              "2aGYHDaXbFR7tI/pRqxEE2aLjWkMhMn0mG7+V/LsjuBoHQY3a8acG7atdVvywAuwzLsT/LnTLfGF\n",
              "H8BJBZbEefyZscFkqAIMWQAAADJBn25FFSwQ/wAEVKabQc5z91mK8K8j2PisC8jt8ZVrdngUM6uo\n",
              "iwGYn3kC0gn8owBMwQAAABkBn410Q/8ABr7pQwskwem1n8mNIQfDwAspAAAAWQGfj2pD/wAJrBtk\n",
              "GVtZWOLru/p33NSRNT09CuWIzC9cwAtu7nygvOn3VSJgToYzPukm4yJx6ySHFmKVYPvAvpUuXJOf\n",
              "bRK5QOXG0JKiWRgQ0WoaGYBNxB/gAAABrUGblEmoQWyZTAgn//61KoADfPMPv5AEwSotRCVS8uwg\n",
              "2ky8wsC3+x8T0obJvWFMVCY177Z2IOD9/sdP09Re2/X9LHYwvPlNL2rd/C77DPUb69C5SPVUcC+W\n",
              "PZ0QEpaVzorgvY4FgccDwb+FKsE6rJ9WD8ZmH49yRP0uMXVQ4KS3Qn1GzxgEN4qU7olHyqdR6b3H\n",
              "niN5veascv34wfAq3ozx57piT8bkUkb6tpZjqPcjoIpqb+RxWVCcbvhMIdeyiYD8nqgWZU5VZRt/\n",
              "TWrvyRfhWwl+FxJj2SXM79Ivy9PZch2dkLy1/X765ph1oGEml0yQfbZjaP5bzpMKVbd1PyDNmLPk\n",
              "koXFGSTuUX/lpVQaTEYnIPsFpBHjUnOAIqFDoz42r5bsuW5NBuaGHBiM3AfpiK9+Kp1aCV8etm4c\n",
              "rt1coFpFyZQTljYhmeF/6RA4zEX+7kDW3QBormyRXcGF3TtofeMN85MCtlBEAOvCcQ+kU3ICfJn/\n",
              "dxewhIBGKteTwDO1MkLExfnTnR1nJTj65Ov8bqfhBamv3AxB+ruhkZNARUE55pGRsUoXbdu+LgAA\n",
              "ADZBn7JFFSwQ/wAENbZOa77XEGq8NtGkbaatqkRIdeJCNPjaHUQfI5O7gBEnvi4Cs/qHLk+jQwMA\n",
              "AAApAZ/RdEP/AAmq5Xh6+oLZ7iVmqTC99r6xQlQhiAGLenl5lNTqekcAHzAAAAAWAZ/TakP/AAa/\n",
              "x4aB6ucCQnHPUBVwygAAAWtBm9hJqEFsmUwIJ//+tSqAA3la8aMAQ6b7CDUrrngA5c3xeAlOPX3y\n",
              "QIsZKwPjPnXX5LvjJrbFhklkwF2kJwul832jOhUxPSLIN8ZwzDH3X2YzpDSG48RG3CKFiQ8pa2/D\n",
              "586fDsJZo0/ajwVFSqlSTnS/c6xdtOYfEyuxilE36DhK+2pAQuc7fLtS+bGYpqPvdg4QbVPf/Cpd\n",
              "cK+rcbqK4BHYRpcbLsrMl3THWtpSDTtNVm9h4wxwjtmXte9ABSikgyH8AGy9t+JAekF8MoYaCyGw\n",
              "lr3/r4VsiToeNkfWxU9E5kRO81zUfA98scNfixu43vezkO77yYQ8dNTTadbzgaesG8JpH2aqQKzp\n",
              "bglXplxhq/q7EU5FXBrRbHGjv2Axb5YioFUuWf7I4cCnI3fFkK+q5YPRimyZlMokdxzv7eINsW2z\n",
              "jbc62avAvOrW9VvuAhiG1SjWFBwfi0QeWc5/8or0J3PA4vlq4z8AAABGQZ/2RRUsEP8ABFWZHFU7\n",
              "Ng2Dg7qj6yueOUhwAOMyS51h470qqs1Q6eCU2BxCM8McNdQRQlfG2JnFm/L+id8DVtG1JNoMWAAA\n",
              "ACABnhV0Q/8ABr7pOsTDLHOYKtsOyH7wzWbJquNl95aBWwAAABoBnhdqQ/8ACWwbZ1leuvaUg137\n",
              "QZ7iNyxG9QAAAQJBmhxJqEFsmUwIJ//+tSqAA3la8aMANd6X1F4MS/gxlhMdJvYWRbBUKLI9QfYi\n",
              "kUaqOuWOqW1glnJV9b/+NDnHvz0KPk6G3Ws7zTMcHiKv/UHOd/4L9HjQVrNOSYkOjK0f9DfxgdG4\n",
              "i/z0vVxVs7xHg3bzOSYHNHo8py+mO5aYgOgqmLIrhwiox22IDS7ow9qn0SEAINQvIDfZ+81infpV\n",
              "g4hajEcz8RO6m7aY/vMg+Nm0u/8CmoCndVdqwxjuYk3VHe51P3WDi1wJ+OeFuu7LZN07uJMWexNQ\n",
              "Y7iSierCbi1mgYVGqAqhgOtwLKk4qIDtFJiGr0ywUpgVVskC6cM/KYAAAAAoQZ46RRUsEP8ABFV6\n",
              "kPLOX+uS9hKOEZupO6mnd0uxudQJJvAz7MjDpwAAADMBnll0Q/8ACaxlgGTGiQG3lzH6VzAATEq8\n",
              "NWcAJHDwoB6Mfmta7mG4OQQApUGwECrPDZgAAAAbAZ5bakP/AAa/x59a3e+yU1fg9OzeHLO8Mi2F\n",
              "AAAAqkGaQEmoQWyZTAgl//61KoADeVSwJ1ABwu++AhWe68o3aDu0mwopi1k9TVkKpFLRNmeWg5X7\n",
              "IpU8+ug5cgJnFk2eZPUJlzuYMIW9aXBfj8IUeCo4W2S6ck02i/MBytI8tBSO5dxkblB6FvKVOhU7\n",
              "epy1Zr+K6Ij+KrYgaS2oOvvqUZQQy57Tq9w2TqoPLjvWbQh88hjI+wTvLj6iCMUAuxVzy7kPIEWE\n",
              "/AqZAAAALUGefkUVLBD/AARVmQuUeS6OSiEjcEEPYJ8SxOJUqAj76++p0V2FxRLdpgAZtwAAABgB\n",
              "np10Q/8ABr7pPAyxQJs7UdmLGmZgZj4AAAAfAZ6fakP/AAlsG2dZXyW0K9Hs235rOwjpUl/284C7\n",
              "gQAAAEJBmoNJqEFsmUwIf//+qZYAG0HWoeaCZjvrrFtVljc7jvHVG601UYPncAH4TOKhpF9sdn8Q\n",
              "eBVEN3uLMH46p+FZ5RgAAAAtQZ6hRRUsEP8ABFMa7Y1KzDq7057zgnb+CpCS1drQXTmW6GztNcGP\n",
              "e/xdSIj5AAAAIAGewmpD/wAGv8eKw9Y73ui+8+AfVD5fLKK3Z/YggFJAAAAHpm1vb3YAAABsbXZo\n",
              "ZAAAAAAAAAAAAAAAAAAAA+gAAE4gAAEAAAEAAAAAAAAAAAAAAAABAAAAAAAAAAAAAAAAAAAAAQAA\n",
              "AAAAAAAAAAAAAAAAQAAAAAAAAAAAAAAAAAAAAAAAAAAAAAAAAAAAAAAAAAIAAAbQdHJhawAAAFx0\n",
              "a2hkAAAAAwAAAAAAAAAAAAAAAQAAAAAAAE4gAAAAAAAAAAAAAAAAAAAAAAABAAAAAAAAAAAAAAAA\n",
              "AAAAAQAAAAAAAAAAAAAAAAAAQAAAAAGwAAABIAAAAAAAJGVkdHMAAAAcZWxzdAAAAAAAAAABAABO\n",
              "IAAAEAAAAQAAAAAGSG1kaWEAAAAgbWRoZAAAAAAAAAAAAAAAAAAAKAAAAyAAVcQAAAAAAC1oZGxy\n",
              "AAAAAAAAAAB2aWRlAAAAAAAAAAAAAAAAVmlkZW9IYW5kbGVyAAAABfNtaW5mAAAAFHZtaGQAAAAB\n",
              "AAAAAAAAAAAAAAAkZGluZgAAABxkcmVmAAAAAAAAAAEAAAAMdXJsIAAAAAEAAAWzc3RibAAAALNz\n",
              "dHNkAAAAAAAAAAEAAACjYXZjMQAAAAAAAAABAAAAAAAAAAAAAAAAAAAAAAGwASAASAAAAEgAAAAA\n",
              "AAAAAQAAAAAAAAAAAAAAAAAAAAAAAAAAAAAAAAAAAAAAAAAAABj//wAAADFhdmNDAWQAFf/hABhn\n",
              "ZAAVrNlBsJaEAAADAAQAAAMAKDxYtlgBAAZo6+PLIsAAAAAcdXVpZGtoQPJfJE/FujmlG88DI/MA\n",
              "AAAAAAAAGHN0dHMAAAAAAAAAAQAAAGQAAAgAAAAAFHN0c3MAAAAAAAAAAQAAAAEAAAL4Y3R0cwAA\n",
              "AAAAAABdAAAABAAAEAAAAAABAAAYAAAAAAEAAAgAAAAAAQAAIAAAAAACAAAIAAAAAAEAACgAAAAA\n",
              "AQAAEAAAAAABAAAAAAAAAAEAAAgAAAAAAQAAIAAAAAACAAAIAAAAAAEAACgAAAAAAQAAEAAAAAAB\n",
              "AAAAAAAAAAEAAAgAAAAAAQAAGAAAAAABAAAIAAAAAAEAACgAAAAAAQAAEAAAAAABAAAAAAAAAAEA\n",
              "AAgAAAAAAQAAIAAAAAACAAAIAAAAAAEAACgAAAAAAQAAEAAAAAABAAAAAAAAAAEAAAgAAAAAAQAA\n",
              "KAAAAAABAAAQAAAAAAEAAAAAAAAAAQAACAAAAAABAAAoAAAAAAEAABAAAAAAAQAAAAAAAAABAAAI\n",
              "AAAAAAEAACgAAAAAAQAAEAAAAAABAAAAAAAAAAEAAAgAAAAAAQAAKAAAAAABAAAQAAAAAAEAAAAA\n",
              "AAAAAQAACAAAAAABAAAoAAAAAAEAABAAAAAAAQAAAAAAAAABAAAIAAAAAAEAACgAAAAAAQAAEAAA\n",
              "AAABAAAAAAAAAAEAAAgAAAAAAQAAKAAAAAABAAAQAAAAAAEAAAAAAAAAAQAACAAAAAABAAAoAAAA\n",
              "AAEAABAAAAAAAQAAAAAAAAABAAAIAAAAAAEAACgAAAAAAQAAEAAAAAABAAAAAAAAAAEAAAgAAAAA\n",
              "AQAAKAAAAAABAAAQAAAAAAEAAAAAAAAAAQAACAAAAAABAAAoAAAAAAEAABAAAAAAAQAAAAAAAAAB\n",
              "AAAIAAAAAAEAACgAAAAAAQAAEAAAAAABAAAAAAAAAAEAAAgAAAAAAQAAKAAAAAABAAAQAAAAAAEA\n",
              "AAAAAAAAAQAACAAAAAABAAAoAAAAAAEAABAAAAAAAQAAAAAAAAABAAAIAAAAAAEAACgAAAAAAQAA\n",
              "EAAAAAABAAAAAAAAAAEAAAgAAAAAAQAAKAAAAAABAAAQAAAAAAEAAAAAAAAAAQAACAAAAAABAAAg\n",
              "AAAAAAIAAAgAAAAAHHN0c2MAAAAAAAAAAQAAAAEAAABkAAAAAQAAAaRzdHN6AAAAAAAAAAAAAABk\n",
              "AAANTAAAAyoAAAIbAAACcwAAApgAAAByAAAC8AAAAGgAAABDAAADBAAAAH0AAAA2AAAATwAAAj0A\n",
              "AABaAAAAMgAAAnsAAABEAAAATQAAABQAAAHXAAAAJAAAAqIAAAA2AAAAWwAAACMAAAKHAAAAKgAA\n",
              "AF8AAALIAAAAPgAAAFQAAABdAAAC4gAAAEMAAAAnAAAAIgAAAyIAAABPAAAAIgAAAE0AAAJ0AAAA\n",
              "QAAAACwAAAAUAAACfgAAACsAAAATAAAAFAAAAg0AAAAqAAAAEQAAABIAAAI4AAAAJgAAABAAAAAU\n",
              "AAACTwAAADQAAAAZAAAAJAAAAiIAAAAtAAAAOQAAAB8AAAHdAAAALgAAADQAAAAbAAAB1gAAAC8A\n",
              "AABkAAAAWAAAAWIAAAA1AAAAKgAAAB0AAAFkAAAANgAAAB0AAABdAAABsQAAADoAAAAtAAAAGgAA\n",
              "AW8AAABKAAAAJAAAAB4AAAEGAAAALAAAADcAAAAfAAAArgAAADEAAAAcAAAAIwAAAEYAAAAxAAAA\n",
              "JAAAABRzdGNvAAAAAAAAAAEAAAAsAAAAYnVkdGEAAABabWV0YQAAAAAAAAAhaGRscgAAAAAAAAAA\n",
              "bWRpcmFwcGwAAAAAAAAAAAAAAAAtaWxzdAAAACWpdG9vAAAAHWRhdGEAAAABAAAAAExhdmY1Ny44\n",
              "My4xMDA=\n",
              "\">\n",
              "  Your browser does not support the video tag.\n",
              "</video>"
            ],
            "text/plain": [
              "<IPython.core.display.HTML object>"
            ]
          },
          "metadata": {
            "tags": []
          },
          "execution_count": 223
        }
      ]
    },
    {
      "cell_type": "code",
      "metadata": {
        "id": "bMVhfaUbDmoC",
        "colab_type": "code",
        "colab": {}
      },
      "source": [
        ""
      ],
      "execution_count": 0,
      "outputs": []
    }
  ]
}