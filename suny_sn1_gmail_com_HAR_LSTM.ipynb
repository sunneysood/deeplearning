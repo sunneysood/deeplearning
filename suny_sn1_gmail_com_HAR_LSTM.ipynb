{
  "nbformat": 4,
  "nbformat_minor": 0,
  "metadata": {
    "kernelspec": {
      "display_name": "Python 3",
      "language": "python",
      "name": "python3"
    },
    "language_info": {
      "codemirror_mode": {
        "name": "ipython",
        "version": 3
      },
      "file_extension": ".py",
      "mimetype": "text/x-python",
      "name": "python",
      "nbconvert_exporter": "python",
      "pygments_lexer": "ipython3",
      "version": "3.6.1"
    },
    "colab": {
      "name": "suny.sn1@gmail.com HAR_LSTM.ipynb",
      "provenance": [],
      "collapsed_sections": [],
      "include_colab_link": true
    }
  },
  "cells": [
    {
      "cell_type": "markdown",
      "metadata": {
        "id": "view-in-github",
        "colab_type": "text"
      },
      "source": [
        "<a href=\"https://colab.research.google.com/github/sunneysood/deeplearning/blob/master/suny_sn1_gmail_com_HAR_LSTM.ipynb\" target=\"_parent\"><img src=\"https://colab.research.google.com/assets/colab-badge.svg\" alt=\"Open In Colab\"/></a>"
      ]
    },
    {
      "cell_type": "code",
      "metadata": {
        "id": "eduy5AIiupDN",
        "colab_type": "code",
        "colab": {}
      },
      "source": [
        "# Importing Libraries"
      ],
      "execution_count": 0,
      "outputs": []
    },
    {
      "cell_type": "code",
      "metadata": {
        "id": "UAysDxUTupDS",
        "colab_type": "code",
        "colab": {}
      },
      "source": [
        "import pandas as pd\n",
        "import numpy as np"
      ],
      "execution_count": 0,
      "outputs": []
    },
    {
      "cell_type": "code",
      "metadata": {
        "id": "Yjg1AjIqupDV",
        "colab_type": "code",
        "colab": {}
      },
      "source": [
        "# Activities are the class labels\n",
        "# It is a 6 class classification\n",
        "ACTIVITIES = {\n",
        "    0: 'WALKING',\n",
        "    1: 'WALKING_UPSTAIRS',\n",
        "    2: 'WALKING_DOWNSTAIRS',\n",
        "    3: 'SITTING',\n",
        "    4: 'STANDING',\n",
        "    5: 'LAYING',\n",
        "}\n",
        "\n",
        "# Utility function to print the confusion matrix\n",
        "def confusion_matrix(Y_true, Y_pred):\n",
        "    Y_true = pd.Series([ACTIVITIES[y] for y in np.argmax(Y_true, axis=1)])\n",
        "    Y_pred = pd.Series([ACTIVITIES[y] for y in np.argmax(Y_pred, axis=1)])\n",
        "\n",
        "    return pd.crosstab(Y_true, Y_pred, rownames=['True'], colnames=['Pred'])"
      ],
      "execution_count": 0,
      "outputs": []
    },
    {
      "cell_type": "markdown",
      "metadata": {
        "id": "cmcYL-FCupDX",
        "colab_type": "text"
      },
      "source": [
        "### Data"
      ]
    },
    {
      "cell_type": "code",
      "metadata": {
        "id": "i7C8N8uOupDX",
        "colab_type": "code",
        "colab": {}
      },
      "source": [
        "# Data directory\n",
        "DATADIR = '/content/drive/My Drive/HumanActivityRecognition/HAR/UCI_HAR_Dataset'"
      ],
      "execution_count": 0,
      "outputs": []
    },
    {
      "cell_type": "code",
      "metadata": {
        "id": "BAcsWAZvupDZ",
        "colab_type": "code",
        "colab": {}
      },
      "source": [
        "# Raw data signals\n",
        "# Signals are from Accelerometer and Gyroscope\n",
        "# The signals are in x,y,z directions\n",
        "# Sensor signals are filtered to have only body acceleration\n",
        "# excluding the acceleration due to gravity\n",
        "# Triaxial acceleration from the accelerometer is total acceleration\n",
        "SIGNALS = [\n",
        "    \"body_acc_x\",\n",
        "    \"body_acc_y\",\n",
        "    \"body_acc_z\",\n",
        "    \"body_gyro_x\",\n",
        "    \"body_gyro_y\",\n",
        "    \"body_gyro_z\",\n",
        "    \"total_acc_x\",\n",
        "    \"total_acc_y\",\n",
        "    \"total_acc_z\"\n",
        "]"
      ],
      "execution_count": 0,
      "outputs": []
    },
    {
      "cell_type": "code",
      "metadata": {
        "id": "QPwBxAiKupDd",
        "colab_type": "code",
        "colab": {}
      },
      "source": [
        "# Utility function to read the data from csv file\n",
        "def _read_csv(filename):\n",
        "    return pd.read_csv(filename, delim_whitespace=True, header=None)\n",
        "\n",
        "# Utility function to load the load\n",
        "def load_signals(subset):\n",
        "    signals_data = []\n",
        "\n",
        "    for signal in SIGNALS:\n",
        "        filename = f'/content/drive/My Drive/HumanActivityRecognition/HAR/UCI_HAR_Dataset/{subset}/Inertial Signals/{signal}_{subset}.txt'\n",
        "        signals_data.append(\n",
        "            _read_csv(filename).as_matrix()\n",
        "        ) \n",
        "\n",
        "    # Transpose is used to change the dimensionality of the output,\n",
        "    # aggregating the signals by combination of sample/timestep.\n",
        "    # Resultant shape is (7352 train/2947 test samples, 128 timesteps, 9 signals)\n",
        "    return np.transpose(signals_data, (1, 2, 0))"
      ],
      "execution_count": 0,
      "outputs": []
    },
    {
      "cell_type": "code",
      "metadata": {
        "id": "4mD9NyARupDf",
        "colab_type": "code",
        "colab": {}
      },
      "source": [
        "\n",
        "def load_y(subset):\n",
        "    \"\"\"\n",
        "    The objective that we are trying to predict is a integer, from 1 to 6,\n",
        "    that represents a human activity. We return a binary representation of \n",
        "    every sample objective as a 6 bits vector using One Hot Encoding\n",
        "    (https://pandas.pydata.org/pandas-docs/stable/generated/pandas.get_dummies.html)\n",
        "    \"\"\"\n",
        "    filename = f'/content/drive/My Drive/HumanActivityRecognition/HAR/UCI_HAR_Dataset/{subset}/y_{subset}.txt'\n",
        "    y = _read_csv(filename)[0]\n",
        "\n",
        "    return pd.get_dummies(y).as_matrix()"
      ],
      "execution_count": 0,
      "outputs": []
    },
    {
      "cell_type": "code",
      "metadata": {
        "id": "Z3vSqP5MupDg",
        "colab_type": "code",
        "colab": {}
      },
      "source": [
        "def load_data():\n",
        "    \"\"\"\n",
        "    Obtain the dataset from multiple files.\n",
        "    Returns: X_train, X_test, y_train, y_test\n",
        "    \"\"\"\n",
        "    X_train, X_test = load_signals('train'), load_signals('test')\n",
        "    y_train, y_test = load_y('train'), load_y('test')\n",
        "\n",
        "    return X_train, X_test, y_train, y_test"
      ],
      "execution_count": 0,
      "outputs": []
    },
    {
      "cell_type": "code",
      "metadata": {
        "id": "KWh1QPorupDi",
        "colab_type": "code",
        "colab": {}
      },
      "source": [
        "# Importing tensorflow\n",
        "np.random.seed(42)\n",
        "import tensorflow as tf\n",
        "tf.set_random_seed(42)"
      ],
      "execution_count": 0,
      "outputs": []
    },
    {
      "cell_type": "code",
      "metadata": {
        "id": "Hg5Un3N7upDk",
        "colab_type": "code",
        "colab": {}
      },
      "source": [
        "# Configuring a session\n",
        "session_conf = tf.ConfigProto(\n",
        "    intra_op_parallelism_threads=1,\n",
        "    inter_op_parallelism_threads=1\n",
        ")"
      ],
      "execution_count": 0,
      "outputs": []
    },
    {
      "cell_type": "code",
      "metadata": {
        "id": "Hh3v5S5supDm",
        "colab_type": "code",
        "colab": {}
      },
      "source": [
        "# Import Keras\n",
        "from keras import backend as K\n",
        "sess = tf.Session(graph=tf.get_default_graph(), config=session_conf)\n",
        "K.set_session(sess)"
      ],
      "execution_count": 0,
      "outputs": []
    },
    {
      "cell_type": "code",
      "metadata": {
        "id": "F60JfJhIupDo",
        "colab_type": "code",
        "colab": {}
      },
      "source": [
        "# Importing libraries\n",
        "from keras.models import Sequential\n",
        "from keras.layers import LSTM\n",
        "from keras.layers.core import Dense, Dropout"
      ],
      "execution_count": 0,
      "outputs": []
    },
    {
      "cell_type": "code",
      "metadata": {
        "id": "sTDuR2meupDs",
        "colab_type": "code",
        "colab": {}
      },
      "source": [
        "# Utility function to count the number of classes\n",
        "def _count_classes(y):\n",
        "    return len(set([tuple(category) for category in y]))"
      ],
      "execution_count": 0,
      "outputs": []
    },
    {
      "cell_type": "code",
      "metadata": {
        "id": "D-c6GCw5vTp_",
        "colab_type": "code",
        "colab": {
          "base_uri": "https://localhost:8080/",
          "height": 34
        },
        "outputId": "b86afd6f-4d22-4981-c476-f8d58cba2d78"
      },
      "source": [
        "from google.colab import drive\n",
        "drive.mount('/content/drive')"
      ],
      "execution_count": 40,
      "outputs": [
        {
          "output_type": "stream",
          "text": [
            "Drive already mounted at /content/drive; to attempt to forcibly remount, call drive.mount(\"/content/drive\", force_remount=True).\n"
          ],
          "name": "stdout"
        }
      ]
    },
    {
      "cell_type": "code",
      "metadata": {
        "id": "lIM-6fD3upDu",
        "colab_type": "code",
        "colab": {
          "base_uri": "https://localhost:8080/",
          "height": 84
        },
        "outputId": "4851ac59-33a2-4481-e240-486089821737"
      },
      "source": [
        "# Loading the train and test data\n",
        "X_train, X_test, Y_train, Y_test = load_data()"
      ],
      "execution_count": 41,
      "outputs": [
        {
          "output_type": "stream",
          "text": [
            "/usr/local/lib/python3.6/dist-packages/ipykernel_launcher.py:11: FutureWarning: Method .as_matrix will be removed in a future version. Use .values instead.\n",
            "  # This is added back by InteractiveShellApp.init_path()\n",
            "/usr/local/lib/python3.6/dist-packages/ipykernel_launcher.py:12: FutureWarning: Method .as_matrix will be removed in a future version. Use .values instead.\n",
            "  if sys.path[0] == '':\n"
          ],
          "name": "stderr"
        }
      ]
    },
    {
      "cell_type": "code",
      "metadata": {
        "id": "uoKvNnJnupDw",
        "colab_type": "code",
        "colab": {
          "base_uri": "https://localhost:8080/",
          "height": 67
        },
        "outputId": "7ce3c665-e491-4c46-eb4b-f4207bf09762"
      },
      "source": [
        "timesteps = len(X_train[0])\n",
        "input_dim = len(X_train[0][0])\n",
        "n_classes = _count_classes(Y_train)\n",
        "\n",
        "print(timesteps)\n",
        "print(input_dim)\n",
        "print(len(X_train))"
      ],
      "execution_count": 42,
      "outputs": [
        {
          "output_type": "stream",
          "text": [
            "128\n",
            "9\n",
            "7352\n"
          ],
          "name": "stdout"
        }
      ]
    },
    {
      "cell_type": "markdown",
      "metadata": {
        "id": "pakinBoWupDz",
        "colab_type": "text"
      },
      "source": [
        "- Defining the Architecture of LSTM"
      ]
    },
    {
      "cell_type": "code",
      "metadata": {
        "id": "bF-_AHSqupDq",
        "colab_type": "code",
        "colab": {}
      },
      "source": [
        "# Initializing parameters\n",
        "epochs = 30\n",
        "batch_size = 100\n",
        "n_hidden = 128"
      ],
      "execution_count": 0,
      "outputs": []
    },
    {
      "cell_type": "code",
      "metadata": {
        "id": "ADzvpYLZupDz",
        "colab_type": "code",
        "colab": {
          "base_uri": "https://localhost:8080/",
          "height": 269
        },
        "outputId": "8bda59b8-fc68-420f-f655-a8e19e73dd74"
      },
      "source": [
        "# Initiliazing the sequential model\n",
        "model = Sequential()\n",
        "# Configuring the parameters\n",
        "model.add(LSTM(n_hidden, input_shape=(timesteps, input_dim)))\n",
        "# Adding a dropout layer\n",
        "model.add(Dropout(0.65))\n",
        "# Adding a dense output layer with sigmoid activation\n",
        "model.add(Dense(n_classes, activation='sigmoid'))\n",
        "model.summary()"
      ],
      "execution_count": 59,
      "outputs": [
        {
          "output_type": "stream",
          "text": [
            "WARNING:tensorflow:Large dropout rate: 0.65 (>0.5). In TensorFlow 2.x, dropout() uses dropout rate instead of keep_prob. Please ensure that this is intended.\n",
            "Model: \"sequential_5\"\n",
            "_________________________________________________________________\n",
            "Layer (type)                 Output Shape              Param #   \n",
            "=================================================================\n",
            "lstm_5 (LSTM)                (None, 128)               70656     \n",
            "_________________________________________________________________\n",
            "dropout_5 (Dropout)          (None, 128)               0         \n",
            "_________________________________________________________________\n",
            "dense_5 (Dense)              (None, 6)                 774       \n",
            "=================================================================\n",
            "Total params: 71,430\n",
            "Trainable params: 71,430\n",
            "Non-trainable params: 0\n",
            "_________________________________________________________________\n"
          ],
          "name": "stdout"
        }
      ]
    },
    {
      "cell_type": "code",
      "metadata": {
        "id": "W5HG7WFdupD1",
        "colab_type": "code",
        "colab": {}
      },
      "source": [
        "# Compiling the model\n",
        "model.compile(loss='categorical_crossentropy',\n",
        "              optimizer='rmsprop',\n",
        "              metrics=['accuracy'])"
      ],
      "execution_count": 0,
      "outputs": []
    },
    {
      "cell_type": "code",
      "metadata": {
        "id": "IktVyUvZupD3",
        "colab_type": "code",
        "colab": {
          "base_uri": "https://localhost:8080/",
          "height": 1000
        },
        "outputId": "5e9f82a7-c2f3-471a-bbe7-f895984aedb6"
      },
      "source": [
        "# Training the model\n",
        "history = model.fit(X_train,\n",
        "          Y_train,\n",
        "          batch_size=batch_size,\n",
        "          validation_data=(X_test, Y_test),\n",
        "          epochs=epochs)"
      ],
      "execution_count": 62,
      "outputs": [
        {
          "output_type": "stream",
          "text": [
            "Train on 7352 samples, validate on 2947 samples\n",
            "Epoch 1/30\n",
            "7352/7352 [==============================] - 22s 3ms/step - loss: 1.0345 - acc: 0.5282 - val_loss: 0.9262 - val_acc: 0.5867\n",
            "Epoch 2/30\n",
            "7352/7352 [==============================] - 22s 3ms/step - loss: 0.8813 - acc: 0.5860 - val_loss: 0.8485 - val_acc: 0.6040\n",
            "Epoch 3/30\n",
            "7352/7352 [==============================] - 22s 3ms/step - loss: 0.8985 - acc: 0.5890 - val_loss: 0.8615 - val_acc: 0.6155\n",
            "Epoch 4/30\n",
            "7352/7352 [==============================] - 22s 3ms/step - loss: 0.8167 - acc: 0.6243 - val_loss: 0.8361 - val_acc: 0.6098\n",
            "Epoch 5/30\n",
            "7352/7352 [==============================] - 22s 3ms/step - loss: 0.7745 - acc: 0.6376 - val_loss: 0.9378 - val_acc: 0.4744\n",
            "Epoch 6/30\n",
            "7352/7352 [==============================] - 22s 3ms/step - loss: 0.7450 - acc: 0.6510 - val_loss: 1.0948 - val_acc: 0.5718\n",
            "Epoch 7/30\n",
            "7352/7352 [==============================] - 22s 3ms/step - loss: 0.7707 - acc: 0.6484 - val_loss: 0.7364 - val_acc: 0.6654\n",
            "Epoch 8/30\n",
            "7352/7352 [==============================] - 22s 3ms/step - loss: 0.6675 - acc: 0.6918 - val_loss: 1.2847 - val_acc: 0.5209\n",
            "Epoch 9/30\n",
            "7352/7352 [==============================] - 22s 3ms/step - loss: 0.6324 - acc: 0.7062 - val_loss: 0.7864 - val_acc: 0.6837\n",
            "Epoch 10/30\n",
            "7352/7352 [==============================] - 22s 3ms/step - loss: 0.6827 - acc: 0.6961 - val_loss: 0.7893 - val_acc: 0.6647\n",
            "Epoch 11/30\n",
            "7352/7352 [==============================] - 22s 3ms/step - loss: 0.6615 - acc: 0.7252 - val_loss: 0.6337 - val_acc: 0.7492\n",
            "Epoch 12/30\n",
            "7352/7352 [==============================] - 22s 3ms/step - loss: 0.5697 - acc: 0.7720 - val_loss: 0.6366 - val_acc: 0.7672\n",
            "Epoch 13/30\n",
            "7352/7352 [==============================] - 22s 3ms/step - loss: 0.5355 - acc: 0.7905 - val_loss: 0.5665 - val_acc: 0.7767\n",
            "Epoch 14/30\n",
            "7352/7352 [==============================] - 22s 3ms/step - loss: 0.4792 - acc: 0.8186 - val_loss: 0.5448 - val_acc: 0.7581\n",
            "Epoch 15/30\n",
            "7352/7352 [==============================] - 21s 3ms/step - loss: 0.4198 - acc: 0.8453 - val_loss: 0.4571 - val_acc: 0.8232\n",
            "Epoch 16/30\n",
            "7352/7352 [==============================] - 21s 3ms/step - loss: 0.3814 - acc: 0.8598 - val_loss: 0.4533 - val_acc: 0.8364\n",
            "Epoch 17/30\n",
            "7352/7352 [==============================] - 21s 3ms/step - loss: 0.3523 - acc: 0.8758 - val_loss: 0.5148 - val_acc: 0.8256\n",
            "Epoch 18/30\n",
            "7352/7352 [==============================] - 22s 3ms/step - loss: 0.3440 - acc: 0.8915 - val_loss: 0.4650 - val_acc: 0.8612\n",
            "Epoch 19/30\n",
            "7352/7352 [==============================] - 21s 3ms/step - loss: 0.3027 - acc: 0.8983 - val_loss: 0.4133 - val_acc: 0.8649\n",
            "Epoch 20/30\n",
            "7352/7352 [==============================] - 22s 3ms/step - loss: 0.2700 - acc: 0.9097 - val_loss: 0.6441 - val_acc: 0.7567\n",
            "Epoch 21/30\n",
            "7352/7352 [==============================] - 21s 3ms/step - loss: 0.2301 - acc: 0.9215 - val_loss: 0.4314 - val_acc: 0.8802\n",
            "Epoch 22/30\n",
            "7352/7352 [==============================] - 21s 3ms/step - loss: 0.2169 - acc: 0.9251 - val_loss: 0.3654 - val_acc: 0.8935\n",
            "Epoch 23/30\n",
            "7352/7352 [==============================] - 21s 3ms/step - loss: 0.2011 - acc: 0.9289 - val_loss: 0.3795 - val_acc: 0.8734\n",
            "Epoch 24/30\n",
            "7352/7352 [==============================] - 22s 3ms/step - loss: 0.2096 - acc: 0.9325 - val_loss: 0.3477 - val_acc: 0.8989\n",
            "Epoch 25/30\n",
            "7352/7352 [==============================] - 21s 3ms/step - loss: 0.2006 - acc: 0.9321 - val_loss: 0.2959 - val_acc: 0.9063\n",
            "Epoch 26/30\n",
            "7352/7352 [==============================] - 21s 3ms/step - loss: 0.1875 - acc: 0.9316 - val_loss: 0.3135 - val_acc: 0.8907\n",
            "Epoch 27/30\n",
            "7352/7352 [==============================] - 21s 3ms/step - loss: 0.1674 - acc: 0.9393 - val_loss: 0.3008 - val_acc: 0.9091\n",
            "Epoch 28/30\n",
            "7352/7352 [==============================] - 22s 3ms/step - loss: 0.1893 - acc: 0.9361 - val_loss: 0.3185 - val_acc: 0.8965\n",
            "Epoch 29/30\n",
            "7352/7352 [==============================] - 22s 3ms/step - loss: 0.1619 - acc: 0.9397 - val_loss: 0.3061 - val_acc: 0.9060\n",
            "Epoch 30/30\n",
            "7352/7352 [==============================] - 22s 3ms/step - loss: 0.1798 - acc: 0.9340 - val_loss: 0.3926 - val_acc: 0.9016\n"
          ],
          "name": "stdout"
        }
      ]
    },
    {
      "cell_type": "code",
      "metadata": {
        "id": "IbpDZ74kupD8",
        "colab_type": "code",
        "colab": {
          "base_uri": "https://localhost:8080/",
          "height": 185
        },
        "outputId": "f9a6627f-72c4-411f-c4c7-2d2eb9012436"
      },
      "source": [
        "# Confusion Matrix\n",
        "print(confusion_matrix(Y_test, model.predict(X_test)))"
      ],
      "execution_count": 63,
      "outputs": [
        {
          "output_type": "stream",
          "text": [
            "Pred                LAYING  SITTING  ...  WALKING_DOWNSTAIRS  WALKING_UPSTAIRS\n",
            "True                                 ...                                      \n",
            "LAYING                 511        0  ...                   0                26\n",
            "SITTING                  1      409  ...                   0                21\n",
            "STANDING                 0      103  ...                   0                 2\n",
            "WALKING                  0        0  ...                  41                 3\n",
            "WALKING_DOWNSTAIRS       0        0  ...                 413                 5\n",
            "WALKING_UPSTAIRS         0        0  ...                  11               451\n",
            "\n",
            "[6 rows x 6 columns]\n"
          ],
          "name": "stdout"
        }
      ]
    },
    {
      "cell_type": "code",
      "metadata": {
        "id": "uc0fBoB5upD_",
        "colab_type": "code",
        "colab": {
          "base_uri": "https://localhost:8080/",
          "height": 34
        },
        "outputId": "67fb0147-eaaf-4dfa-dd43-f7698bf356de"
      },
      "source": [
        "score_model1 = model.evaluate(X_test, Y_test)"
      ],
      "execution_count": 64,
      "outputs": [
        {
          "output_type": "stream",
          "text": [
            "2947/2947 [==============================] - 2s 807us/step\n"
          ],
          "name": "stdout"
        }
      ]
    },
    {
      "cell_type": "code",
      "metadata": {
        "id": "zFxpt5cmupEB",
        "colab_type": "code",
        "colab": {
          "base_uri": "https://localhost:8080/",
          "height": 34
        },
        "outputId": "3ddd3946-50b8-41f2-93c2-cecbb27b8a69"
      },
      "source": [
        "score_model1"
      ],
      "execution_count": 65,
      "outputs": [
        {
          "output_type": "execute_result",
          "data": {
            "text/plain": [
              "[0.39255878280461215, 0.9015948422124194]"
            ]
          },
          "metadata": {
            "tags": []
          },
          "execution_count": 65
        }
      ]
    },
    {
      "cell_type": "code",
      "metadata": {
        "id": "FunULqW98IEH",
        "colab_type": "code",
        "colab": {}
      },
      "source": [
        "#https://github.com/sunneysood/Tensorflow/blob/master/Multi_Layer_LSTM.ipynb\n",
        "import matplotlib.pyplot as plt\n",
        "\n",
        "\n",
        "def plot_graphs(history, string):\n",
        "  plt.plot(history.history[string])\n",
        "  plt.plot(history.history['val_'+string])\n",
        "  plt.xlabel(\"Epochs\")\n",
        "  plt.ylabel(string)\n",
        "  plt.legend([string, 'val_'+string])\n",
        "  plt.show()"
      ],
      "execution_count": 0,
      "outputs": []
    },
    {
      "cell_type": "code",
      "metadata": {
        "id": "PB9onSOH8KCE",
        "colab_type": "code",
        "colab": {
          "base_uri": "https://localhost:8080/",
          "height": 541
        },
        "outputId": "8e98233f-6a43-4909-ba16-943ad18e0357"
      },
      "source": [
        "plot_graphs(history, 'acc')\n",
        "plot_graphs(history, 'loss')"
      ],
      "execution_count": 67,
      "outputs": [
        {
          "output_type": "display_data",
          "data": {
            "image/png": "[encoded data removed]",
            "text/plain": [
              "<Figure size 432x288 with 1 Axes>"
            ]
          },
          "metadata": {
            "tags": []
          }
        },
        {
          "output_type": "display_data",
          "data": {
            "image/png": "[encoded data removed]",
            "text/plain": [
              "<Figure size 432x288 with 1 Axes>"
            ]
          },
          "metadata": {
            "tags": []
          }
        }
      ]
    },
    {
      "cell_type": "markdown",
      "metadata": {
        "id": "OmNnx8IoupEC",
        "colab_type": "text"
      },
      "source": [
        "- With a simple 2 layer architecture we got 90.09% accuracy and a loss of 0.30\n",
        "- We can further imporve the performace with Hyperparameter tuning"
      ]
    },
    {
      "cell_type": "markdown",
      "metadata": {
        "id": "efBvnzn988fz",
        "colab_type": "text"
      },
      "source": [
        "# Model 2"
      ]
    },
    {
      "cell_type": "code",
      "metadata": {
        "id": "-OOKwl5L9AFR",
        "colab_type": "code",
        "colab": {}
      },
      "source": [
        ""
      ],
      "execution_count": 0,
      "outputs": []
    },
    {
      "cell_type": "code",
      "metadata": {
        "colab_type": "code",
        "id": "5qkncBIP9KZk",
        "colab": {}
      },
      "source": [
        "# Initializing parameters\n",
        "epochs = 30\n",
        "batch_size = 100\n",
        "n_hidden = 32"
      ],
      "execution_count": 0,
      "outputs": []
    },
    {
      "cell_type": "code",
      "metadata": {
        "colab_type": "code",
        "outputId": "940263b5-a85f-4d55-bcbe-559d7639c645",
        "id": "735ZyT-P9KZq",
        "colab": {
          "base_uri": "https://localhost:8080/",
          "height": 269
        }
      },
      "source": [
        "# Initiliazing the sequential model\n",
        "model = Sequential()\n",
        "# Configuring the parameters\n",
        "model.add(LSTM(n_hidden, input_shape=(timesteps, input_dim)))\n",
        "# Adding a dropout layer\n",
        "model.add(Dropout(0.70))\n",
        "# Adding a dense output layer with sigmoid activation\n",
        "model.add(Dense(n_classes, activation='sigmoid'))\n",
        "model.summary()"
      ],
      "execution_count": 69,
      "outputs": [
        {
          "output_type": "stream",
          "text": [
            "WARNING:tensorflow:Large dropout rate: 0.7 (>0.5). In TensorFlow 2.x, dropout() uses dropout rate instead of keep_prob. Please ensure that this is intended.\n",
            "Model: \"sequential_6\"\n",
            "_________________________________________________________________\n",
            "Layer (type)                 Output Shape              Param #   \n",
            "=================================================================\n",
            "lstm_6 (LSTM)                (None, 32)                5376      \n",
            "_________________________________________________________________\n",
            "dropout_6 (Dropout)          (None, 32)                0         \n",
            "_________________________________________________________________\n",
            "dense_6 (Dense)              (None, 6)                 198       \n",
            "=================================================================\n",
            "Total params: 5,574\n",
            "Trainable params: 5,574\n",
            "Non-trainable params: 0\n",
            "_________________________________________________________________\n"
          ],
          "name": "stdout"
        }
      ]
    },
    {
      "cell_type": "code",
      "metadata": {
        "colab_type": "code",
        "id": "defSwyby9KZs",
        "colab": {}
      },
      "source": [
        "# Compiling the model\n",
        "model.compile(loss='categorical_crossentropy',\n",
        "              optimizer='rmsprop',\n",
        "              metrics=['accuracy'])"
      ],
      "execution_count": 0,
      "outputs": []
    },
    {
      "cell_type": "code",
      "metadata": {
        "colab_type": "code",
        "outputId": "03e9e106-6615-476a-afee-7b836f877bb7",
        "id": "aNNyy-gU9KZv",
        "colab": {
          "base_uri": "https://localhost:8080/",
          "height": 1000
        }
      },
      "source": [
        "# Training the model\n",
        "history = model.fit(X_train,\n",
        "          Y_train,\n",
        "          batch_size=batch_size,\n",
        "          validation_data=(X_test, Y_test),\n",
        "          epochs=epochs)"
      ],
      "execution_count": 71,
      "outputs": [
        {
          "output_type": "stream",
          "text": [
            "Train on 7352 samples, validate on 2947 samples\n",
            "Epoch 1/30\n",
            "7352/7352 [==============================] - 8s 1ms/step - loss: 1.5767 - acc: 0.3376 - val_loss: 1.4419 - val_acc: 0.4299\n",
            "Epoch 2/30\n",
            "7352/7352 [==============================] - 7s 976us/step - loss: 1.3600 - acc: 0.4294 - val_loss: 1.3160 - val_acc: 0.5348\n",
            "Epoch 3/30\n",
            "7352/7352 [==============================] - 7s 954us/step - loss: 1.2362 - acc: 0.5046 - val_loss: 1.1664 - val_acc: 0.5568\n",
            "Epoch 4/30\n",
            "7352/7352 [==============================] - 7s 957us/step - loss: 1.1097 - acc: 0.5540 - val_loss: 1.0417 - val_acc: 0.6176\n",
            "Epoch 5/30\n",
            "7352/7352 [==============================] - 7s 990us/step - loss: 1.0189 - acc: 0.5783 - val_loss: 0.9539 - val_acc: 0.6250\n",
            "Epoch 6/30\n",
            "7352/7352 [==============================] - 7s 961us/step - loss: 0.9512 - acc: 0.5883 - val_loss: 0.8754 - val_acc: 0.6369\n",
            "Epoch 7/30\n",
            "7352/7352 [==============================] - 7s 944us/step - loss: 0.9014 - acc: 0.6084 - val_loss: 0.9026 - val_acc: 0.6121\n",
            "Epoch 8/30\n",
            "7352/7352 [==============================] - 7s 916us/step - loss: 0.8913 - acc: 0.6166 - val_loss: 0.8440 - val_acc: 0.6135\n",
            "Epoch 9/30\n",
            "7352/7352 [==============================] - 7s 925us/step - loss: 0.8406 - acc: 0.6226 - val_loss: 0.7878 - val_acc: 0.6267\n",
            "Epoch 10/30\n",
            "7352/7352 [==============================] - 7s 927us/step - loss: 0.8130 - acc: 0.6304 - val_loss: 0.7823 - val_acc: 0.6111\n",
            "Epoch 11/30\n",
            "7352/7352 [==============================] - 7s 907us/step - loss: 0.7991 - acc: 0.6362 - val_loss: 0.7787 - val_acc: 0.6230\n",
            "Epoch 12/30\n",
            "7352/7352 [==============================] - 7s 928us/step - loss: 0.8029 - acc: 0.6398 - val_loss: 0.7750 - val_acc: 0.6186\n",
            "Epoch 13/30\n",
            "7352/7352 [==============================] - 7s 918us/step - loss: 0.7710 - acc: 0.6461 - val_loss: 0.7657 - val_acc: 0.6132\n",
            "Epoch 14/30\n",
            "7352/7352 [==============================] - 7s 957us/step - loss: 0.7591 - acc: 0.6504 - val_loss: 0.7562 - val_acc: 0.6108\n",
            "Epoch 15/30\n",
            "7352/7352 [==============================] - 7s 937us/step - loss: 0.7483 - acc: 0.6540 - val_loss: 0.7660 - val_acc: 0.6125\n",
            "Epoch 16/30\n",
            "7352/7352 [==============================] - 7s 929us/step - loss: 0.7520 - acc: 0.6564 - val_loss: 0.7545 - val_acc: 0.6121\n",
            "Epoch 17/30\n",
            "7352/7352 [==============================] - 7s 943us/step - loss: 0.7449 - acc: 0.6464 - val_loss: 0.7459 - val_acc: 0.6162\n",
            "Epoch 18/30\n",
            "7352/7352 [==============================] - 7s 923us/step - loss: 0.7314 - acc: 0.6511 - val_loss: 0.7269 - val_acc: 0.6169\n",
            "Epoch 19/30\n",
            "7352/7352 [==============================] - 7s 931us/step - loss: 0.7129 - acc: 0.6523 - val_loss: 0.7315 - val_acc: 0.6149\n",
            "Epoch 20/30\n",
            "7352/7352 [==============================] - 7s 937us/step - loss: 0.7262 - acc: 0.6499 - val_loss: 0.7037 - val_acc: 0.6125\n",
            "Epoch 21/30\n",
            "7352/7352 [==============================] - 7s 906us/step - loss: 0.7025 - acc: 0.6598 - val_loss: 0.7397 - val_acc: 0.6071\n",
            "Epoch 22/30\n",
            "7352/7352 [==============================] - 7s 933us/step - loss: 0.6922 - acc: 0.6608 - val_loss: 0.6847 - val_acc: 0.6159\n",
            "Epoch 23/30\n",
            "7352/7352 [==============================] - 7s 890us/step - loss: 0.7103 - acc: 0.6621 - val_loss: 0.7191 - val_acc: 0.6037\n",
            "Epoch 24/30\n",
            "7352/7352 [==============================] - 7s 908us/step - loss: 0.6703 - acc: 0.6674 - val_loss: 0.6795 - val_acc: 0.6155\n",
            "Epoch 25/30\n",
            "7352/7352 [==============================] - 7s 923us/step - loss: 0.6590 - acc: 0.6655 - val_loss: 0.6377 - val_acc: 0.6108\n",
            "Epoch 26/30\n",
            "7352/7352 [==============================] - 7s 930us/step - loss: 0.7383 - acc: 0.6416 - val_loss: 0.6558 - val_acc: 0.6108\n",
            "Epoch 27/30\n",
            "7352/7352 [==============================] - 7s 934us/step - loss: 0.6518 - acc: 0.6771 - val_loss: 0.6242 - val_acc: 0.6203\n",
            "Epoch 28/30\n",
            "7352/7352 [==============================] - 7s 921us/step - loss: 0.6866 - acc: 0.6620 - val_loss: 0.6109 - val_acc: 0.6152\n",
            "Epoch 29/30\n",
            "7352/7352 [==============================] - 7s 941us/step - loss: 0.6379 - acc: 0.6873 - val_loss: 0.6285 - val_acc: 0.6247\n",
            "Epoch 30/30\n",
            "7352/7352 [==============================] - 7s 922us/step - loss: 0.6270 - acc: 0.6861 - val_loss: 0.6686 - val_acc: 0.6284\n"
          ],
          "name": "stdout"
        }
      ]
    },
    {
      "cell_type": "code",
      "metadata": {
        "colab_type": "code",
        "outputId": "8b2dd3e5-04db-48af-b52f-bda431e529b1",
        "id": "mAMxh-o39KZx",
        "colab": {}
      },
      "source": [
        "# Confusion Matrix\n",
        "print(confusion_matrix(Y_test, model.predict(X_test)))"
      ],
      "execution_count": 0,
      "outputs": [
        {
          "output_type": "stream",
          "text": [
            "Pred                LAYING  SITTING  STANDING  WALKING  WALKING_DOWNSTAIRS  \\\n",
            "True                                                                         \n",
            "LAYING                 512        0        25        0                   0   \n",
            "SITTING                  3      410        75        0                   0   \n",
            "STANDING                 0       87       445        0                   0   \n",
            "WALKING                  0        0         0      481                   2   \n",
            "WALKING_DOWNSTAIRS       0        0         0        0                 382   \n",
            "WALKING_UPSTAIRS         0        0         0        2                  18   \n",
            "\n",
            "Pred                WALKING_UPSTAIRS  \n",
            "True                                  \n",
            "LAYING                             0  \n",
            "SITTING                            3  \n",
            "STANDING                           0  \n",
            "WALKING                           13  \n",
            "WALKING_DOWNSTAIRS                38  \n",
            "WALKING_UPSTAIRS                 451  \n"
          ],
          "name": "stdout"
        }
      ]
    },
    {
      "cell_type": "code",
      "metadata": {
        "colab_type": "code",
        "outputId": "fae28866-97e7-45d3-cd8c-7b2abdb1ccf2",
        "id": "jIsi9KMp9KZz",
        "colab": {
          "base_uri": "https://localhost:8080/",
          "height": 34
        }
      },
      "source": [
        "score_model2 = model.evaluate(X_test, Y_test)"
      ],
      "execution_count": 72,
      "outputs": [
        {
          "output_type": "stream",
          "text": [
            "2947/2947 [==============================] - 1s 318us/step\n"
          ],
          "name": "stdout"
        }
      ]
    },
    {
      "cell_type": "code",
      "metadata": {
        "colab_type": "code",
        "outputId": "3b93eb23-04b7-4d96-d89c-0dfdc8e65d5f",
        "id": "i1diEjGI9KZ2",
        "colab": {
          "base_uri": "https://localhost:8080/",
          "height": 34
        }
      },
      "source": [
        "score_model2"
      ],
      "execution_count": 73,
      "outputs": [
        {
          "output_type": "execute_result",
          "data": {
            "text/plain": [
              "[0.6685546384824103, 0.6284356973193078]"
            ]
          },
          "metadata": {
            "tags": []
          },
          "execution_count": 73
        }
      ]
    },
    {
      "cell_type": "code",
      "metadata": {
        "colab_type": "code",
        "id": "N2oQGOLs9KZ4",
        "colab": {}
      },
      "source": [
        "#https://github.com/sunneysood/Tensorflow/blob/master/Multi_Layer_LSTM.ipynb\n",
        "import matplotlib.pyplot as plt\n",
        "\n",
        "\n",
        "def plot_graphs(history, string):\n",
        "  plt.plot(history.history[string])\n",
        "  plt.plot(history.history['val_'+string])\n",
        "  plt.xlabel(\"Epochs\")\n",
        "  plt.ylabel(string)\n",
        "  plt.legend([string, 'val_'+string])\n",
        "  plt.show()"
      ],
      "execution_count": 0,
      "outputs": []
    },
    {
      "cell_type": "code",
      "metadata": {
        "colab_type": "code",
        "id": "HPj-_8E49KZ6",
        "colab": {
          "base_uri": "https://localhost:8080/",
          "height": 543
        },
        "outputId": "1bbac1df-c255-4965-ca02-0b7e3a7cdf2c"
      },
      "source": [
        "plot_graphs(history, 'acc')\n",
        "plot_graphs(history, 'loss')"
      ],
      "execution_count": 75,
      "outputs": [
        {
          "output_type": "display_data",
          "data": {
            "image/png": "[encoded data removed]",
            "text/plain": [
              "<Figure size 432x288 with 1 Axes>"
            ]
          },
          "metadata": {
            "tags": []
          }
        },
        {
          "output_type": "display_data",
          "data": {
            "image/png": "[encoded data removed]",
            "text/plain": [
              "<Figure size 432x288 with 1 Axes>"
            ]
          },
          "metadata": {
            "tags": []
          }
        }
      ]
    },
    {
      "cell_type": "markdown",
      "metadata": {
        "colab_type": "text",
        "id": "renREvoF9KZ8"
      },
      "source": [
        "- With a simple 2 layer architecture and high dropout we got 62.85% accuracy and a loss of 0.66"
      ]
    },
    {
      "cell_type": "markdown",
      "metadata": {
        "id": "Cc6hRU_O9NdM",
        "colab_type": "text"
      },
      "source": [
        "# Model 3"
      ]
    },
    {
      "cell_type": "code",
      "metadata": {
        "colab_type": "code",
        "id": "6jnUjek89R7v",
        "colab": {}
      },
      "source": [
        "# Initializing parameters\n",
        "epochs = 30\n",
        "batch_size = 100\n",
        "n_hidden = 128"
      ],
      "execution_count": 0,
      "outputs": []
    },
    {
      "cell_type": "code",
      "metadata": {
        "colab_type": "code",
        "outputId": "07f266ca-a864-4e02-cb57-38a1521fa6f0",
        "id": "4RH6bZ219R71",
        "colab": {
          "base_uri": "https://localhost:8080/",
          "height": 370
        }
      },
      "source": [
        "# Initiliazing the sequential model\n",
        "from keras.layers import BatchNormalization\n",
        "model = Sequential()\n",
        "# Configuring the parameters\n",
        "model.add(LSTM(n_hidden, input_shape=(timesteps, input_dim),return_sequences=True))\n",
        "# Adding a dropout layer\n",
        "model.add(Dropout(0.65))\n",
        "model.add(BatchNormalization())\n",
        "model.add(LSTM(n_hidden - 32))\n",
        "model.add(Dropout(0.55))\n",
        "# Adding a dense output layer with sigmoid activation\n",
        "model.add(Dense(n_classes, activation='sigmoid'))\n",
        "model.summary()"
      ],
      "execution_count": 78,
      "outputs": [
        {
          "output_type": "stream",
          "text": [
            "WARNING:tensorflow:Large dropout rate: 0.65 (>0.5). In TensorFlow 2.x, dropout() uses dropout rate instead of keep_prob. Please ensure that this is intended.\n",
            "Model: \"sequential_7\"\n",
            "_________________________________________________________________\n",
            "Layer (type)                 Output Shape              Param #   \n",
            "=================================================================\n",
            "lstm_7 (LSTM)                (None, 128, 128)          70656     \n",
            "_________________________________________________________________\n",
            "dropout_7 (Dropout)          (None, 128, 128)          0         \n",
            "_________________________________________________________________\n",
            "batch_normalization_1 (Batch (None, 128, 128)          512       \n",
            "_________________________________________________________________\n",
            "lstm_8 (LSTM)                (None, 96)                86400     \n",
            "_________________________________________________________________\n",
            "dropout_8 (Dropout)          (None, 96)                0         \n",
            "_________________________________________________________________\n",
            "dense_7 (Dense)              (None, 6)                 582       \n",
            "=================================================================\n",
            "Total params: 158,150\n",
            "Trainable params: 157,894\n",
            "Non-trainable params: 256\n",
            "_________________________________________________________________\n"
          ],
          "name": "stdout"
        }
      ]
    },
    {
      "cell_type": "code",
      "metadata": {
        "colab_type": "code",
        "id": "uroVVOeP9R73",
        "colab": {}
      },
      "source": [
        "# Compiling the model\n",
        "model.compile(loss='categorical_crossentropy',\n",
        "              optimizer='rmsprop',\n",
        "              metrics=['accuracy'])"
      ],
      "execution_count": 0,
      "outputs": []
    },
    {
      "cell_type": "code",
      "metadata": {
        "colab_type": "code",
        "outputId": "c86456d2-0a9d-452d-d81c-c10b75c6784a",
        "id": "fzYMlhML9R76",
        "colab": {
          "base_uri": "https://localhost:8080/",
          "height": 1000
        }
      },
      "source": [
        "# Training the model\n",
        "history = model.fit(X_train,\n",
        "          Y_train,\n",
        "          batch_size=batch_size,\n",
        "          validation_data=(X_test, Y_test),\n",
        "          epochs=epochs)"
      ],
      "execution_count": 80,
      "outputs": [
        {
          "output_type": "stream",
          "text": [
            "Train on 7352 samples, validate on 2947 samples\n",
            "Epoch 1/30\n",
            "7352/7352 [==============================] - 54s 7ms/step - loss: 1.0240 - acc: 0.5834 - val_loss: 0.7480 - val_acc: 0.7139\n",
            "Epoch 2/30\n",
            "7352/7352 [==============================] - 51s 7ms/step - loss: 0.6771 - acc: 0.7376 - val_loss: 0.5999 - val_acc: 0.7835\n",
            "Epoch 3/30\n",
            "7352/7352 [==============================] - 51s 7ms/step - loss: 0.4513 - acc: 0.8483 - val_loss: 0.4842 - val_acc: 0.8229\n",
            "Epoch 4/30\n",
            "7352/7352 [==============================] - 51s 7ms/step - loss: 0.3053 - acc: 0.9045 - val_loss: 0.5487 - val_acc: 0.8476\n",
            "Epoch 5/30\n",
            "7352/7352 [==============================] - 51s 7ms/step - loss: 0.2376 - acc: 0.9226 - val_loss: 0.4485 - val_acc: 0.8541\n",
            "Epoch 6/30\n",
            "7352/7352 [==============================] - 52s 7ms/step - loss: 0.2032 - acc: 0.9302 - val_loss: 0.3268 - val_acc: 0.8884\n",
            "Epoch 7/30\n",
            "7352/7352 [==============================] - 51s 7ms/step - loss: 0.1709 - acc: 0.9384 - val_loss: 0.2953 - val_acc: 0.9030\n",
            "Epoch 8/30\n",
            "7352/7352 [==============================] - 52s 7ms/step - loss: 0.1664 - acc: 0.9374 - val_loss: 0.2917 - val_acc: 0.9148\n",
            "Epoch 9/30\n",
            "7352/7352 [==============================] - 53s 7ms/step - loss: 0.1505 - acc: 0.9421 - val_loss: 0.2963 - val_acc: 0.9111\n",
            "Epoch 10/30\n",
            "7352/7352 [==============================] - 52s 7ms/step - loss: 0.1456 - acc: 0.9410 - val_loss: 0.2936 - val_acc: 0.9091\n",
            "Epoch 11/30\n",
            "7352/7352 [==============================] - 52s 7ms/step - loss: 0.1490 - acc: 0.9444 - val_loss: 0.3584 - val_acc: 0.9063\n",
            "Epoch 12/30\n",
            "7352/7352 [==============================] - 52s 7ms/step - loss: 0.1309 - acc: 0.9520 - val_loss: 0.3051 - val_acc: 0.9155\n",
            "Epoch 13/30\n",
            "7352/7352 [==============================] - 51s 7ms/step - loss: 0.1425 - acc: 0.9480 - val_loss: 0.3969 - val_acc: 0.8931\n",
            "Epoch 14/30\n",
            "7352/7352 [==============================] - 52s 7ms/step - loss: 0.1363 - acc: 0.9478 - val_loss: 0.3259 - val_acc: 0.9094\n",
            "Epoch 15/30\n",
            "7352/7352 [==============================] - 52s 7ms/step - loss: 0.1298 - acc: 0.9490 - val_loss: 0.3364 - val_acc: 0.8843\n",
            "Epoch 16/30\n",
            "7352/7352 [==============================] - 51s 7ms/step - loss: 0.1272 - acc: 0.9452 - val_loss: 0.3435 - val_acc: 0.8951\n",
            "Epoch 17/30\n",
            "7352/7352 [==============================] - 52s 7ms/step - loss: 0.1245 - acc: 0.9499 - val_loss: 0.3342 - val_acc: 0.9175\n",
            "Epoch 18/30\n",
            "7352/7352 [==============================] - 51s 7ms/step - loss: 0.1264 - acc: 0.9505 - val_loss: 0.3148 - val_acc: 0.9128\n",
            "Epoch 19/30\n",
            "7352/7352 [==============================] - 51s 7ms/step - loss: 0.1249 - acc: 0.9508 - val_loss: 0.2985 - val_acc: 0.9213\n",
            "Epoch 20/30\n",
            "7352/7352 [==============================] - 51s 7ms/step - loss: 0.1293 - acc: 0.9514 - val_loss: 0.3165 - val_acc: 0.9264\n",
            "Epoch 21/30\n",
            "7352/7352 [==============================] - 51s 7ms/step - loss: 0.1240 - acc: 0.9505 - val_loss: 0.3096 - val_acc: 0.9250\n",
            "Epoch 22/30\n",
            "7352/7352 [==============================] - 51s 7ms/step - loss: 0.1151 - acc: 0.9536 - val_loss: 0.3288 - val_acc: 0.9169\n",
            "Epoch 23/30\n",
            "7352/7352 [==============================] - 51s 7ms/step - loss: 0.1243 - acc: 0.9483 - val_loss: 0.3186 - val_acc: 0.9277\n",
            "Epoch 24/30\n",
            "7352/7352 [==============================] - 51s 7ms/step - loss: 0.1224 - acc: 0.9553 - val_loss: 0.3699 - val_acc: 0.9189\n",
            "Epoch 25/30\n",
            "7352/7352 [==============================] - 51s 7ms/step - loss: 0.1213 - acc: 0.9490 - val_loss: 0.3364 - val_acc: 0.9131\n",
            "Epoch 26/30\n",
            "7352/7352 [==============================] - 51s 7ms/step - loss: 0.1227 - acc: 0.9523 - val_loss: 0.3260 - val_acc: 0.9148\n",
            "Epoch 27/30\n",
            "7352/7352 [==============================] - 51s 7ms/step - loss: 0.1220 - acc: 0.9487 - val_loss: 0.5513 - val_acc: 0.9114\n",
            "Epoch 28/30\n",
            "7352/7352 [==============================] - 51s 7ms/step - loss: 0.1226 - acc: 0.9509 - val_loss: 0.3494 - val_acc: 0.9209\n",
            "Epoch 29/30\n",
            "7352/7352 [==============================] - 51s 7ms/step - loss: 0.1176 - acc: 0.9494 - val_loss: 0.3773 - val_acc: 0.9125\n",
            "Epoch 30/30\n",
            "7352/7352 [==============================] - 51s 7ms/step - loss: 0.1151 - acc: 0.9562 - val_loss: 0.3890 - val_acc: 0.9220\n"
          ],
          "name": "stdout"
        }
      ]
    },
    {
      "cell_type": "code",
      "metadata": {
        "colab_type": "code",
        "outputId": "779264a3-74a1-4c83-8ba5-a23f63b837c3",
        "id": "XOUWc2tP9R78",
        "colab": {
          "base_uri": "https://localhost:8080/",
          "height": 185
        }
      },
      "source": [
        "# Confusion Matrix\n",
        "print(confusion_matrix(Y_test, model.predict(X_test)))"
      ],
      "execution_count": 82,
      "outputs": [
        {
          "output_type": "stream",
          "text": [
            "Pred                LAYING  SITTING  ...  WALKING_DOWNSTAIRS  WALKING_UPSTAIRS\n",
            "True                                 ...                                      \n",
            "LAYING                 537        0  ...                   0                 0\n",
            "SITTING                  5      418  ...                   0                 2\n",
            "STANDING                 0       87  ...                   0                 0\n",
            "WALKING                  0        0  ...                  28                 3\n",
            "WALKING_DOWNSTAIRS       0        0  ...                 420                 0\n",
            "WALKING_UPSTAIRS         0        0  ...                  17               437\n",
            "\n",
            "[6 rows x 6 columns]\n"
          ],
          "name": "stdout"
        }
      ]
    },
    {
      "cell_type": "code",
      "metadata": {
        "colab_type": "code",
        "outputId": "f69a3e00-3155-4aa8-8b73-9f21fe3fe6f3",
        "id": "NNrmWrqV9R7_",
        "colab": {
          "base_uri": "https://localhost:8080/",
          "height": 34
        }
      },
      "source": [
        "score_model3 = model.evaluate(X_test, Y_test)"
      ],
      "execution_count": 83,
      "outputs": [
        {
          "output_type": "stream",
          "text": [
            "2947/2947 [==============================] - 5s 2ms/step\n"
          ],
          "name": "stdout"
        }
      ]
    },
    {
      "cell_type": "code",
      "metadata": {
        "colab_type": "code",
        "outputId": "e601f4b1-a54e-4221-a4bf-23c87686753f",
        "id": "sqIZ0maw9R8B",
        "colab": {
          "base_uri": "https://localhost:8080/",
          "height": 34
        }
      },
      "source": [
        "score_model3"
      ],
      "execution_count": 84,
      "outputs": [
        {
          "output_type": "execute_result",
          "data": {
            "text/plain": [
              "[0.388978390800617, 0.9219545300305395]"
            ]
          },
          "metadata": {
            "tags": []
          },
          "execution_count": 84
        }
      ]
    },
    {
      "cell_type": "code",
      "metadata": {
        "colab_type": "code",
        "id": "ADFw64d99R8D",
        "colab": {}
      },
      "source": [
        "#https://github.com/sunneysood/Tensorflow/blob/master/Multi_Layer_LSTM.ipynb\n",
        "import matplotlib.pyplot as plt\n",
        "\n",
        "\n",
        "def plot_graphs(history, string):\n",
        "  plt.plot(history.history[string])\n",
        "  plt.plot(history.history['val_'+string])\n",
        "  plt.xlabel(\"Epochs\")\n",
        "  plt.ylabel(string)\n",
        "  plt.legend([string, 'val_'+string])\n",
        "  plt.show()"
      ],
      "execution_count": 0,
      "outputs": []
    },
    {
      "cell_type": "code",
      "metadata": {
        "colab_type": "code",
        "id": "mYDr5JRW9R8E",
        "colab": {
          "base_uri": "https://localhost:8080/",
          "height": 541
        },
        "outputId": "95e54d99-b60e-4e74-94eb-357c4182b5c5"
      },
      "source": [
        "plot_graphs(history, 'acc')\n",
        "plot_graphs(history, 'loss')"
      ],
      "execution_count": 86,
      "outputs": [
        {
          "output_type": "display_data",
          "data": {
            "image/png": "[encoded data removed]",
            "text/plain": [
              "<Figure size 432x288 with 1 Axes>"
            ]
          },
          "metadata": {
            "tags": []
          }
        },
        {
          "output_type": "display_data",
          "data": {
            "image/png": "[encoded data removed]",
            "text/plain": [
              "<Figure size 432x288 with 1 Axes>"
            ]
          },
          "metadata": {
            "tags": []
          }
        }
      ]
    },
    {
      "cell_type": "markdown",
      "metadata": {
        "colab_type": "text",
        "id": "NkAbElhj9R8H"
      },
      "source": [
        "- With a simple 2 layer architecture we got 92.19% accuracy and a loss of 0.38\n"
      ]
    },
    {
      "cell_type": "markdown",
      "metadata": {
        "id": "XeXXqYwA_0Qq",
        "colab_type": "text"
      },
      "source": [
        "# Conclusion"
      ]
    },
    {
      "cell_type": "code",
      "metadata": {
        "id": "Z4yFwIX7B5wt",
        "colab_type": "code",
        "colab": {}
      },
      "source": [
        ""
      ],
      "execution_count": 0,
      "outputs": []
    },
    {
      "cell_type": "code",
      "metadata": {
        "id": "v6WcYiZ8_3KO",
        "colab_type": "code",
        "colab": {
          "base_uri": "https://localhost:8080/",
          "height": 134
        },
        "outputId": "6d77bef0-92fe-4f15-c081-ebeaccf3a35e"
      },
      "source": [
        "from prettytable import PrettyTable\n",
        "    \n",
        "x = PrettyTable()\n",
        "\n",
        "x.field_names = [\"Model\", \"Test Loss\", \"Test Accuracy\"]\n",
        "\n",
        "x.add_row([\"Increase LSTM Units\",score_model1[0],score_model1[1]])\n",
        "x.add_row([\"Increase Dropouts\",score_model2[0],score_model2[1]])\n",
        "x.add_row([\"Increase LSTM Layers with increased Dropouts\",score_model3[0],score_model3[1]])\n",
        "print(x)\n",
        "\n"
      ],
      "execution_count": 87,
      "outputs": [
        {
          "output_type": "stream",
          "text": [
            "+----------------------------------------------+---------------------+--------------------+\n",
            "|                    Model                     |      Test Loss      |   Test Accuracy    |\n",
            "+----------------------------------------------+---------------------+--------------------+\n",
            "|             Increase LSTM Units              | 0.39255878280461215 | 0.9015948422124194 |\n",
            "|              Increase Dropouts               |  0.6685546384824103 | 0.6284356973193078 |\n",
            "| Increase LSTM Layers with increased Dropouts |  0.388978390800617  | 0.9219545300305395 |\n",
            "+----------------------------------------------+---------------------+--------------------+\n"
          ],
          "name": "stdout"
        }
      ]
    },
    {
      "cell_type": "code",
      "metadata": {
        "id": "jr50_cSeBmGY",
        "colab_type": "code",
        "colab": {}
      },
      "source": [
        ""
      ],
      "execution_count": 0,
      "outputs": []
    }
  ]
}